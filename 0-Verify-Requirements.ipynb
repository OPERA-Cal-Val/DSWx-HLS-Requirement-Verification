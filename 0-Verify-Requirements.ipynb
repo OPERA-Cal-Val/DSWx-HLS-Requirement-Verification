{
 "cells": [
  {
   "cell_type": "code",
   "execution_count": 1,
   "id": "isolated-colombia",
   "metadata": {
    "ExecuteTime": {
     "end_time": "2022-10-04T16:37:15.996377Z",
     "start_time": "2022-10-04T16:37:15.982024Z"
    }
   },
   "outputs": [],
   "source": [
    "%load_ext autoreload\n",
    "%autoreload 2"
   ]
  },
  {
   "cell_type": "code",
   "execution_count": 2,
   "id": "distinct-pennsylvania",
   "metadata": {
    "ExecuteTime": {
     "end_time": "2022-10-04T16:37:17.747084Z",
     "start_time": "2022-10-04T16:37:15.998514Z"
    }
   },
   "outputs": [],
   "source": [
    "import geopandas as gpd\n",
    "from verification.val_db import (get_finalized_validation_datasets,\n",
    "                                 read_validation_dataset,\n",
    "                                 get_HLS_id,\n",
    "                                 get_val_s3_path\n",
    "                                )\n",
    "from verification.es_db import get_dswx_urls\n",
    "\n",
    "import matplotlib.pyplot as plt\n",
    "import numpy as np\n",
    "from tqdm import tqdm\n",
    "import rasterio\n",
    "from matplotlib.colors import ListedColormap\n",
    "from shapely.geometry import box\n",
    "from rasterio.plot import show"
   ]
  },
  {
   "cell_type": "markdown",
   "id": "certain-december",
   "metadata": {},
   "source": [
    "This index is just relative to the finalized datasets."
   ]
  },
  {
   "cell_type": "code",
   "execution_count": 3,
   "id": "broken-management",
   "metadata": {
    "ExecuteTime": {
     "end_time": "2022-10-04T16:37:17.769788Z",
     "start_time": "2022-10-04T16:37:17.749232Z"
    }
   },
   "outputs": [],
   "source": [
    "INDEX = 2"
   ]
  },
  {
   "cell_type": "markdown",
   "id": "biblical-jungle",
   "metadata": {},
   "source": [
    "# Table of Finalized Data"
   ]
  },
  {
   "cell_type": "code",
   "execution_count": 4,
   "id": "north-sugar",
   "metadata": {
    "ExecuteTime": {
     "end_time": "2022-10-04T16:37:18.399290Z",
     "start_time": "2022-10-04T16:37:17.772020Z"
    }
   },
   "outputs": [
    {
     "data": {
      "text/html": [
       "<div>\n",
       "<style scoped>\n",
       "    .dataframe tbody tr th:only-of-type {\n",
       "        vertical-align: middle;\n",
       "    }\n",
       "\n",
       "    .dataframe tbody tr th {\n",
       "        vertical-align: top;\n",
       "    }\n",
       "\n",
       "    .dataframe thead th {\n",
       "        text-align: right;\n",
       "    }\n",
       "</style>\n",
       "<table border=\"1\" class=\"dataframe\">\n",
       "  <thead>\n",
       "    <tr style=\"text-align: right;\">\n",
       "      <th></th>\n",
       "      <th>bucket</th>\n",
       "      <th>calc_type</th>\n",
       "      <th>calculated_by</th>\n",
       "      <th>image_calc_name</th>\n",
       "      <th>image_name</th>\n",
       "      <th>notes</th>\n",
       "      <th>oversight_level</th>\n",
       "      <th>previous_name</th>\n",
       "      <th>processing_level</th>\n",
       "      <th>public</th>\n",
       "      <th>reviewed_by</th>\n",
       "      <th>s3_keys</th>\n",
       "      <th>upload_date</th>\n",
       "      <th>version</th>\n",
       "      <th>water_strata</th>\n",
       "      <th>water_stratum</th>\n",
       "      <th>geometry</th>\n",
       "    </tr>\n",
       "  </thead>\n",
       "  <tbody>\n",
       "    <tr>\n",
       "      <th>0</th>\n",
       "      <td>opera-calval-database-dswx</td>\n",
       "      <td>Review</td>\n",
       "      <td>Charlie Marshak</td>\n",
       "      <td>20210903_150800_60_2458_classification_v2</td>\n",
       "      <td>20210903_150800_60_2458</td>\n",
       "      <td>Previous(Previous((CM): Used a NDWI threshold ...</td>\n",
       "      <td>None</td>\n",
       "      <td>20210903_150800_60_2458_classification_v1</td>\n",
       "      <td>Final</td>\n",
       "      <td>True</td>\n",
       "      <td>Alexander Handwerger</td>\n",
       "      <td>data/site/4_21/image/20210903_150800_60_2458/i...</td>\n",
       "      <td>20220930_152559</td>\n",
       "      <td>2.0</td>\n",
       "      <td>NaN</td>\n",
       "      <td>3.0</td>\n",
       "      <td>POLYGON ((-71.87051 55.11002, -71.87051 55.166...</td>\n",
       "    </tr>\n",
       "    <tr>\n",
       "      <th>1</th>\n",
       "      <td>opera-calval-database-dswx</td>\n",
       "      <td>Review</td>\n",
       "      <td>Alexander Handwerger</td>\n",
       "      <td>20210906_101112_28_225a_classification_v1</td>\n",
       "      <td>20210906_101112_28_225a</td>\n",
       "      <td>Previous(Supervised Classification using Semia...</td>\n",
       "      <td>None</td>\n",
       "      <td>20210906_101112_28_225a_classification_v0</td>\n",
       "      <td>Final</td>\n",
       "      <td>True</td>\n",
       "      <td>Charlie Marshak</td>\n",
       "      <td>data/site/3_28/image/20210906_101112_28_225a/i...</td>\n",
       "      <td>20220929_144718</td>\n",
       "      <td>1.0</td>\n",
       "      <td>NaN</td>\n",
       "      <td>2.0</td>\n",
       "      <td>POLYGON ((-0.04389 43.05233, -0.04389 43.16776...</td>\n",
       "    </tr>\n",
       "    <tr>\n",
       "      <th>2</th>\n",
       "      <td>opera-calval-database-dswx</td>\n",
       "      <td>Review</td>\n",
       "      <td>Matthew Bonnema</td>\n",
       "      <td>20210912_034049_22_2421_classification_v1</td>\n",
       "      <td>20210912_034049_22_2421</td>\n",
       "      <td>Previous(Classified using NDWI and manual edit...</td>\n",
       "      <td>None</td>\n",
       "      <td>20210912_034049_22_2421_classification_v0</td>\n",
       "      <td>Final</td>\n",
       "      <td>True</td>\n",
       "      <td>Charlie Marshak</td>\n",
       "      <td>data/site/4_8/image/20210912_034049_22_2421/im...</td>\n",
       "      <td>20220929_175551</td>\n",
       "      <td>1.0</td>\n",
       "      <td>NaN</td>\n",
       "      <td>3.0</td>\n",
       "      <td>POLYGON ((97.58389 49.35489, 97.58389 49.40992...</td>\n",
       "    </tr>\n",
       "    <tr>\n",
       "      <th>3</th>\n",
       "      <td>opera-calval-database-dswx</td>\n",
       "      <td>Review</td>\n",
       "      <td>Alexander Handwerger</td>\n",
       "      <td>20210924_000522_94_2421_classification_v2</td>\n",
       "      <td>20210924_000522_94_2421</td>\n",
       "      <td>Previous(None) (CM): A scene predominantly oce...</td>\n",
       "      <td>None</td>\n",
       "      <td>None</td>\n",
       "      <td>Final</td>\n",
       "      <td>True</td>\n",
       "      <td>Charlie Marshak</td>\n",
       "      <td>data/site/4_42/image/20210924_000522_94_2421/i...</td>\n",
       "      <td>20220929_155401</td>\n",
       "      <td>2.0</td>\n",
       "      <td>NaN</td>\n",
       "      <td>3.0</td>\n",
       "      <td>POLYGON ((139.64244 -17.06008, 139.64244 -16.9...</td>\n",
       "    </tr>\n",
       "    <tr>\n",
       "      <th>4</th>\n",
       "      <td>opera-calval-database-dswx</td>\n",
       "      <td>Review</td>\n",
       "      <td>Charlie Marshak</td>\n",
       "      <td>20210927_105543_66_2424_classification_v1</td>\n",
       "      <td>20210927_105543_66_2424</td>\n",
       "      <td>Previous(Totally dry scene) No changes</td>\n",
       "      <td>None</td>\n",
       "      <td>20210927_105543_66_2424_classification_v0</td>\n",
       "      <td>Final</td>\n",
       "      <td>True</td>\n",
       "      <td>Alexander Handwerger</td>\n",
       "      <td>data/site/1_32/image/20210927_105543_66_2424/i...</td>\n",
       "      <td>20220928_162812</td>\n",
       "      <td>1.0</td>\n",
       "      <td>NaN</td>\n",
       "      <td>0.0</td>\n",
       "      <td>POLYGON ((-6.60296 14.85119, -6.60296 14.90600...</td>\n",
       "    </tr>\n",
       "  </tbody>\n",
       "</table>\n",
       "</div>"
      ],
      "text/plain": [
       "                       bucket calc_type         calculated_by  \\\n",
       "0  opera-calval-database-dswx    Review       Charlie Marshak   \n",
       "1  opera-calval-database-dswx    Review  Alexander Handwerger   \n",
       "2  opera-calval-database-dswx    Review       Matthew Bonnema   \n",
       "3  opera-calval-database-dswx    Review  Alexander Handwerger   \n",
       "4  opera-calval-database-dswx    Review       Charlie Marshak   \n",
       "\n",
       "                             image_calc_name               image_name  \\\n",
       "0  20210903_150800_60_2458_classification_v2  20210903_150800_60_2458   \n",
       "1  20210906_101112_28_225a_classification_v1  20210906_101112_28_225a   \n",
       "2  20210912_034049_22_2421_classification_v1  20210912_034049_22_2421   \n",
       "3  20210924_000522_94_2421_classification_v2  20210924_000522_94_2421   \n",
       "4  20210927_105543_66_2424_classification_v1  20210927_105543_66_2424   \n",
       "\n",
       "                                               notes oversight_level  \\\n",
       "0  Previous(Previous((CM): Used a NDWI threshold ...            None   \n",
       "1  Previous(Supervised Classification using Semia...            None   \n",
       "2  Previous(Classified using NDWI and manual edit...            None   \n",
       "3  Previous(None) (CM): A scene predominantly oce...            None   \n",
       "4             Previous(Totally dry scene) No changes            None   \n",
       "\n",
       "                               previous_name processing_level public  \\\n",
       "0  20210903_150800_60_2458_classification_v1            Final   True   \n",
       "1  20210906_101112_28_225a_classification_v0            Final   True   \n",
       "2  20210912_034049_22_2421_classification_v0            Final   True   \n",
       "3                                       None            Final   True   \n",
       "4  20210927_105543_66_2424_classification_v0            Final   True   \n",
       "\n",
       "            reviewed_by                                            s3_keys  \\\n",
       "0  Alexander Handwerger  data/site/4_21/image/20210903_150800_60_2458/i...   \n",
       "1       Charlie Marshak  data/site/3_28/image/20210906_101112_28_225a/i...   \n",
       "2       Charlie Marshak  data/site/4_8/image/20210912_034049_22_2421/im...   \n",
       "3       Charlie Marshak  data/site/4_42/image/20210924_000522_94_2421/i...   \n",
       "4  Alexander Handwerger  data/site/1_32/image/20210927_105543_66_2424/i...   \n",
       "\n",
       "       upload_date  version  water_strata  water_stratum  \\\n",
       "0  20220930_152559      2.0           NaN            3.0   \n",
       "1  20220929_144718      1.0           NaN            2.0   \n",
       "2  20220929_175551      1.0           NaN            3.0   \n",
       "3  20220929_155401      2.0           NaN            3.0   \n",
       "4  20220928_162812      1.0           NaN            0.0   \n",
       "\n",
       "                                            geometry  \n",
       "0  POLYGON ((-71.87051 55.11002, -71.87051 55.166...  \n",
       "1  POLYGON ((-0.04389 43.05233, -0.04389 43.16776...  \n",
       "2  POLYGON ((97.58389 49.35489, 97.58389 49.40992...  \n",
       "3  POLYGON ((139.64244 -17.06008, 139.64244 -16.9...  \n",
       "4  POLYGON ((-6.60296 14.85119, -6.60296 14.90600...  "
      ]
     },
     "execution_count": 4,
     "metadata": {},
     "output_type": "execute_result"
    }
   ],
   "source": [
    "df = get_finalized_validation_datasets()\n",
    "df.head()"
   ]
  },
  {
   "cell_type": "code",
   "execution_count": 5,
   "id": "forty-acting",
   "metadata": {
    "ExecuteTime": {
     "end_time": "2022-10-04T16:37:18.421938Z",
     "start_time": "2022-10-04T16:37:18.400744Z"
    }
   },
   "outputs": [
    {
     "data": {
      "text/plain": [
       "'Currently, there are 17 finalized datasets'"
      ]
     },
     "execution_count": 5,
     "metadata": {},
     "output_type": "execute_result"
    }
   ],
   "source": [
    "f'Currently, there are {df.shape[0]} finalized datasets'"
   ]
  },
  {
   "cell_type": "markdown",
   "id": "large-fifth",
   "metadata": {},
   "source": [
    "Use the `INDEX` to select a planet id."
   ]
  },
  {
   "cell_type": "code",
   "execution_count": 6,
   "id": "previous-fleece",
   "metadata": {
    "ExecuteTime": {
     "end_time": "2022-10-04T16:37:18.444256Z",
     "start_time": "2022-10-04T16:37:18.423477Z"
    }
   },
   "outputs": [
    {
     "data": {
      "text/plain": [
       "'20210912_034049_22_2421'"
      ]
     },
     "execution_count": 6,
     "metadata": {},
     "output_type": "execute_result"
    }
   ],
   "source": [
    "planet_ids = df.image_name.tolist()\n",
    "planet_id = planet_ids[INDEX]\n",
    "planet_id"
   ]
  },
  {
   "cell_type": "markdown",
   "id": "helpful-nowhere",
   "metadata": {},
   "source": [
    "# Read a Validation Dataset"
   ]
  },
  {
   "cell_type": "code",
   "execution_count": 7,
   "id": "challenging-poker",
   "metadata": {
    "ExecuteTime": {
     "end_time": "2022-10-04T16:37:19.068770Z",
     "start_time": "2022-10-04T16:37:18.445721Z"
    }
   },
   "outputs": [
    {
     "data": {
      "text/plain": [
       "{'driver': 'GTiff', 'dtype': 'uint8', 'nodata': 255.0, 'width': 2001, 'height': 2001, 'count': 1, 'crs': CRS.from_epsg(32647), 'transform': Affine(3.0, 0.0, 391161.0,\n",
       "       0.0, -3.0, 5473992.0), 'tiled': False, 'compress': 'lzw', 'interleave': 'band'}"
      ]
     },
     "execution_count": 7,
     "metadata": {},
     "output_type": "execute_result"
    }
   ],
   "source": [
    "X_val, p_val = read_validation_dataset(planet_ids[INDEX])\n",
    "p_val"
   ]
  },
  {
   "cell_type": "code",
   "execution_count": 8,
   "id": "adolescent-platinum",
   "metadata": {
    "ExecuteTime": {
     "end_time": "2022-10-04T16:37:19.286511Z",
     "start_time": "2022-10-04T16:37:19.071484Z"
    }
   },
   "outputs": [
    {
     "data": {
      "text/plain": [
       "<matplotlib.image.AxesImage at 0x7fe0a8e5d3d0>"
      ]
     },
     "execution_count": 8,
     "metadata": {},
     "output_type": "execute_result"
    },
    {
     "data": {
      "image/png": "[encoded data removed]",
      "text/plain": [
       "<Figure size 432x288 with 1 Axes>"
      ]
     },
     "metadata": {
      "needs_background": "light"
     },
     "output_type": "display_data"
    }
   ],
   "source": [
    "Y = X_val.astype(float)\n",
    "Y[Y == 255] = np.nan\n",
    "plt.imshow(Y, interpolation='none')"
   ]
  },
  {
   "cell_type": "markdown",
   "id": "tribal-armor",
   "metadata": {},
   "source": [
    "# Get Associated HLS Id"
   ]
  },
  {
   "cell_type": "code",
   "execution_count": 9,
   "id": "desirable-caution",
   "metadata": {
    "ExecuteTime": {
     "end_time": "2022-10-04T16:37:19.640462Z",
     "start_time": "2022-10-04T16:37:19.288573Z"
    }
   },
   "outputs": [
    {
     "name": "stderr",
     "output_type": "stream",
     "text": [
      "100%|██████████| 17/17 [00:00<00:00, 55.03it/s]\n"
     ]
    },
    {
     "data": {
      "text/plain": [
       "['HLS.L30.T18UXG.2021245T154154.v2.0',\n",
       " 'HLS.S30.T30TYN.2021248T105621.v2.0',\n",
       " 'HLS.S30.T47ULQ.2021254T043701.v2.0']"
      ]
     },
     "execution_count": 9,
     "metadata": {},
     "output_type": "execute_result"
    }
   ],
   "source": [
    "hls_ids = [get_HLS_id(p_id) for p_id in tqdm(planet_ids)]\n",
    "hls_ids[:3]"
   ]
  },
  {
   "cell_type": "markdown",
   "id": "convenient-lease",
   "metadata": {},
   "source": [
    "# Get DSWx Products"
   ]
  },
  {
   "cell_type": "code",
   "execution_count": 10,
   "id": "voluntary-hours",
   "metadata": {
    "ExecuteTime": {
     "end_time": "2022-10-04T16:37:20.023833Z",
     "start_time": "2022-10-04T16:37:19.642241Z"
    }
   },
   "outputs": [
    {
     "name": "stderr",
     "output_type": "stream",
     "text": [
      "/Users/cmarshak/opt/anaconda3/lib/python3.8/site-packages/elasticsearch/connection/http_urllib3.py:204: UserWarning: Connecting to https://100.104.62.10:443 using SSL with verify_certs=False is insecure.\n",
      "  warnings.warn(\n",
      "/Users/cmarshak/opt/anaconda3/lib/python3.8/site-packages/urllib3/connectionpool.py:981: InsecureRequestWarning: Unverified HTTPS request is being made to host '100.104.62.10'. Adding certificate verification is strongly advised. See: https://urllib3.readthedocs.io/en/latest/advanced-usage.html#ssl-warnings\n",
      "  warnings.warn(\n",
      "/Users/cmarshak/opt/anaconda3/lib/python3.8/site-packages/urllib3/connectionpool.py:981: InsecureRequestWarning: Unverified HTTPS request is being made to host '100.104.62.10'. Adding certificate verification is strongly advised. See: https://urllib3.readthedocs.io/en/latest/advanced-usage.html#ssl-warnings\n",
      "  warnings.warn(\n"
     ]
    },
    {
     "data": {
      "text/plain": [
       "['https://opera-pst-rs-pop1.s3.us-west-2.amazonaws.com/products/OPERA_L3_DSWx_HLS_T47ULQ_20210911T043701Z_20220909T222103Z_S2A_30_v0.1/OPERA_L3_DSWx_HLS_T47ULQ_20210911T043701Z_20220909T222103Z_S2A_30_v0.1_B01_WTR.tiff',\n",
       " 'https://opera-pst-rs-pop1.s3.us-west-2.amazonaws.com/products/OPERA_L3_DSWx_HLS_T47ULQ_20210911T043701Z_20220909T222103Z_S2A_30_v0.1/OPERA_L3_DSWx_HLS_T47ULQ_20210911T043701Z_20220909T222103Z_S2A_30_v0.1_B02_BWTR.tiff',\n",
       " 'https://opera-pst-rs-pop1.s3.us-west-2.amazonaws.com/products/OPERA_L3_DSWx_HLS_T47ULQ_20210911T043701Z_20220909T222103Z_S2A_30_v0.1/OPERA_L3_DSWx_HLS_T47ULQ_20210911T043701Z_20220909T222103Z_S2A_30_v0.1_B03_CONF.tiff',\n",
       " 'https://opera-pst-rs-pop1.s3.us-west-2.amazonaws.com/products/OPERA_L3_DSWx_HLS_T47ULQ_20210911T043701Z_20220909T222103Z_S2A_30_v0.1/OPERA_L3_DSWx_HLS_T47ULQ_20210911T043701Z_20220909T222103Z_S2A_30_v0.1_B04_DIAG.tiff',\n",
       " 'https://opera-pst-rs-pop1.s3.us-west-2.amazonaws.com/products/OPERA_L3_DSWx_HLS_T47ULQ_20210911T043701Z_20220909T222103Z_S2A_30_v0.1/OPERA_L3_DSWx_HLS_T47ULQ_20210911T043701Z_20220909T222103Z_S2A_30_v0.1_B05_WTR-1.tiff',\n",
       " 'https://opera-pst-rs-pop1.s3.us-west-2.amazonaws.com/products/OPERA_L3_DSWx_HLS_T47ULQ_20210911T043701Z_20220909T222103Z_S2A_30_v0.1/OPERA_L3_DSWx_HLS_T47ULQ_20210911T043701Z_20220909T222103Z_S2A_30_v0.1_B06_WTR-2.tiff',\n",
       " 'https://opera-pst-rs-pop1.s3.us-west-2.amazonaws.com/products/OPERA_L3_DSWx_HLS_T47ULQ_20210911T043701Z_20220909T222103Z_S2A_30_v0.1/OPERA_L3_DSWx_HLS_T47ULQ_20210911T043701Z_20220909T222103Z_S2A_30_v0.1_B07_LAND.tiff',\n",
       " 'https://opera-pst-rs-pop1.s3.us-west-2.amazonaws.com/products/OPERA_L3_DSWx_HLS_T47ULQ_20210911T043701Z_20220909T222103Z_S2A_30_v0.1/OPERA_L3_DSWx_HLS_T47ULQ_20210911T043701Z_20220909T222103Z_S2A_30_v0.1_B08_SHAD.tiff',\n",
       " 'https://opera-pst-rs-pop1.s3.us-west-2.amazonaws.com/products/OPERA_L3_DSWx_HLS_T47ULQ_20210911T043701Z_20220909T222103Z_S2A_30_v0.1/OPERA_L3_DSWx_HLS_T47ULQ_20210911T043701Z_20220909T222103Z_S2A_30_v0.1_B09_CLOUD.tiff',\n",
       " 'https://opera-pst-rs-pop1.s3.us-west-2.amazonaws.com/products/OPERA_L3_DSWx_HLS_T47ULQ_20210911T043701Z_20220909T222103Z_S2A_30_v0.1/OPERA_L3_DSWx_HLS_T47ULQ_20210911T043701Z_20220909T222103Z_S2A_30_v0.1_B10_DEM.tiff']"
      ]
     },
     "execution_count": 10,
     "metadata": {},
     "output_type": "execute_result"
    }
   ],
   "source": [
    "dswx_urls = get_dswx_urls(hls_ids[2])\n",
    "dswx_urls"
   ]
  },
  {
   "cell_type": "code",
   "execution_count": 11,
   "id": "romantic-angel",
   "metadata": {
    "ExecuteTime": {
     "end_time": "2022-10-04T16:37:21.318035Z",
     "start_time": "2022-10-04T16:37:20.025393Z"
    }
   },
   "outputs": [],
   "source": [
    "with rasterio.open(dswx_urls[0]) as ds:\n",
    "    X_dswx = ds.read(1)\n",
    "    p_dswx = ds.profile\n",
    "    crs_dswx = ds.crs\n",
    "    colormap = ds.colormap(1)\n",
    "    dswx_crs = ds.crs"
   ]
  },
  {
   "cell_type": "code",
   "execution_count": 12,
   "id": "agricultural-playback",
   "metadata": {
    "ExecuteTime": {
     "end_time": "2022-10-04T16:37:21.564813Z",
     "start_time": "2022-10-04T16:37:21.319805Z"
    }
   },
   "outputs": [
    {
     "data": {
      "text/plain": [
       "(-0.5, 3659.5, 3659.5, -0.5)"
      ]
     },
     "execution_count": 12,
     "metadata": {},
     "output_type": "execute_result"
    },
    {
     "data": {
      "image/png": "[encoded data removed]",
      "text/plain": [
       "<Figure size 750x750 with 1 Axes>"
      ]
     },
     "metadata": {
      "needs_background": "light"
     },
     "output_type": "display_data"
    }
   ],
   "source": [
    "plt.figure(dpi=150, figsize=(5, 5))\n",
    "cmap = ListedColormap([np.array(colormap[key]) / 255 for key in range(256)])\n",
    "plt.imshow(X_dswx, cmap=cmap, \n",
    "           interpolation='none', \n",
    "           vmin=0)\n",
    "plt.axis('off')\n"
   ]
  },
  {
   "cell_type": "markdown",
   "id": "offshore-application",
   "metadata": {},
   "source": [
    "# Compare Extents\n",
    "\n",
    "Inspect the DSWx Subset and its corresponding Validation Dataset"
   ]
  },
  {
   "cell_type": "code",
   "execution_count": 13,
   "id": "searching-fundamental",
   "metadata": {
    "ExecuteTime": {
     "end_time": "2022-10-04T16:37:21.669348Z",
     "start_time": "2022-10-04T16:37:21.566799Z"
    }
   },
   "outputs": [],
   "source": [
    "val_url = get_val_s3_path(planet_id)\n",
    "with rasterio.open(val_url) as ds:\n",
    "    val_bounds = list(ds.bounds)\n",
    "    val_crs = ds.crs"
   ]
  },
  {
   "cell_type": "code",
   "execution_count": 14,
   "id": "innocent-template",
   "metadata": {
    "ExecuteTime": {
     "end_time": "2022-10-04T16:37:21.721484Z",
     "start_time": "2022-10-04T16:37:21.671027Z"
    }
   },
   "outputs": [
    {
     "data": {
      "text/html": [
       "<div>\n",
       "<style scoped>\n",
       "    .dataframe tbody tr th:only-of-type {\n",
       "        vertical-align: middle;\n",
       "    }\n",
       "\n",
       "    .dataframe tbody tr th {\n",
       "        vertical-align: top;\n",
       "    }\n",
       "\n",
       "    .dataframe thead th {\n",
       "        text-align: right;\n",
       "    }\n",
       "</style>\n",
       "<table border=\"1\" class=\"dataframe\">\n",
       "  <thead>\n",
       "    <tr style=\"text-align: right;\">\n",
       "      <th></th>\n",
       "      <th>geometry</th>\n",
       "    </tr>\n",
       "  </thead>\n",
       "  <tbody>\n",
       "    <tr>\n",
       "      <th>0</th>\n",
       "      <td>POLYGON ((397164.000 5467989.000, 397164.000 5...</td>\n",
       "    </tr>\n",
       "  </tbody>\n",
       "</table>\n",
       "</div>"
      ],
      "text/plain": [
       "                                            geometry\n",
       "0  POLYGON ((397164.000 5467989.000, 397164.000 5..."
      ]
     },
     "execution_count": 14,
     "metadata": {},
     "output_type": "execute_result"
    }
   ],
   "source": [
    "df_val_bounds = gpd.GeoDataFrame(geometry=[box(*val_bounds)],\n",
    "                                 crs=val_crs)\n",
    "df_val_bounds"
   ]
  },
  {
   "cell_type": "code",
   "execution_count": 15,
   "id": "thorough-solomon",
   "metadata": {
    "ExecuteTime": {
     "end_time": "2022-10-04T16:37:22.355608Z",
     "start_time": "2022-10-04T16:37:21.723207Z"
    }
   },
   "outputs": [
    {
     "data": {
      "text/plain": [
       "Text(0.5, 1.0, 'Validation Dataset')"
      ]
     },
     "execution_count": 15,
     "metadata": {},
     "output_type": "execute_result"
    },
    {
     "data": {
      "image/png": "[encoded data removed]",
      "text/plain": [
       "<Figure size 1500x1500 with 3 Axes>"
      ]
     },
     "metadata": {
      "needs_background": "light"
     },
     "output_type": "display_data"
    }
   ],
   "source": [
    "fig, ax = plt.subplots(1, 3, dpi=150, figsize=(10, 10))\n",
    "cmap = ListedColormap([np.array(colormap[key]) / 255 for key in range(256)])\n",
    "\n",
    "show(X_dswx, cmap=cmap, transform=p_dswx['transform'], vmin=0, interpolation='none', ax=ax[0])\n",
    "df_val_bounds.to_crs(crs_dswx).boundary.plot(ax=ax[0], color='black')\n",
    "ax[0].axis('off')\n",
    "ax[0].set_title('Full DSWx scene with val bbox')\n",
    "\n",
    "show(X_dswx, cmap=cmap, transform=p_dswx['transform'], vmin=0, interpolation='none', ax=ax[1])\n",
    "ax[1].set_xlim(val_bounds[0], val_bounds[2])\n",
    "ax[1].set_ylim(val_bounds[1], val_bounds[3])\n",
    "ax[1].set_title('DSWx Subset Area')\n",
    "ax[1].axis('off')\n",
    "\n",
    "\n",
    "show(X_val, transform=p_val['transform'], ax=ax[2], interpolation='none')\n",
    "ax[2].axis('off')\n",
    "ax[2].set_title('Validation Dataset')\n"
   ]
  },
  {
   "cell_type": "code",
   "execution_count": 16,
   "id": "recognized-sponsorship",
   "metadata": {
    "ExecuteTime": {
     "end_time": "2022-10-04T16:37:22.378268Z",
     "start_time": "2022-10-04T16:37:22.357365Z"
    }
   },
   "outputs": [],
   "source": [
    "# def get_dswx_wtr_url(planet_id):\n",
    "#     hls_id = get_HLS_id(planet_id)\n",
    "#     try:\n",
    "#         return get_dswx_urls(hls_id)[0]\n",
    "#     except ValueError:\n",
    "#         return 'Unavailable'\n",
    "# df['dswx_wtr_url'] = df.image_name.map(get_dswx_wtr_url)\n",
    "# df.head()"
   ]
  },
  {
   "cell_type": "code",
   "execution_count": 17,
   "id": "original-burlington",
   "metadata": {
    "ExecuteTime": {
     "end_time": "2022-10-04T16:37:22.400777Z",
     "start_time": "2022-10-04T16:37:22.379842Z"
    }
   },
   "outputs": [],
   "source": [
    "# df.to_file('current_finalized_datasets.geojson', driver='GeoJSON')"
   ]
  }
 ],
 "metadata": {
  "kernelspec": {
   "display_name": "Python 3",
   "language": "python",
   "name": "python3"
  },
  "language_info": {
   "codemirror_mode": {
    "name": "ipython",
    "version": 3
   },
   "file_extension": ".py",
   "mimetype": "text/x-python",
   "name": "python",
   "nbconvert_exporter": "python",
   "pygments_lexer": "ipython3",
   "version": "3.8.5"
  }
 },
 "nbformat": 4,
 "nbformat_minor": 5
}
