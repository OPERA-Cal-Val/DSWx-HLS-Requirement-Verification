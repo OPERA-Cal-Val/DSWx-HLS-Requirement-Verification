{
 "cells": [
  {
   "cell_type": "code",
   "execution_count": 1,
   "id": "f2adc953",
   "metadata": {
    "ExecuteTime": {
     "end_time": "2022-12-19T22:06:05.792529Z",
     "start_time": "2022-12-19T22:06:05.431495Z"
    }
   },
   "outputs": [],
   "source": [
    "import json\n",
    "import pandas as pd\n",
    "from pathlib import Path\n",
    "from pandas import json_normalize"
   ]
  },
  {
   "cell_type": "code",
   "execution_count": 2,
   "id": "c8afd4b6",
   "metadata": {
    "ExecuteTime": {
     "end_time": "2022-12-19T22:06:05.797133Z",
     "start_time": "2022-12-19T22:06:05.794889Z"
    }
   },
   "outputs": [],
   "source": [
    "SUFFIX = '100-trials'"
   ]
  },
  {
   "cell_type": "code",
   "execution_count": 3,
   "id": "84105c9d",
   "metadata": {
    "ExecuteTime": {
     "end_time": "2022-12-19T22:06:05.805749Z",
     "start_time": "2022-12-19T22:06:05.798923Z"
    }
   },
   "outputs": [
    {
     "data": {
      "text/plain": [
       "True"
      ]
     },
     "execution_count": 3,
     "metadata": {},
     "output_type": "execute_result"
    }
   ],
   "source": [
    "out_dir = Path(f'verification_stats_agg__{SUFFIX}')\n",
    "out_dir.mkdir(exist_ok=True)\n",
    "out_dir.exists()"
   ]
  },
  {
   "cell_type": "code",
   "execution_count": 4,
   "id": "d47e938f",
   "metadata": {
    "ExecuteTime": {
     "end_time": "2022-12-19T22:06:05.813066Z",
     "start_time": "2022-12-19T22:06:05.808377Z"
    }
   },
   "outputs": [
    {
     "data": {
      "text/plain": [
       "['OPERA_L3_DSWx_HLS_T18VVN_20211002T164029Z_20221026T054210Z_S2B_30_v0.0']"
      ]
     },
     "execution_count": 4,
     "metadata": {},
     "output_type": "execute_result"
    }
   ],
   "source": [
    "verification_dir = Path(f'verification_assessment_data__{SUFFIX}/')\n",
    "dswx_verification_paths = list(verification_dir.glob('*/'))\n",
    "dswx_ids = [path.name for path in dswx_verification_paths]\n",
    "# Remove DSWx paths\n",
    "dswx_ids = list(filter(lambda dswx_id: '.' != dswx_id[0], dswx_ids))\n",
    "dswx_ids[:4]"
   ]
  },
  {
   "cell_type": "code",
   "execution_count": 5,
   "id": "371da1be",
   "metadata": {
    "ExecuteTime": {
     "end_time": "2022-12-19T22:06:05.817122Z",
     "start_time": "2022-12-19T22:06:05.814792Z"
    }
   },
   "outputs": [],
   "source": [
    "def read_one_requirements_json(dswx_id):\n",
    "    path = verification_dir / dswx_id / f'requirement_verification_{dswx_id}.json'\n",
    "    data = json.load(open(path))\n",
    "    return data"
   ]
  },
  {
   "cell_type": "code",
   "execution_count": 6,
   "id": "da76b67a",
   "metadata": {
    "ExecuteTime": {
     "end_time": "2022-12-19T22:06:05.821002Z",
     "start_time": "2022-12-19T22:06:05.818670Z"
    }
   },
   "outputs": [],
   "source": [
    "data = list(map(read_one_requirements_json, dswx_ids))"
   ]
  },
  {
   "cell_type": "code",
   "execution_count": 7,
   "id": "3e246c54",
   "metadata": {
    "ExecuteTime": {
     "end_time": "2022-12-19T22:06:05.836381Z",
     "start_time": "2022-12-19T22:06:05.822488Z"
    }
   },
   "outputs": [
    {
     "data": {
      "text/html": [
       "<div>\n",
       "<style scoped>\n",
       "    .dataframe tbody tr th:only-of-type {\n",
       "        vertical-align: middle;\n",
       "    }\n",
       "\n",
       "    .dataframe tbody tr th {\n",
       "        vertical-align: top;\n",
       "    }\n",
       "\n",
       "    .dataframe thead th {\n",
       "        text-align: right;\n",
       "    }\n",
       "</style>\n",
       "<table border=\"1\" class=\"dataframe\">\n",
       "  <thead>\n",
       "    <tr style=\"text-align: right;\">\n",
       "      <th></th>\n",
       "      <th>dswx_id</th>\n",
       "      <th>surface_water</th>\n",
       "      <th>partial_surface_water</th>\n",
       "      <th>dswx-WTR</th>\n",
       "      <th>dswx-BWTR</th>\n",
       "      <th>dswx-CONF</th>\n",
       "      <th>dswx-DIAG</th>\n",
       "      <th>dswx-WTR-1</th>\n",
       "      <th>dswx-WTR-2</th>\n",
       "      <th>dswx-LAND</th>\n",
       "      <th>...</th>\n",
       "      <th>hls_url_B04</th>\n",
       "      <th>hls_url_B05</th>\n",
       "      <th>hls_url_B06</th>\n",
       "      <th>hls_url_B07</th>\n",
       "      <th>hls_url_B08</th>\n",
       "      <th>hls_url_B09</th>\n",
       "      <th>hls_url_B10</th>\n",
       "      <th>hls_url_B11</th>\n",
       "      <th>hls_url_B12</th>\n",
       "      <th>hls_url_Fmask</th>\n",
       "    </tr>\n",
       "  </thead>\n",
       "  <tbody>\n",
       "    <tr>\n",
       "      <th>0</th>\n",
       "      <td>OPERA_L3_DSWx_HLS_T18VVN_20211002T164029Z_2022...</td>\n",
       "      <td>True</td>\n",
       "      <td>True</td>\n",
       "      <td>https://opera-pst-rs-pop1.s3.us-west-2.amazona...</td>\n",
       "      <td>https://opera-pst-rs-pop1.s3.us-west-2.amazona...</td>\n",
       "      <td>https://opera-pst-rs-pop1.s3.us-west-2.amazona...</td>\n",
       "      <td>https://opera-pst-rs-pop1.s3.us-west-2.amazona...</td>\n",
       "      <td>https://opera-pst-rs-pop1.s3.us-west-2.amazona...</td>\n",
       "      <td>https://opera-pst-rs-pop1.s3.us-west-2.amazona...</td>\n",
       "      <td>https://opera-pst-rs-pop1.s3.us-west-2.amazona...</td>\n",
       "      <td>...</td>\n",
       "      <td>https://data.lpdaac.earthdatacloud.nasa.gov/lp...</td>\n",
       "      <td>https://data.lpdaac.earthdatacloud.nasa.gov/lp...</td>\n",
       "      <td>https://data.lpdaac.earthdatacloud.nasa.gov/lp...</td>\n",
       "      <td>https://data.lpdaac.earthdatacloud.nasa.gov/lp...</td>\n",
       "      <td>https://data.lpdaac.earthdatacloud.nasa.gov/lp...</td>\n",
       "      <td>https://data.lpdaac.earthdatacloud.nasa.gov/lp...</td>\n",
       "      <td>https://data.lpdaac.earthdatacloud.nasa.gov/lp...</td>\n",
       "      <td>https://data.lpdaac.earthdatacloud.nasa.gov/lp...</td>\n",
       "      <td>https://data.lpdaac.earthdatacloud.nasa.gov/lp...</td>\n",
       "      <td>https://data.lpdaac.earthdatacloud.nasa.gov/lp...</td>\n",
       "    </tr>\n",
       "  </tbody>\n",
       "</table>\n",
       "<p>1 rows × 29 columns</p>\n",
       "</div>"
      ],
      "text/plain": [
       "                                             dswx_id  surface_water  \\\n",
       "0  OPERA_L3_DSWx_HLS_T18VVN_20211002T164029Z_2022...           True   \n",
       "\n",
       "   partial_surface_water                                           dswx-WTR  \\\n",
       "0                   True  https://opera-pst-rs-pop1.s3.us-west-2.amazona...   \n",
       "\n",
       "                                           dswx-BWTR  \\\n",
       "0  https://opera-pst-rs-pop1.s3.us-west-2.amazona...   \n",
       "\n",
       "                                           dswx-CONF  \\\n",
       "0  https://opera-pst-rs-pop1.s3.us-west-2.amazona...   \n",
       "\n",
       "                                           dswx-DIAG  \\\n",
       "0  https://opera-pst-rs-pop1.s3.us-west-2.amazona...   \n",
       "\n",
       "                                          dswx-WTR-1  \\\n",
       "0  https://opera-pst-rs-pop1.s3.us-west-2.amazona...   \n",
       "\n",
       "                                          dswx-WTR-2  \\\n",
       "0  https://opera-pst-rs-pop1.s3.us-west-2.amazona...   \n",
       "\n",
       "                                           dswx-LAND  ...  \\\n",
       "0  https://opera-pst-rs-pop1.s3.us-west-2.amazona...  ...   \n",
       "\n",
       "                                         hls_url_B04  \\\n",
       "0  https://data.lpdaac.earthdatacloud.nasa.gov/lp...   \n",
       "\n",
       "                                         hls_url_B05  \\\n",
       "0  https://data.lpdaac.earthdatacloud.nasa.gov/lp...   \n",
       "\n",
       "                                         hls_url_B06  \\\n",
       "0  https://data.lpdaac.earthdatacloud.nasa.gov/lp...   \n",
       "\n",
       "                                         hls_url_B07  \\\n",
       "0  https://data.lpdaac.earthdatacloud.nasa.gov/lp...   \n",
       "\n",
       "                                         hls_url_B08  \\\n",
       "0  https://data.lpdaac.earthdatacloud.nasa.gov/lp...   \n",
       "\n",
       "                                         hls_url_B09  \\\n",
       "0  https://data.lpdaac.earthdatacloud.nasa.gov/lp...   \n",
       "\n",
       "                                         hls_url_B10  \\\n",
       "0  https://data.lpdaac.earthdatacloud.nasa.gov/lp...   \n",
       "\n",
       "                                         hls_url_B11  \\\n",
       "0  https://data.lpdaac.earthdatacloud.nasa.gov/lp...   \n",
       "\n",
       "                                         hls_url_B12  \\\n",
       "0  https://data.lpdaac.earthdatacloud.nasa.gov/lp...   \n",
       "\n",
       "                                       hls_url_Fmask  \n",
       "0  https://data.lpdaac.earthdatacloud.nasa.gov/lp...  \n",
       "\n",
       "[1 rows x 29 columns]"
      ]
     },
     "execution_count": 7,
     "metadata": {},
     "output_type": "execute_result"
    }
   ],
   "source": [
    "df = pd.DataFrame(data)\n",
    "df.head()"
   ]
  },
  {
   "cell_type": "code",
   "execution_count": 8,
   "id": "75d6168c",
   "metadata": {
    "ExecuteTime": {
     "end_time": "2022-12-19T22:06:05.845720Z",
     "start_time": "2022-12-19T22:06:05.838013Z"
    }
   },
   "outputs": [
    {
     "data": {
      "text/html": [
       "<div>\n",
       "<style scoped>\n",
       "    .dataframe tbody tr th:only-of-type {\n",
       "        vertical-align: middle;\n",
       "    }\n",
       "\n",
       "    .dataframe tbody tr th {\n",
       "        vertical-align: top;\n",
       "    }\n",
       "\n",
       "    .dataframe thead th {\n",
       "        text-align: right;\n",
       "    }\n",
       "</style>\n",
       "<table border=\"1\" class=\"dataframe\">\n",
       "  <thead>\n",
       "    <tr style=\"text-align: right;\">\n",
       "      <th></th>\n",
       "      <th></th>\n",
       "      <th>dswx_id</th>\n",
       "    </tr>\n",
       "    <tr>\n",
       "      <th>surface_water</th>\n",
       "      <th>partial_surface_water</th>\n",
       "      <th></th>\n",
       "    </tr>\n",
       "  </thead>\n",
       "  <tbody>\n",
       "    <tr>\n",
       "      <th>True</th>\n",
       "      <th>True</th>\n",
       "      <td>1</td>\n",
       "    </tr>\n",
       "  </tbody>\n",
       "</table>\n",
       "</div>"
      ],
      "text/plain": [
       "                                     dswx_id\n",
       "surface_water partial_surface_water         \n",
       "True          True                         1"
      ]
     },
     "execution_count": 8,
     "metadata": {},
     "output_type": "execute_result"
    }
   ],
   "source": [
    "cols = ['surface_water','partial_surface_water']\n",
    "df[cols + ['dswx_id']].groupby(cols).count()"
   ]
  },
  {
   "cell_type": "code",
   "execution_count": 9,
   "id": "486a4d47",
   "metadata": {
    "ExecuteTime": {
     "end_time": "2022-12-19T22:06:05.851954Z",
     "start_time": "2022-12-19T22:06:05.847377Z"
    }
   },
   "outputs": [],
   "source": [
    "df.to_csv(out_dir / 'verification_results.csv', index=False)"
   ]
  },
  {
   "cell_type": "markdown",
   "id": "fd43f6ce",
   "metadata": {},
   "source": [
    "# Additional Metrics"
   ]
  },
  {
   "cell_type": "code",
   "execution_count": 10,
   "id": "39dca15d",
   "metadata": {
    "ExecuteTime": {
     "end_time": "2022-12-19T22:06:05.857641Z",
     "start_time": "2022-12-19T22:06:05.855172Z"
    }
   },
   "outputs": [],
   "source": [
    "def read_one_assessment(dswx_id):\n",
    "    path = verification_dir / dswx_id / f'stats_{dswx_id}.json'\n",
    "    data = pd.DataFrame(pd.json_normalize(json.load(open(path))))\n",
    "    return data"
   ]
  },
  {
   "cell_type": "code",
   "execution_count": 11,
   "id": "fde909b9",
   "metadata": {
    "ExecuteTime": {
     "end_time": "2022-12-19T22:06:05.873011Z",
     "start_time": "2022-12-19T22:06:05.858848Z"
    }
   },
   "outputs": [
    {
     "data": {
      "text/html": [
       "<div>\n",
       "<style scoped>\n",
       "    .dataframe tbody tr th:only-of-type {\n",
       "        vertical-align: middle;\n",
       "    }\n",
       "\n",
       "    .dataframe tbody tr th {\n",
       "        vertical-align: top;\n",
       "    }\n",
       "\n",
       "    .dataframe thead th {\n",
       "        text-align: right;\n",
       "    }\n",
       "</style>\n",
       "<table border=\"1\" class=\"dataframe\">\n",
       "  <thead>\n",
       "    <tr style=\"text-align: right;\">\n",
       "      <th></th>\n",
       "      <th>total_accuracy.mean</th>\n",
       "      <th>total_accuracy.std</th>\n",
       "      <th>acc_per_class.Not_Water.mean</th>\n",
       "      <th>acc_per_class.Not_Water.std</th>\n",
       "      <th>acc_per_class.Open_Surface_Water.mean</th>\n",
       "      <th>acc_per_class.Open_Surface_Water.std</th>\n",
       "      <th>acc_per_class.Partial_Surface_Water.mean</th>\n",
       "      <th>acc_per_class.Partial_Surface_Water.std</th>\n",
       "      <th>confusion_matrix.Not_Water_OPERA_DSWx.Not_Water_OPERA_Validation.mean</th>\n",
       "      <th>confusion_matrix.Not_Water_OPERA_DSWx.Not_Water_OPERA_Validation.std</th>\n",
       "      <th>...</th>\n",
       "      <th>f1_per_class.Partial_Surface_Water.mean</th>\n",
       "      <th>f1_per_class.Partial_Surface_Water.std</th>\n",
       "      <th>supp_per_class.Not_Water.mean</th>\n",
       "      <th>supp_per_class.Not_Water.std</th>\n",
       "      <th>supp_per_class.Open_Surface_Water.mean</th>\n",
       "      <th>supp_per_class.Open_Surface_Water.std</th>\n",
       "      <th>supp_per_class.Partial_Surface_Water.mean</th>\n",
       "      <th>supp_per_class.Partial_Surface_Water.std</th>\n",
       "      <th>dswx_id</th>\n",
       "      <th>planet_id</th>\n",
       "    </tr>\n",
       "  </thead>\n",
       "  <tbody>\n",
       "    <tr>\n",
       "      <th>0</th>\n",
       "      <td>0.776866</td>\n",
       "      <td>0.017039</td>\n",
       "      <td>0.931657</td>\n",
       "      <td>0.010166</td>\n",
       "      <td>0.842415</td>\n",
       "      <td>0.015794</td>\n",
       "      <td>0.779661</td>\n",
       "      <td>0.016714</td>\n",
       "      <td>160.54</td>\n",
       "      <td>2.626285</td>\n",
       "      <td>...</td>\n",
       "      <td>0.567975</td>\n",
       "      <td>0.040138</td>\n",
       "      <td>188.32</td>\n",
       "      <td>5.519259</td>\n",
       "      <td>223.67</td>\n",
       "      <td>7.456344</td>\n",
       "      <td>89.01</td>\n",
       "      <td>7.527049</td>\n",
       "      <td>OPERA_L3_DSWx_HLS_T18VVN_20211002T164029Z_2022...</td>\n",
       "      <td>20211002_155415_1009</td>\n",
       "    </tr>\n",
       "  </tbody>\n",
       "</table>\n",
       "<p>1 rows × 52 columns</p>\n",
       "</div>"
      ],
      "text/plain": [
       "   total_accuracy.mean  total_accuracy.std  acc_per_class.Not_Water.mean  \\\n",
       "0             0.776866            0.017039                      0.931657   \n",
       "\n",
       "   acc_per_class.Not_Water.std  acc_per_class.Open_Surface_Water.mean  \\\n",
       "0                     0.010166                               0.842415   \n",
       "\n",
       "   acc_per_class.Open_Surface_Water.std  \\\n",
       "0                              0.015794   \n",
       "\n",
       "   acc_per_class.Partial_Surface_Water.mean  \\\n",
       "0                                  0.779661   \n",
       "\n",
       "   acc_per_class.Partial_Surface_Water.std  \\\n",
       "0                                 0.016714   \n",
       "\n",
       "   confusion_matrix.Not_Water_OPERA_DSWx.Not_Water_OPERA_Validation.mean  \\\n",
       "0                                             160.54                       \n",
       "\n",
       "   confusion_matrix.Not_Water_OPERA_DSWx.Not_Water_OPERA_Validation.std  ...  \\\n",
       "0                                           2.626285                     ...   \n",
       "\n",
       "   f1_per_class.Partial_Surface_Water.mean  \\\n",
       "0                                 0.567975   \n",
       "\n",
       "   f1_per_class.Partial_Surface_Water.std  supp_per_class.Not_Water.mean  \\\n",
       "0                                0.040138                         188.32   \n",
       "\n",
       "   supp_per_class.Not_Water.std  supp_per_class.Open_Surface_Water.mean  \\\n",
       "0                      5.519259                                  223.67   \n",
       "\n",
       "   supp_per_class.Open_Surface_Water.std  \\\n",
       "0                               7.456344   \n",
       "\n",
       "   supp_per_class.Partial_Surface_Water.mean  \\\n",
       "0                                      89.01   \n",
       "\n",
       "   supp_per_class.Partial_Surface_Water.std  \\\n",
       "0                                  7.527049   \n",
       "\n",
       "                                             dswx_id             planet_id  \n",
       "0  OPERA_L3_DSWx_HLS_T18VVN_20211002T164029Z_2022...  20211002_155415_1009  \n",
       "\n",
       "[1 rows x 52 columns]"
      ]
     },
     "execution_count": 11,
     "metadata": {},
     "output_type": "execute_result"
    }
   ],
   "source": [
    "data_assessments = list(map(read_one_assessment, dswx_ids))\n",
    "data_assessments[0]"
   ]
  },
  {
   "cell_type": "code",
   "execution_count": 12,
   "id": "21d619c1",
   "metadata": {
    "ExecuteTime": {
     "end_time": "2022-12-19T22:06:05.887129Z",
     "start_time": "2022-12-19T22:06:05.874448Z"
    }
   },
   "outputs": [
    {
     "data": {
      "text/html": [
       "<div>\n",
       "<style scoped>\n",
       "    .dataframe tbody tr th:only-of-type {\n",
       "        vertical-align: middle;\n",
       "    }\n",
       "\n",
       "    .dataframe tbody tr th {\n",
       "        vertical-align: top;\n",
       "    }\n",
       "\n",
       "    .dataframe thead th {\n",
       "        text-align: right;\n",
       "    }\n",
       "</style>\n",
       "<table border=\"1\" class=\"dataframe\">\n",
       "  <thead>\n",
       "    <tr style=\"text-align: right;\">\n",
       "      <th></th>\n",
       "      <th>total_accuracy.mean</th>\n",
       "      <th>total_accuracy.std</th>\n",
       "      <th>acc_per_class.Not_Water.mean</th>\n",
       "      <th>acc_per_class.Not_Water.std</th>\n",
       "      <th>acc_per_class.Open_Surface_Water.mean</th>\n",
       "      <th>acc_per_class.Open_Surface_Water.std</th>\n",
       "      <th>acc_per_class.Partial_Surface_Water.mean</th>\n",
       "      <th>acc_per_class.Partial_Surface_Water.std</th>\n",
       "      <th>confusion_matrix.Not_Water_OPERA_DSWx.Not_Water_OPERA_Validation.mean</th>\n",
       "      <th>confusion_matrix.Not_Water_OPERA_DSWx.Not_Water_OPERA_Validation.std</th>\n",
       "      <th>...</th>\n",
       "      <th>f1_per_class.Partial_Surface_Water.mean</th>\n",
       "      <th>f1_per_class.Partial_Surface_Water.std</th>\n",
       "      <th>supp_per_class.Not_Water.mean</th>\n",
       "      <th>supp_per_class.Not_Water.std</th>\n",
       "      <th>supp_per_class.Open_Surface_Water.mean</th>\n",
       "      <th>supp_per_class.Open_Surface_Water.std</th>\n",
       "      <th>supp_per_class.Partial_Surface_Water.mean</th>\n",
       "      <th>supp_per_class.Partial_Surface_Water.std</th>\n",
       "      <th>dswx_id</th>\n",
       "      <th>planet_id</th>\n",
       "    </tr>\n",
       "  </thead>\n",
       "  <tbody>\n",
       "    <tr>\n",
       "      <th>0</th>\n",
       "      <td>0.776866</td>\n",
       "      <td>0.017039</td>\n",
       "      <td>0.931657</td>\n",
       "      <td>0.010166</td>\n",
       "      <td>0.842415</td>\n",
       "      <td>0.015794</td>\n",
       "      <td>0.779661</td>\n",
       "      <td>0.016714</td>\n",
       "      <td>160.54</td>\n",
       "      <td>2.626285</td>\n",
       "      <td>...</td>\n",
       "      <td>0.567975</td>\n",
       "      <td>0.040138</td>\n",
       "      <td>188.32</td>\n",
       "      <td>5.519259</td>\n",
       "      <td>223.67</td>\n",
       "      <td>7.456344</td>\n",
       "      <td>89.01</td>\n",
       "      <td>7.527049</td>\n",
       "      <td>OPERA_L3_DSWx_HLS_T18VVN_20211002T164029Z_2022...</td>\n",
       "      <td>20211002_155415_1009</td>\n",
       "    </tr>\n",
       "  </tbody>\n",
       "</table>\n",
       "<p>1 rows × 52 columns</p>\n",
       "</div>"
      ],
      "text/plain": [
       "   total_accuracy.mean  total_accuracy.std  acc_per_class.Not_Water.mean  \\\n",
       "0             0.776866            0.017039                      0.931657   \n",
       "\n",
       "   acc_per_class.Not_Water.std  acc_per_class.Open_Surface_Water.mean  \\\n",
       "0                     0.010166                               0.842415   \n",
       "\n",
       "   acc_per_class.Open_Surface_Water.std  \\\n",
       "0                              0.015794   \n",
       "\n",
       "   acc_per_class.Partial_Surface_Water.mean  \\\n",
       "0                                  0.779661   \n",
       "\n",
       "   acc_per_class.Partial_Surface_Water.std  \\\n",
       "0                                 0.016714   \n",
       "\n",
       "   confusion_matrix.Not_Water_OPERA_DSWx.Not_Water_OPERA_Validation.mean  \\\n",
       "0                                             160.54                       \n",
       "\n",
       "   confusion_matrix.Not_Water_OPERA_DSWx.Not_Water_OPERA_Validation.std  ...  \\\n",
       "0                                           2.626285                     ...   \n",
       "\n",
       "   f1_per_class.Partial_Surface_Water.mean  \\\n",
       "0                                 0.567975   \n",
       "\n",
       "   f1_per_class.Partial_Surface_Water.std  supp_per_class.Not_Water.mean  \\\n",
       "0                                0.040138                         188.32   \n",
       "\n",
       "   supp_per_class.Not_Water.std  supp_per_class.Open_Surface_Water.mean  \\\n",
       "0                      5.519259                                  223.67   \n",
       "\n",
       "   supp_per_class.Open_Surface_Water.std  \\\n",
       "0                               7.456344   \n",
       "\n",
       "   supp_per_class.Partial_Surface_Water.mean  \\\n",
       "0                                      89.01   \n",
       "\n",
       "   supp_per_class.Partial_Surface_Water.std  \\\n",
       "0                                  7.527049   \n",
       "\n",
       "                                             dswx_id             planet_id  \n",
       "0  OPERA_L3_DSWx_HLS_T18VVN_20211002T164029Z_2022...  20211002_155415_1009  \n",
       "\n",
       "[1 rows x 52 columns]"
      ]
     },
     "execution_count": 12,
     "metadata": {},
     "output_type": "execute_result"
    }
   ],
   "source": [
    "df_assessments = pd.concat(data_assessments, axis=0)\n",
    "df_assessments.head()"
   ]
  },
  {
   "cell_type": "code",
   "execution_count": 14,
   "id": "597b12bf",
   "metadata": {
    "ExecuteTime": {
     "end_time": "2022-12-19T22:10:01.122135Z",
     "start_time": "2022-12-19T22:10:01.117319Z"
    }
   },
   "outputs": [
    {
     "data": {
      "text/plain": [
       "PosixPath('verification_stats_agg__100-trials/metrics.csv')"
      ]
     },
     "execution_count": 14,
     "metadata": {},
     "output_type": "execute_result"
    }
   ],
   "source": [
    "df_assessments.to_csv(out_dir / 'metrics.csv', index=False)\n",
    "out_dir / 'metrics.csv'"
   ]
  }
 ],
 "metadata": {
  "kernelspec": {
   "display_name": "dswx_val",
   "language": "python",
   "name": "dswx_val"
  },
  "language_info": {
   "codemirror_mode": {
    "name": "ipython",
    "version": 3
   },
   "file_extension": ".py",
   "mimetype": "text/x-python",
   "name": "python",
   "nbconvert_exporter": "python",
   "pygments_lexer": "ipython3",
   "version": "3.11.0"
  }
 },
 "nbformat": 4,
 "nbformat_minor": 5
}
