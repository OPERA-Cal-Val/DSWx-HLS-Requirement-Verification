{
 "cells": [
  {
   "cell_type": "code",
   "execution_count": 1,
   "id": "9c93a31e",
   "metadata": {
    "ExecuteTime": {
     "end_time": "2022-12-22T18:55:39.454231Z",
     "start_time": "2022-12-22T18:55:39.125604Z"
    }
   },
   "outputs": [],
   "source": [
    "import json\n",
    "import pandas as pd\n",
    "from pathlib import Path\n",
    "from pandas import json_normalize\n",
    "from tqdm import tqdm"
   ]
  },
  {
   "cell_type": "code",
   "execution_count": 2,
   "id": "2a61e1e9",
   "metadata": {
    "ExecuteTime": {
     "end_time": "2022-12-22T18:55:39.462450Z",
     "start_time": "2022-12-22T18:55:39.456119Z"
    }
   },
   "outputs": [
    {
     "data": {
      "text/plain": [
       "True"
      ]
     },
     "execution_count": 2,
     "metadata": {},
     "output_type": "execute_result"
    }
   ],
   "source": [
    "assessment_data = Path(f'out/assessment_data')\n",
    "assessment_data.exists()"
   ]
  },
  {
   "cell_type": "code",
   "execution_count": 3,
   "id": "16ab6b10",
   "metadata": {
    "ExecuteTime": {
     "end_time": "2022-12-22T18:55:39.469638Z",
     "start_time": "2022-12-22T18:55:39.466574Z"
    }
   },
   "outputs": [
    {
     "data": {
      "text/plain": [
       "[PosixPath('out/assessment_data/100-trials_conf-geq-70_sample-from-dswx')]"
      ]
     },
     "execution_count": 3,
     "metadata": {},
     "output_type": "execute_result"
    }
   ],
   "source": [
    "assessment_dir_paths = list(assessment_data.glob('*/'))\n",
    "assessment_dir_paths"
   ]
  },
  {
   "cell_type": "code",
   "execution_count": 4,
   "id": "8119f635",
   "metadata": {
    "ExecuteTime": {
     "end_time": "2022-12-22T18:55:39.474952Z",
     "start_time": "2022-12-22T18:55:39.470712Z"
    }
   },
   "outputs": [],
   "source": [
    "def get_dswx_ids(assessment_dir) -> list:\n",
    "    dswx_verification_paths = list(assessment_dir.glob('*/'))\n",
    "    dswx_ids = [path.name for path in dswx_verification_paths]\n",
    "    # Remove DSWx paths\n",
    "    dswx_ids = list(filter(lambda dswx_id: '.' != dswx_id[0], dswx_ids))\n",
    "    return dswx_ids\n",
    "\n",
    "\n",
    "def combine_requirement_verification_for_one_assessment(assessment_dir_path):\n",
    "    out_dir = Path(f'out/verification_stats_agg/{assessment_dir_path.name}')\n",
    "    out_dir.mkdir(exist_ok=True, parents=True)\n",
    "    \n",
    "    \n",
    "    dswx_ids = get_dswx_ids(assessment_dir_path)\n",
    "    \n",
    "    def read_one_requirements_json(dswx_id):\n",
    "        path = assessment_dir_path / dswx_id / f'requirement_verification_{dswx_id}.json'\n",
    "        data = json.load(open(path))\n",
    "        return data\n",
    "    \n",
    "    data = list(map(read_one_requirements_json, dswx_ids))\n",
    "    df = pd.DataFrame(data)\n",
    "    \n",
    "    cols = ['surface_water','partial_surface_water']\n",
    "    df[cols + ['dswx_id']].groupby(cols).count()\n",
    "    \n",
    "    out_path = out_dir / 'verification_results.csv'\n",
    "    df.to_csv(out_path, index=False)\n",
    "    \n",
    "    return df, out_path"
   ]
  },
  {
   "cell_type": "code",
   "execution_count": 5,
   "id": "d42323cf",
   "metadata": {
    "ExecuteTime": {
     "end_time": "2022-12-22T18:55:39.504254Z",
     "start_time": "2022-12-22T18:55:39.476174Z"
    }
   },
   "outputs": [
    {
     "name": "stderr",
     "output_type": "stream",
     "text": [
      "100%|█| 1/1 [00:00<00:00, 101.82it/\n"
     ]
    }
   ],
   "source": [
    "dfs, out_paths = zip(*list(map(combine_requirement_verification_for_one_assessment, tqdm(assessment_dir_paths))))"
   ]
  },
  {
   "cell_type": "code",
   "execution_count": 6,
   "id": "6123d221",
   "metadata": {
    "ExecuteTime": {
     "end_time": "2022-12-22T18:55:39.520512Z",
     "start_time": "2022-12-22T18:55:39.506344Z"
    }
   },
   "outputs": [
    {
     "data": {
      "text/html": [
       "<div>\n",
       "<style scoped>\n",
       "    .dataframe tbody tr th:only-of-type {\n",
       "        vertical-align: middle;\n",
       "    }\n",
       "\n",
       "    .dataframe tbody tr th {\n",
       "        vertical-align: top;\n",
       "    }\n",
       "\n",
       "    .dataframe thead th {\n",
       "        text-align: right;\n",
       "    }\n",
       "</style>\n",
       "<table border=\"1\" class=\"dataframe\">\n",
       "  <thead>\n",
       "    <tr style=\"text-align: right;\">\n",
       "      <th></th>\n",
       "      <th>dswx_id</th>\n",
       "      <th>surface_water</th>\n",
       "      <th>partial_surface_water</th>\n",
       "      <th>dswx-WTR</th>\n",
       "      <th>dswx-BWTR</th>\n",
       "      <th>dswx-CONF</th>\n",
       "      <th>dswx-DIAG</th>\n",
       "      <th>dswx-WTR-1</th>\n",
       "      <th>dswx-WTR-2</th>\n",
       "      <th>dswx-LAND</th>\n",
       "      <th>...</th>\n",
       "      <th>hls_url_B04</th>\n",
       "      <th>hls_url_B05</th>\n",
       "      <th>hls_url_B06</th>\n",
       "      <th>hls_url_B07</th>\n",
       "      <th>hls_url_B08</th>\n",
       "      <th>hls_url_B09</th>\n",
       "      <th>hls_url_B10</th>\n",
       "      <th>hls_url_B11</th>\n",
       "      <th>hls_url_B12</th>\n",
       "      <th>hls_url_Fmask</th>\n",
       "    </tr>\n",
       "  </thead>\n",
       "  <tbody>\n",
       "    <tr>\n",
       "      <th>0</th>\n",
       "      <td>OPERA_L3_DSWx_HLS_T04VCM_20210928T220529Z_2022...</td>\n",
       "      <td>True</td>\n",
       "      <td>True</td>\n",
       "      <td>https://opera-pst-rs-pop1.s3.us-west-2.amazona...</td>\n",
       "      <td>https://opera-pst-rs-pop1.s3.us-west-2.amazona...</td>\n",
       "      <td>https://opera-pst-rs-pop1.s3.us-west-2.amazona...</td>\n",
       "      <td>https://opera-pst-rs-pop1.s3.us-west-2.amazona...</td>\n",
       "      <td>https://opera-pst-rs-pop1.s3.us-west-2.amazona...</td>\n",
       "      <td>https://opera-pst-rs-pop1.s3.us-west-2.amazona...</td>\n",
       "      <td>https://opera-pst-rs-pop1.s3.us-west-2.amazona...</td>\n",
       "      <td>...</td>\n",
       "      <td>https://data.lpdaac.earthdatacloud.nasa.gov/lp...</td>\n",
       "      <td>https://data.lpdaac.earthdatacloud.nasa.gov/lp...</td>\n",
       "      <td>https://data.lpdaac.earthdatacloud.nasa.gov/lp...</td>\n",
       "      <td>https://data.lpdaac.earthdatacloud.nasa.gov/lp...</td>\n",
       "      <td>https://data.lpdaac.earthdatacloud.nasa.gov/lp...</td>\n",
       "      <td>https://data.lpdaac.earthdatacloud.nasa.gov/lp...</td>\n",
       "      <td>https://data.lpdaac.earthdatacloud.nasa.gov/lp...</td>\n",
       "      <td>https://data.lpdaac.earthdatacloud.nasa.gov/lp...</td>\n",
       "      <td>https://data.lpdaac.earthdatacloud.nasa.gov/lp...</td>\n",
       "      <td>https://data.lpdaac.earthdatacloud.nasa.gov/lp...</td>\n",
       "    </tr>\n",
       "  </tbody>\n",
       "</table>\n",
       "<p>1 rows × 29 columns</p>\n",
       "</div>"
      ],
      "text/plain": [
       "                                             dswx_id  surface_water  \\\n",
       "0  OPERA_L3_DSWx_HLS_T04VCM_20210928T220529Z_2022...           True   \n",
       "\n",
       "   partial_surface_water                                           dswx-WTR  \\\n",
       "0                   True  https://opera-pst-rs-pop1.s3.us-west-2.amazona...   \n",
       "\n",
       "                                           dswx-BWTR  \\\n",
       "0  https://opera-pst-rs-pop1.s3.us-west-2.amazona...   \n",
       "\n",
       "                                           dswx-CONF  \\\n",
       "0  https://opera-pst-rs-pop1.s3.us-west-2.amazona...   \n",
       "\n",
       "                                           dswx-DIAG  \\\n",
       "0  https://opera-pst-rs-pop1.s3.us-west-2.amazona...   \n",
       "\n",
       "                                          dswx-WTR-1  \\\n",
       "0  https://opera-pst-rs-pop1.s3.us-west-2.amazona...   \n",
       "\n",
       "                                          dswx-WTR-2  \\\n",
       "0  https://opera-pst-rs-pop1.s3.us-west-2.amazona...   \n",
       "\n",
       "                                           dswx-LAND  ...  \\\n",
       "0  https://opera-pst-rs-pop1.s3.us-west-2.amazona...  ...   \n",
       "\n",
       "                                         hls_url_B04  \\\n",
       "0  https://data.lpdaac.earthdatacloud.nasa.gov/lp...   \n",
       "\n",
       "                                         hls_url_B05  \\\n",
       "0  https://data.lpdaac.earthdatacloud.nasa.gov/lp...   \n",
       "\n",
       "                                         hls_url_B06  \\\n",
       "0  https://data.lpdaac.earthdatacloud.nasa.gov/lp...   \n",
       "\n",
       "                                         hls_url_B07  \\\n",
       "0  https://data.lpdaac.earthdatacloud.nasa.gov/lp...   \n",
       "\n",
       "                                         hls_url_B08  \\\n",
       "0  https://data.lpdaac.earthdatacloud.nasa.gov/lp...   \n",
       "\n",
       "                                         hls_url_B09  \\\n",
       "0  https://data.lpdaac.earthdatacloud.nasa.gov/lp...   \n",
       "\n",
       "                                         hls_url_B10  \\\n",
       "0  https://data.lpdaac.earthdatacloud.nasa.gov/lp...   \n",
       "\n",
       "                                         hls_url_B11  \\\n",
       "0  https://data.lpdaac.earthdatacloud.nasa.gov/lp...   \n",
       "\n",
       "                                         hls_url_B12  \\\n",
       "0  https://data.lpdaac.earthdatacloud.nasa.gov/lp...   \n",
       "\n",
       "                                       hls_url_Fmask  \n",
       "0  https://data.lpdaac.earthdatacloud.nasa.gov/lp...  \n",
       "\n",
       "[1 rows x 29 columns]"
      ]
     },
     "execution_count": 6,
     "metadata": {},
     "output_type": "execute_result"
    }
   ],
   "source": [
    "dfs[0]"
   ]
  },
  {
   "cell_type": "code",
   "execution_count": 7,
   "id": "6d7fc549",
   "metadata": {
    "ExecuteTime": {
     "end_time": "2022-12-22T18:55:39.525963Z",
     "start_time": "2022-12-22T18:55:39.522165Z"
    }
   },
   "outputs": [
    {
     "data": {
      "text/plain": [
       "PosixPath('out/verification_stats_agg/100-trials_conf-geq-70_sample-from-dswx/verification_results.csv')"
      ]
     },
     "execution_count": 7,
     "metadata": {},
     "output_type": "execute_result"
    }
   ],
   "source": [
    "out_paths[0]"
   ]
  },
  {
   "cell_type": "markdown",
   "id": "f3c87890",
   "metadata": {},
   "source": [
    "# Additional Metrics"
   ]
  },
  {
   "cell_type": "code",
   "execution_count": 8,
   "id": "fec3acb7",
   "metadata": {
    "ExecuteTime": {
     "end_time": "2022-12-22T18:55:39.532474Z",
     "start_time": "2022-12-22T18:55:39.528166Z"
    }
   },
   "outputs": [],
   "source": [
    "def combine_metrics_for_one_assessment(assessment_dir_path):\n",
    "    out_dir = Path(f'out/verification_stats_agg/{assessment_dir_path.name}')\n",
    "    \n",
    "    def read_one_assessment(dswx_id):\n",
    "        path = assessment_dir_path / dswx_id / f'stats_{dswx_id}.json'\n",
    "        data = pd.DataFrame(pd.json_normalize(json.load(open(path))))\n",
    "        return data\n",
    "    \n",
    "    dswx_ids = get_dswx_ids(assessment_dir_path)\n",
    "    \n",
    "    data_assessments = list(map(read_one_assessment, dswx_ids))\n",
    "    df_metrics = pd.concat(data_assessments, axis=0).reset_index(drop=True)\n",
    "    df_metrics.to_csv(out_dir / 'metrics.csv', index=False)\n",
    "    out_path = out_dir / 'metrics.csv'\n",
    "    df_metrics.to_csv(out_path, index=False)\n",
    "    return df_metrics, out_path"
   ]
  },
  {
   "cell_type": "code",
   "execution_count": 9,
   "id": "19013f4a",
   "metadata": {
    "ExecuteTime": {
     "end_time": "2022-12-22T18:55:39.545206Z",
     "start_time": "2022-12-22T18:55:39.536489Z"
    }
   },
   "outputs": [
    {
     "name": "stderr",
     "output_type": "stream",
     "text": [
      "100%|█| 1/1 [00:00<00:00, 227.31it/\n"
     ]
    }
   ],
   "source": [
    "dfs, out_paths = zip(*list(map(combine_metrics_for_one_assessment, tqdm(assessment_dir_paths))))"
   ]
  },
  {
   "cell_type": "code",
   "execution_count": 10,
   "id": "3edc56f7",
   "metadata": {
    "ExecuteTime": {
     "end_time": "2022-12-22T18:55:39.559804Z",
     "start_time": "2022-12-22T18:55:39.546778Z"
    }
   },
   "outputs": [
    {
     "data": {
      "text/html": [
       "<div>\n",
       "<style scoped>\n",
       "    .dataframe tbody tr th:only-of-type {\n",
       "        vertical-align: middle;\n",
       "    }\n",
       "\n",
       "    .dataframe tbody tr th {\n",
       "        vertical-align: top;\n",
       "    }\n",
       "\n",
       "    .dataframe thead th {\n",
       "        text-align: right;\n",
       "    }\n",
       "</style>\n",
       "<table border=\"1\" class=\"dataframe\">\n",
       "  <thead>\n",
       "    <tr style=\"text-align: right;\">\n",
       "      <th></th>\n",
       "      <th>total_accuracy.mean</th>\n",
       "      <th>total_accuracy.std</th>\n",
       "      <th>acc_per_class.Not_Water.mean</th>\n",
       "      <th>acc_per_class.Not_Water.std</th>\n",
       "      <th>acc_per_class.Open_Surface_Water.mean</th>\n",
       "      <th>acc_per_class.Open_Surface_Water.std</th>\n",
       "      <th>acc_per_class.Partial_Surface_Water.mean</th>\n",
       "      <th>acc_per_class.Partial_Surface_Water.std</th>\n",
       "      <th>confusion_matrix.Not_Water_OPERA_DSWx.Not_Water_OPERA_Validation.mean</th>\n",
       "      <th>confusion_matrix.Not_Water_OPERA_DSWx.Not_Water_OPERA_Validation.std</th>\n",
       "      <th>...</th>\n",
       "      <th>f1_per_class.Partial_Surface_Water.mean</th>\n",
       "      <th>f1_per_class.Partial_Surface_Water.std</th>\n",
       "      <th>supp_per_class.Not_Water.mean</th>\n",
       "      <th>supp_per_class.Not_Water.std</th>\n",
       "      <th>supp_per_class.Open_Surface_Water.mean</th>\n",
       "      <th>supp_per_class.Open_Surface_Water.std</th>\n",
       "      <th>supp_per_class.Partial_Surface_Water.mean</th>\n",
       "      <th>supp_per_class.Partial_Surface_Water.std</th>\n",
       "      <th>dswx_id</th>\n",
       "      <th>planet_id</th>\n",
       "    </tr>\n",
       "  </thead>\n",
       "  <tbody>\n",
       "    <tr>\n",
       "      <th>0</th>\n",
       "      <td>0.86018</td>\n",
       "      <td>0.012613</td>\n",
       "      <td>0.951886</td>\n",
       "      <td>0.00898</td>\n",
       "      <td>0.907515</td>\n",
       "      <td>0.009448</td>\n",
       "      <td>0.860958</td>\n",
       "      <td>0.012475</td>\n",
       "      <td>160.77</td>\n",
       "      <td>2.469429</td>\n",
       "      <td>...</td>\n",
       "      <td>0.844865</td>\n",
       "      <td>0.014615</td>\n",
       "      <td>167.0</td>\n",
       "      <td>0.0</td>\n",
       "      <td>0.0</td>\n",
       "      <td>0.0</td>\n",
       "      <td>167.0</td>\n",
       "      <td>0.0</td>\n",
       "      <td>OPERA_L3_DSWx_HLS_T04VCM_20210928T220529Z_2022...</td>\n",
       "      <td>20210928_211311_91_2457</td>\n",
       "    </tr>\n",
       "  </tbody>\n",
       "</table>\n",
       "<p>1 rows × 46 columns</p>\n",
       "</div>"
      ],
      "text/plain": [
       "   total_accuracy.mean  total_accuracy.std  acc_per_class.Not_Water.mean  \\\n",
       "0              0.86018            0.012613                      0.951886   \n",
       "\n",
       "   acc_per_class.Not_Water.std  acc_per_class.Open_Surface_Water.mean  \\\n",
       "0                      0.00898                               0.907515   \n",
       "\n",
       "   acc_per_class.Open_Surface_Water.std  \\\n",
       "0                              0.009448   \n",
       "\n",
       "   acc_per_class.Partial_Surface_Water.mean  \\\n",
       "0                                  0.860958   \n",
       "\n",
       "   acc_per_class.Partial_Surface_Water.std  \\\n",
       "0                                 0.012475   \n",
       "\n",
       "   confusion_matrix.Not_Water_OPERA_DSWx.Not_Water_OPERA_Validation.mean  \\\n",
       "0                                             160.77                       \n",
       "\n",
       "   confusion_matrix.Not_Water_OPERA_DSWx.Not_Water_OPERA_Validation.std  ...  \\\n",
       "0                                           2.469429                     ...   \n",
       "\n",
       "   f1_per_class.Partial_Surface_Water.mean  \\\n",
       "0                                 0.844865   \n",
       "\n",
       "   f1_per_class.Partial_Surface_Water.std  supp_per_class.Not_Water.mean  \\\n",
       "0                                0.014615                          167.0   \n",
       "\n",
       "   supp_per_class.Not_Water.std  supp_per_class.Open_Surface_Water.mean  \\\n",
       "0                           0.0                                     0.0   \n",
       "\n",
       "   supp_per_class.Open_Surface_Water.std  \\\n",
       "0                                    0.0   \n",
       "\n",
       "   supp_per_class.Partial_Surface_Water.mean  \\\n",
       "0                                      167.0   \n",
       "\n",
       "   supp_per_class.Partial_Surface_Water.std  \\\n",
       "0                                       0.0   \n",
       "\n",
       "                                             dswx_id                planet_id  \n",
       "0  OPERA_L3_DSWx_HLS_T04VCM_20210928T220529Z_2022...  20210928_211311_91_2457  \n",
       "\n",
       "[1 rows x 46 columns]"
      ]
     },
     "execution_count": 10,
     "metadata": {},
     "output_type": "execute_result"
    }
   ],
   "source": [
    "dfs[0]"
   ]
  },
  {
   "cell_type": "code",
   "execution_count": 11,
   "id": "eba3417f",
   "metadata": {
    "ExecuteTime": {
     "end_time": "2022-12-22T18:55:39.564955Z",
     "start_time": "2022-12-22T18:55:39.561573Z"
    }
   },
   "outputs": [
    {
     "data": {
      "text/plain": [
       "PosixPath('out/verification_stats_agg/100-trials_conf-geq-70_sample-from-dswx/metrics.csv')"
      ]
     },
     "execution_count": 11,
     "metadata": {},
     "output_type": "execute_result"
    }
   ],
   "source": [
    "out_paths[0]"
   ]
  }
 ],
 "metadata": {
  "kernelspec": {
   "display_name": "dswx_val",
   "language": "python",
   "name": "dswx_val"
  },
  "language_info": {
   "codemirror_mode": {
    "name": "ipython",
    "version": 3
   },
   "file_extension": ".py",
   "mimetype": "text/x-python",
   "name": "python",
   "nbconvert_exporter": "python",
   "pygments_lexer": "ipython3",
   "version": "3.11.0"
  }
 },
 "nbformat": 4,
 "nbformat_minor": 5
}
