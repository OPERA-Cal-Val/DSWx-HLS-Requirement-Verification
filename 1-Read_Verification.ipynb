{
 "cells": [
  {
   "cell_type": "code",
   "execution_count": 7,
   "id": "75767453",
   "metadata": {
    "ExecuteTime": {
     "end_time": "2023-03-15T22:45:06.170595Z",
     "start_time": "2023-03-15T22:45:06.168053Z"
    }
   },
   "outputs": [],
   "source": [
    "import json\n",
    "import pandas as pd\n",
    "from pathlib import Path\n",
    "from pandas import json_normalize\n",
    "from tqdm import tqdm"
   ]
  },
  {
   "cell_type": "code",
   "execution_count": 8,
   "id": "62f82d58",
   "metadata": {
    "ExecuteTime": {
     "end_time": "2023-03-15T22:45:06.443333Z",
     "start_time": "2023-03-15T22:45:06.439499Z"
    }
   },
   "outputs": [
    {
     "data": {
      "text/plain": [
       "True"
      ]
     },
     "execution_count": 8,
     "metadata": {},
     "output_type": "execute_result"
    }
   ],
   "source": [
    "assessment_data = Path(f'out/assessment_data')\n",
    "assessment_data.exists()"
   ]
  },
  {
   "cell_type": "code",
   "execution_count": 9,
   "id": "5bdae1ba",
   "metadata": {
    "ExecuteTime": {
     "end_time": "2023-03-15T22:45:06.676033Z",
     "start_time": "2023-03-15T22:45:06.672356Z"
    }
   },
   "outputs": [
    {
     "data": {
      "text/plain": [
       "[PosixPath('out/assessment_data/100-trials_conf-geq-0_sample-from-val')]"
      ]
     },
     "execution_count": 9,
     "metadata": {},
     "output_type": "execute_result"
    }
   ],
   "source": [
    "assessment_dir_paths = list(assessment_data.glob('*/'))\n",
    "assessment_dir_paths = list(filter(lambda x: '.DS_Store' not in x.name, assessment_dir_paths))\n",
    "assessment_dir_paths"
   ]
  },
  {
   "cell_type": "code",
   "execution_count": 10,
   "id": "36ea7d96",
   "metadata": {
    "ExecuteTime": {
     "end_time": "2023-03-15T22:45:07.004613Z",
     "start_time": "2023-03-15T22:45:07.000152Z"
    }
   },
   "outputs": [],
   "source": [
    "def get_dswx_ids(assessment_dir) -> list:\n",
    "    dswx_verification_paths = list(assessment_dir.glob('*/'))\n",
    "    dswx_ids = [path.name for path in dswx_verification_paths]\n",
    "    # Remove DSWx paths\n",
    "    dswx_ids = list(filter(lambda dswx_id: '.' != dswx_id[0], dswx_ids))\n",
    "    return dswx_ids\n",
    "\n",
    "\n",
    "def combine_requirement_verification_for_one_assessment(assessment_dir_path):\n",
    "    out_dir = Path(f'out/verification_stats_agg/{assessment_dir_path.name}')\n",
    "    out_dir.mkdir(exist_ok=True, parents=True)\n",
    "    \n",
    "    dswx_ids = get_dswx_ids(assessment_dir_path)\n",
    "    \n",
    "    def read_one_requirements_json(dswx_id):\n",
    "        path = assessment_dir_path / dswx_id / f'requirement_verification_{dswx_id}.json'\n",
    "        data = json.load(open(path))\n",
    "        return data\n",
    "    \n",
    "    data = list(map(read_one_requirements_json, dswx_ids))\n",
    "    df = pd.DataFrame(data)\n",
    "    cols = ['surface_water','partial_surface_water']\n",
    "    df[cols + ['dswx_id']].groupby(cols).count()\n",
    "    \n",
    "    out_path = out_dir / 'verification_results.csv'\n",
    "    df.to_csv(out_path, index=False)\n",
    "    \n",
    "    return df, out_path"
   ]
  },
  {
   "cell_type": "code",
   "execution_count": 11,
   "id": "10a40071",
   "metadata": {
    "ExecuteTime": {
     "end_time": "2023-03-15T22:45:07.456617Z",
     "start_time": "2023-03-15T22:45:07.439794Z"
    }
   },
   "outputs": [
    {
     "name": "stderr",
     "output_type": "stream",
     "text": [
      "100%|██████████████| 1/1 [00:00<00:00, 80.23it/s]\n"
     ]
    }
   ],
   "source": [
    "dfs_req, out_paths = zip(*list(map(combine_requirement_verification_for_one_assessment, tqdm(assessment_dir_paths))))"
   ]
  },
  {
   "cell_type": "code",
   "execution_count": 12,
   "id": "743f2eb8",
   "metadata": {
    "ExecuteTime": {
     "end_time": "2023-03-15T22:45:08.118864Z",
     "start_time": "2023-03-15T22:45:08.103677Z"
    }
   },
   "outputs": [
    {
     "data": {
      "text/html": [
       "<div>\n",
       "<style scoped>\n",
       "    .dataframe tbody tr th:only-of-type {\n",
       "        vertical-align: middle;\n",
       "    }\n",
       "\n",
       "    .dataframe tbody tr th {\n",
       "        vertical-align: top;\n",
       "    }\n",
       "\n",
       "    .dataframe thead th {\n",
       "        text-align: right;\n",
       "    }\n",
       "</style>\n",
       "<table border=\"1\" class=\"dataframe\">\n",
       "  <thead>\n",
       "    <tr style=\"text-align: right;\">\n",
       "      <th></th>\n",
       "      <th>dswx_id</th>\n",
       "      <th>surface_water</th>\n",
       "      <th>partial_surface_water</th>\n",
       "      <th>dswx-WTR</th>\n",
       "      <th>dswx-BWTR</th>\n",
       "      <th>dswx-CONF</th>\n",
       "      <th>dswx-DIAG</th>\n",
       "      <th>dswx-WTR-1</th>\n",
       "      <th>dswx-WTR-2</th>\n",
       "      <th>dswx-LAND</th>\n",
       "      <th>...</th>\n",
       "      <th>hls_url_B04</th>\n",
       "      <th>hls_url_B05</th>\n",
       "      <th>hls_url_B06</th>\n",
       "      <th>hls_url_B07</th>\n",
       "      <th>hls_url_B08</th>\n",
       "      <th>hls_url_B09</th>\n",
       "      <th>hls_url_B10</th>\n",
       "      <th>hls_url_B11</th>\n",
       "      <th>hls_url_B12</th>\n",
       "      <th>hls_url_Fmask</th>\n",
       "    </tr>\n",
       "  </thead>\n",
       "  <tbody>\n",
       "    <tr>\n",
       "      <th>0</th>\n",
       "      <td>OPERA_L3_DSWx-HLS_T54JTN_20210911T004659Z_2023...</td>\n",
       "      <td>True</td>\n",
       "      <td>True</td>\n",
       "      <td>https://opera-pst-rs-pop1.s3.us-west-2.amazona...</td>\n",
       "      <td>https://opera-pst-rs-pop1.s3.us-west-2.amazona...</td>\n",
       "      <td>https://opera-pst-rs-pop1.s3.us-west-2.amazona...</td>\n",
       "      <td>https://opera-pst-rs-pop1.s3.us-west-2.amazona...</td>\n",
       "      <td>https://opera-pst-rs-pop1.s3.us-west-2.amazona...</td>\n",
       "      <td>https://opera-pst-rs-pop1.s3.us-west-2.amazona...</td>\n",
       "      <td>https://opera-pst-rs-pop1.s3.us-west-2.amazona...</td>\n",
       "      <td>...</td>\n",
       "      <td>https://data.lpdaac.earthdatacloud.nasa.gov/lp...</td>\n",
       "      <td>https://data.lpdaac.earthdatacloud.nasa.gov/lp...</td>\n",
       "      <td>https://data.lpdaac.earthdatacloud.nasa.gov/lp...</td>\n",
       "      <td>https://data.lpdaac.earthdatacloud.nasa.gov/lp...</td>\n",
       "      <td>https://data.lpdaac.earthdatacloud.nasa.gov/lp...</td>\n",
       "      <td>https://data.lpdaac.earthdatacloud.nasa.gov/lp...</td>\n",
       "      <td>https://data.lpdaac.earthdatacloud.nasa.gov/lp...</td>\n",
       "      <td>https://data.lpdaac.earthdatacloud.nasa.gov/lp...</td>\n",
       "      <td>https://data.lpdaac.earthdatacloud.nasa.gov/lp...</td>\n",
       "      <td>https://data.lpdaac.earthdatacloud.nasa.gov/lp...</td>\n",
       "    </tr>\n",
       "    <tr>\n",
       "      <th>1</th>\n",
       "      <td>OPERA_L3_DSWx-HLS_T52VFP_20210910T023549Z_2023...</td>\n",
       "      <td>True</td>\n",
       "      <td>True</td>\n",
       "      <td>https://opera-pst-rs-pop1.s3.us-west-2.amazona...</td>\n",
       "      <td>https://opera-pst-rs-pop1.s3.us-west-2.amazona...</td>\n",
       "      <td>https://opera-pst-rs-pop1.s3.us-west-2.amazona...</td>\n",
       "      <td>https://opera-pst-rs-pop1.s3.us-west-2.amazona...</td>\n",
       "      <td>https://opera-pst-rs-pop1.s3.us-west-2.amazona...</td>\n",
       "      <td>https://opera-pst-rs-pop1.s3.us-west-2.amazona...</td>\n",
       "      <td>https://opera-pst-rs-pop1.s3.us-west-2.amazona...</td>\n",
       "      <td>...</td>\n",
       "      <td>https://data.lpdaac.earthdatacloud.nasa.gov/lp...</td>\n",
       "      <td>https://data.lpdaac.earthdatacloud.nasa.gov/lp...</td>\n",
       "      <td>https://data.lpdaac.earthdatacloud.nasa.gov/lp...</td>\n",
       "      <td>https://data.lpdaac.earthdatacloud.nasa.gov/lp...</td>\n",
       "      <td>https://data.lpdaac.earthdatacloud.nasa.gov/lp...</td>\n",
       "      <td>https://data.lpdaac.earthdatacloud.nasa.gov/lp...</td>\n",
       "      <td>https://data.lpdaac.earthdatacloud.nasa.gov/lp...</td>\n",
       "      <td>https://data.lpdaac.earthdatacloud.nasa.gov/lp...</td>\n",
       "      <td>https://data.lpdaac.earthdatacloud.nasa.gov/lp...</td>\n",
       "      <td>https://data.lpdaac.earthdatacloud.nasa.gov/lp...</td>\n",
       "    </tr>\n",
       "    <tr>\n",
       "      <th>2</th>\n",
       "      <td>OPERA_L3_DSWx-HLS_T47ULQ_20210911T043701Z_2023...</td>\n",
       "      <td>False</td>\n",
       "      <td>True</td>\n",
       "      <td>https://opera-pst-rs-pop1.s3.us-west-2.amazona...</td>\n",
       "      <td>https://opera-pst-rs-pop1.s3.us-west-2.amazona...</td>\n",
       "      <td>https://opera-pst-rs-pop1.s3.us-west-2.amazona...</td>\n",
       "      <td>https://opera-pst-rs-pop1.s3.us-west-2.amazona...</td>\n",
       "      <td>https://opera-pst-rs-pop1.s3.us-west-2.amazona...</td>\n",
       "      <td>https://opera-pst-rs-pop1.s3.us-west-2.amazona...</td>\n",
       "      <td>https://opera-pst-rs-pop1.s3.us-west-2.amazona...</td>\n",
       "      <td>...</td>\n",
       "      <td>https://data.lpdaac.earthdatacloud.nasa.gov/lp...</td>\n",
       "      <td>https://data.lpdaac.earthdatacloud.nasa.gov/lp...</td>\n",
       "      <td>https://data.lpdaac.earthdatacloud.nasa.gov/lp...</td>\n",
       "      <td>https://data.lpdaac.earthdatacloud.nasa.gov/lp...</td>\n",
       "      <td>https://data.lpdaac.earthdatacloud.nasa.gov/lp...</td>\n",
       "      <td>https://data.lpdaac.earthdatacloud.nasa.gov/lp...</td>\n",
       "      <td>https://data.lpdaac.earthdatacloud.nasa.gov/lp...</td>\n",
       "      <td>https://data.lpdaac.earthdatacloud.nasa.gov/lp...</td>\n",
       "      <td>https://data.lpdaac.earthdatacloud.nasa.gov/lp...</td>\n",
       "      <td>https://data.lpdaac.earthdatacloud.nasa.gov/lp...</td>\n",
       "    </tr>\n",
       "    <tr>\n",
       "      <th>3</th>\n",
       "      <td>OPERA_L3_DSWx-HLS_T18UXG_20210902T154154Z_2023...</td>\n",
       "      <td>True</td>\n",
       "      <td>True</td>\n",
       "      <td>https://opera-pst-rs-pop1.s3.us-west-2.amazona...</td>\n",
       "      <td>https://opera-pst-rs-pop1.s3.us-west-2.amazona...</td>\n",
       "      <td>https://opera-pst-rs-pop1.s3.us-west-2.amazona...</td>\n",
       "      <td>https://opera-pst-rs-pop1.s3.us-west-2.amazona...</td>\n",
       "      <td>https://opera-pst-rs-pop1.s3.us-west-2.amazona...</td>\n",
       "      <td>https://opera-pst-rs-pop1.s3.us-west-2.amazona...</td>\n",
       "      <td>https://opera-pst-rs-pop1.s3.us-west-2.amazona...</td>\n",
       "      <td>...</td>\n",
       "      <td>https://data.lpdaac.earthdatacloud.nasa.gov/lp...</td>\n",
       "      <td>https://data.lpdaac.earthdatacloud.nasa.gov/lp...</td>\n",
       "      <td>https://data.lpdaac.earthdatacloud.nasa.gov/lp...</td>\n",
       "      <td>https://data.lpdaac.earthdatacloud.nasa.gov/lp...</td>\n",
       "      <td></td>\n",
       "      <td>https://data.lpdaac.earthdatacloud.nasa.gov/lp...</td>\n",
       "      <td>https://data.lpdaac.earthdatacloud.nasa.gov/lp...</td>\n",
       "      <td>https://data.lpdaac.earthdatacloud.nasa.gov/lp...</td>\n",
       "      <td></td>\n",
       "      <td>https://data.lpdaac.earthdatacloud.nasa.gov/lp...</td>\n",
       "    </tr>\n",
       "    <tr>\n",
       "      <th>4</th>\n",
       "      <td>OPERA_L3_DSWx-HLS_T30TYN_20210905T105621Z_2023...</td>\n",
       "      <td>True</td>\n",
       "      <td>True</td>\n",
       "      <td>https://opera-pst-rs-pop1.s3.us-west-2.amazona...</td>\n",
       "      <td>https://opera-pst-rs-pop1.s3.us-west-2.amazona...</td>\n",
       "      <td>https://opera-pst-rs-pop1.s3.us-west-2.amazona...</td>\n",
       "      <td>https://opera-pst-rs-pop1.s3.us-west-2.amazona...</td>\n",
       "      <td>https://opera-pst-rs-pop1.s3.us-west-2.amazona...</td>\n",
       "      <td>https://opera-pst-rs-pop1.s3.us-west-2.amazona...</td>\n",
       "      <td>https://opera-pst-rs-pop1.s3.us-west-2.amazona...</td>\n",
       "      <td>...</td>\n",
       "      <td>https://data.lpdaac.earthdatacloud.nasa.gov/lp...</td>\n",
       "      <td>https://data.lpdaac.earthdatacloud.nasa.gov/lp...</td>\n",
       "      <td>https://data.lpdaac.earthdatacloud.nasa.gov/lp...</td>\n",
       "      <td>https://data.lpdaac.earthdatacloud.nasa.gov/lp...</td>\n",
       "      <td>https://data.lpdaac.earthdatacloud.nasa.gov/lp...</td>\n",
       "      <td>https://data.lpdaac.earthdatacloud.nasa.gov/lp...</td>\n",
       "      <td>https://data.lpdaac.earthdatacloud.nasa.gov/lp...</td>\n",
       "      <td>https://data.lpdaac.earthdatacloud.nasa.gov/lp...</td>\n",
       "      <td>https://data.lpdaac.earthdatacloud.nasa.gov/lp...</td>\n",
       "      <td>https://data.lpdaac.earthdatacloud.nasa.gov/lp...</td>\n",
       "    </tr>\n",
       "  </tbody>\n",
       "</table>\n",
       "<p>5 rows × 29 columns</p>\n",
       "</div>"
      ],
      "text/plain": [
       "                                             dswx_id  surface_water  \\\n",
       "0  OPERA_L3_DSWx-HLS_T54JTN_20210911T004659Z_2023...           True   \n",
       "1  OPERA_L3_DSWx-HLS_T52VFP_20210910T023549Z_2023...           True   \n",
       "2  OPERA_L3_DSWx-HLS_T47ULQ_20210911T043701Z_2023...          False   \n",
       "3  OPERA_L3_DSWx-HLS_T18UXG_20210902T154154Z_2023...           True   \n",
       "4  OPERA_L3_DSWx-HLS_T30TYN_20210905T105621Z_2023...           True   \n",
       "\n",
       "   partial_surface_water                                           dswx-WTR  \\\n",
       "0                   True  https://opera-pst-rs-pop1.s3.us-west-2.amazona...   \n",
       "1                   True  https://opera-pst-rs-pop1.s3.us-west-2.amazona...   \n",
       "2                   True  https://opera-pst-rs-pop1.s3.us-west-2.amazona...   \n",
       "3                   True  https://opera-pst-rs-pop1.s3.us-west-2.amazona...   \n",
       "4                   True  https://opera-pst-rs-pop1.s3.us-west-2.amazona...   \n",
       "\n",
       "                                           dswx-BWTR  \\\n",
       "0  https://opera-pst-rs-pop1.s3.us-west-2.amazona...   \n",
       "1  https://opera-pst-rs-pop1.s3.us-west-2.amazona...   \n",
       "2  https://opera-pst-rs-pop1.s3.us-west-2.amazona...   \n",
       "3  https://opera-pst-rs-pop1.s3.us-west-2.amazona...   \n",
       "4  https://opera-pst-rs-pop1.s3.us-west-2.amazona...   \n",
       "\n",
       "                                           dswx-CONF  \\\n",
       "0  https://opera-pst-rs-pop1.s3.us-west-2.amazona...   \n",
       "1  https://opera-pst-rs-pop1.s3.us-west-2.amazona...   \n",
       "2  https://opera-pst-rs-pop1.s3.us-west-2.amazona...   \n",
       "3  https://opera-pst-rs-pop1.s3.us-west-2.amazona...   \n",
       "4  https://opera-pst-rs-pop1.s3.us-west-2.amazona...   \n",
       "\n",
       "                                           dswx-DIAG  \\\n",
       "0  https://opera-pst-rs-pop1.s3.us-west-2.amazona...   \n",
       "1  https://opera-pst-rs-pop1.s3.us-west-2.amazona...   \n",
       "2  https://opera-pst-rs-pop1.s3.us-west-2.amazona...   \n",
       "3  https://opera-pst-rs-pop1.s3.us-west-2.amazona...   \n",
       "4  https://opera-pst-rs-pop1.s3.us-west-2.amazona...   \n",
       "\n",
       "                                          dswx-WTR-1  \\\n",
       "0  https://opera-pst-rs-pop1.s3.us-west-2.amazona...   \n",
       "1  https://opera-pst-rs-pop1.s3.us-west-2.amazona...   \n",
       "2  https://opera-pst-rs-pop1.s3.us-west-2.amazona...   \n",
       "3  https://opera-pst-rs-pop1.s3.us-west-2.amazona...   \n",
       "4  https://opera-pst-rs-pop1.s3.us-west-2.amazona...   \n",
       "\n",
       "                                          dswx-WTR-2  \\\n",
       "0  https://opera-pst-rs-pop1.s3.us-west-2.amazona...   \n",
       "1  https://opera-pst-rs-pop1.s3.us-west-2.amazona...   \n",
       "2  https://opera-pst-rs-pop1.s3.us-west-2.amazona...   \n",
       "3  https://opera-pst-rs-pop1.s3.us-west-2.amazona...   \n",
       "4  https://opera-pst-rs-pop1.s3.us-west-2.amazona...   \n",
       "\n",
       "                                           dswx-LAND  ...  \\\n",
       "0  https://opera-pst-rs-pop1.s3.us-west-2.amazona...  ...   \n",
       "1  https://opera-pst-rs-pop1.s3.us-west-2.amazona...  ...   \n",
       "2  https://opera-pst-rs-pop1.s3.us-west-2.amazona...  ...   \n",
       "3  https://opera-pst-rs-pop1.s3.us-west-2.amazona...  ...   \n",
       "4  https://opera-pst-rs-pop1.s3.us-west-2.amazona...  ...   \n",
       "\n",
       "                                         hls_url_B04  \\\n",
       "0  https://data.lpdaac.earthdatacloud.nasa.gov/lp...   \n",
       "1  https://data.lpdaac.earthdatacloud.nasa.gov/lp...   \n",
       "2  https://data.lpdaac.earthdatacloud.nasa.gov/lp...   \n",
       "3  https://data.lpdaac.earthdatacloud.nasa.gov/lp...   \n",
       "4  https://data.lpdaac.earthdatacloud.nasa.gov/lp...   \n",
       "\n",
       "                                         hls_url_B05  \\\n",
       "0  https://data.lpdaac.earthdatacloud.nasa.gov/lp...   \n",
       "1  https://data.lpdaac.earthdatacloud.nasa.gov/lp...   \n",
       "2  https://data.lpdaac.earthdatacloud.nasa.gov/lp...   \n",
       "3  https://data.lpdaac.earthdatacloud.nasa.gov/lp...   \n",
       "4  https://data.lpdaac.earthdatacloud.nasa.gov/lp...   \n",
       "\n",
       "                                         hls_url_B06  \\\n",
       "0  https://data.lpdaac.earthdatacloud.nasa.gov/lp...   \n",
       "1  https://data.lpdaac.earthdatacloud.nasa.gov/lp...   \n",
       "2  https://data.lpdaac.earthdatacloud.nasa.gov/lp...   \n",
       "3  https://data.lpdaac.earthdatacloud.nasa.gov/lp...   \n",
       "4  https://data.lpdaac.earthdatacloud.nasa.gov/lp...   \n",
       "\n",
       "                                         hls_url_B07  \\\n",
       "0  https://data.lpdaac.earthdatacloud.nasa.gov/lp...   \n",
       "1  https://data.lpdaac.earthdatacloud.nasa.gov/lp...   \n",
       "2  https://data.lpdaac.earthdatacloud.nasa.gov/lp...   \n",
       "3  https://data.lpdaac.earthdatacloud.nasa.gov/lp...   \n",
       "4  https://data.lpdaac.earthdatacloud.nasa.gov/lp...   \n",
       "\n",
       "                                         hls_url_B08  \\\n",
       "0  https://data.lpdaac.earthdatacloud.nasa.gov/lp...   \n",
       "1  https://data.lpdaac.earthdatacloud.nasa.gov/lp...   \n",
       "2  https://data.lpdaac.earthdatacloud.nasa.gov/lp...   \n",
       "3                                                      \n",
       "4  https://data.lpdaac.earthdatacloud.nasa.gov/lp...   \n",
       "\n",
       "                                         hls_url_B09  \\\n",
       "0  https://data.lpdaac.earthdatacloud.nasa.gov/lp...   \n",
       "1  https://data.lpdaac.earthdatacloud.nasa.gov/lp...   \n",
       "2  https://data.lpdaac.earthdatacloud.nasa.gov/lp...   \n",
       "3  https://data.lpdaac.earthdatacloud.nasa.gov/lp...   \n",
       "4  https://data.lpdaac.earthdatacloud.nasa.gov/lp...   \n",
       "\n",
       "                                         hls_url_B10  \\\n",
       "0  https://data.lpdaac.earthdatacloud.nasa.gov/lp...   \n",
       "1  https://data.lpdaac.earthdatacloud.nasa.gov/lp...   \n",
       "2  https://data.lpdaac.earthdatacloud.nasa.gov/lp...   \n",
       "3  https://data.lpdaac.earthdatacloud.nasa.gov/lp...   \n",
       "4  https://data.lpdaac.earthdatacloud.nasa.gov/lp...   \n",
       "\n",
       "                                         hls_url_B11  \\\n",
       "0  https://data.lpdaac.earthdatacloud.nasa.gov/lp...   \n",
       "1  https://data.lpdaac.earthdatacloud.nasa.gov/lp...   \n",
       "2  https://data.lpdaac.earthdatacloud.nasa.gov/lp...   \n",
       "3  https://data.lpdaac.earthdatacloud.nasa.gov/lp...   \n",
       "4  https://data.lpdaac.earthdatacloud.nasa.gov/lp...   \n",
       "\n",
       "                                         hls_url_B12  \\\n",
       "0  https://data.lpdaac.earthdatacloud.nasa.gov/lp...   \n",
       "1  https://data.lpdaac.earthdatacloud.nasa.gov/lp...   \n",
       "2  https://data.lpdaac.earthdatacloud.nasa.gov/lp...   \n",
       "3                                                      \n",
       "4  https://data.lpdaac.earthdatacloud.nasa.gov/lp...   \n",
       "\n",
       "                                       hls_url_Fmask  \n",
       "0  https://data.lpdaac.earthdatacloud.nasa.gov/lp...  \n",
       "1  https://data.lpdaac.earthdatacloud.nasa.gov/lp...  \n",
       "2  https://data.lpdaac.earthdatacloud.nasa.gov/lp...  \n",
       "3  https://data.lpdaac.earthdatacloud.nasa.gov/lp...  \n",
       "4  https://data.lpdaac.earthdatacloud.nasa.gov/lp...  \n",
       "\n",
       "[5 rows x 29 columns]"
      ]
     },
     "execution_count": 12,
     "metadata": {},
     "output_type": "execute_result"
    }
   ],
   "source": [
    "dfs_req[0].head()"
   ]
  },
  {
   "cell_type": "code",
   "execution_count": 13,
   "id": "90245bf3",
   "metadata": {
    "ExecuteTime": {
     "end_time": "2023-03-15T22:45:08.675143Z",
     "start_time": "2023-03-15T22:45:08.671777Z"
    }
   },
   "outputs": [
    {
     "data": {
      "text/plain": [
       "PosixPath('out/verification_stats_agg/100-trials_conf-geq-0_sample-from-val/verification_results.csv')"
      ]
     },
     "execution_count": 13,
     "metadata": {},
     "output_type": "execute_result"
    }
   ],
   "source": [
    "out_paths[0]"
   ]
  },
  {
   "cell_type": "markdown",
   "id": "c350e8ea",
   "metadata": {},
   "source": [
    "# Additional Metrics"
   ]
  },
  {
   "cell_type": "code",
   "execution_count": 14,
   "id": "38900436",
   "metadata": {
    "ExecuteTime": {
     "end_time": "2023-03-15T22:45:09.714840Z",
     "start_time": "2023-03-15T22:45:09.711401Z"
    }
   },
   "outputs": [],
   "source": [
    "def combine_metrics_for_one_assessment(assessment_dir_path):\n",
    "    out_dir = Path(f'out/verification_stats_agg/{assessment_dir_path.name}')\n",
    "    \n",
    "    def read_one_assessment(dswx_id):\n",
    "        path = assessment_dir_path / dswx_id / f'stats_{dswx_id}.json'\n",
    "        data = pd.DataFrame(pd.json_normalize(json.load(open(path))))\n",
    "        return data\n",
    "    \n",
    "    dswx_ids = get_dswx_ids(assessment_dir_path)\n",
    "    \n",
    "    data_assessments = list(map(read_one_assessment, dswx_ids))\n",
    "    df_metrics = pd.concat(data_assessments, axis=0).reset_index(drop=True)\n",
    "    df_metrics.to_csv(out_dir / 'metrics.csv', index=False)\n",
    "    out_path = out_dir / 'metrics.csv'\n",
    "    df_metrics.to_csv(out_path, index=False)\n",
    "    return df_metrics, out_path"
   ]
  },
  {
   "cell_type": "code",
   "execution_count": 15,
   "id": "25f1af6f",
   "metadata": {
    "ExecuteTime": {
     "end_time": "2023-03-15T22:45:10.217444Z",
     "start_time": "2023-03-15T22:45:10.183403Z"
    }
   },
   "outputs": [
    {
     "name": "stderr",
     "output_type": "stream",
     "text": [
      "100%|██████████████| 1/1 [00:00<00:00, 33.44it/s]\n"
     ]
    }
   ],
   "source": [
    "dfs_metrics, out_paths = zip(*list(map(combine_metrics_for_one_assessment, tqdm(assessment_dir_paths))))"
   ]
  },
  {
   "cell_type": "code",
   "execution_count": 16,
   "id": "eb746631",
   "metadata": {
    "ExecuteTime": {
     "end_time": "2023-03-15T22:45:10.726496Z",
     "start_time": "2023-03-15T22:45:10.711637Z"
    }
   },
   "outputs": [
    {
     "data": {
      "text/html": [
       "<div>\n",
       "<style scoped>\n",
       "    .dataframe tbody tr th:only-of-type {\n",
       "        vertical-align: middle;\n",
       "    }\n",
       "\n",
       "    .dataframe tbody tr th {\n",
       "        vertical-align: top;\n",
       "    }\n",
       "\n",
       "    .dataframe thead th {\n",
       "        text-align: right;\n",
       "    }\n",
       "</style>\n",
       "<table border=\"1\" class=\"dataframe\">\n",
       "  <thead>\n",
       "    <tr style=\"text-align: right;\">\n",
       "      <th></th>\n",
       "      <th>total_accuracy.mean</th>\n",
       "      <th>total_accuracy.std</th>\n",
       "      <th>binary_water_acc.mean</th>\n",
       "      <th>binary_water_acc.std</th>\n",
       "      <th>acc_per_class.Not_Water.mean</th>\n",
       "      <th>acc_per_class.Not_Water.std</th>\n",
       "      <th>acc_per_class.Open_Surface_Water.mean</th>\n",
       "      <th>acc_per_class.Open_Surface_Water.std</th>\n",
       "      <th>acc_per_class.Partial_Surface_Water.mean</th>\n",
       "      <th>acc_per_class.Partial_Surface_Water.std</th>\n",
       "      <th>...</th>\n",
       "      <th>confusion_matrix.Open_Surface_Water_OPERA_DSWx.Open_Surface_Water_OPERA_Validation.mean</th>\n",
       "      <th>confusion_matrix.Open_Surface_Water_OPERA_DSWx.Open_Surface_Water_OPERA_Validation.std</th>\n",
       "      <th>confusion_matrix.Open_Surface_Water_OPERA_DSWx.Partial_Surface_Water_OPERA_Validation.mean</th>\n",
       "      <th>confusion_matrix.Open_Surface_Water_OPERA_DSWx.Partial_Surface_Water_OPERA_Validation.std</th>\n",
       "      <th>confusion_matrix.Partial_Surface_Water_OPERA_DSWx.Not_Water_OPERA_Validation.mean</th>\n",
       "      <th>confusion_matrix.Partial_Surface_Water_OPERA_DSWx.Not_Water_OPERA_Validation.std</th>\n",
       "      <th>confusion_matrix.Partial_Surface_Water_OPERA_DSWx.Open_Surface_Water_OPERA_Validation.mean</th>\n",
       "      <th>confusion_matrix.Partial_Surface_Water_OPERA_DSWx.Open_Surface_Water_OPERA_Validation.std</th>\n",
       "      <th>confusion_matrix.Partial_Surface_Water_OPERA_DSWx.Partial_Surface_Water_OPERA_Validation.mean</th>\n",
       "      <th>confusion_matrix.Partial_Surface_Water_OPERA_DSWx.Partial_Surface_Water_OPERA_Validation.std</th>\n",
       "    </tr>\n",
       "  </thead>\n",
       "  <tbody>\n",
       "    <tr>\n",
       "      <th>0</th>\n",
       "      <td>1.000000</td>\n",
       "      <td>0.000000</td>\n",
       "      <td>1.000000</td>\n",
       "      <td>0.000000</td>\n",
       "      <td>1.000000</td>\n",
       "      <td>0.000000</td>\n",
       "      <td>1.000000</td>\n",
       "      <td>0.000000</td>\n",
       "      <td>1.000000</td>\n",
       "      <td>0.000000</td>\n",
       "      <td>...</td>\n",
       "      <td>NaN</td>\n",
       "      <td>NaN</td>\n",
       "      <td>NaN</td>\n",
       "      <td>NaN</td>\n",
       "      <td>NaN</td>\n",
       "      <td>NaN</td>\n",
       "      <td>NaN</td>\n",
       "      <td>NaN</td>\n",
       "      <td>NaN</td>\n",
       "      <td>NaN</td>\n",
       "    </tr>\n",
       "    <tr>\n",
       "      <th>1</th>\n",
       "      <td>0.788244</td>\n",
       "      <td>0.012123</td>\n",
       "      <td>0.894371</td>\n",
       "      <td>0.009694</td>\n",
       "      <td>0.894371</td>\n",
       "      <td>0.009694</td>\n",
       "      <td>0.880679</td>\n",
       "      <td>0.010629</td>\n",
       "      <td>0.801437</td>\n",
       "      <td>0.011261</td>\n",
       "      <td>...</td>\n",
       "      <td>125.76</td>\n",
       "      <td>4.625620</td>\n",
       "      <td>18.50</td>\n",
       "      <td>2.496462</td>\n",
       "      <td>1.91</td>\n",
       "      <td>1.393310</td>\n",
       "      <td>34.67</td>\n",
       "      <td>4.410857</td>\n",
       "      <td>104.10</td>\n",
       "      <td>4.066369</td>\n",
       "    </tr>\n",
       "    <tr>\n",
       "      <th>2</th>\n",
       "      <td>0.721588</td>\n",
       "      <td>0.004837</td>\n",
       "      <td>0.985773</td>\n",
       "      <td>0.004775</td>\n",
       "      <td>0.985773</td>\n",
       "      <td>0.004775</td>\n",
       "      <td>0.733794</td>\n",
       "      <td>0.002070</td>\n",
       "      <td>0.723608</td>\n",
       "      <td>0.004619</td>\n",
       "      <td>...</td>\n",
       "      <td>166.20</td>\n",
       "      <td>0.876172</td>\n",
       "      <td>128.00</td>\n",
       "      <td>0.000000</td>\n",
       "      <td>4.92</td>\n",
       "      <td>2.205045</td>\n",
       "      <td>0.13</td>\n",
       "      <td>0.337998</td>\n",
       "      <td>22.00</td>\n",
       "      <td>0.000000</td>\n",
       "    </tr>\n",
       "    <tr>\n",
       "      <th>3</th>\n",
       "      <td>0.802475</td>\n",
       "      <td>0.016537</td>\n",
       "      <td>0.882495</td>\n",
       "      <td>0.012885</td>\n",
       "      <td>0.882495</td>\n",
       "      <td>0.012885</td>\n",
       "      <td>0.918623</td>\n",
       "      <td>0.010991</td>\n",
       "      <td>0.803832</td>\n",
       "      <td>0.016661</td>\n",
       "      <td>...</td>\n",
       "      <td>163.25</td>\n",
       "      <td>1.849788</td>\n",
       "      <td>36.41</td>\n",
       "      <td>4.946369</td>\n",
       "      <td>57.51</td>\n",
       "      <td>6.422019</td>\n",
       "      <td>3.68</td>\n",
       "      <td>1.836114</td>\n",
       "      <td>129.91</td>\n",
       "      <td>4.997161</td>\n",
       "    </tr>\n",
       "    <tr>\n",
       "      <th>4</th>\n",
       "      <td>0.791876</td>\n",
       "      <td>0.014094</td>\n",
       "      <td>0.842156</td>\n",
       "      <td>0.011631</td>\n",
       "      <td>0.842156</td>\n",
       "      <td>0.011631</td>\n",
       "      <td>0.947665</td>\n",
       "      <td>0.006906</td>\n",
       "      <td>0.793932</td>\n",
       "      <td>0.014026</td>\n",
       "      <td>...</td>\n",
       "      <td>140.78</td>\n",
       "      <td>3.459959</td>\n",
       "      <td>0.00</td>\n",
       "      <td>0.000000</td>\n",
       "      <td>0.37</td>\n",
       "      <td>0.661419</td>\n",
       "      <td>25.19</td>\n",
       "      <td>3.460294</td>\n",
       "      <td>89.32</td>\n",
       "      <td>5.672688</td>\n",
       "    </tr>\n",
       "  </tbody>\n",
       "</table>\n",
       "<p>5 rows × 54 columns</p>\n",
       "</div>"
      ],
      "text/plain": [
       "   total_accuracy.mean  total_accuracy.std  binary_water_acc.mean  \\\n",
       "0             1.000000            0.000000               1.000000   \n",
       "1             0.788244            0.012123               0.894371   \n",
       "2             0.721588            0.004837               0.985773   \n",
       "3             0.802475            0.016537               0.882495   \n",
       "4             0.791876            0.014094               0.842156   \n",
       "\n",
       "   binary_water_acc.std  acc_per_class.Not_Water.mean  \\\n",
       "0              0.000000                      1.000000   \n",
       "1              0.009694                      0.894371   \n",
       "2              0.004775                      0.985773   \n",
       "3              0.012885                      0.882495   \n",
       "4              0.011631                      0.842156   \n",
       "\n",
       "   acc_per_class.Not_Water.std  acc_per_class.Open_Surface_Water.mean  \\\n",
       "0                     0.000000                               1.000000   \n",
       "1                     0.009694                               0.880679   \n",
       "2                     0.004775                               0.733794   \n",
       "3                     0.012885                               0.918623   \n",
       "4                     0.011631                               0.947665   \n",
       "\n",
       "   acc_per_class.Open_Surface_Water.std  \\\n",
       "0                              0.000000   \n",
       "1                              0.010629   \n",
       "2                              0.002070   \n",
       "3                              0.010991   \n",
       "4                              0.006906   \n",
       "\n",
       "   acc_per_class.Partial_Surface_Water.mean  \\\n",
       "0                                  1.000000   \n",
       "1                                  0.801437   \n",
       "2                                  0.723608   \n",
       "3                                  0.803832   \n",
       "4                                  0.793932   \n",
       "\n",
       "   acc_per_class.Partial_Surface_Water.std  ...  \\\n",
       "0                                 0.000000  ...   \n",
       "1                                 0.011261  ...   \n",
       "2                                 0.004619  ...   \n",
       "3                                 0.016661  ...   \n",
       "4                                 0.014026  ...   \n",
       "\n",
       "   confusion_matrix.Open_Surface_Water_OPERA_DSWx.Open_Surface_Water_OPERA_Validation.mean  \\\n",
       "0                                                NaN                                         \n",
       "1                                             125.76                                         \n",
       "2                                             166.20                                         \n",
       "3                                             163.25                                         \n",
       "4                                             140.78                                         \n",
       "\n",
       "   confusion_matrix.Open_Surface_Water_OPERA_DSWx.Open_Surface_Water_OPERA_Validation.std  \\\n",
       "0                                                NaN                                        \n",
       "1                                           4.625620                                        \n",
       "2                                           0.876172                                        \n",
       "3                                           1.849788                                        \n",
       "4                                           3.459959                                        \n",
       "\n",
       "   confusion_matrix.Open_Surface_Water_OPERA_DSWx.Partial_Surface_Water_OPERA_Validation.mean  \\\n",
       "0                                                NaN                                            \n",
       "1                                              18.50                                            \n",
       "2                                             128.00                                            \n",
       "3                                              36.41                                            \n",
       "4                                               0.00                                            \n",
       "\n",
       "   confusion_matrix.Open_Surface_Water_OPERA_DSWx.Partial_Surface_Water_OPERA_Validation.std  \\\n",
       "0                                                NaN                                           \n",
       "1                                           2.496462                                           \n",
       "2                                           0.000000                                           \n",
       "3                                           4.946369                                           \n",
       "4                                           0.000000                                           \n",
       "\n",
       "   confusion_matrix.Partial_Surface_Water_OPERA_DSWx.Not_Water_OPERA_Validation.mean  \\\n",
       "0                                                NaN                                   \n",
       "1                                               1.91                                   \n",
       "2                                               4.92                                   \n",
       "3                                              57.51                                   \n",
       "4                                               0.37                                   \n",
       "\n",
       "   confusion_matrix.Partial_Surface_Water_OPERA_DSWx.Not_Water_OPERA_Validation.std  \\\n",
       "0                                                NaN                                  \n",
       "1                                           1.393310                                  \n",
       "2                                           2.205045                                  \n",
       "3                                           6.422019                                  \n",
       "4                                           0.661419                                  \n",
       "\n",
       "   confusion_matrix.Partial_Surface_Water_OPERA_DSWx.Open_Surface_Water_OPERA_Validation.mean  \\\n",
       "0                                                NaN                                            \n",
       "1                                              34.67                                            \n",
       "2                                               0.13                                            \n",
       "3                                               3.68                                            \n",
       "4                                              25.19                                            \n",
       "\n",
       "   confusion_matrix.Partial_Surface_Water_OPERA_DSWx.Open_Surface_Water_OPERA_Validation.std  \\\n",
       "0                                                NaN                                           \n",
       "1                                           4.410857                                           \n",
       "2                                           0.337998                                           \n",
       "3                                           1.836114                                           \n",
       "4                                           3.460294                                           \n",
       "\n",
       "   confusion_matrix.Partial_Surface_Water_OPERA_DSWx.Partial_Surface_Water_OPERA_Validation.mean  \\\n",
       "0                                                NaN                                               \n",
       "1                                             104.10                                               \n",
       "2                                              22.00                                               \n",
       "3                                             129.91                                               \n",
       "4                                              89.32                                               \n",
       "\n",
       "   confusion_matrix.Partial_Surface_Water_OPERA_DSWx.Partial_Surface_Water_OPERA_Validation.std  \n",
       "0                                                NaN                                             \n",
       "1                                           4.066369                                             \n",
       "2                                           0.000000                                             \n",
       "3                                           4.997161                                             \n",
       "4                                           5.672688                                             \n",
       "\n",
       "[5 rows x 54 columns]"
      ]
     },
     "execution_count": 16,
     "metadata": {},
     "output_type": "execute_result"
    }
   ],
   "source": [
    "dfs_metrics[0].head()"
   ]
  },
  {
   "cell_type": "code",
   "execution_count": 17,
   "id": "3988f3b1",
   "metadata": {
    "ExecuteTime": {
     "end_time": "2023-03-15T22:45:11.146417Z",
     "start_time": "2023-03-15T22:45:11.143276Z"
    }
   },
   "outputs": [
    {
     "data": {
      "text/plain": [
       "PosixPath('out/verification_stats_agg/100-trials_conf-geq-0_sample-from-val/metrics.csv')"
      ]
     },
     "execution_count": 17,
     "metadata": {},
     "output_type": "execute_result"
    }
   ],
   "source": [
    "out_paths[0]"
   ]
  },
  {
   "cell_type": "markdown",
   "id": "0a7b1877",
   "metadata": {},
   "source": [
    "# For presentations\n",
    "\n",
    "Aggregate all validation statistics for a particular set of validation runs"
   ]
  },
  {
   "cell_type": "code",
   "execution_count": 19,
   "id": "81df1765",
   "metadata": {
    "ExecuteTime": {
     "end_time": "2023-03-15T22:45:19.772527Z",
     "start_time": "2023-03-15T22:45:19.768856Z"
    }
   },
   "outputs": [
    {
     "data": {
      "text/plain": [
       "0"
      ]
     },
     "execution_count": 19,
     "metadata": {},
     "output_type": "execute_result"
    }
   ],
   "source": [
    "index = [k for k, out_path in enumerate(out_paths) if '100-trials_conf-geq-0_sample-from-val' in str(out_path)][0]\n",
    "index"
   ]
  },
  {
   "cell_type": "code",
   "execution_count": 20,
   "id": "bd764e6a",
   "metadata": {
    "ExecuteTime": {
     "end_time": "2023-03-15T22:45:20.777673Z",
     "start_time": "2023-03-15T22:45:20.775263Z"
    }
   },
   "outputs": [],
   "source": [
    "df_final = dfs_metrics[index]\n",
    "out_path_final = out_paths[index]"
   ]
  },
  {
   "cell_type": "code",
   "execution_count": 21,
   "id": "3b0b5c71",
   "metadata": {
    "ExecuteTime": {
     "end_time": "2023-03-15T22:45:21.185870Z",
     "start_time": "2023-03-15T22:45:21.183093Z"
    }
   },
   "outputs": [],
   "source": [
    "COLUMN_RENAME = {'total_accuracy.mean': 'Total Accuracy (All Classes)',\n",
    "                 'binary_water_acc.mean': 'Binary Accuarcy (OSW + PSW)',\n",
    "                 'precision.Open_Surface_Water.mean': 'Precision (OSW)',\n",
    "                 'acc_per_class.Open_Surface_Water.mean': 'Binary Accuracy (OSW)',\n",
    "                 'acc_per_class.Partial_Surface_Water.mean': 'Binary Accuracy (PSW)',\n",
    "                 'precision.Partial_Surface_Water.mean': 'Precision (PSW)',\n",
    "                 'recall.Open_Surface_Water.mean': 'Recall (OSW)',\n",
    "                 'recall.Partial_Surface_Water.mean': 'Recall (PSW)',\n",
    "                 #'supp_per_class.Open_Surface_Water.mean': 'Support (Val) (OSW)',\n",
    "                 #'supp_per_class.Partial_Surface_Water.mean': 'Support (Val) (PSW)',\n",
    "                 'f1_per_class.Open_Surface_Water.mean': 'F1 (OSW)',\n",
    "                 'f1_per_class.Partial_Surface_Water.mean': 'F1 (PSW)'}\n",
    "COLUMNS = list(COLUMN_RENAME.keys())"
   ]
  },
  {
   "cell_type": "code",
   "execution_count": 22,
   "id": "9843cac5",
   "metadata": {
    "ExecuteTime": {
     "end_time": "2023-03-15T22:45:21.646816Z",
     "start_time": "2023-03-15T22:45:21.615506Z"
    }
   },
   "outputs": [
    {
     "data": {
      "text/html": [
       "<div>\n",
       "<style scoped>\n",
       "    .dataframe tbody tr th:only-of-type {\n",
       "        vertical-align: middle;\n",
       "    }\n",
       "\n",
       "    .dataframe tbody tr th {\n",
       "        vertical-align: top;\n",
       "    }\n",
       "\n",
       "    .dataframe thead th {\n",
       "        text-align: right;\n",
       "    }\n",
       "</style>\n",
       "<table border=\"1\" class=\"dataframe\">\n",
       "  <thead>\n",
       "    <tr style=\"text-align: right;\">\n",
       "      <th></th>\n",
       "      <th></th>\n",
       "      <th>Mean</th>\n",
       "      <th>Median</th>\n",
       "      <th>St. Dev.</th>\n",
       "    </tr>\n",
       "    <tr>\n",
       "      <th>Class</th>\n",
       "      <th>Metric</th>\n",
       "      <th></th>\n",
       "      <th></th>\n",
       "      <th></th>\n",
       "    </tr>\n",
       "  </thead>\n",
       "  <tbody>\n",
       "    <tr>\n",
       "      <th>All</th>\n",
       "      <th>Total Accuracy  ($\\%$)</th>\n",
       "      <td>85.77</td>\n",
       "      <td>80.76</td>\n",
       "      <td>15.31</td>\n",
       "    </tr>\n",
       "    <tr>\n",
       "      <th>OSW + PSW</th>\n",
       "      <th>Binary Accuarcy  ($\\%$)</th>\n",
       "      <td>93.08</td>\n",
       "      <td>98.58</td>\n",
       "      <td>8.34</td>\n",
       "    </tr>\n",
       "    <tr>\n",
       "      <th rowspan=\"4\" valign=\"top\">OSW</th>\n",
       "      <th>Binary Accuracy  ($\\%$)</th>\n",
       "      <td>92.17</td>\n",
       "      <td>98.22</td>\n",
       "      <td>10.17</td>\n",
       "    </tr>\n",
       "    <tr>\n",
       "      <th>F1  ($\\%$)</th>\n",
       "      <td>86.09</td>\n",
       "      <td>97.28</td>\n",
       "      <td>21.72</td>\n",
       "    </tr>\n",
       "    <tr>\n",
       "      <th>Precision  ($\\%$)</th>\n",
       "      <td>92.47</td>\n",
       "      <td>100.0</td>\n",
       "      <td>13.2</td>\n",
       "    </tr>\n",
       "    <tr>\n",
       "      <th>Recall  ($\\%$)</th>\n",
       "      <td>87.07</td>\n",
       "      <td>99.91</td>\n",
       "      <td>25.85</td>\n",
       "    </tr>\n",
       "    <tr>\n",
       "      <th rowspan=\"4\" valign=\"top\">PSW</th>\n",
       "      <th>Binary Accuracy  ($\\%$)</th>\n",
       "      <td>86.29</td>\n",
       "      <td>82.76</td>\n",
       "      <td>14.67</td>\n",
       "    </tr>\n",
       "    <tr>\n",
       "      <th>F1  ($\\%$)</th>\n",
       "      <td>75.34</td>\n",
       "      <td>72.56</td>\n",
       "      <td>25.17</td>\n",
       "    </tr>\n",
       "    <tr>\n",
       "      <th>Precision  ($\\%$)</th>\n",
       "      <td>84.24</td>\n",
       "      <td>88.0</td>\n",
       "      <td>19.18</td>\n",
       "    </tr>\n",
       "    <tr>\n",
       "      <th>Recall  ($\\%$)</th>\n",
       "      <td>73.65</td>\n",
       "      <td>77.79</td>\n",
       "      <td>29.15</td>\n",
       "    </tr>\n",
       "  </tbody>\n",
       "</table>\n",
       "</div>"
      ],
      "text/plain": [
       "                                    Mean Median St. Dev.\n",
       "Class     Metric                                        \n",
       "All       Total Accuracy  ($\\%$)   85.77  80.76    15.31\n",
       "OSW + PSW Binary Accuarcy  ($\\%$)  93.08  98.58     8.34\n",
       "OSW       Binary Accuracy  ($\\%$)  92.17  98.22    10.17\n",
       "          F1  ($\\%$)               86.09  97.28    21.72\n",
       "          Precision  ($\\%$)        92.47  100.0     13.2\n",
       "          Recall  ($\\%$)           87.07  99.91    25.85\n",
       "PSW       Binary Accuracy  ($\\%$)  86.29  82.76    14.67\n",
       "          F1  ($\\%$)               75.34  72.56    25.17\n",
       "          Precision  ($\\%$)        84.24   88.0    19.18\n",
       "          Recall  ($\\%$)           73.65  77.79    29.15"
      ]
     },
     "execution_count": 22,
     "metadata": {},
     "output_type": "execute_result"
    }
   ],
   "source": [
    "df_temp = df_final[COLUMNS].agg(['mean', 'median', 'std'])\n",
    "df_temp.rename(columns=COLUMN_RENAME, inplace=True)\n",
    "\n",
    "cols_not_supp = [col for col in df_temp.columns if 'Support' not in col]\n",
    "df_temp[cols_not_supp] = df_temp[cols_not_supp] * 100\n",
    "\n",
    "df_f = df_temp.T\n",
    "df_f = df_f.round(2).astype(str)\n",
    "\n",
    "df_f = df_f.reset_index(drop=False)\n",
    "df_f = df_f.rename(columns={'index': 'Metric'})\n",
    "def class_labeler(metric):\n",
    "    if '(OSW + PSW)' in metric:\n",
    "        return 'OSW + PSW'\n",
    "    if 'OSW' in metric:\n",
    "        return 'OSW'\n",
    "    if 'PSW' in metric:\n",
    "        return 'PSW'\n",
    "    else:\n",
    "        return 'All'\n",
    "df_f['Class'] = df_f.Metric.map(class_labeler)\n",
    "\n",
    "lookup_order = {'All': 0, 'OSW + PSW': 1, 'OSW': 2, 'PSW': 3}\n",
    "df_f['Class_sort'] = df_f.Class.map(lambda c: lookup_order[c])\n",
    "\n",
    "df_f['Metric'] = df_f.Metric.map(lambda m: m.split('(')[0])\n",
    "df_f['Metric'] = df_f.Metric.map(lambda m: m + ' ($\\%$)' if 'Support' not in m else m)\n",
    "df_f.sort_values(by=['Class_sort', 'Metric'], inplace=True)\n",
    "df_f = df_f.set_index(['Class', 'Metric'])\n",
    "df_f.drop(columns=['Class_sort'], inplace=True)\n",
    "df_f.rename(columns={'mean': 'Mean', \n",
    "                     'std': 'St. Dev.', \n",
    "                     'median': 'Median'}, inplace=True)\n",
    "df_f"
   ]
  },
  {
   "cell_type": "code",
   "execution_count": 23,
   "id": "516ebbd8",
   "metadata": {
    "ExecuteTime": {
     "end_time": "2023-03-15T22:45:22.042916Z",
     "start_time": "2023-03-15T22:45:22.039173Z"
    }
   },
   "outputs": [
    {
     "data": {
      "text/plain": [
       "PosixPath('presentation_images/100-trials_conf-geq-0_sample-from-val')"
      ]
     },
     "execution_count": 23,
     "metadata": {},
     "output_type": "execute_result"
    }
   ],
   "source": [
    "presentation_dir = Path('presentation_images') / out_path_final.parent.name \n",
    "presentation_dir.mkdir(exist_ok=True, parents=True)\n",
    "presentation_dir"
   ]
  },
  {
   "cell_type": "code",
   "execution_count": 24,
   "id": "40cd4bc0",
   "metadata": {
    "ExecuteTime": {
     "end_time": "2023-03-15T22:45:22.869570Z",
     "start_time": "2023-03-15T22:45:22.479038Z"
    }
   },
   "outputs": [],
   "source": [
    "latex = df_f.style.to_latex(multirow_align='t', hrules=True)\n",
    "with open(presentation_dir / 'total_accuracy_for_all_validation.tex', 'w') as f:\n",
    "    f.write(latex)"
   ]
  },
  {
   "cell_type": "code",
   "execution_count": 25,
   "id": "d766de10",
   "metadata": {
    "ExecuteTime": {
     "end_time": "2023-03-15T22:45:23.185106Z",
     "start_time": "2023-03-15T22:45:23.182822Z"
    }
   },
   "outputs": [],
   "source": [
    "df_req = dfs_req[index]"
   ]
  },
  {
   "cell_type": "code",
   "execution_count": 26,
   "id": "27ea3ba9",
   "metadata": {
    "ExecuteTime": {
     "end_time": "2023-03-15T22:45:23.427518Z",
     "start_time": "2023-03-15T22:45:23.423064Z"
    }
   },
   "outputs": [
    {
     "data": {
      "text/plain": [
       "(15, 14, 14)"
      ]
     },
     "execution_count": 26,
     "metadata": {},
     "output_type": "execute_result"
    }
   ],
   "source": [
    "n_osw_passes = df_req.surface_water.sum()\n",
    "n_pws_passes = df_req.partial_surface_water.sum()\n",
    "n_both_pass = (df_req.surface_water & df_req.partial_surface_water).sum()\n",
    "n_pws_passes, n_osw_passes, n_both_pass"
   ]
  },
  {
   "cell_type": "code",
   "execution_count": 27,
   "id": "cffacf0b",
   "metadata": {
    "ExecuteTime": {
     "end_time": "2023-03-15T22:45:23.707898Z",
     "start_time": "2023-03-15T22:45:23.703574Z"
    }
   },
   "outputs": [
    {
     "data": {
      "text/plain": [
       "(3, 2, 14)"
      ]
     },
     "execution_count": 27,
     "metadata": {},
     "output_type": "execute_result"
    }
   ],
   "source": [
    "n_osw_fails = (~df_req.surface_water).sum()\n",
    "n_pws_fails = (~df_req.partial_surface_water).sum()\n",
    "n_both_fail = (~df_req.surface_water | ~df_req.partial_surface_water).sum()\n",
    "n_osw_fails, n_pws_fails, n_both_pass"
   ]
  },
  {
   "cell_type": "code",
   "execution_count": 28,
   "id": "8c1d5e15",
   "metadata": {
    "ExecuteTime": {
     "end_time": "2023-03-15T22:45:24.181922Z",
     "start_time": "2023-03-15T22:45:24.175158Z"
    }
   },
   "outputs": [
    {
     "data": {
      "text/html": [
       "<div>\n",
       "<style scoped>\n",
       "    .dataframe tbody tr th:only-of-type {\n",
       "        vertical-align: middle;\n",
       "    }\n",
       "\n",
       "    .dataframe tbody tr th {\n",
       "        vertical-align: top;\n",
       "    }\n",
       "\n",
       "    .dataframe thead th {\n",
       "        text-align: right;\n",
       "    }\n",
       "</style>\n",
       "<table border=\"1\" class=\"dataframe\">\n",
       "  <thead>\n",
       "    <tr style=\"text-align: right;\">\n",
       "      <th></th>\n",
       "      <th>Pass</th>\n",
       "      <th>Not Pass</th>\n",
       "    </tr>\n",
       "    <tr>\n",
       "      <th>Class</th>\n",
       "      <th></th>\n",
       "      <th></th>\n",
       "    </tr>\n",
       "  </thead>\n",
       "  <tbody>\n",
       "    <tr>\n",
       "      <th>Open Surface Water (OSW)</th>\n",
       "      <td>14</td>\n",
       "      <td>3</td>\n",
       "    </tr>\n",
       "    <tr>\n",
       "      <th>Partial Surface Water (PSW)</th>\n",
       "      <td>15</td>\n",
       "      <td>2</td>\n",
       "    </tr>\n",
       "    <tr>\n",
       "      <th>Both (OSW + PSW)</th>\n",
       "      <td>14</td>\n",
       "      <td>3</td>\n",
       "    </tr>\n",
       "  </tbody>\n",
       "</table>\n",
       "</div>"
      ],
      "text/plain": [
       "                             Pass  Not Pass\n",
       "Class                                      \n",
       "Open Surface Water (OSW)       14         3\n",
       "Partial Surface Water (PSW)    15         2\n",
       "Both (OSW + PSW)               14         3"
      ]
     },
     "execution_count": 28,
     "metadata": {},
     "output_type": "execute_result"
    }
   ],
   "source": [
    "df_passes = pd.DataFrame([{'Class': 'Open Surface Water (OSW)',\n",
    "                          'Pass': n_osw_passes,\n",
    "                          'Not Pass': n_osw_fails},\n",
    "                         {'Class': 'Partial Surface Water (PSW)',\n",
    "                          'Pass': n_pws_passes,\n",
    "                          'Not Pass': n_pws_fails},\n",
    "                         {'Class': 'Both (OSW + PSW)',\n",
    "                          'Pass': n_both_pass,\n",
    "                          'Not Pass': n_both_fail}])\n",
    "df_passes = df_passes.set_index('Class')\n",
    "df_passes"
   ]
  },
  {
   "cell_type": "code",
   "execution_count": 30,
   "id": "eaf5e6fa",
   "metadata": {
    "ExecuteTime": {
     "end_time": "2023-03-15T22:45:30.370977Z",
     "start_time": "2023-03-15T22:45:30.366753Z"
    }
   },
   "outputs": [],
   "source": [
    "latex = df_passes.style.to_latex(multirow_align='t', hrules=True)\n",
    "with open(presentation_dir / 'total_passes.tex', 'w') as f:\n",
    "    f.write(latex)"
   ]
  }
 ],
 "metadata": {
  "kernelspec": {
   "display_name": "dswx_val",
   "language": "python",
   "name": "dswx_val"
  },
  "language_info": {
   "codemirror_mode": {
    "name": "ipython",
    "version": 3
   },
   "file_extension": ".py",
   "mimetype": "text/x-python",
   "name": "python",
   "nbconvert_exporter": "python",
   "pygments_lexer": "ipython3",
   "version": "3.11.0"
  }
 },
 "nbformat": 4,
 "nbformat_minor": 5
}
