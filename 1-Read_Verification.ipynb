{
 "cells": [
  {
   "cell_type": "code",
   "execution_count": null,
   "id": "9c93a31e",
   "metadata": {},
   "outputs": [],
   "source": [
    "import json\n",
    "import pandas as pd\n",
    "from pathlib import Path\n",
    "from pandas import json_normalize\n",
    "from tqdm import tqdm"
   ]
  },
  {
   "cell_type": "code",
   "execution_count": null,
   "id": "2a61e1e9",
   "metadata": {},
   "outputs": [],
   "source": [
    "assessment_data = Path(f'out/assessment_data')\n",
    "assessment_data.exists()"
   ]
  },
  {
   "cell_type": "code",
   "execution_count": null,
   "id": "16ab6b10",
   "metadata": {},
   "outputs": [],
   "source": [
    "assessment_dir_paths = list(assessment_data.glob('*/'))\n",
    "assessment_dir_paths"
   ]
  },
  {
   "cell_type": "code",
   "execution_count": null,
   "id": "8119f635",
   "metadata": {},
   "outputs": [],
   "source": [
    "def get_dswx_ids(assessment_dir) -> list:\n",
    "    dswx_verification_paths = list(assessment_dir.glob('*/'))\n",
    "    dswx_ids = [path.name for path in dswx_verification_paths]\n",
    "    # Remove DSWx paths\n",
    "    dswx_ids = list(filter(lambda dswx_id: '.' != dswx_id[0], dswx_ids))\n",
    "    return dswx_ids\n",
    "\n",
    "\n",
    "def combine_requirement_verification_for_one_assessment(assessment_dir_path):\n",
    "    out_dir = Path(f'out/verification_stats_agg/{assessment_dir_path.name}')\n",
    "    out_dir.mkdir(exist_ok=True, parents=True)\n",
    "    \n",
    "    \n",
    "    dswx_ids = get_dswx_ids(assessment_dir_path)\n",
    "    \n",
    "    def read_one_requirements_json(dswx_id):\n",
    "        path = assessment_dir_path / dswx_id / f'requirement_verification_{dswx_id}.json'\n",
    "        data = json.load(open(path))\n",
    "        return data\n",
    "    \n",
    "    data = list(map(read_one_requirements_json, dswx_ids))\n",
    "    df = pd.DataFrame(data)\n",
    "    \n",
    "    cols = ['surface_water','partial_surface_water']\n",
    "    df[cols + ['dswx_id']].groupby(cols).count()\n",
    "    \n",
    "    out_path = out_dir / 'verification_results.csv'\n",
    "    df.to_csv(out_path, index=False)\n",
    "    \n",
    "    return df, out_path"
   ]
  },
  {
   "cell_type": "code",
   "execution_count": null,
   "id": "d42323cf",
   "metadata": {},
   "outputs": [],
   "source": [
    "dfs, out_paths = zip(*list(map(combine_requirement_verification_for_one_assessment, tqdm(assessment_dir_paths))))"
   ]
  },
  {
   "cell_type": "code",
   "execution_count": null,
   "id": "6123d221",
   "metadata": {},
   "outputs": [],
   "source": [
    "dfs[0]"
   ]
  },
  {
   "cell_type": "code",
   "execution_count": null,
   "id": "6d7fc549",
   "metadata": {},
   "outputs": [],
   "source": [
    "out_paths[0]"
   ]
  },
  {
   "cell_type": "markdown",
   "id": "f3c87890",
   "metadata": {},
   "source": [
    "# Additional Metrics"
   ]
  },
  {
   "cell_type": "code",
   "execution_count": null,
   "id": "fec3acb7",
   "metadata": {},
   "outputs": [],
   "source": [
    "def combine_metrics_for_one_assessment(assessment_dir_path):\n",
    "    out_dir = Path(f'out/verification_stats_agg/{assessment_dir_path.name}')\n",
    "    \n",
    "    def read_one_assessment(dswx_id):\n",
    "        path = assessment_dir_path / dswx_id / f'stats_{dswx_id}.json'\n",
    "        data = pd.DataFrame(pd.json_normalize(json.load(open(path))))\n",
    "        return data\n",
    "    \n",
    "    dswx_ids = get_dswx_ids(assessment_dir_path)\n",
    "    \n",
    "    data_assessments = list(map(read_one_assessment, dswx_ids))\n",
    "    df_metrics = pd.concat(data_assessments, axis=0).reset_index(drop=True)\n",
    "    df_metrics.to_csv(out_dir / 'metrics.csv', index=False)\n",
    "    out_path = out_dir / 'metrics.csv'\n",
    "    df_metrics.to_csv(out_path, index=False)\n",
    "    return df_metrics, out_path"
   ]
  },
  {
   "cell_type": "code",
   "execution_count": null,
   "id": "19013f4a",
   "metadata": {},
   "outputs": [],
   "source": [
    "dfs, out_paths = zip(*list(map(combine_metrics_for_one_assessment, tqdm(assessment_dir_paths))))"
   ]
  },
  {
   "cell_type": "code",
   "execution_count": null,
   "id": "3edc56f7",
   "metadata": {},
   "outputs": [],
   "source": [
    "dfs[0]"
   ]
  },
  {
   "cell_type": "code",
   "execution_count": null,
   "id": "eba3417f",
   "metadata": {},
   "outputs": [],
   "source": [
    "out_paths[0]"
   ]
  }
 ],
 "metadata": {
  "kernelspec": {
   "display_name": "dswx_val",
   "language": "python",
   "name": "dswx_val"
  },
  "language_info": {
   "codemirror_mode": {
    "name": "ipython",
    "version": 3
   },
   "file_extension": ".py",
   "mimetype": "text/x-python",
   "name": "python",
   "nbconvert_exporter": "python",
   "pygments_lexer": "ipython3",
   "version": "3.11.0"
  }
 },
 "nbformat": 4,
 "nbformat_minor": 5
}
