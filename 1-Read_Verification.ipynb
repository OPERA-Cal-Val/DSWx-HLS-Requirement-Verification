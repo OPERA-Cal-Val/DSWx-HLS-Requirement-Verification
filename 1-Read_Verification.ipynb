{
 "cells": [
  {
   "cell_type": "code",
   "execution_count": null,
   "id": "auburn-collectible",
   "metadata": {},
   "outputs": [],
   "source": [
    "import json\n",
    "import pandas as pd\n",
    "from pathlib import Path"
   ]
  },
  {
   "cell_type": "code",
   "execution_count": null,
   "id": "determined-apartment",
   "metadata": {},
   "outputs": [],
   "source": [
    "verification_dir = Path('verification_assessment_data/')\n",
    "dswx_verification_paths = list(verification_dir.glob('*/'))\n",
    "dswx_ids = [path.name for path in dswx_verification_paths]\n",
    "dswx_ids[:4]"
   ]
  },
  {
   "cell_type": "code",
   "execution_count": null,
   "id": "thrown-schedule",
   "metadata": {},
   "outputs": [],
   "source": [
    "def read_one(dswx_id):\n",
    "    path = verification_dir / dswx_id / f'requirement_verification_{dswx_id}.json'\n",
    "    data = json.load(open(path))\n",
    "    return data"
   ]
  },
  {
   "cell_type": "code",
   "execution_count": null,
   "id": "partial-comparison",
   "metadata": {},
   "outputs": [],
   "source": [
    "data = list(map(read_one, dswx_ids))"
   ]
  },
  {
   "cell_type": "code",
   "execution_count": null,
   "id": "ordered-auction",
   "metadata": {},
   "outputs": [],
   "source": [
    "df = pd.DataFrame(data)\n",
    "df.head()"
   ]
  },
  {
   "cell_type": "code",
   "execution_count": null,
   "id": "broad-namibia",
   "metadata": {},
   "outputs": [],
   "source": [
    "cols = ['surface_water','partial_surface_water']\n",
    "df[cols + ['dswx_id']].groupby(cols).count()"
   ]
  },
  {
   "cell_type": "code",
   "execution_count": null,
   "id": "civic-purchase",
   "metadata": {},
   "outputs": [],
   "source": [
    "df.to_csv('verification_results.csv', index=False)"
   ]
  }
 ],
 "metadata": {
  "kernelspec": {
   "display_name": "dswx_val",
   "language": "python",
   "name": "dswx_val"
  },
  "language_info": {
   "codemirror_mode": {
    "name": "ipython",
    "version": 3
   },
   "file_extension": ".py",
   "mimetype": "text/x-python",
   "name": "python",
   "nbconvert_exporter": "python",
   "pygments_lexer": "ipython3"
  }
 },
 "nbformat": 4,
 "nbformat_minor": 5
}
