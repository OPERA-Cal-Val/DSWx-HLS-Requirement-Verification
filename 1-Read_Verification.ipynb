{
 "cells": [
  {
   "cell_type": "code",
   "execution_count": null,
   "id": "leading-portfolio",
   "metadata": {},
   "outputs": [],
   "source": [
    "import json\n",
    "import pandas as pd\n",
    "from pathlib import Path"
   ]
  },
  {
   "cell_type": "code",
   "execution_count": null,
   "id": "australian-delight",
   "metadata": {},
   "outputs": [],
   "source": [
    "out_dir = Path('verification_stats_agg')\n",
    "out_dir.mkdir(exist_ok=True)"
   ]
  },
  {
   "cell_type": "code",
   "execution_count": null,
   "id": "cognitive-residence",
   "metadata": {},
   "outputs": [],
   "source": [
    "verification_dir = Path('verification_assessment_data/')\n",
    "dswx_verification_paths = list(verification_dir.glob('*/'))\n",
    "dswx_ids = [path.name for path in dswx_verification_paths]\n",
    "dswx_ids[:4]"
   ]
  },
  {
   "cell_type": "code",
   "execution_count": null,
   "id": "compound-jones",
   "metadata": {},
   "outputs": [],
   "source": [
    "def read_one(dswx_id):\n",
    "    path = verification_dir / dswx_id / f'requirement_verification_{dswx_id}.json'\n",
    "    data = json.load(open(path))\n",
    "    return data"
   ]
  },
  {
   "cell_type": "code",
   "execution_count": null,
   "id": "billion-modeling",
   "metadata": {},
   "outputs": [],
   "source": [
    "data = list(map(read_one, dswx_ids))"
   ]
  },
  {
   "cell_type": "code",
   "execution_count": null,
   "id": "warming-presence",
   "metadata": {},
   "outputs": [],
   "source": [
    "df = pd.DataFrame(data)\n",
    "df.head()"
   ]
  },
  {
   "cell_type": "code",
   "execution_count": null,
   "id": "persistent-bibliography",
   "metadata": {},
   "outputs": [],
   "source": [
    "cols = ['surface_water','partial_surface_water']\n",
    "df[cols + ['dswx_id']].groupby(cols).count()"
   ]
  },
  {
   "cell_type": "code",
   "execution_count": null,
   "id": "worse-respect",
   "metadata": {},
   "outputs": [],
   "source": [
    "df.to_csv(out_dir / 'verification_results.csv', index=False)"
   ]
  },
  {
   "cell_type": "markdown",
   "id": "occupied-lesson",
   "metadata": {},
   "source": [
    "# Additional Metrics"
   ]
  },
  {
   "cell_type": "code",
   "execution_count": null,
   "id": "mexican-computer",
   "metadata": {},
   "outputs": [],
   "source": [
    "def read_one_assessment(dswx_id):\n",
    "    path = verification_dir / dswx_id / f'assessment_{dswx_id}.json'\n",
    "    data = json.load(open(path))\n",
    "    return data"
   ]
  },
  {
   "cell_type": "code",
   "execution_count": null,
   "id": "paperback-appendix",
   "metadata": {},
   "outputs": [],
   "source": [
    "data_assessment = list(map(read_one_assessment, dswx_ids))"
   ]
  },
  {
   "cell_type": "code",
   "execution_count": null,
   "id": "minor-syracuse",
   "metadata": {},
   "outputs": [],
   "source": [
    "from pandas import json_normalize\n",
    "\n",
    "df_assessment = json_normalize(data_assessment)\n",
    "df_assessment.head()"
   ]
  },
  {
   "cell_type": "code",
   "execution_count": null,
   "id": "hidden-sensitivity",
   "metadata": {},
   "outputs": [],
   "source": [
    "df_assessment.to_csv(out_dir / 'metrics.csv', index=False)"
   ]
  }
 ],
 "metadata": {
  "kernelspec": {
   "display_name": "dswx_val",
   "language": "python",
   "name": "dswx_val"
  },
  "language_info": {
   "codemirror_mode": {
    "name": "ipython",
    "version": 3
   },
   "file_extension": ".py",
   "mimetype": "text/x-python",
   "name": "python",
   "nbconvert_exporter": "python",
   "pygments_lexer": "ipython3"
  }
 },
 "nbformat": 4,
 "nbformat_minor": 5
}
