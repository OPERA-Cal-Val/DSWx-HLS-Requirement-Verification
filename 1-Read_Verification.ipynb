{
 "cells": [
  {
   "cell_type": "code",
   "execution_count": null,
   "id": "adjacent-franchise",
   "metadata": {},
   "outputs": [],
   "source": [
    "import json\n",
    "import pandas as pd\n",
    "from pathlib import Path\n",
    "from pandas import json_normalize"
   ]
  },
  {
   "cell_type": "code",
   "execution_count": null,
   "id": "funded-caribbean",
   "metadata": {},
   "outputs": [],
   "source": [
    "out_dir = Path('verification_stats_agg')\n",
    "out_dir.mkdir(exist_ok=True)"
   ]
  },
  {
   "cell_type": "code",
   "execution_count": null,
   "id": "unknown-national",
   "metadata": {},
   "outputs": [],
   "source": [
    "verification_dir = Path('verification_assessment_data/')\n",
    "dswx_verification_paths = list(verification_dir.glob('*/'))\n",
    "dswx_ids = [path.name for path in dswx_verification_paths]\n",
    "# Remove DSWx paths\n",
    "dswx_ids = list(filter(lambda dswx_id: '.' != dswx_id[0], dswx_ids))\n",
    "dswx_ids[:4]"
   ]
  },
  {
   "cell_type": "code",
   "execution_count": null,
   "id": "built-sussex",
   "metadata": {},
   "outputs": [],
   "source": [
    "def read_one_requirements_json(dswx_id):\n",
    "    path = verification_dir / dswx_id / f'requirement_verification_{dswx_id}.json'\n",
    "    data = json.load(open(path))\n",
    "    return data"
   ]
  },
  {
   "cell_type": "code",
   "execution_count": null,
   "id": "exceptional-vision",
   "metadata": {},
   "outputs": [],
   "source": [
    "data = list(map(read_one_requirements_json, dswx_ids))"
   ]
  },
  {
   "cell_type": "code",
   "execution_count": null,
   "id": "electrical-disclosure",
   "metadata": {},
   "outputs": [],
   "source": [
    "df = pd.DataFrame(data)\n",
    "df.head()"
   ]
  },
  {
   "cell_type": "code",
   "execution_count": null,
   "id": "hourly-addiction",
   "metadata": {},
   "outputs": [],
   "source": [
    "cols = ['surface_water','partial_surface_water']\n",
    "df[cols + ['dswx_id']].groupby(cols).count()"
   ]
  },
  {
   "cell_type": "code",
   "execution_count": null,
   "id": "expired-understanding",
   "metadata": {},
   "outputs": [],
   "source": [
    "df.to_csv(out_dir / 'verification_results.csv', index=False)"
   ]
  },
  {
   "cell_type": "markdown",
   "id": "obvious-textbook",
   "metadata": {},
   "source": [
    "# Additional Metrics"
   ]
  },
  {
   "cell_type": "code",
   "execution_count": null,
   "id": "israeli-anchor",
   "metadata": {},
   "outputs": [],
   "source": [
    "def read_one_assessment(dswx_id):\n",
    "    path = verification_dir / dswx_id / f'assessment_{dswx_id}.json'\n",
    "    data = json.load(open(path))\n",
    "    return data"
   ]
  },
  {
   "cell_type": "code",
   "execution_count": null,
   "id": "ordered-expansion",
   "metadata": {},
   "outputs": [],
   "source": [
    "data_assessment = list(map(read_one_assessment, dswx_ids))"
   ]
  },
  {
   "cell_type": "code",
   "execution_count": null,
   "id": "opponent-custom",
   "metadata": {},
   "outputs": [],
   "source": [
    "df_assessment = json_normalize(data_assessment)\n",
    "df_assessment.head()"
   ]
  },
  {
   "cell_type": "code",
   "execution_count": null,
   "id": "seven-tobacco",
   "metadata": {},
   "outputs": [],
   "source": [
    "df_assessment.to_csv(out_dir / 'metrics.csv', index=False)"
   ]
  }
 ],
 "metadata": {
  "kernelspec": {
   "display_name": "dswx_val",
   "language": "python",
   "name": "dswx_val"
  },
  "language_info": {
   "codemirror_mode": {
    "name": "ipython",
    "version": 3
   },
   "file_extension": ".py",
   "mimetype": "text/x-python",
   "name": "python",
   "nbconvert_exporter": "python",
   "pygments_lexer": "ipython3"
  }
 },
 "nbformat": 4,
 "nbformat_minor": 5
}
