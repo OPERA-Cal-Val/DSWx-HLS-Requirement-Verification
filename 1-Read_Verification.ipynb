{
 "cells": [
  {
   "cell_type": "code",
   "execution_count": 3,
   "id": "75767453",
   "metadata": {
    "ExecuteTime": {
     "end_time": "2023-03-20T18:10:55.653408Z",
     "start_time": "2023-03-20T18:10:55.650828Z"
    }
   },
   "outputs": [],
   "source": [
    "import json\n",
    "import pandas as pd\n",
    "from pathlib import Path\n",
    "from pandas import json_normalize\n",
    "from tqdm import tqdm"
   ]
  },
  {
   "cell_type": "code",
   "execution_count": 4,
   "id": "62f82d58",
   "metadata": {
    "ExecuteTime": {
     "end_time": "2023-03-20T18:10:55.919685Z",
     "start_time": "2023-03-20T18:10:55.914499Z"
    }
   },
   "outputs": [
    {
     "data": {
      "text/plain": [
       "True"
      ]
     },
     "execution_count": 4,
     "metadata": {},
     "output_type": "execute_result"
    }
   ],
   "source": [
    "assessment_data = Path(f'out/assessment_data')\n",
    "assessment_data.exists()"
   ]
  },
  {
   "cell_type": "code",
   "execution_count": 5,
   "id": "5bdae1ba",
   "metadata": {
    "ExecuteTime": {
     "end_time": "2023-03-20T18:10:56.158988Z",
     "start_time": "2023-03-20T18:10:56.154616Z"
    }
   },
   "outputs": [
    {
     "data": {
      "text/plain": [
       "[PosixPath('out/assessment_data/100-trials_conf-classes-none_sample-from-val')]"
      ]
     },
     "execution_count": 5,
     "metadata": {},
     "output_type": "execute_result"
    }
   ],
   "source": [
    "assessment_dir_paths = list(assessment_data.glob('*/'))\n",
    "assessment_dir_paths = list(filter(lambda x: '.DS_Store' not in x.name, assessment_dir_paths))\n",
    "assessment_dir_paths"
   ]
  },
  {
   "cell_type": "code",
   "execution_count": 6,
   "id": "36ea7d96",
   "metadata": {
    "ExecuteTime": {
     "end_time": "2023-03-20T18:10:56.399235Z",
     "start_time": "2023-03-20T18:10:56.394499Z"
    }
   },
   "outputs": [],
   "source": [
    "def get_dswx_ids(assessment_dir) -> list:\n",
    "    dswx_verification_paths = list(assessment_dir.glob('*/'))\n",
    "    dswx_ids = [path.name for path in dswx_verification_paths]\n",
    "    # Remove DSWx paths\n",
    "    dswx_ids = list(filter(lambda dswx_id: '.' != dswx_id[0], dswx_ids))\n",
    "    return dswx_ids\n",
    "\n",
    "\n",
    "def combine_requirement_verification_for_one_assessment(assessment_dir_path):\n",
    "    out_dir = Path(f'out/verification_stats_agg/{assessment_dir_path.name}')\n",
    "    out_dir.mkdir(exist_ok=True, parents=True)\n",
    "    \n",
    "    dswx_ids = get_dswx_ids(assessment_dir_path)\n",
    "    \n",
    "    def read_one_requirements_json(dswx_id):\n",
    "        path = assessment_dir_path / dswx_id / f'requirement_verification_{dswx_id}.json'\n",
    "        data = json.load(open(path))\n",
    "        return data\n",
    "    \n",
    "    data = list(map(read_one_requirements_json, dswx_ids))\n",
    "    df = pd.DataFrame(data)\n",
    "    cols = ['surface_water','partial_surface_water']\n",
    "    df[cols + ['dswx_id']].groupby(cols).count()\n",
    "    \n",
    "    out_path = out_dir / 'verification_results.csv'\n",
    "    df.to_csv(out_path, index=False)\n",
    "    \n",
    "    return df, out_path"
   ]
  },
  {
   "cell_type": "code",
   "execution_count": 7,
   "id": "10a40071",
   "metadata": {
    "ExecuteTime": {
     "end_time": "2023-03-20T18:10:56.713418Z",
     "start_time": "2023-03-20T18:10:56.683290Z"
    }
   },
   "outputs": [
    {
     "name": "stderr",
     "output_type": "stream",
     "text": [
      "100%|██████████████████████████████████| 1/1 [00:00<00:00, 100.01it/s]\n"
     ]
    }
   ],
   "source": [
    "dfs_req, out_paths = zip(*list(map(combine_requirement_verification_for_one_assessment, tqdm(assessment_dir_paths))))"
   ]
  },
  {
   "cell_type": "code",
   "execution_count": 8,
   "id": "743f2eb8",
   "metadata": {
    "ExecuteTime": {
     "end_time": "2023-03-20T18:10:57.057878Z",
     "start_time": "2023-03-20T18:10:57.043361Z"
    }
   },
   "outputs": [
    {
     "data": {
      "text/html": [
       "<div>\n",
       "<style scoped>\n",
       "    .dataframe tbody tr th:only-of-type {\n",
       "        vertical-align: middle;\n",
       "    }\n",
       "\n",
       "    .dataframe tbody tr th {\n",
       "        vertical-align: top;\n",
       "    }\n",
       "\n",
       "    .dataframe thead th {\n",
       "        text-align: right;\n",
       "    }\n",
       "</style>\n",
       "<table border=\"1\" class=\"dataframe\">\n",
       "  <thead>\n",
       "    <tr style=\"text-align: right;\">\n",
       "      <th></th>\n",
       "      <th>dswx_id</th>\n",
       "      <th>surface_water</th>\n",
       "      <th>partial_surface_water</th>\n",
       "      <th>dswx-WTR</th>\n",
       "      <th>dswx-BWTR</th>\n",
       "      <th>dswx-CONF</th>\n",
       "      <th>dswx-DIAG</th>\n",
       "      <th>dswx-WTR-1</th>\n",
       "      <th>dswx-WTR-2</th>\n",
       "      <th>dswx-LAND</th>\n",
       "      <th>...</th>\n",
       "      <th>hls_url_B04</th>\n",
       "      <th>hls_url_B05</th>\n",
       "      <th>hls_url_B06</th>\n",
       "      <th>hls_url_B07</th>\n",
       "      <th>hls_url_B08</th>\n",
       "      <th>hls_url_B09</th>\n",
       "      <th>hls_url_B10</th>\n",
       "      <th>hls_url_B11</th>\n",
       "      <th>hls_url_B12</th>\n",
       "      <th>hls_url_Fmask</th>\n",
       "    </tr>\n",
       "  </thead>\n",
       "  <tbody>\n",
       "    <tr>\n",
       "      <th>0</th>\n",
       "      <td>OPERA_L3_DSWx-HLS_T15QYU_20211011T162221Z_2023...</td>\n",
       "      <td>True</td>\n",
       "      <td>True</td>\n",
       "      <td>https://opera-pst-rs-pop1.s3.us-west-2.amazona...</td>\n",
       "      <td>https://opera-pst-rs-pop1.s3.us-west-2.amazona...</td>\n",
       "      <td>https://opera-pst-rs-pop1.s3.us-west-2.amazona...</td>\n",
       "      <td>https://opera-pst-rs-pop1.s3.us-west-2.amazona...</td>\n",
       "      <td>https://opera-pst-rs-pop1.s3.us-west-2.amazona...</td>\n",
       "      <td>https://opera-pst-rs-pop1.s3.us-west-2.amazona...</td>\n",
       "      <td>https://opera-pst-rs-pop1.s3.us-west-2.amazona...</td>\n",
       "      <td>...</td>\n",
       "      <td>https://data.lpdaac.earthdatacloud.nasa.gov/lp...</td>\n",
       "      <td>https://data.lpdaac.earthdatacloud.nasa.gov/lp...</td>\n",
       "      <td>https://data.lpdaac.earthdatacloud.nasa.gov/lp...</td>\n",
       "      <td>https://data.lpdaac.earthdatacloud.nasa.gov/lp...</td>\n",
       "      <td>https://data.lpdaac.earthdatacloud.nasa.gov/lp...</td>\n",
       "      <td>https://data.lpdaac.earthdatacloud.nasa.gov/lp...</td>\n",
       "      <td>https://data.lpdaac.earthdatacloud.nasa.gov/lp...</td>\n",
       "      <td>https://data.lpdaac.earthdatacloud.nasa.gov/lp...</td>\n",
       "      <td>https://data.lpdaac.earthdatacloud.nasa.gov/lp...</td>\n",
       "      <td>https://data.lpdaac.earthdatacloud.nasa.gov/lp...</td>\n",
       "    </tr>\n",
       "  </tbody>\n",
       "</table>\n",
       "<p>1 rows × 29 columns</p>\n",
       "</div>"
      ],
      "text/plain": [
       "                                             dswx_id  surface_water  \\\n",
       "0  OPERA_L3_DSWx-HLS_T15QYU_20211011T162221Z_2023...           True   \n",
       "\n",
       "   partial_surface_water                                           dswx-WTR  \\\n",
       "0                   True  https://opera-pst-rs-pop1.s3.us-west-2.amazona...   \n",
       "\n",
       "                                           dswx-BWTR  \\\n",
       "0  https://opera-pst-rs-pop1.s3.us-west-2.amazona...   \n",
       "\n",
       "                                           dswx-CONF  \\\n",
       "0  https://opera-pst-rs-pop1.s3.us-west-2.amazona...   \n",
       "\n",
       "                                           dswx-DIAG  \\\n",
       "0  https://opera-pst-rs-pop1.s3.us-west-2.amazona...   \n",
       "\n",
       "                                          dswx-WTR-1  \\\n",
       "0  https://opera-pst-rs-pop1.s3.us-west-2.amazona...   \n",
       "\n",
       "                                          dswx-WTR-2  \\\n",
       "0  https://opera-pst-rs-pop1.s3.us-west-2.amazona...   \n",
       "\n",
       "                                           dswx-LAND  ...  \\\n",
       "0  https://opera-pst-rs-pop1.s3.us-west-2.amazona...  ...   \n",
       "\n",
       "                                         hls_url_B04  \\\n",
       "0  https://data.lpdaac.earthdatacloud.nasa.gov/lp...   \n",
       "\n",
       "                                         hls_url_B05  \\\n",
       "0  https://data.lpdaac.earthdatacloud.nasa.gov/lp...   \n",
       "\n",
       "                                         hls_url_B06  \\\n",
       "0  https://data.lpdaac.earthdatacloud.nasa.gov/lp...   \n",
       "\n",
       "                                         hls_url_B07  \\\n",
       "0  https://data.lpdaac.earthdatacloud.nasa.gov/lp...   \n",
       "\n",
       "                                         hls_url_B08  \\\n",
       "0  https://data.lpdaac.earthdatacloud.nasa.gov/lp...   \n",
       "\n",
       "                                         hls_url_B09  \\\n",
       "0  https://data.lpdaac.earthdatacloud.nasa.gov/lp...   \n",
       "\n",
       "                                         hls_url_B10  \\\n",
       "0  https://data.lpdaac.earthdatacloud.nasa.gov/lp...   \n",
       "\n",
       "                                         hls_url_B11  \\\n",
       "0  https://data.lpdaac.earthdatacloud.nasa.gov/lp...   \n",
       "\n",
       "                                         hls_url_B12  \\\n",
       "0  https://data.lpdaac.earthdatacloud.nasa.gov/lp...   \n",
       "\n",
       "                                       hls_url_Fmask  \n",
       "0  https://data.lpdaac.earthdatacloud.nasa.gov/lp...  \n",
       "\n",
       "[1 rows x 29 columns]"
      ]
     },
     "execution_count": 8,
     "metadata": {},
     "output_type": "execute_result"
    }
   ],
   "source": [
    "dfs_req[0].head()"
   ]
  },
  {
   "cell_type": "code",
   "execution_count": 9,
   "id": "90245bf3",
   "metadata": {
    "ExecuteTime": {
     "end_time": "2023-03-20T18:10:57.341855Z",
     "start_time": "2023-03-20T18:10:57.338318Z"
    }
   },
   "outputs": [
    {
     "data": {
      "text/plain": [
       "PosixPath('out/verification_stats_agg/100-trials_conf-classes-none_sample-from-val/verification_results.csv')"
      ]
     },
     "execution_count": 9,
     "metadata": {},
     "output_type": "execute_result"
    }
   ],
   "source": [
    "out_paths[0]"
   ]
  },
  {
   "cell_type": "markdown",
   "id": "c350e8ea",
   "metadata": {},
   "source": [
    "# Additional Metrics"
   ]
  },
  {
   "cell_type": "code",
   "execution_count": 10,
   "id": "38900436",
   "metadata": {
    "ExecuteTime": {
     "end_time": "2023-03-20T18:10:58.421856Z",
     "start_time": "2023-03-20T18:10:58.418153Z"
    }
   },
   "outputs": [],
   "source": [
    "def combine_metrics_for_one_assessment(assessment_dir_path):\n",
    "    out_dir = Path(f'out/verification_stats_agg/{assessment_dir_path.name}')\n",
    "    \n",
    "    def read_one_assessment(dswx_id):\n",
    "        path = assessment_dir_path / dswx_id / f'stats_{dswx_id}.json'\n",
    "        data = pd.DataFrame(pd.json_normalize(json.load(open(path))))\n",
    "        return data\n",
    "    \n",
    "    dswx_ids = get_dswx_ids(assessment_dir_path)\n",
    "    \n",
    "    data_assessments = list(map(read_one_assessment, dswx_ids))\n",
    "    df_metrics = pd.concat(data_assessments, axis=0).reset_index(drop=True)\n",
    "    df_metrics.to_csv(out_dir / 'metrics.csv', index=False)\n",
    "    out_path = out_dir / 'metrics.csv'\n",
    "    df_metrics.to_csv(out_path, index=False)\n",
    "    return df_metrics, out_path"
   ]
  },
  {
   "cell_type": "code",
   "execution_count": 11,
   "id": "25f1af6f",
   "metadata": {
    "ExecuteTime": {
     "end_time": "2023-03-20T18:10:58.787089Z",
     "start_time": "2023-03-20T18:10:58.778452Z"
    }
   },
   "outputs": [
    {
     "name": "stderr",
     "output_type": "stream",
     "text": [
      "100%|██████████████████████████████████| 1/1 [00:00<00:00, 225.27it/s]\n"
     ]
    }
   ],
   "source": [
    "dfs_metrics, out_paths = zip(*list(map(combine_metrics_for_one_assessment, tqdm(assessment_dir_paths))))"
   ]
  },
  {
   "cell_type": "code",
   "execution_count": 12,
   "id": "eb746631",
   "metadata": {
    "ExecuteTime": {
     "end_time": "2023-03-20T18:10:59.423844Z",
     "start_time": "2023-03-20T18:10:59.410571Z"
    }
   },
   "outputs": [
    {
     "data": {
      "text/html": [
       "<div>\n",
       "<style scoped>\n",
       "    .dataframe tbody tr th:only-of-type {\n",
       "        vertical-align: middle;\n",
       "    }\n",
       "\n",
       "    .dataframe tbody tr th {\n",
       "        vertical-align: top;\n",
       "    }\n",
       "\n",
       "    .dataframe thead th {\n",
       "        text-align: right;\n",
       "    }\n",
       "</style>\n",
       "<table border=\"1\" class=\"dataframe\">\n",
       "  <thead>\n",
       "    <tr style=\"text-align: right;\">\n",
       "      <th></th>\n",
       "      <th>total_accuracy.mean</th>\n",
       "      <th>total_accuracy.std</th>\n",
       "      <th>binary_water_acc.mean</th>\n",
       "      <th>binary_water_acc.std</th>\n",
       "      <th>acc_per_class.Not_Water.mean</th>\n",
       "      <th>acc_per_class.Not_Water.std</th>\n",
       "      <th>acc_per_class.Open_Surface_Water.mean</th>\n",
       "      <th>acc_per_class.Open_Surface_Water.std</th>\n",
       "      <th>acc_per_class.Partial_Surface_Water.mean</th>\n",
       "      <th>acc_per_class.Partial_Surface_Water.std</th>\n",
       "      <th>...</th>\n",
       "      <th>f1_per_class.Partial_Surface_Water.mean</th>\n",
       "      <th>f1_per_class.Partial_Surface_Water.std</th>\n",
       "      <th>supp_per_class.Not_Water.mean</th>\n",
       "      <th>supp_per_class.Not_Water.std</th>\n",
       "      <th>supp_per_class.Open_Surface_Water.mean</th>\n",
       "      <th>supp_per_class.Open_Surface_Water.std</th>\n",
       "      <th>supp_per_class.Partial_Surface_Water.mean</th>\n",
       "      <th>supp_per_class.Partial_Surface_Water.std</th>\n",
       "      <th>dswx_id</th>\n",
       "      <th>planet_id</th>\n",
       "    </tr>\n",
       "  </thead>\n",
       "  <tbody>\n",
       "    <tr>\n",
       "      <th>0</th>\n",
       "      <td>0.807645</td>\n",
       "      <td>0.013257</td>\n",
       "      <td>0.923373</td>\n",
       "      <td>0.010213</td>\n",
       "      <td>0.923373</td>\n",
       "      <td>0.010213</td>\n",
       "      <td>0.864351</td>\n",
       "      <td>0.012225</td>\n",
       "      <td>0.827565</td>\n",
       "      <td>0.012408</td>\n",
       "      <td>...</td>\n",
       "      <td>0.701744</td>\n",
       "      <td>0.024053</td>\n",
       "      <td>167.0</td>\n",
       "      <td>0.0</td>\n",
       "      <td>167.0</td>\n",
       "      <td>0.0</td>\n",
       "      <td>167.0</td>\n",
       "      <td>0.0</td>\n",
       "      <td>OPERA_L3_DSWx-HLS_T15QYU_20211011T162221Z_2023...</td>\n",
       "      <td>20211011_155455_52_2262</td>\n",
       "    </tr>\n",
       "  </tbody>\n",
       "</table>\n",
       "<p>1 rows × 54 columns</p>\n",
       "</div>"
      ],
      "text/plain": [
       "   total_accuracy.mean  total_accuracy.std  binary_water_acc.mean  \\\n",
       "0             0.807645            0.013257               0.923373   \n",
       "\n",
       "   binary_water_acc.std  acc_per_class.Not_Water.mean  \\\n",
       "0              0.010213                      0.923373   \n",
       "\n",
       "   acc_per_class.Not_Water.std  acc_per_class.Open_Surface_Water.mean  \\\n",
       "0                     0.010213                               0.864351   \n",
       "\n",
       "   acc_per_class.Open_Surface_Water.std  \\\n",
       "0                              0.012225   \n",
       "\n",
       "   acc_per_class.Partial_Surface_Water.mean  \\\n",
       "0                                  0.827565   \n",
       "\n",
       "   acc_per_class.Partial_Surface_Water.std  ...  \\\n",
       "0                                 0.012408  ...   \n",
       "\n",
       "   f1_per_class.Partial_Surface_Water.mean  \\\n",
       "0                                 0.701744   \n",
       "\n",
       "   f1_per_class.Partial_Surface_Water.std  supp_per_class.Not_Water.mean  \\\n",
       "0                                0.024053                          167.0   \n",
       "\n",
       "   supp_per_class.Not_Water.std  supp_per_class.Open_Surface_Water.mean  \\\n",
       "0                           0.0                                   167.0   \n",
       "\n",
       "   supp_per_class.Open_Surface_Water.std  \\\n",
       "0                                    0.0   \n",
       "\n",
       "   supp_per_class.Partial_Surface_Water.mean  \\\n",
       "0                                      167.0   \n",
       "\n",
       "   supp_per_class.Partial_Surface_Water.std  \\\n",
       "0                                       0.0   \n",
       "\n",
       "                                             dswx_id                planet_id  \n",
       "0  OPERA_L3_DSWx-HLS_T15QYU_20211011T162221Z_2023...  20211011_155455_52_2262  \n",
       "\n",
       "[1 rows x 54 columns]"
      ]
     },
     "execution_count": 12,
     "metadata": {},
     "output_type": "execute_result"
    }
   ],
   "source": [
    "dfs_metrics[0].head()"
   ]
  },
  {
   "cell_type": "code",
   "execution_count": 13,
   "id": "3988f3b1",
   "metadata": {
    "ExecuteTime": {
     "end_time": "2023-03-20T18:10:59.901548Z",
     "start_time": "2023-03-20T18:10:59.898140Z"
    }
   },
   "outputs": [
    {
     "data": {
      "text/plain": [
       "PosixPath('out/verification_stats_agg/100-trials_conf-classes-none_sample-from-val/metrics.csv')"
      ]
     },
     "execution_count": 13,
     "metadata": {},
     "output_type": "execute_result"
    }
   ],
   "source": [
    "out_paths[0]"
   ]
  },
  {
   "cell_type": "markdown",
   "id": "0a7b1877",
   "metadata": {},
   "source": [
    "# For presentations\n",
    "\n",
    "Aggregate all validation statistics for a particular set of validation runs"
   ]
  },
  {
   "cell_type": "code",
   "execution_count": 14,
   "id": "81df1765",
   "metadata": {
    "ExecuteTime": {
     "end_time": "2023-03-20T18:11:00.717639Z",
     "start_time": "2023-03-20T18:11:00.714163Z"
    }
   },
   "outputs": [
    {
     "data": {
      "text/plain": [
       "0"
      ]
     },
     "execution_count": 14,
     "metadata": {},
     "output_type": "execute_result"
    }
   ],
   "source": [
    "index = [k for k, out_path in enumerate(out_paths) if '100-trials_conf-classes-none_sample-from-val' in str(out_path)][0]\n",
    "index"
   ]
  },
  {
   "cell_type": "code",
   "execution_count": 15,
   "id": "bd764e6a",
   "metadata": {
    "ExecuteTime": {
     "end_time": "2023-03-20T18:11:01.412216Z",
     "start_time": "2023-03-20T18:11:01.410010Z"
    }
   },
   "outputs": [],
   "source": [
    "df_final = dfs_metrics[index]\n",
    "out_path_final = out_paths[index]"
   ]
  },
  {
   "cell_type": "code",
   "execution_count": 16,
   "id": "3b0b5c71",
   "metadata": {
    "ExecuteTime": {
     "end_time": "2023-03-20T18:11:03.885054Z",
     "start_time": "2023-03-20T18:11:03.882093Z"
    }
   },
   "outputs": [],
   "source": [
    "COLUMN_RENAME = {'total_accuracy.mean': 'Total Accuracy (All Classes)',\n",
    "                 'binary_water_acc.mean': 'Binary Accuarcy (OSW + PSW)',\n",
    "                 'precision.Open_Surface_Water.mean': 'Precision (OSW)',\n",
    "                 'acc_per_class.Open_Surface_Water.mean': 'Binary Accuracy (OSW)',\n",
    "                 'acc_per_class.Partial_Surface_Water.mean': 'Binary Accuracy (PSW)',\n",
    "                 'precision.Partial_Surface_Water.mean': 'Precision (PSW)',\n",
    "                 'recall.Open_Surface_Water.mean': 'Recall (OSW)',\n",
    "                 'recall.Partial_Surface_Water.mean': 'Recall (PSW)',\n",
    "                 #'supp_per_class.Open_Surface_Water.mean': 'Support (Val) (OSW)',\n",
    "                 #'supp_per_class.Partial_Surface_Water.mean': 'Support (Val) (PSW)',\n",
    "                 'f1_per_class.Open_Surface_Water.mean': 'F1 (OSW)',\n",
    "                 'f1_per_class.Partial_Surface_Water.mean': 'F1 (PSW)'}\n",
    "COLUMNS = list(COLUMN_RENAME.keys())"
   ]
  },
  {
   "cell_type": "code",
   "execution_count": 17,
   "id": "9843cac5",
   "metadata": {
    "ExecuteTime": {
     "end_time": "2023-03-20T18:11:04.392909Z",
     "start_time": "2023-03-20T18:11:04.362513Z"
    }
   },
   "outputs": [
    {
     "data": {
      "text/html": [
       "<div>\n",
       "<style scoped>\n",
       "    .dataframe tbody tr th:only-of-type {\n",
       "        vertical-align: middle;\n",
       "    }\n",
       "\n",
       "    .dataframe tbody tr th {\n",
       "        vertical-align: top;\n",
       "    }\n",
       "\n",
       "    .dataframe thead th {\n",
       "        text-align: right;\n",
       "    }\n",
       "</style>\n",
       "<table border=\"1\" class=\"dataframe\">\n",
       "  <thead>\n",
       "    <tr style=\"text-align: right;\">\n",
       "      <th></th>\n",
       "      <th></th>\n",
       "      <th>Mean</th>\n",
       "      <th>Median</th>\n",
       "      <th>St. Dev.</th>\n",
       "    </tr>\n",
       "    <tr>\n",
       "      <th>Class</th>\n",
       "      <th>Metric</th>\n",
       "      <th></th>\n",
       "      <th></th>\n",
       "      <th></th>\n",
       "    </tr>\n",
       "  </thead>\n",
       "  <tbody>\n",
       "    <tr>\n",
       "      <th>All</th>\n",
       "      <th>Total Accuracy  ($\\%$)</th>\n",
       "      <td>80.76</td>\n",
       "      <td>80.76</td>\n",
       "      <td>nan</td>\n",
       "    </tr>\n",
       "    <tr>\n",
       "      <th>OSW + PSW</th>\n",
       "      <th>Binary Accuarcy  ($\\%$)</th>\n",
       "      <td>92.34</td>\n",
       "      <td>92.34</td>\n",
       "      <td>nan</td>\n",
       "    </tr>\n",
       "    <tr>\n",
       "      <th rowspan=\"4\" valign=\"top\">OSW</th>\n",
       "      <th>Binary Accuracy  ($\\%$)</th>\n",
       "      <td>86.44</td>\n",
       "      <td>86.44</td>\n",
       "      <td>nan</td>\n",
       "    </tr>\n",
       "    <tr>\n",
       "      <th>F1  ($\\%$)</th>\n",
       "      <td>80.43</td>\n",
       "      <td>80.43</td>\n",
       "      <td>nan</td>\n",
       "    </tr>\n",
       "    <tr>\n",
       "      <th>Precision  ($\\%$)</th>\n",
       "      <td>77.46</td>\n",
       "      <td>77.46</td>\n",
       "      <td>nan</td>\n",
       "    </tr>\n",
       "    <tr>\n",
       "      <th>Recall  ($\\%$)</th>\n",
       "      <td>83.71</td>\n",
       "      <td>83.71</td>\n",
       "      <td>nan</td>\n",
       "    </tr>\n",
       "    <tr>\n",
       "      <th rowspan=\"4\" valign=\"top\">PSW</th>\n",
       "      <th>Binary Accuracy  ($\\%$)</th>\n",
       "      <td>82.76</td>\n",
       "      <td>82.76</td>\n",
       "      <td>nan</td>\n",
       "    </tr>\n",
       "    <tr>\n",
       "      <th>F1  ($\\%$)</th>\n",
       "      <td>70.17</td>\n",
       "      <td>70.17</td>\n",
       "      <td>nan</td>\n",
       "    </tr>\n",
       "    <tr>\n",
       "      <th>Precision  ($\\%$)</th>\n",
       "      <td>82.86</td>\n",
       "      <td>82.86</td>\n",
       "      <td>nan</td>\n",
       "    </tr>\n",
       "    <tr>\n",
       "      <th>Recall  ($\\%$)</th>\n",
       "      <td>60.94</td>\n",
       "      <td>60.94</td>\n",
       "      <td>nan</td>\n",
       "    </tr>\n",
       "  </tbody>\n",
       "</table>\n",
       "</div>"
      ],
      "text/plain": [
       "                                    Mean Median St. Dev.\n",
       "Class     Metric                                        \n",
       "All       Total Accuracy  ($\\%$)   80.76  80.76      nan\n",
       "OSW + PSW Binary Accuarcy  ($\\%$)  92.34  92.34      nan\n",
       "OSW       Binary Accuracy  ($\\%$)  86.44  86.44      nan\n",
       "          F1  ($\\%$)               80.43  80.43      nan\n",
       "          Precision  ($\\%$)        77.46  77.46      nan\n",
       "          Recall  ($\\%$)           83.71  83.71      nan\n",
       "PSW       Binary Accuracy  ($\\%$)  82.76  82.76      nan\n",
       "          F1  ($\\%$)               70.17  70.17      nan\n",
       "          Precision  ($\\%$)        82.86  82.86      nan\n",
       "          Recall  ($\\%$)           60.94  60.94      nan"
      ]
     },
     "execution_count": 17,
     "metadata": {},
     "output_type": "execute_result"
    }
   ],
   "source": [
    "df_temp = df_final[COLUMNS].agg(['mean', 'median', 'std'])\n",
    "df_temp.rename(columns=COLUMN_RENAME, inplace=True)\n",
    "\n",
    "cols_not_supp = [col for col in df_temp.columns if 'Support' not in col]\n",
    "df_temp[cols_not_supp] = df_temp[cols_not_supp] * 100\n",
    "\n",
    "df_f = df_temp.T\n",
    "df_f = df_f.round(2).astype(str)\n",
    "\n",
    "df_f = df_f.reset_index(drop=False)\n",
    "df_f = df_f.rename(columns={'index': 'Metric'})\n",
    "def class_labeler(metric):\n",
    "    if '(OSW + PSW)' in metric:\n",
    "        return 'OSW + PSW'\n",
    "    if 'OSW' in metric:\n",
    "        return 'OSW'\n",
    "    if 'PSW' in metric:\n",
    "        return 'PSW'\n",
    "    else:\n",
    "        return 'All'\n",
    "df_f['Class'] = df_f.Metric.map(class_labeler)\n",
    "\n",
    "lookup_order = {'All': 0, 'OSW + PSW': 1, 'OSW': 2, 'PSW': 3}\n",
    "df_f['Class_sort'] = df_f.Class.map(lambda c: lookup_order[c])\n",
    "\n",
    "df_f['Metric'] = df_f.Metric.map(lambda m: m.split('(')[0])\n",
    "df_f['Metric'] = df_f.Metric.map(lambda m: m + ' ($\\%$)' if 'Support' not in m else m)\n",
    "df_f.sort_values(by=['Class_sort', 'Metric'], inplace=True)\n",
    "df_f = df_f.set_index(['Class', 'Metric'])\n",
    "df_f.drop(columns=['Class_sort'], inplace=True)\n",
    "df_f.rename(columns={'mean': 'Mean', \n",
    "                     'std': 'St. Dev.', \n",
    "                     'median': 'Median'}, inplace=True)\n",
    "df_f"
   ]
  },
  {
   "cell_type": "code",
   "execution_count": 18,
   "id": "516ebbd8",
   "metadata": {
    "ExecuteTime": {
     "end_time": "2023-03-20T18:11:04.909461Z",
     "start_time": "2023-03-20T18:11:04.905946Z"
    }
   },
   "outputs": [
    {
     "data": {
      "text/plain": [
       "PosixPath('presentation_images/100-trials_conf-classes-none_sample-from-val')"
      ]
     },
     "execution_count": 18,
     "metadata": {},
     "output_type": "execute_result"
    }
   ],
   "source": [
    "presentation_dir = Path('presentation_images') / out_path_final.parent.name \n",
    "presentation_dir.mkdir(exist_ok=True, parents=True)\n",
    "presentation_dir"
   ]
  },
  {
   "cell_type": "code",
   "execution_count": 19,
   "id": "40cd4bc0",
   "metadata": {
    "ExecuteTime": {
     "end_time": "2023-03-20T18:11:05.720682Z",
     "start_time": "2023-03-20T18:11:05.337772Z"
    }
   },
   "outputs": [],
   "source": [
    "latex = df_f.style.to_latex(multirow_align='t', hrules=True)\n",
    "with open(presentation_dir / 'total_accuracy_for_all_validation.tex', 'w') as f:\n",
    "    f.write(latex)"
   ]
  },
  {
   "cell_type": "code",
   "execution_count": 20,
   "id": "d766de10",
   "metadata": {
    "ExecuteTime": {
     "end_time": "2023-03-20T18:11:05.724625Z",
     "start_time": "2023-03-20T18:11:05.722606Z"
    }
   },
   "outputs": [],
   "source": [
    "df_req = dfs_req[index]"
   ]
  },
  {
   "cell_type": "code",
   "execution_count": 21,
   "id": "27ea3ba9",
   "metadata": {
    "ExecuteTime": {
     "end_time": "2023-03-20T18:11:05.886434Z",
     "start_time": "2023-03-20T18:11:05.882204Z"
    }
   },
   "outputs": [
    {
     "data": {
      "text/plain": [
       "(1, 1, 1)"
      ]
     },
     "execution_count": 21,
     "metadata": {},
     "output_type": "execute_result"
    }
   ],
   "source": [
    "n_osw_passes = df_req.surface_water.sum()\n",
    "n_pws_passes = df_req.partial_surface_water.sum()\n",
    "n_both_pass = (df_req.surface_water & df_req.partial_surface_water).sum()\n",
    "n_pws_passes, n_osw_passes, n_both_pass"
   ]
  },
  {
   "cell_type": "code",
   "execution_count": 22,
   "id": "cffacf0b",
   "metadata": {
    "ExecuteTime": {
     "end_time": "2023-03-20T18:11:10.619515Z",
     "start_time": "2023-03-20T18:11:10.615078Z"
    }
   },
   "outputs": [
    {
     "data": {
      "text/plain": [
       "(0, 0, 1)"
      ]
     },
     "execution_count": 22,
     "metadata": {},
     "output_type": "execute_result"
    }
   ],
   "source": [
    "n_osw_fails = (~df_req.surface_water).sum()\n",
    "n_pws_fails = (~df_req.partial_surface_water).sum()\n",
    "n_both_fail = (~df_req.surface_water | ~df_req.partial_surface_water).sum()\n",
    "n_osw_fails, n_pws_fails, n_both_pass"
   ]
  },
  {
   "cell_type": "code",
   "execution_count": 23,
   "id": "8c1d5e15",
   "metadata": {
    "ExecuteTime": {
     "end_time": "2023-03-20T18:11:10.705265Z",
     "start_time": "2023-03-20T18:11:10.698215Z"
    }
   },
   "outputs": [
    {
     "data": {
      "text/html": [
       "<div>\n",
       "<style scoped>\n",
       "    .dataframe tbody tr th:only-of-type {\n",
       "        vertical-align: middle;\n",
       "    }\n",
       "\n",
       "    .dataframe tbody tr th {\n",
       "        vertical-align: top;\n",
       "    }\n",
       "\n",
       "    .dataframe thead th {\n",
       "        text-align: right;\n",
       "    }\n",
       "</style>\n",
       "<table border=\"1\" class=\"dataframe\">\n",
       "  <thead>\n",
       "    <tr style=\"text-align: right;\">\n",
       "      <th></th>\n",
       "      <th>Pass</th>\n",
       "      <th>Not Pass</th>\n",
       "    </tr>\n",
       "    <tr>\n",
       "      <th>Class</th>\n",
       "      <th></th>\n",
       "      <th></th>\n",
       "    </tr>\n",
       "  </thead>\n",
       "  <tbody>\n",
       "    <tr>\n",
       "      <th>Open Surface Water (OSW)</th>\n",
       "      <td>1</td>\n",
       "      <td>0</td>\n",
       "    </tr>\n",
       "    <tr>\n",
       "      <th>Partial Surface Water (PSW)</th>\n",
       "      <td>1</td>\n",
       "      <td>0</td>\n",
       "    </tr>\n",
       "    <tr>\n",
       "      <th>Both (OSW + PSW)</th>\n",
       "      <td>1</td>\n",
       "      <td>0</td>\n",
       "    </tr>\n",
       "  </tbody>\n",
       "</table>\n",
       "</div>"
      ],
      "text/plain": [
       "                             Pass  Not Pass\n",
       "Class                                      \n",
       "Open Surface Water (OSW)        1         0\n",
       "Partial Surface Water (PSW)     1         0\n",
       "Both (OSW + PSW)                1         0"
      ]
     },
     "execution_count": 23,
     "metadata": {},
     "output_type": "execute_result"
    }
   ],
   "source": [
    "df_passes = pd.DataFrame([{'Class': 'Open Surface Water (OSW)',\n",
    "                          'Pass': n_osw_passes,\n",
    "                          'Not Pass': n_osw_fails},\n",
    "                         {'Class': 'Partial Surface Water (PSW)',\n",
    "                          'Pass': n_pws_passes,\n",
    "                          'Not Pass': n_pws_fails},\n",
    "                         {'Class': 'Both (OSW + PSW)',\n",
    "                          'Pass': n_both_pass,\n",
    "                          'Not Pass': n_both_fail}])\n",
    "df_passes = df_passes.set_index('Class')\n",
    "df_passes"
   ]
  },
  {
   "cell_type": "code",
   "execution_count": 24,
   "id": "eaf5e6fa",
   "metadata": {
    "ExecuteTime": {
     "end_time": "2023-03-20T18:11:10.837714Z",
     "start_time": "2023-03-20T18:11:10.833414Z"
    }
   },
   "outputs": [],
   "source": [
    "latex = df_passes.style.to_latex(multirow_align='t', hrules=True)\n",
    "with open(presentation_dir / 'total_passes.tex', 'w') as f:\n",
    "    f.write(latex)"
   ]
  }
 ],
 "metadata": {
  "kernelspec": {
   "display_name": "dswx_val",
   "language": "python",
   "name": "dswx_val"
  },
  "language_info": {
   "codemirror_mode": {
    "name": "ipython",
    "version": 3
   },
   "file_extension": ".py",
   "mimetype": "text/x-python",
   "name": "python",
   "nbconvert_exporter": "python",
   "pygments_lexer": "ipython3",
   "version": "3.11.0"
  }
 },
 "nbformat": 4,
 "nbformat_minor": 5
}
