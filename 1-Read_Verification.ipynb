{
 "cells": [
  {
   "cell_type": "code",
   "execution_count": null,
   "id": "linear-embassy",
   "metadata": {},
   "outputs": [],
   "source": [
    "import json\n",
    "import pandas as pd\n",
    "from pathlib import Path"
   ]
  },
  {
   "cell_type": "code",
   "execution_count": null,
   "id": "breeding-tattoo",
   "metadata": {},
   "outputs": [],
   "source": [
    "verification_dir = Path('verification_assessment_data/')\n",
    "dswx_verification_paths = list(verification_dir.glob('*/'))\n",
    "dswx_ids = [path.name for path in dswx_verification_paths]\n",
    "dswx_ids[:4]"
   ]
  },
  {
   "cell_type": "code",
   "execution_count": null,
   "id": "specialized-confirmation",
   "metadata": {},
   "outputs": [],
   "source": [
    "def read_one(dswx_id):\n",
    "    path = verification_dir / dswx_id / f'requirement_verification_{dswx_id}.json'\n",
    "    data = json.load(open(path))\n",
    "    return data"
   ]
  },
  {
   "cell_type": "code",
   "execution_count": null,
   "id": "honey-fellow",
   "metadata": {},
   "outputs": [],
   "source": [
    "data = list(map(read_one, dswx_ids))"
   ]
  },
  {
   "cell_type": "code",
   "execution_count": null,
   "id": "front-centre",
   "metadata": {},
   "outputs": [],
   "source": [
    "df = pd.DataFrame(data)\n",
    "df.head()"
   ]
  },
  {
   "cell_type": "code",
   "execution_count": null,
   "id": "banned-characteristic",
   "metadata": {},
   "outputs": [],
   "source": [
    "cols = ['surface_water','partial_surface_water']\n",
    "df[cols + ['dswx_id']].groupby(cols).count()"
   ]
  },
  {
   "cell_type": "code",
   "execution_count": null,
   "id": "rough-click",
   "metadata": {},
   "outputs": [],
   "source": [
    "df.to_csv('verification_results.csv', index=False)"
   ]
  },
  {
   "cell_type": "markdown",
   "id": "neutral-saying",
   "metadata": {},
   "source": [
    "# Additional Metrics"
   ]
  },
  {
   "cell_type": "code",
   "execution_count": null,
   "id": "shared-mining",
   "metadata": {},
   "outputs": [],
   "source": [
    "def read_one_assessment(dswx_id):\n",
    "    path = verification_dir / dswx_id / f'assessment_{dswx_id}.json'\n",
    "    data = json.load(open(path))\n",
    "    return data"
   ]
  },
  {
   "cell_type": "code",
   "execution_count": null,
   "id": "electric-peter",
   "metadata": {},
   "outputs": [],
   "source": [
    "data_assessment = list(map(read_one_assessment, dswx_ids))"
   ]
  },
  {
   "cell_type": "code",
   "execution_count": null,
   "id": "documentary-material",
   "metadata": {},
   "outputs": [],
   "source": [
    "from pandas import json_normalize\n",
    "\n",
    "df_assessment = json_normalize(data_assessment)\n",
    "df_assessment.head()"
   ]
  },
  {
   "cell_type": "code",
   "execution_count": null,
   "id": "compatible-excess",
   "metadata": {},
   "outputs": [],
   "source": [
    "df.to_csv('metrics.csv', index=False)"
   ]
  }
 ],
 "metadata": {
  "kernelspec": {
   "display_name": "dswx_val",
   "language": "python",
   "name": "dswx_val"
  },
  "language_info": {
   "codemirror_mode": {
    "name": "ipython",
    "version": 3
   },
   "file_extension": ".py",
   "mimetype": "text/x-python",
   "name": "python",
   "nbconvert_exporter": "python",
   "pygments_lexer": "ipython3"
  }
 },
 "nbformat": 4,
 "nbformat_minor": 5
}
