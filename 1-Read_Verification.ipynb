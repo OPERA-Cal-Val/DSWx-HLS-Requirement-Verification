{
 "cells": [
  {
   "cell_type": "code",
   "execution_count": 1,
   "id": "75767453",
   "metadata": {
    "ExecuteTime": {
     "end_time": "2023-03-22T19:21:57.437345Z",
     "start_time": "2023-03-22T19:21:56.968108Z"
    }
   },
   "outputs": [],
   "source": [
    "import json\n",
    "import pandas as pd\n",
    "from pathlib import Path\n",
    "from pandas import json_normalize\n",
    "from tqdm import tqdm"
   ]
  },
  {
   "cell_type": "code",
   "execution_count": 2,
   "id": "62f82d58",
   "metadata": {
    "ExecuteTime": {
     "end_time": "2023-03-22T19:21:57.444353Z",
     "start_time": "2023-03-22T19:21:57.439315Z"
    }
   },
   "outputs": [
    {
     "data": {
      "text/plain": [
       "True"
      ]
     },
     "execution_count": 2,
     "metadata": {},
     "output_type": "execute_result"
    }
   ],
   "source": [
    "assessment_data = Path(f'out/assessment_data')\n",
    "assessment_data.exists()"
   ]
  },
  {
   "cell_type": "code",
   "execution_count": 3,
   "id": "5bdae1ba",
   "metadata": {
    "ExecuteTime": {
     "end_time": "2023-03-22T19:21:57.449441Z",
     "start_time": "2023-03-22T19:21:57.445897Z"
    }
   },
   "outputs": [
    {
     "data": {
      "text/plain": [
       "[PosixPath('out/assessment_data/100-trials_conf-classes-none_sample-from-val')]"
      ]
     },
     "execution_count": 3,
     "metadata": {},
     "output_type": "execute_result"
    }
   ],
   "source": [
    "assessment_dir_paths = list(assessment_data.glob('*/'))\n",
    "assessment_dir_paths = list(filter(lambda x: '.DS_Store' not in x.name, assessment_dir_paths))\n",
    "assessment_dir_paths"
   ]
  },
  {
   "cell_type": "code",
   "execution_count": 4,
   "id": "36ea7d96",
   "metadata": {
    "ExecuteTime": {
     "end_time": "2023-03-22T19:21:57.456147Z",
     "start_time": "2023-03-22T19:21:57.452064Z"
    }
   },
   "outputs": [],
   "source": [
    "def get_dswx_ids(assessment_dir) -> list:\n",
    "    dswx_verification_paths = list(assessment_dir.glob('*/'))\n",
    "    dswx_ids = [path.name for path in dswx_verification_paths]\n",
    "    # Remove DSWx paths\n",
    "    dswx_ids = list(filter(lambda dswx_id: '.' != dswx_id[0], dswx_ids))\n",
    "    return dswx_ids\n",
    "\n",
    "\n",
    "def combine_requirement_verification_for_one_assessment(assessment_dir_path):\n",
    "    out_dir = Path(f'out/verification_stats_agg/{assessment_dir_path.name}')\n",
    "    out_dir.mkdir(exist_ok=True, parents=True)\n",
    "    \n",
    "    dswx_ids = get_dswx_ids(assessment_dir_path)\n",
    "    \n",
    "    def read_one_requirements_json(dswx_id):\n",
    "        path = assessment_dir_path / dswx_id / f'requirement_verification_{dswx_id}.json'\n",
    "        data = json.load(open(path))\n",
    "        return data\n",
    "    \n",
    "    data = list(map(read_one_requirements_json, dswx_ids))\n",
    "    df = pd.DataFrame(data)\n",
    "    cols = ['surface_water','partial_surface_water']\n",
    "    df[cols + ['dswx_id']].groupby(cols).count()\n",
    "    \n",
    "    out_path = out_dir / 'verification_results.csv'\n",
    "    df.to_csv(out_path, index=False)\n",
    "    \n",
    "    return df, out_path"
   ]
  },
  {
   "cell_type": "code",
   "execution_count": 5,
   "id": "10a40071",
   "metadata": {
    "ExecuteTime": {
     "end_time": "2023-03-22T19:21:57.506358Z",
     "start_time": "2023-03-22T19:21:57.457740Z"
    }
   },
   "outputs": [
    {
     "name": "stderr",
     "output_type": "stream",
     "text": [
      "100%|██████| 1/1 [00:00<00:00, 35.23it/s]\n"
     ]
    }
   ],
   "source": [
    "dfs_req, out_paths = zip(*list(map(combine_requirement_verification_for_one_assessment, tqdm(assessment_dir_paths))))"
   ]
  },
  {
   "cell_type": "code",
   "execution_count": 6,
   "id": "743f2eb8",
   "metadata": {
    "ExecuteTime": {
     "end_time": "2023-03-22T19:21:57.523913Z",
     "start_time": "2023-03-22T19:21:57.508486Z"
    }
   },
   "outputs": [
    {
     "data": {
      "text/html": [
       "<div>\n",
       "<style scoped>\n",
       "    .dataframe tbody tr th:only-of-type {\n",
       "        vertical-align: middle;\n",
       "    }\n",
       "\n",
       "    .dataframe tbody tr th {\n",
       "        vertical-align: top;\n",
       "    }\n",
       "\n",
       "    .dataframe thead th {\n",
       "        text-align: right;\n",
       "    }\n",
       "</style>\n",
       "<table border=\"1\" class=\"dataframe\">\n",
       "  <thead>\n",
       "    <tr style=\"text-align: right;\">\n",
       "      <th></th>\n",
       "      <th>dswx_id</th>\n",
       "      <th>surface_water</th>\n",
       "      <th>partial_surface_water</th>\n",
       "      <th>dswx-WTR</th>\n",
       "      <th>dswx-BWTR</th>\n",
       "      <th>dswx-CONF</th>\n",
       "      <th>dswx-DIAG</th>\n",
       "      <th>dswx-WTR-1</th>\n",
       "      <th>dswx-WTR-2</th>\n",
       "      <th>dswx-LAND</th>\n",
       "      <th>...</th>\n",
       "      <th>hls_url_B04</th>\n",
       "      <th>hls_url_B05</th>\n",
       "      <th>hls_url_B06</th>\n",
       "      <th>hls_url_B07</th>\n",
       "      <th>hls_url_B08</th>\n",
       "      <th>hls_url_B09</th>\n",
       "      <th>hls_url_B10</th>\n",
       "      <th>hls_url_B11</th>\n",
       "      <th>hls_url_B12</th>\n",
       "      <th>hls_url_Fmask</th>\n",
       "    </tr>\n",
       "  </thead>\n",
       "  <tbody>\n",
       "    <tr>\n",
       "      <th>0</th>\n",
       "      <td>OPERA_L3_DSWx-HLS_T54JTN_20210911T004659Z_2023...</td>\n",
       "      <td>True</td>\n",
       "      <td>True</td>\n",
       "      <td>https://opera-pst-rs-pop1.s3.us-west-2.amazona...</td>\n",
       "      <td>https://opera-pst-rs-pop1.s3.us-west-2.amazona...</td>\n",
       "      <td>https://opera-pst-rs-pop1.s3.us-west-2.amazona...</td>\n",
       "      <td>https://opera-pst-rs-pop1.s3.us-west-2.amazona...</td>\n",
       "      <td>https://opera-pst-rs-pop1.s3.us-west-2.amazona...</td>\n",
       "      <td>https://opera-pst-rs-pop1.s3.us-west-2.amazona...</td>\n",
       "      <td>https://opera-pst-rs-pop1.s3.us-west-2.amazona...</td>\n",
       "      <td>...</td>\n",
       "      <td>https://data.lpdaac.earthdatacloud.nasa.gov/lp...</td>\n",
       "      <td>https://data.lpdaac.earthdatacloud.nasa.gov/lp...</td>\n",
       "      <td>https://data.lpdaac.earthdatacloud.nasa.gov/lp...</td>\n",
       "      <td>https://data.lpdaac.earthdatacloud.nasa.gov/lp...</td>\n",
       "      <td>https://data.lpdaac.earthdatacloud.nasa.gov/lp...</td>\n",
       "      <td>https://data.lpdaac.earthdatacloud.nasa.gov/lp...</td>\n",
       "      <td>https://data.lpdaac.earthdatacloud.nasa.gov/lp...</td>\n",
       "      <td>https://data.lpdaac.earthdatacloud.nasa.gov/lp...</td>\n",
       "      <td>https://data.lpdaac.earthdatacloud.nasa.gov/lp...</td>\n",
       "      <td>https://data.lpdaac.earthdatacloud.nasa.gov/lp...</td>\n",
       "    </tr>\n",
       "    <tr>\n",
       "      <th>1</th>\n",
       "      <td>OPERA_L3_DSWx-HLS_T54KUG_20210924T005709Z_2023...</td>\n",
       "      <td>False</td>\n",
       "      <td>True</td>\n",
       "      <td>https://opera-pst-rs-pop1.s3.us-west-2.amazona...</td>\n",
       "      <td>https://opera-pst-rs-pop1.s3.us-west-2.amazona...</td>\n",
       "      <td>https://opera-pst-rs-pop1.s3.us-west-2.amazona...</td>\n",
       "      <td>https://opera-pst-rs-pop1.s3.us-west-2.amazona...</td>\n",
       "      <td>https://opera-pst-rs-pop1.s3.us-west-2.amazona...</td>\n",
       "      <td>https://opera-pst-rs-pop1.s3.us-west-2.amazona...</td>\n",
       "      <td>https://opera-pst-rs-pop1.s3.us-west-2.amazona...</td>\n",
       "      <td>...</td>\n",
       "      <td>https://data.lpdaac.earthdatacloud.nasa.gov/lp...</td>\n",
       "      <td>https://data.lpdaac.earthdatacloud.nasa.gov/lp...</td>\n",
       "      <td>https://data.lpdaac.earthdatacloud.nasa.gov/lp...</td>\n",
       "      <td>https://data.lpdaac.earthdatacloud.nasa.gov/lp...</td>\n",
       "      <td>https://data.lpdaac.earthdatacloud.nasa.gov/lp...</td>\n",
       "      <td>https://data.lpdaac.earthdatacloud.nasa.gov/lp...</td>\n",
       "      <td>https://data.lpdaac.earthdatacloud.nasa.gov/lp...</td>\n",
       "      <td>https://data.lpdaac.earthdatacloud.nasa.gov/lp...</td>\n",
       "      <td>https://data.lpdaac.earthdatacloud.nasa.gov/lp...</td>\n",
       "      <td>https://data.lpdaac.earthdatacloud.nasa.gov/lp...</td>\n",
       "    </tr>\n",
       "    <tr>\n",
       "      <th>2</th>\n",
       "      <td>OPERA_L3_DSWx-HLS_T11ULP_20211019T190421Z_2023...</td>\n",
       "      <td>False</td>\n",
       "      <td>True</td>\n",
       "      <td>https://opera-pst-rs-pop1.s3.us-west-2.amazona...</td>\n",
       "      <td>https://opera-pst-rs-pop1.s3.us-west-2.amazona...</td>\n",
       "      <td>https://opera-pst-rs-pop1.s3.us-west-2.amazona...</td>\n",
       "      <td>https://opera-pst-rs-pop1.s3.us-west-2.amazona...</td>\n",
       "      <td>https://opera-pst-rs-pop1.s3.us-west-2.amazona...</td>\n",
       "      <td>https://opera-pst-rs-pop1.s3.us-west-2.amazona...</td>\n",
       "      <td>https://opera-pst-rs-pop1.s3.us-west-2.amazona...</td>\n",
       "      <td>...</td>\n",
       "      <td>https://data.lpdaac.earthdatacloud.nasa.gov/lp...</td>\n",
       "      <td>https://data.lpdaac.earthdatacloud.nasa.gov/lp...</td>\n",
       "      <td>https://data.lpdaac.earthdatacloud.nasa.gov/lp...</td>\n",
       "      <td>https://data.lpdaac.earthdatacloud.nasa.gov/lp...</td>\n",
       "      <td>https://data.lpdaac.earthdatacloud.nasa.gov/lp...</td>\n",
       "      <td>https://data.lpdaac.earthdatacloud.nasa.gov/lp...</td>\n",
       "      <td>https://data.lpdaac.earthdatacloud.nasa.gov/lp...</td>\n",
       "      <td>https://data.lpdaac.earthdatacloud.nasa.gov/lp...</td>\n",
       "      <td>https://data.lpdaac.earthdatacloud.nasa.gov/lp...</td>\n",
       "      <td>https://data.lpdaac.earthdatacloud.nasa.gov/lp...</td>\n",
       "    </tr>\n",
       "    <tr>\n",
       "      <th>3</th>\n",
       "      <td>OPERA_L3_DSWx-HLS_T17TNM_20210916T161829Z_2023...</td>\n",
       "      <td>True</td>\n",
       "      <td>True</td>\n",
       "      <td>https://opera-pst-rs-pop1.s3.us-west-2.amazona...</td>\n",
       "      <td>https://opera-pst-rs-pop1.s3.us-west-2.amazona...</td>\n",
       "      <td>https://opera-pst-rs-pop1.s3.us-west-2.amazona...</td>\n",
       "      <td>https://opera-pst-rs-pop1.s3.us-west-2.amazona...</td>\n",
       "      <td>https://opera-pst-rs-pop1.s3.us-west-2.amazona...</td>\n",
       "      <td>https://opera-pst-rs-pop1.s3.us-west-2.amazona...</td>\n",
       "      <td>https://opera-pst-rs-pop1.s3.us-west-2.amazona...</td>\n",
       "      <td>...</td>\n",
       "      <td>https://data.lpdaac.earthdatacloud.nasa.gov/lp...</td>\n",
       "      <td>https://data.lpdaac.earthdatacloud.nasa.gov/lp...</td>\n",
       "      <td>https://data.lpdaac.earthdatacloud.nasa.gov/lp...</td>\n",
       "      <td>https://data.lpdaac.earthdatacloud.nasa.gov/lp...</td>\n",
       "      <td>https://data.lpdaac.earthdatacloud.nasa.gov/lp...</td>\n",
       "      <td>https://data.lpdaac.earthdatacloud.nasa.gov/lp...</td>\n",
       "      <td>https://data.lpdaac.earthdatacloud.nasa.gov/lp...</td>\n",
       "      <td>https://data.lpdaac.earthdatacloud.nasa.gov/lp...</td>\n",
       "      <td>https://data.lpdaac.earthdatacloud.nasa.gov/lp...</td>\n",
       "      <td>https://data.lpdaac.earthdatacloud.nasa.gov/lp...</td>\n",
       "    </tr>\n",
       "    <tr>\n",
       "      <th>4</th>\n",
       "      <td>OPERA_L3_DSWx-HLS_T32PQA_20210911T094031Z_2023...</td>\n",
       "      <td>True</td>\n",
       "      <td>True</td>\n",
       "      <td>https://opera-pst-rs-pop1.s3.us-west-2.amazona...</td>\n",
       "      <td>https://opera-pst-rs-pop1.s3.us-west-2.amazona...</td>\n",
       "      <td>https://opera-pst-rs-pop1.s3.us-west-2.amazona...</td>\n",
       "      <td>https://opera-pst-rs-pop1.s3.us-west-2.amazona...</td>\n",
       "      <td>https://opera-pst-rs-pop1.s3.us-west-2.amazona...</td>\n",
       "      <td>https://opera-pst-rs-pop1.s3.us-west-2.amazona...</td>\n",
       "      <td>https://opera-pst-rs-pop1.s3.us-west-2.amazona...</td>\n",
       "      <td>...</td>\n",
       "      <td>https://data.lpdaac.earthdatacloud.nasa.gov/lp...</td>\n",
       "      <td>https://data.lpdaac.earthdatacloud.nasa.gov/lp...</td>\n",
       "      <td>https://data.lpdaac.earthdatacloud.nasa.gov/lp...</td>\n",
       "      <td>https://data.lpdaac.earthdatacloud.nasa.gov/lp...</td>\n",
       "      <td>https://data.lpdaac.earthdatacloud.nasa.gov/lp...</td>\n",
       "      <td>https://data.lpdaac.earthdatacloud.nasa.gov/lp...</td>\n",
       "      <td>https://data.lpdaac.earthdatacloud.nasa.gov/lp...</td>\n",
       "      <td>https://data.lpdaac.earthdatacloud.nasa.gov/lp...</td>\n",
       "      <td>https://data.lpdaac.earthdatacloud.nasa.gov/lp...</td>\n",
       "      <td>https://data.lpdaac.earthdatacloud.nasa.gov/lp...</td>\n",
       "    </tr>\n",
       "  </tbody>\n",
       "</table>\n",
       "<p>5 rows × 29 columns</p>\n",
       "</div>"
      ],
      "text/plain": [
       "                                             dswx_id  surface_water  \\\n",
       "0  OPERA_L3_DSWx-HLS_T54JTN_20210911T004659Z_2023...           True   \n",
       "1  OPERA_L3_DSWx-HLS_T54KUG_20210924T005709Z_2023...          False   \n",
       "2  OPERA_L3_DSWx-HLS_T11ULP_20211019T190421Z_2023...          False   \n",
       "3  OPERA_L3_DSWx-HLS_T17TNM_20210916T161829Z_2023...           True   \n",
       "4  OPERA_L3_DSWx-HLS_T32PQA_20210911T094031Z_2023...           True   \n",
       "\n",
       "   partial_surface_water                                           dswx-WTR  \\\n",
       "0                   True  https://opera-pst-rs-pop1.s3.us-west-2.amazona...   \n",
       "1                   True  https://opera-pst-rs-pop1.s3.us-west-2.amazona...   \n",
       "2                   True  https://opera-pst-rs-pop1.s3.us-west-2.amazona...   \n",
       "3                   True  https://opera-pst-rs-pop1.s3.us-west-2.amazona...   \n",
       "4                   True  https://opera-pst-rs-pop1.s3.us-west-2.amazona...   \n",
       "\n",
       "                                           dswx-BWTR  \\\n",
       "0  https://opera-pst-rs-pop1.s3.us-west-2.amazona...   \n",
       "1  https://opera-pst-rs-pop1.s3.us-west-2.amazona...   \n",
       "2  https://opera-pst-rs-pop1.s3.us-west-2.amazona...   \n",
       "3  https://opera-pst-rs-pop1.s3.us-west-2.amazona...   \n",
       "4  https://opera-pst-rs-pop1.s3.us-west-2.amazona...   \n",
       "\n",
       "                                           dswx-CONF  \\\n",
       "0  https://opera-pst-rs-pop1.s3.us-west-2.amazona...   \n",
       "1  https://opera-pst-rs-pop1.s3.us-west-2.amazona...   \n",
       "2  https://opera-pst-rs-pop1.s3.us-west-2.amazona...   \n",
       "3  https://opera-pst-rs-pop1.s3.us-west-2.amazona...   \n",
       "4  https://opera-pst-rs-pop1.s3.us-west-2.amazona...   \n",
       "\n",
       "                                           dswx-DIAG  \\\n",
       "0  https://opera-pst-rs-pop1.s3.us-west-2.amazona...   \n",
       "1  https://opera-pst-rs-pop1.s3.us-west-2.amazona...   \n",
       "2  https://opera-pst-rs-pop1.s3.us-west-2.amazona...   \n",
       "3  https://opera-pst-rs-pop1.s3.us-west-2.amazona...   \n",
       "4  https://opera-pst-rs-pop1.s3.us-west-2.amazona...   \n",
       "\n",
       "                                          dswx-WTR-1  \\\n",
       "0  https://opera-pst-rs-pop1.s3.us-west-2.amazona...   \n",
       "1  https://opera-pst-rs-pop1.s3.us-west-2.amazona...   \n",
       "2  https://opera-pst-rs-pop1.s3.us-west-2.amazona...   \n",
       "3  https://opera-pst-rs-pop1.s3.us-west-2.amazona...   \n",
       "4  https://opera-pst-rs-pop1.s3.us-west-2.amazona...   \n",
       "\n",
       "                                          dswx-WTR-2  \\\n",
       "0  https://opera-pst-rs-pop1.s3.us-west-2.amazona...   \n",
       "1  https://opera-pst-rs-pop1.s3.us-west-2.amazona...   \n",
       "2  https://opera-pst-rs-pop1.s3.us-west-2.amazona...   \n",
       "3  https://opera-pst-rs-pop1.s3.us-west-2.amazona...   \n",
       "4  https://opera-pst-rs-pop1.s3.us-west-2.amazona...   \n",
       "\n",
       "                                           dswx-LAND  ...  \\\n",
       "0  https://opera-pst-rs-pop1.s3.us-west-2.amazona...  ...   \n",
       "1  https://opera-pst-rs-pop1.s3.us-west-2.amazona...  ...   \n",
       "2  https://opera-pst-rs-pop1.s3.us-west-2.amazona...  ...   \n",
       "3  https://opera-pst-rs-pop1.s3.us-west-2.amazona...  ...   \n",
       "4  https://opera-pst-rs-pop1.s3.us-west-2.amazona...  ...   \n",
       "\n",
       "                                         hls_url_B04  \\\n",
       "0  https://data.lpdaac.earthdatacloud.nasa.gov/lp...   \n",
       "1  https://data.lpdaac.earthdatacloud.nasa.gov/lp...   \n",
       "2  https://data.lpdaac.earthdatacloud.nasa.gov/lp...   \n",
       "3  https://data.lpdaac.earthdatacloud.nasa.gov/lp...   \n",
       "4  https://data.lpdaac.earthdatacloud.nasa.gov/lp...   \n",
       "\n",
       "                                         hls_url_B05  \\\n",
       "0  https://data.lpdaac.earthdatacloud.nasa.gov/lp...   \n",
       "1  https://data.lpdaac.earthdatacloud.nasa.gov/lp...   \n",
       "2  https://data.lpdaac.earthdatacloud.nasa.gov/lp...   \n",
       "3  https://data.lpdaac.earthdatacloud.nasa.gov/lp...   \n",
       "4  https://data.lpdaac.earthdatacloud.nasa.gov/lp...   \n",
       "\n",
       "                                         hls_url_B06  \\\n",
       "0  https://data.lpdaac.earthdatacloud.nasa.gov/lp...   \n",
       "1  https://data.lpdaac.earthdatacloud.nasa.gov/lp...   \n",
       "2  https://data.lpdaac.earthdatacloud.nasa.gov/lp...   \n",
       "3  https://data.lpdaac.earthdatacloud.nasa.gov/lp...   \n",
       "4  https://data.lpdaac.earthdatacloud.nasa.gov/lp...   \n",
       "\n",
       "                                         hls_url_B07  \\\n",
       "0  https://data.lpdaac.earthdatacloud.nasa.gov/lp...   \n",
       "1  https://data.lpdaac.earthdatacloud.nasa.gov/lp...   \n",
       "2  https://data.lpdaac.earthdatacloud.nasa.gov/lp...   \n",
       "3  https://data.lpdaac.earthdatacloud.nasa.gov/lp...   \n",
       "4  https://data.lpdaac.earthdatacloud.nasa.gov/lp...   \n",
       "\n",
       "                                         hls_url_B08  \\\n",
       "0  https://data.lpdaac.earthdatacloud.nasa.gov/lp...   \n",
       "1  https://data.lpdaac.earthdatacloud.nasa.gov/lp...   \n",
       "2  https://data.lpdaac.earthdatacloud.nasa.gov/lp...   \n",
       "3  https://data.lpdaac.earthdatacloud.nasa.gov/lp...   \n",
       "4  https://data.lpdaac.earthdatacloud.nasa.gov/lp...   \n",
       "\n",
       "                                         hls_url_B09  \\\n",
       "0  https://data.lpdaac.earthdatacloud.nasa.gov/lp...   \n",
       "1  https://data.lpdaac.earthdatacloud.nasa.gov/lp...   \n",
       "2  https://data.lpdaac.earthdatacloud.nasa.gov/lp...   \n",
       "3  https://data.lpdaac.earthdatacloud.nasa.gov/lp...   \n",
       "4  https://data.lpdaac.earthdatacloud.nasa.gov/lp...   \n",
       "\n",
       "                                         hls_url_B10  \\\n",
       "0  https://data.lpdaac.earthdatacloud.nasa.gov/lp...   \n",
       "1  https://data.lpdaac.earthdatacloud.nasa.gov/lp...   \n",
       "2  https://data.lpdaac.earthdatacloud.nasa.gov/lp...   \n",
       "3  https://data.lpdaac.earthdatacloud.nasa.gov/lp...   \n",
       "4  https://data.lpdaac.earthdatacloud.nasa.gov/lp...   \n",
       "\n",
       "                                         hls_url_B11  \\\n",
       "0  https://data.lpdaac.earthdatacloud.nasa.gov/lp...   \n",
       "1  https://data.lpdaac.earthdatacloud.nasa.gov/lp...   \n",
       "2  https://data.lpdaac.earthdatacloud.nasa.gov/lp...   \n",
       "3  https://data.lpdaac.earthdatacloud.nasa.gov/lp...   \n",
       "4  https://data.lpdaac.earthdatacloud.nasa.gov/lp...   \n",
       "\n",
       "                                         hls_url_B12  \\\n",
       "0  https://data.lpdaac.earthdatacloud.nasa.gov/lp...   \n",
       "1  https://data.lpdaac.earthdatacloud.nasa.gov/lp...   \n",
       "2  https://data.lpdaac.earthdatacloud.nasa.gov/lp...   \n",
       "3  https://data.lpdaac.earthdatacloud.nasa.gov/lp...   \n",
       "4  https://data.lpdaac.earthdatacloud.nasa.gov/lp...   \n",
       "\n",
       "                                       hls_url_Fmask  \n",
       "0  https://data.lpdaac.earthdatacloud.nasa.gov/lp...  \n",
       "1  https://data.lpdaac.earthdatacloud.nasa.gov/lp...  \n",
       "2  https://data.lpdaac.earthdatacloud.nasa.gov/lp...  \n",
       "3  https://data.lpdaac.earthdatacloud.nasa.gov/lp...  \n",
       "4  https://data.lpdaac.earthdatacloud.nasa.gov/lp...  \n",
       "\n",
       "[5 rows x 29 columns]"
      ]
     },
     "execution_count": 6,
     "metadata": {},
     "output_type": "execute_result"
    }
   ],
   "source": [
    "dfs_req[0].head()"
   ]
  },
  {
   "cell_type": "code",
   "execution_count": 7,
   "id": "90245bf3",
   "metadata": {
    "ExecuteTime": {
     "end_time": "2023-03-22T19:21:57.528683Z",
     "start_time": "2023-03-22T19:21:57.525808Z"
    }
   },
   "outputs": [
    {
     "data": {
      "text/plain": [
       "PosixPath('out/verification_stats_agg/100-trials_conf-classes-none_sample-from-val/verification_results.csv')"
      ]
     },
     "execution_count": 7,
     "metadata": {},
     "output_type": "execute_result"
    }
   ],
   "source": [
    "out_paths[0]"
   ]
  },
  {
   "cell_type": "markdown",
   "id": "c350e8ea",
   "metadata": {},
   "source": [
    "# Additional Metrics"
   ]
  },
  {
   "cell_type": "code",
   "execution_count": 8,
   "id": "38900436",
   "metadata": {
    "ExecuteTime": {
     "end_time": "2023-03-22T19:21:57.533770Z",
     "start_time": "2023-03-22T19:21:57.530098Z"
    }
   },
   "outputs": [],
   "source": [
    "def combine_metrics_for_one_assessment(assessment_dir_path):\n",
    "    out_dir = Path(f'out/verification_stats_agg/{assessment_dir_path.name}')\n",
    "    \n",
    "    def read_one_assessment(dswx_id):\n",
    "        path = assessment_dir_path / dswx_id / f'stats_{dswx_id}.json'\n",
    "        data = pd.DataFrame(pd.json_normalize(json.load(open(path))))\n",
    "        return data\n",
    "    \n",
    "    dswx_ids = get_dswx_ids(assessment_dir_path)\n",
    "    \n",
    "    data_assessments = list(map(read_one_assessment, dswx_ids))\n",
    "    df_metrics = pd.concat(data_assessments, axis=0).reset_index(drop=True)\n",
    "    df_metrics.to_csv(out_dir / 'metrics.csv', index=False)\n",
    "    out_path = out_dir / 'metrics.csv'\n",
    "    df_metrics.to_csv(out_path, index=False)\n",
    "    return df_metrics, out_path"
   ]
  },
  {
   "cell_type": "code",
   "execution_count": 9,
   "id": "25f1af6f",
   "metadata": {
    "ExecuteTime": {
     "end_time": "2023-03-22T19:21:57.629994Z",
     "start_time": "2023-03-22T19:21:57.535357Z"
    }
   },
   "outputs": [
    {
     "name": "stderr",
     "output_type": "stream",
     "text": [
      "100%|██████| 1/1 [00:00<00:00, 11.03it/s]\n"
     ]
    }
   ],
   "source": [
    "dfs_metrics, out_paths = zip(*list(map(combine_metrics_for_one_assessment, tqdm(assessment_dir_paths))))"
   ]
  },
  {
   "cell_type": "code",
   "execution_count": 10,
   "id": "eb746631",
   "metadata": {
    "ExecuteTime": {
     "end_time": "2023-03-22T19:21:57.648351Z",
     "start_time": "2023-03-22T19:21:57.633948Z"
    }
   },
   "outputs": [
    {
     "data": {
      "text/html": [
       "<div>\n",
       "<style scoped>\n",
       "    .dataframe tbody tr th:only-of-type {\n",
       "        vertical-align: middle;\n",
       "    }\n",
       "\n",
       "    .dataframe tbody tr th {\n",
       "        vertical-align: top;\n",
       "    }\n",
       "\n",
       "    .dataframe thead th {\n",
       "        text-align: right;\n",
       "    }\n",
       "</style>\n",
       "<table border=\"1\" class=\"dataframe\">\n",
       "  <thead>\n",
       "    <tr style=\"text-align: right;\">\n",
       "      <th></th>\n",
       "      <th>total_accuracy.mean</th>\n",
       "      <th>total_accuracy.std</th>\n",
       "      <th>binary_water_acc.mean</th>\n",
       "      <th>binary_water_acc.std</th>\n",
       "      <th>acc_per_class.Not_Water.mean</th>\n",
       "      <th>acc_per_class.Not_Water.std</th>\n",
       "      <th>acc_per_class.Open_Surface_Water.mean</th>\n",
       "      <th>acc_per_class.Open_Surface_Water.std</th>\n",
       "      <th>acc_per_class.Partial_Surface_Water.mean</th>\n",
       "      <th>acc_per_class.Partial_Surface_Water.std</th>\n",
       "      <th>...</th>\n",
       "      <th>confusion_matrix.Open_Surface_Water_OPERA_DSWx.Open_Surface_Water_OPERA_Validation.mean</th>\n",
       "      <th>confusion_matrix.Open_Surface_Water_OPERA_DSWx.Open_Surface_Water_OPERA_Validation.std</th>\n",
       "      <th>confusion_matrix.Open_Surface_Water_OPERA_DSWx.Partial_Surface_Water_OPERA_Validation.mean</th>\n",
       "      <th>confusion_matrix.Open_Surface_Water_OPERA_DSWx.Partial_Surface_Water_OPERA_Validation.std</th>\n",
       "      <th>confusion_matrix.Partial_Surface_Water_OPERA_DSWx.Not_Water_OPERA_Validation.mean</th>\n",
       "      <th>confusion_matrix.Partial_Surface_Water_OPERA_DSWx.Not_Water_OPERA_Validation.std</th>\n",
       "      <th>confusion_matrix.Partial_Surface_Water_OPERA_DSWx.Open_Surface_Water_OPERA_Validation.mean</th>\n",
       "      <th>confusion_matrix.Partial_Surface_Water_OPERA_DSWx.Open_Surface_Water_OPERA_Validation.std</th>\n",
       "      <th>confusion_matrix.Partial_Surface_Water_OPERA_DSWx.Partial_Surface_Water_OPERA_Validation.mean</th>\n",
       "      <th>confusion_matrix.Partial_Surface_Water_OPERA_DSWx.Partial_Surface_Water_OPERA_Validation.std</th>\n",
       "    </tr>\n",
       "  </thead>\n",
       "  <tbody>\n",
       "    <tr>\n",
       "      <th>0</th>\n",
       "      <td>1.000000</td>\n",
       "      <td>0.000000</td>\n",
       "      <td>1.000000</td>\n",
       "      <td>0.000000</td>\n",
       "      <td>1.000000</td>\n",
       "      <td>0.000000</td>\n",
       "      <td>1.000000</td>\n",
       "      <td>0.000000</td>\n",
       "      <td>1.000000</td>\n",
       "      <td>0.000000</td>\n",
       "      <td>...</td>\n",
       "      <td>NaN</td>\n",
       "      <td>NaN</td>\n",
       "      <td>NaN</td>\n",
       "      <td>NaN</td>\n",
       "      <td>NaN</td>\n",
       "      <td>NaN</td>\n",
       "      <td>NaN</td>\n",
       "      <td>NaN</td>\n",
       "      <td>NaN</td>\n",
       "      <td>NaN</td>\n",
       "    </tr>\n",
       "    <tr>\n",
       "      <th>1</th>\n",
       "      <td>0.769888</td>\n",
       "      <td>0.002634</td>\n",
       "      <td>0.976629</td>\n",
       "      <td>0.002634</td>\n",
       "      <td>0.976629</td>\n",
       "      <td>0.002634</td>\n",
       "      <td>0.792921</td>\n",
       "      <td>0.000806</td>\n",
       "      <td>0.770225</td>\n",
       "      <td>0.002461</td>\n",
       "      <td>...</td>\n",
       "      <td>167.00</td>\n",
       "      <td>0.000000</td>\n",
       "      <td>92.00</td>\n",
       "      <td>0.000000</td>\n",
       "      <td>1.25</td>\n",
       "      <td>1.095215</td>\n",
       "      <td>0.00</td>\n",
       "      <td>0.000000</td>\n",
       "      <td>10.0</td>\n",
       "      <td>0.000000</td>\n",
       "    </tr>\n",
       "    <tr>\n",
       "      <th>2</th>\n",
       "      <td>0.719860</td>\n",
       "      <td>0.008536</td>\n",
       "      <td>0.982794</td>\n",
       "      <td>0.005041</td>\n",
       "      <td>0.982794</td>\n",
       "      <td>0.005041</td>\n",
       "      <td>0.736886</td>\n",
       "      <td>0.008887</td>\n",
       "      <td>0.720040</td>\n",
       "      <td>0.008594</td>\n",
       "      <td>...</td>\n",
       "      <td>165.81</td>\n",
       "      <td>1.011999</td>\n",
       "      <td>130.54</td>\n",
       "      <td>4.253151</td>\n",
       "      <td>1.77</td>\n",
       "      <td>1.316983</td>\n",
       "      <td>1.19</td>\n",
       "      <td>1.011999</td>\n",
       "      <td>29.7</td>\n",
       "      <td>3.909326</td>\n",
       "    </tr>\n",
       "    <tr>\n",
       "      <th>3</th>\n",
       "      <td>0.693713</td>\n",
       "      <td>0.008475</td>\n",
       "      <td>0.858663</td>\n",
       "      <td>0.005826</td>\n",
       "      <td>0.858663</td>\n",
       "      <td>0.005826</td>\n",
       "      <td>0.826547</td>\n",
       "      <td>0.009518</td>\n",
       "      <td>0.702216</td>\n",
       "      <td>0.008008</td>\n",
       "      <td>...</td>\n",
       "      <td>140.28</td>\n",
       "      <td>3.695698</td>\n",
       "      <td>60.14</td>\n",
       "      <td>2.160340</td>\n",
       "      <td>2.19</td>\n",
       "      <td>1.244747</td>\n",
       "      <td>22.50</td>\n",
       "      <td>3.385948</td>\n",
       "      <td>42.5</td>\n",
       "      <td>1.760969</td>\n",
       "    </tr>\n",
       "    <tr>\n",
       "      <th>4</th>\n",
       "      <td>1.000000</td>\n",
       "      <td>0.000000</td>\n",
       "      <td>1.000000</td>\n",
       "      <td>0.000000</td>\n",
       "      <td>1.000000</td>\n",
       "      <td>0.000000</td>\n",
       "      <td>1.000000</td>\n",
       "      <td>0.000000</td>\n",
       "      <td>1.000000</td>\n",
       "      <td>0.000000</td>\n",
       "      <td>...</td>\n",
       "      <td>NaN</td>\n",
       "      <td>NaN</td>\n",
       "      <td>NaN</td>\n",
       "      <td>NaN</td>\n",
       "      <td>NaN</td>\n",
       "      <td>NaN</td>\n",
       "      <td>NaN</td>\n",
       "      <td>NaN</td>\n",
       "      <td>NaN</td>\n",
       "      <td>NaN</td>\n",
       "    </tr>\n",
       "  </tbody>\n",
       "</table>\n",
       "<p>5 rows × 54 columns</p>\n",
       "</div>"
      ],
      "text/plain": [
       "   total_accuracy.mean  total_accuracy.std  binary_water_acc.mean  \\\n",
       "0             1.000000            0.000000               1.000000   \n",
       "1             0.769888            0.002634               0.976629   \n",
       "2             0.719860            0.008536               0.982794   \n",
       "3             0.693713            0.008475               0.858663   \n",
       "4             1.000000            0.000000               1.000000   \n",
       "\n",
       "   binary_water_acc.std  acc_per_class.Not_Water.mean  \\\n",
       "0              0.000000                      1.000000   \n",
       "1              0.002634                      0.976629   \n",
       "2              0.005041                      0.982794   \n",
       "3              0.005826                      0.858663   \n",
       "4              0.000000                      1.000000   \n",
       "\n",
       "   acc_per_class.Not_Water.std  acc_per_class.Open_Surface_Water.mean  \\\n",
       "0                     0.000000                               1.000000   \n",
       "1                     0.002634                               0.792921   \n",
       "2                     0.005041                               0.736886   \n",
       "3                     0.005826                               0.826547   \n",
       "4                     0.000000                               1.000000   \n",
       "\n",
       "   acc_per_class.Open_Surface_Water.std  \\\n",
       "0                              0.000000   \n",
       "1                              0.000806   \n",
       "2                              0.008887   \n",
       "3                              0.009518   \n",
       "4                              0.000000   \n",
       "\n",
       "   acc_per_class.Partial_Surface_Water.mean  \\\n",
       "0                                  1.000000   \n",
       "1                                  0.770225   \n",
       "2                                  0.720040   \n",
       "3                                  0.702216   \n",
       "4                                  1.000000   \n",
       "\n",
       "   acc_per_class.Partial_Surface_Water.std  ...  \\\n",
       "0                                 0.000000  ...   \n",
       "1                                 0.002461  ...   \n",
       "2                                 0.008594  ...   \n",
       "3                                 0.008008  ...   \n",
       "4                                 0.000000  ...   \n",
       "\n",
       "   confusion_matrix.Open_Surface_Water_OPERA_DSWx.Open_Surface_Water_OPERA_Validation.mean  \\\n",
       "0                                                NaN                                         \n",
       "1                                             167.00                                         \n",
       "2                                             165.81                                         \n",
       "3                                             140.28                                         \n",
       "4                                                NaN                                         \n",
       "\n",
       "   confusion_matrix.Open_Surface_Water_OPERA_DSWx.Open_Surface_Water_OPERA_Validation.std  \\\n",
       "0                                                NaN                                        \n",
       "1                                           0.000000                                        \n",
       "2                                           1.011999                                        \n",
       "3                                           3.695698                                        \n",
       "4                                                NaN                                        \n",
       "\n",
       "   confusion_matrix.Open_Surface_Water_OPERA_DSWx.Partial_Surface_Water_OPERA_Validation.mean  \\\n",
       "0                                                NaN                                            \n",
       "1                                              92.00                                            \n",
       "2                                             130.54                                            \n",
       "3                                              60.14                                            \n",
       "4                                                NaN                                            \n",
       "\n",
       "   confusion_matrix.Open_Surface_Water_OPERA_DSWx.Partial_Surface_Water_OPERA_Validation.std  \\\n",
       "0                                                NaN                                           \n",
       "1                                           0.000000                                           \n",
       "2                                           4.253151                                           \n",
       "3                                           2.160340                                           \n",
       "4                                                NaN                                           \n",
       "\n",
       "   confusion_matrix.Partial_Surface_Water_OPERA_DSWx.Not_Water_OPERA_Validation.mean  \\\n",
       "0                                                NaN                                   \n",
       "1                                               1.25                                   \n",
       "2                                               1.77                                   \n",
       "3                                               2.19                                   \n",
       "4                                                NaN                                   \n",
       "\n",
       "   confusion_matrix.Partial_Surface_Water_OPERA_DSWx.Not_Water_OPERA_Validation.std  \\\n",
       "0                                                NaN                                  \n",
       "1                                           1.095215                                  \n",
       "2                                           1.316983                                  \n",
       "3                                           1.244747                                  \n",
       "4                                                NaN                                  \n",
       "\n",
       "   confusion_matrix.Partial_Surface_Water_OPERA_DSWx.Open_Surface_Water_OPERA_Validation.mean  \\\n",
       "0                                                NaN                                            \n",
       "1                                               0.00                                            \n",
       "2                                               1.19                                            \n",
       "3                                              22.50                                            \n",
       "4                                                NaN                                            \n",
       "\n",
       "   confusion_matrix.Partial_Surface_Water_OPERA_DSWx.Open_Surface_Water_OPERA_Validation.std  \\\n",
       "0                                                NaN                                           \n",
       "1                                           0.000000                                           \n",
       "2                                           1.011999                                           \n",
       "3                                           3.385948                                           \n",
       "4                                                NaN                                           \n",
       "\n",
       "   confusion_matrix.Partial_Surface_Water_OPERA_DSWx.Partial_Surface_Water_OPERA_Validation.mean  \\\n",
       "0                                                NaN                                               \n",
       "1                                               10.0                                               \n",
       "2                                               29.7                                               \n",
       "3                                               42.5                                               \n",
       "4                                                NaN                                               \n",
       "\n",
       "   confusion_matrix.Partial_Surface_Water_OPERA_DSWx.Partial_Surface_Water_OPERA_Validation.std  \n",
       "0                                                NaN                                             \n",
       "1                                           0.000000                                             \n",
       "2                                           3.909326                                             \n",
       "3                                           1.760969                                             \n",
       "4                                                NaN                                             \n",
       "\n",
       "[5 rows x 54 columns]"
      ]
     },
     "execution_count": 10,
     "metadata": {},
     "output_type": "execute_result"
    }
   ],
   "source": [
    "dfs_metrics[0].head()"
   ]
  },
  {
   "cell_type": "code",
   "execution_count": 11,
   "id": "3988f3b1",
   "metadata": {
    "ExecuteTime": {
     "end_time": "2023-03-22T19:21:57.653053Z",
     "start_time": "2023-03-22T19:21:57.649953Z"
    }
   },
   "outputs": [
    {
     "data": {
      "text/plain": [
       "PosixPath('out/verification_stats_agg/100-trials_conf-classes-none_sample-from-val/metrics.csv')"
      ]
     },
     "execution_count": 11,
     "metadata": {},
     "output_type": "execute_result"
    }
   ],
   "source": [
    "out_paths[0]"
   ]
  },
  {
   "cell_type": "markdown",
   "id": "0a7b1877",
   "metadata": {},
   "source": [
    "# For presentations\n",
    "\n",
    "Aggregate all validation statistics for a particular set of validation runs"
   ]
  },
  {
   "cell_type": "code",
   "execution_count": 12,
   "id": "81df1765",
   "metadata": {
    "ExecuteTime": {
     "end_time": "2023-03-22T19:21:57.657655Z",
     "start_time": "2023-03-22T19:21:57.654451Z"
    }
   },
   "outputs": [
    {
     "data": {
      "text/plain": [
       "0"
      ]
     },
     "execution_count": 12,
     "metadata": {},
     "output_type": "execute_result"
    }
   ],
   "source": [
    "index = [k for k, out_path in enumerate(out_paths) if '100-trials_conf-classes-none_sample-from-val' in str(out_path)][0]\n",
    "index"
   ]
  },
  {
   "cell_type": "code",
   "execution_count": 13,
   "id": "bd764e6a",
   "metadata": {
    "ExecuteTime": {
     "end_time": "2023-03-22T19:21:57.661226Z",
     "start_time": "2023-03-22T19:21:57.659149Z"
    }
   },
   "outputs": [],
   "source": [
    "df_final = dfs_metrics[index]\n",
    "out_path_final = out_paths[index]"
   ]
  },
  {
   "cell_type": "code",
   "execution_count": 14,
   "id": "3b0b5c71",
   "metadata": {
    "ExecuteTime": {
     "end_time": "2023-03-22T19:21:57.665498Z",
     "start_time": "2023-03-22T19:21:57.662826Z"
    }
   },
   "outputs": [],
   "source": [
    "COLUMN_RENAME = {'total_accuracy.mean': 'Total Accuracy (All Classes)',\n",
    "                 'binary_water_acc.mean': 'Binary Accuarcy (OSW + PSW)',\n",
    "                 'precision.Open_Surface_Water.mean': 'Precision (OSW)',\n",
    "                 'acc_per_class.Open_Surface_Water.mean': 'Binary Accuracy (OSW)',\n",
    "                 'acc_per_class.Partial_Surface_Water.mean': 'Binary Accuracy (PSW)',\n",
    "                 'precision.Partial_Surface_Water.mean': 'Precision (PSW)',\n",
    "                 'recall.Open_Surface_Water.mean': 'Recall (OSW)',\n",
    "                 'recall.Partial_Surface_Water.mean': 'Recall (PSW)',\n",
    "                 #'supp_per_class.Open_Surface_Water.mean': 'Support (Val) (OSW)',\n",
    "                 #'supp_per_class.Partial_Surface_Water.mean': 'Support (Val) (PSW)',\n",
    "                 'f1_per_class.Open_Surface_Water.mean': 'F1 (OSW)',\n",
    "                 'f1_per_class.Partial_Surface_Water.mean': 'F1 (PSW)'}\n",
    "COLUMNS = list(COLUMN_RENAME.keys())"
   ]
  },
  {
   "cell_type": "code",
   "execution_count": 15,
   "id": "9843cac5",
   "metadata": {
    "ExecuteTime": {
     "end_time": "2023-03-22T19:21:57.696265Z",
     "start_time": "2023-03-22T19:21:57.667171Z"
    }
   },
   "outputs": [
    {
     "data": {
      "text/html": [
       "<div>\n",
       "<style scoped>\n",
       "    .dataframe tbody tr th:only-of-type {\n",
       "        vertical-align: middle;\n",
       "    }\n",
       "\n",
       "    .dataframe tbody tr th {\n",
       "        vertical-align: top;\n",
       "    }\n",
       "\n",
       "    .dataframe thead th {\n",
       "        text-align: right;\n",
       "    }\n",
       "</style>\n",
       "<table border=\"1\" class=\"dataframe\">\n",
       "  <thead>\n",
       "    <tr style=\"text-align: right;\">\n",
       "      <th></th>\n",
       "      <th></th>\n",
       "      <th>Mean</th>\n",
       "      <th>Median</th>\n",
       "      <th>St. Dev.</th>\n",
       "    </tr>\n",
       "    <tr>\n",
       "      <th>Class</th>\n",
       "      <th>Metric</th>\n",
       "      <th></th>\n",
       "      <th></th>\n",
       "      <th></th>\n",
       "    </tr>\n",
       "  </thead>\n",
       "  <tbody>\n",
       "    <tr>\n",
       "      <th>All</th>\n",
       "      <th>Total Accuracy  ($\\%$)</th>\n",
       "      <td>84.6</td>\n",
       "      <td>84.72</td>\n",
       "      <td>14.24</td>\n",
       "    </tr>\n",
       "    <tr>\n",
       "      <th>OSW + PSW</th>\n",
       "      <th>Binary Accuarcy  ($\\%$)</th>\n",
       "      <td>94.11</td>\n",
       "      <td>96.43</td>\n",
       "      <td>7.65</td>\n",
       "    </tr>\n",
       "    <tr>\n",
       "      <th rowspan=\"4\" valign=\"top\">OSW</th>\n",
       "      <th>Binary Accuracy  ($\\%$)</th>\n",
       "      <td>90.12</td>\n",
       "      <td>96.48</td>\n",
       "      <td>11.26</td>\n",
       "    </tr>\n",
       "    <tr>\n",
       "      <th>F1  ($\\%$)</th>\n",
       "      <td>85.03</td>\n",
       "      <td>90.04</td>\n",
       "      <td>17.57</td>\n",
       "    </tr>\n",
       "    <tr>\n",
       "      <th>Precision  ($\\%$)</th>\n",
       "      <td>81.25</td>\n",
       "      <td>93.79</td>\n",
       "      <td>21.49</td>\n",
       "    </tr>\n",
       "    <tr>\n",
       "      <th>Recall  ($\\%$)</th>\n",
       "      <td>95.08</td>\n",
       "      <td>100.0</td>\n",
       "      <td>14.81</td>\n",
       "    </tr>\n",
       "    <tr>\n",
       "      <th rowspan=\"4\" valign=\"top\">PSW</th>\n",
       "      <th>Binary Accuracy  ($\\%$)</th>\n",
       "      <td>84.97</td>\n",
       "      <td>84.73</td>\n",
       "      <td>13.74</td>\n",
       "    </tr>\n",
       "    <tr>\n",
       "      <th>F1  ($\\%$)</th>\n",
       "      <td>51.24</td>\n",
       "      <td>44.46</td>\n",
       "      <td>40.34</td>\n",
       "    </tr>\n",
       "    <tr>\n",
       "      <th>Precision  ($\\%$)</th>\n",
       "      <td>76.18</td>\n",
       "      <td>90.6</td>\n",
       "      <td>32.08</td>\n",
       "    </tr>\n",
       "    <tr>\n",
       "      <th>Recall  ($\\%$)</th>\n",
       "      <td>57.36</td>\n",
       "      <td>56.34</td>\n",
       "      <td>42.47</td>\n",
       "    </tr>\n",
       "  </tbody>\n",
       "</table>\n",
       "</div>"
      ],
      "text/plain": [
       "                                    Mean Median St. Dev.\n",
       "Class     Metric                                        \n",
       "All       Total Accuracy  ($\\%$)    84.6  84.72    14.24\n",
       "OSW + PSW Binary Accuarcy  ($\\%$)  94.11  96.43     7.65\n",
       "OSW       Binary Accuracy  ($\\%$)  90.12  96.48    11.26\n",
       "          F1  ($\\%$)               85.03  90.04    17.57\n",
       "          Precision  ($\\%$)        81.25  93.79    21.49\n",
       "          Recall  ($\\%$)           95.08  100.0    14.81\n",
       "PSW       Binary Accuracy  ($\\%$)  84.97  84.73    13.74\n",
       "          F1  ($\\%$)               51.24  44.46    40.34\n",
       "          Precision  ($\\%$)        76.18   90.6    32.08\n",
       "          Recall  ($\\%$)           57.36  56.34    42.47"
      ]
     },
     "execution_count": 15,
     "metadata": {},
     "output_type": "execute_result"
    }
   ],
   "source": [
    "df_temp = df_final[COLUMNS].agg(['mean', 'median', 'std'])\n",
    "df_temp.rename(columns=COLUMN_RENAME, inplace=True)\n",
    "\n",
    "cols_not_supp = [col for col in df_temp.columns if 'Support' not in col]\n",
    "df_temp[cols_not_supp] = df_temp[cols_not_supp] * 100\n",
    "\n",
    "df_f = df_temp.T\n",
    "df_f = df_f.round(2).astype(str)\n",
    "\n",
    "df_f = df_f.reset_index(drop=False)\n",
    "df_f = df_f.rename(columns={'index': 'Metric'})\n",
    "def class_labeler(metric):\n",
    "    if '(OSW + PSW)' in metric:\n",
    "        return 'OSW + PSW'\n",
    "    if 'OSW' in metric:\n",
    "        return 'OSW'\n",
    "    if 'PSW' in metric:\n",
    "        return 'PSW'\n",
    "    else:\n",
    "        return 'All'\n",
    "df_f['Class'] = df_f.Metric.map(class_labeler)\n",
    "\n",
    "lookup_order = {'All': 0, 'OSW + PSW': 1, 'OSW': 2, 'PSW': 3}\n",
    "df_f['Class_sort'] = df_f.Class.map(lambda c: lookup_order[c])\n",
    "\n",
    "df_f['Metric'] = df_f.Metric.map(lambda m: m.split('(')[0])\n",
    "df_f['Metric'] = df_f.Metric.map(lambda m: m + ' ($\\%$)' if 'Support' not in m else m)\n",
    "df_f.sort_values(by=['Class_sort', 'Metric'], inplace=True)\n",
    "df_f = df_f.set_index(['Class', 'Metric'])\n",
    "df_f.drop(columns=['Class_sort'], inplace=True)\n",
    "df_f.rename(columns={'mean': 'Mean', \n",
    "                     'std': 'St. Dev.', \n",
    "                     'median': 'Median'}, inplace=True)\n",
    "df_f"
   ]
  },
  {
   "cell_type": "code",
   "execution_count": 16,
   "id": "516ebbd8",
   "metadata": {
    "ExecuteTime": {
     "end_time": "2023-03-22T19:21:57.701196Z",
     "start_time": "2023-03-22T19:21:57.697958Z"
    }
   },
   "outputs": [
    {
     "data": {
      "text/plain": [
       "PosixPath('presentation_images/100-trials_conf-classes-none_sample-from-val')"
      ]
     },
     "execution_count": 16,
     "metadata": {},
     "output_type": "execute_result"
    }
   ],
   "source": [
    "presentation_dir = Path('presentation_images') / out_path_final.parent.name \n",
    "presentation_dir.mkdir(exist_ok=True, parents=True)\n",
    "presentation_dir"
   ]
  },
  {
   "cell_type": "code",
   "execution_count": 17,
   "id": "40cd4bc0",
   "metadata": {
    "ExecuteTime": {
     "end_time": "2023-03-22T19:21:58.131595Z",
     "start_time": "2023-03-22T19:21:57.702586Z"
    }
   },
   "outputs": [],
   "source": [
    "latex = df_f.style.to_latex(multirow_align='t', hrules=True)\n",
    "with open(presentation_dir / 'total_accuracy_for_all_validation.tex', 'w') as f:\n",
    "    f.write(latex)"
   ]
  },
  {
   "cell_type": "code",
   "execution_count": 18,
   "id": "d766de10",
   "metadata": {
    "ExecuteTime": {
     "end_time": "2023-03-22T19:21:58.135275Z",
     "start_time": "2023-03-22T19:21:58.133332Z"
    }
   },
   "outputs": [],
   "source": [
    "df_req = dfs_req[index]"
   ]
  },
  {
   "cell_type": "code",
   "execution_count": 19,
   "id": "27ea3ba9",
   "metadata": {
    "ExecuteTime": {
     "end_time": "2023-03-22T19:21:58.140623Z",
     "start_time": "2023-03-22T19:21:58.136854Z"
    }
   },
   "outputs": [
    {
     "data": {
      "text/plain": [
       "(41, 40, 37)"
      ]
     },
     "execution_count": 19,
     "metadata": {},
     "output_type": "execute_result"
    }
   ],
   "source": [
    "n_osw_passes = df_req.surface_water.sum()\n",
    "n_pws_passes = df_req.partial_surface_water.sum()\n",
    "n_both_pass = (df_req.surface_water & df_req.partial_surface_water).sum()\n",
    "n_pws_passes, n_osw_passes, n_both_pass"
   ]
  },
  {
   "cell_type": "code",
   "execution_count": 20,
   "id": "cffacf0b",
   "metadata": {
    "ExecuteTime": {
     "end_time": "2023-03-22T19:21:58.146747Z",
     "start_time": "2023-03-22T19:21:58.142543Z"
    }
   },
   "outputs": [
    {
     "data": {
      "text/plain": [
       "(12, 11, 37)"
      ]
     },
     "execution_count": 20,
     "metadata": {},
     "output_type": "execute_result"
    }
   ],
   "source": [
    "n_osw_fails = (~df_req.surface_water).sum()\n",
    "n_pws_fails = (~df_req.partial_surface_water).sum()\n",
    "n_both_fail = (~df_req.surface_water | ~df_req.partial_surface_water).sum()\n",
    "n_osw_fails, n_pws_fails, n_both_pass"
   ]
  },
  {
   "cell_type": "code",
   "execution_count": 21,
   "id": "8c1d5e15",
   "metadata": {
    "ExecuteTime": {
     "end_time": "2023-03-22T19:21:58.155003Z",
     "start_time": "2023-03-22T19:21:58.148594Z"
    }
   },
   "outputs": [
    {
     "data": {
      "text/html": [
       "<div>\n",
       "<style scoped>\n",
       "    .dataframe tbody tr th:only-of-type {\n",
       "        vertical-align: middle;\n",
       "    }\n",
       "\n",
       "    .dataframe tbody tr th {\n",
       "        vertical-align: top;\n",
       "    }\n",
       "\n",
       "    .dataframe thead th {\n",
       "        text-align: right;\n",
       "    }\n",
       "</style>\n",
       "<table border=\"1\" class=\"dataframe\">\n",
       "  <thead>\n",
       "    <tr style=\"text-align: right;\">\n",
       "      <th></th>\n",
       "      <th>Pass</th>\n",
       "      <th>Not Pass</th>\n",
       "    </tr>\n",
       "    <tr>\n",
       "      <th>Class</th>\n",
       "      <th></th>\n",
       "      <th></th>\n",
       "    </tr>\n",
       "  </thead>\n",
       "  <tbody>\n",
       "    <tr>\n",
       "      <th>Open Surface Water (OSW)</th>\n",
       "      <td>40</td>\n",
       "      <td>12</td>\n",
       "    </tr>\n",
       "    <tr>\n",
       "      <th>Partial Surface Water (PSW)</th>\n",
       "      <td>41</td>\n",
       "      <td>11</td>\n",
       "    </tr>\n",
       "    <tr>\n",
       "      <th>Both (OSW + PSW)</th>\n",
       "      <td>37</td>\n",
       "      <td>15</td>\n",
       "    </tr>\n",
       "  </tbody>\n",
       "</table>\n",
       "</div>"
      ],
      "text/plain": [
       "                             Pass  Not Pass\n",
       "Class                                      \n",
       "Open Surface Water (OSW)       40        12\n",
       "Partial Surface Water (PSW)    41        11\n",
       "Both (OSW + PSW)               37        15"
      ]
     },
     "execution_count": 21,
     "metadata": {},
     "output_type": "execute_result"
    }
   ],
   "source": [
    "df_passes = pd.DataFrame([{'Class': 'Open Surface Water (OSW)',\n",
    "                          'Pass': n_osw_passes,\n",
    "                          'Not Pass': n_osw_fails},\n",
    "                         {'Class': 'Partial Surface Water (PSW)',\n",
    "                          'Pass': n_pws_passes,\n",
    "                          'Not Pass': n_pws_fails},\n",
    "                         {'Class': 'Both (OSW + PSW)',\n",
    "                          'Pass': n_both_pass,\n",
    "                          'Not Pass': n_both_fail}])\n",
    "df_passes = df_passes.set_index('Class')\n",
    "df_passes"
   ]
  },
  {
   "cell_type": "code",
   "execution_count": 22,
   "id": "eaf5e6fa",
   "metadata": {
    "ExecuteTime": {
     "end_time": "2023-03-22T19:21:58.161786Z",
     "start_time": "2023-03-22T19:21:58.156589Z"
    }
   },
   "outputs": [],
   "source": [
    "latex = df_passes.style.to_latex(multirow_align='t', hrules=True)\n",
    "with open(presentation_dir / 'total_passes.tex', 'w') as f:\n",
    "    f.write(latex)"
   ]
  }
 ],
 "metadata": {
  "kernelspec": {
   "display_name": "dswx_val",
   "language": "python",
   "name": "dswx_val"
  },
  "language_info": {
   "codemirror_mode": {
    "name": "ipython",
    "version": 3
   },
   "file_extension": ".py",
   "mimetype": "text/x-python",
   "name": "python",
   "nbconvert_exporter": "python",
   "pygments_lexer": "ipython3",
   "version": "3.11.0"
  }
 },
 "nbformat": 4,
 "nbformat_minor": 5
}
