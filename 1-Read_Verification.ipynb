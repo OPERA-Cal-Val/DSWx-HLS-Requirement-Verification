{
 "cells": [
  {
   "cell_type": "code",
   "execution_count": 1,
   "id": "75767453",
   "metadata": {
    "ExecuteTime": {
     "end_time": "2023-01-25T18:47:44.449611Z",
     "start_time": "2023-01-25T18:47:44.075512Z"
    }
   },
   "outputs": [],
   "source": [
    "import json\n",
    "import pandas as pd\n",
    "from pathlib import Path\n",
    "from pandas import json_normalize\n",
    "from tqdm import tqdm"
   ]
  },
  {
   "cell_type": "code",
   "execution_count": 2,
   "id": "62f82d58",
   "metadata": {
    "ExecuteTime": {
     "end_time": "2023-01-25T18:47:44.457974Z",
     "start_time": "2023-01-25T18:47:44.451505Z"
    }
   },
   "outputs": [
    {
     "data": {
      "text/plain": [
       "True"
      ]
     },
     "execution_count": 2,
     "metadata": {},
     "output_type": "execute_result"
    }
   ],
   "source": [
    "assessment_data = Path(f'out/assessment_data')\n",
    "assessment_data.exists()"
   ]
  },
  {
   "cell_type": "code",
   "execution_count": 3,
   "id": "5bdae1ba",
   "metadata": {
    "ExecuteTime": {
     "end_time": "2023-01-25T18:47:44.466344Z",
     "start_time": "2023-01-25T18:47:44.462415Z"
    }
   },
   "outputs": [
    {
     "data": {
      "text/plain": [
       "[PosixPath('out/assessment_data/100-trials_conf-geq-70_sample-from-val'),\n",
       " PosixPath('out/assessment_data/100-trials_conf-geq-70_sample-from-dswx')]"
      ]
     },
     "execution_count": 3,
     "metadata": {},
     "output_type": "execute_result"
    }
   ],
   "source": [
    "assessment_dir_paths = list(assessment_data.glob('*/'))\n",
    "assessment_dir_paths = list(filter(lambda x: '.DS_Store' not in x.name, assessment_dir_paths))\n",
    "assessment_dir_paths"
   ]
  },
  {
   "cell_type": "code",
   "execution_count": 4,
   "id": "36ea7d96",
   "metadata": {
    "ExecuteTime": {
     "end_time": "2023-01-25T18:47:44.471849Z",
     "start_time": "2023-01-25T18:47:44.467726Z"
    }
   },
   "outputs": [],
   "source": [
    "def get_dswx_ids(assessment_dir) -> list:\n",
    "    dswx_verification_paths = list(assessment_dir.glob('*/'))\n",
    "    dswx_ids = [path.name for path in dswx_verification_paths]\n",
    "    # Remove DSWx paths\n",
    "    dswx_ids = list(filter(lambda dswx_id: '.' != dswx_id[0], dswx_ids))\n",
    "    return dswx_ids\n",
    "\n",
    "\n",
    "def combine_requirement_verification_for_one_assessment(assessment_dir_path):\n",
    "    out_dir = Path(f'out/verification_stats_agg/{assessment_dir_path.name}')\n",
    "    out_dir.mkdir(exist_ok=True, parents=True)\n",
    "    \n",
    "    dswx_ids = get_dswx_ids(assessment_dir_path)\n",
    "    \n",
    "    def read_one_requirements_json(dswx_id):\n",
    "        path = assessment_dir_path / dswx_id / f'requirement_verification_{dswx_id}.json'\n",
    "        data = json.load(open(path))\n",
    "        return data\n",
    "    \n",
    "    data = list(map(read_one_requirements_json, dswx_ids))\n",
    "    df = pd.DataFrame(data)\n",
    "    cols = ['surface_water','partial_surface_water']\n",
    "    df[cols + ['dswx_id']].groupby(cols).count()\n",
    "    \n",
    "    out_path = out_dir / 'verification_results.csv'\n",
    "    df.to_csv(out_path, index=False)\n",
    "    \n",
    "    return df, out_path"
   ]
  },
  {
   "cell_type": "code",
   "execution_count": 5,
   "id": "10a40071",
   "metadata": {
    "ExecuteTime": {
     "end_time": "2023-01-25T18:47:44.519011Z",
     "start_time": "2023-01-25T18:47:44.473422Z"
    }
   },
   "outputs": [
    {
     "name": "stderr",
     "output_type": "stream",
     "text": [
      "100%|███████████████████████████████████| 2/2 [00:00<00:00, 75.96it/s]\n"
     ]
    }
   ],
   "source": [
    "dfs_req, out_paths = zip(*list(map(combine_requirement_verification_for_one_assessment, tqdm(assessment_dir_paths))))"
   ]
  },
  {
   "cell_type": "code",
   "execution_count": 6,
   "id": "743f2eb8",
   "metadata": {
    "ExecuteTime": {
     "end_time": "2023-01-25T18:47:44.536314Z",
     "start_time": "2023-01-25T18:47:44.521046Z"
    }
   },
   "outputs": [
    {
     "data": {
      "text/html": [
       "<div>\n",
       "<style scoped>\n",
       "    .dataframe tbody tr th:only-of-type {\n",
       "        vertical-align: middle;\n",
       "    }\n",
       "\n",
       "    .dataframe tbody tr th {\n",
       "        vertical-align: top;\n",
       "    }\n",
       "\n",
       "    .dataframe thead th {\n",
       "        text-align: right;\n",
       "    }\n",
       "</style>\n",
       "<table border=\"1\" class=\"dataframe\">\n",
       "  <thead>\n",
       "    <tr style=\"text-align: right;\">\n",
       "      <th></th>\n",
       "      <th>dswx_id</th>\n",
       "      <th>surface_water</th>\n",
       "      <th>partial_surface_water</th>\n",
       "      <th>dswx-WTR</th>\n",
       "      <th>dswx-BWTR</th>\n",
       "      <th>dswx-CONF</th>\n",
       "      <th>dswx-DIAG</th>\n",
       "      <th>dswx-WTR-1</th>\n",
       "      <th>dswx-WTR-2</th>\n",
       "      <th>dswx-LAND</th>\n",
       "      <th>...</th>\n",
       "      <th>hls_url_B04</th>\n",
       "      <th>hls_url_B05</th>\n",
       "      <th>hls_url_B06</th>\n",
       "      <th>hls_url_B07</th>\n",
       "      <th>hls_url_B08</th>\n",
       "      <th>hls_url_B09</th>\n",
       "      <th>hls_url_B10</th>\n",
       "      <th>hls_url_B11</th>\n",
       "      <th>hls_url_B12</th>\n",
       "      <th>hls_url_Fmask</th>\n",
       "    </tr>\n",
       "  </thead>\n",
       "  <tbody>\n",
       "    <tr>\n",
       "      <th>0</th>\n",
       "      <td>OPERA_L3_DSWx-HLS_T19HCT_20211027T142729Z_2023...</td>\n",
       "      <td>True</td>\n",
       "      <td>True</td>\n",
       "      <td>https://opera-pst-rs-pop1.s3.us-west-2.amazona...</td>\n",
       "      <td>https://opera-pst-rs-pop1.s3.us-west-2.amazona...</td>\n",
       "      <td>https://opera-pst-rs-pop1.s3.us-west-2.amazona...</td>\n",
       "      <td>https://opera-pst-rs-pop1.s3.us-west-2.amazona...</td>\n",
       "      <td>https://opera-pst-rs-pop1.s3.us-west-2.amazona...</td>\n",
       "      <td>https://opera-pst-rs-pop1.s3.us-west-2.amazona...</td>\n",
       "      <td>https://opera-pst-rs-pop1.s3.us-west-2.amazona...</td>\n",
       "      <td>...</td>\n",
       "      <td>https://data.lpdaac.earthdatacloud.nasa.gov/lp...</td>\n",
       "      <td>https://data.lpdaac.earthdatacloud.nasa.gov/lp...</td>\n",
       "      <td>https://data.lpdaac.earthdatacloud.nasa.gov/lp...</td>\n",
       "      <td>https://data.lpdaac.earthdatacloud.nasa.gov/lp...</td>\n",
       "      <td>https://data.lpdaac.earthdatacloud.nasa.gov/lp...</td>\n",
       "      <td>https://data.lpdaac.earthdatacloud.nasa.gov/lp...</td>\n",
       "      <td>https://data.lpdaac.earthdatacloud.nasa.gov/lp...</td>\n",
       "      <td>https://data.lpdaac.earthdatacloud.nasa.gov/lp...</td>\n",
       "      <td>https://data.lpdaac.earthdatacloud.nasa.gov/lp...</td>\n",
       "      <td>https://data.lpdaac.earthdatacloud.nasa.gov/lp...</td>\n",
       "    </tr>\n",
       "    <tr>\n",
       "      <th>1</th>\n",
       "      <td>OPERA_L3_DSWx-HLS_T55TCJ_20210916T011649Z_2023...</td>\n",
       "      <td>True</td>\n",
       "      <td>True</td>\n",
       "      <td>https://opera-pst-rs-pop1.s3.us-west-2.amazona...</td>\n",
       "      <td>https://opera-pst-rs-pop1.s3.us-west-2.amazona...</td>\n",
       "      <td>https://opera-pst-rs-pop1.s3.us-west-2.amazona...</td>\n",
       "      <td>https://opera-pst-rs-pop1.s3.us-west-2.amazona...</td>\n",
       "      <td>https://opera-pst-rs-pop1.s3.us-west-2.amazona...</td>\n",
       "      <td>https://opera-pst-rs-pop1.s3.us-west-2.amazona...</td>\n",
       "      <td>https://opera-pst-rs-pop1.s3.us-west-2.amazona...</td>\n",
       "      <td>...</td>\n",
       "      <td>https://data.lpdaac.earthdatacloud.nasa.gov/lp...</td>\n",
       "      <td>https://data.lpdaac.earthdatacloud.nasa.gov/lp...</td>\n",
       "      <td>https://data.lpdaac.earthdatacloud.nasa.gov/lp...</td>\n",
       "      <td>https://data.lpdaac.earthdatacloud.nasa.gov/lp...</td>\n",
       "      <td>https://data.lpdaac.earthdatacloud.nasa.gov/lp...</td>\n",
       "      <td>https://data.lpdaac.earthdatacloud.nasa.gov/lp...</td>\n",
       "      <td>https://data.lpdaac.earthdatacloud.nasa.gov/lp...</td>\n",
       "      <td>https://data.lpdaac.earthdatacloud.nasa.gov/lp...</td>\n",
       "      <td>https://data.lpdaac.earthdatacloud.nasa.gov/lp...</td>\n",
       "      <td>https://data.lpdaac.earthdatacloud.nasa.gov/lp...</td>\n",
       "    </tr>\n",
       "    <tr>\n",
       "      <th>2</th>\n",
       "      <td>OPERA_L3_DSWx-HLS_T21JWF_20211028T133741Z_2023...</td>\n",
       "      <td>True</td>\n",
       "      <td>True</td>\n",
       "      <td>https://opera-pst-rs-pop1.s3.us-west-2.amazona...</td>\n",
       "      <td>https://opera-pst-rs-pop1.s3.us-west-2.amazona...</td>\n",
       "      <td>https://opera-pst-rs-pop1.s3.us-west-2.amazona...</td>\n",
       "      <td>https://opera-pst-rs-pop1.s3.us-west-2.amazona...</td>\n",
       "      <td>https://opera-pst-rs-pop1.s3.us-west-2.amazona...</td>\n",
       "      <td>https://opera-pst-rs-pop1.s3.us-west-2.amazona...</td>\n",
       "      <td>https://opera-pst-rs-pop1.s3.us-west-2.amazona...</td>\n",
       "      <td>...</td>\n",
       "      <td>https://data.lpdaac.earthdatacloud.nasa.gov/lp...</td>\n",
       "      <td>https://data.lpdaac.earthdatacloud.nasa.gov/lp...</td>\n",
       "      <td>https://data.lpdaac.earthdatacloud.nasa.gov/lp...</td>\n",
       "      <td>https://data.lpdaac.earthdatacloud.nasa.gov/lp...</td>\n",
       "      <td></td>\n",
       "      <td>https://data.lpdaac.earthdatacloud.nasa.gov/lp...</td>\n",
       "      <td>https://data.lpdaac.earthdatacloud.nasa.gov/lp...</td>\n",
       "      <td>https://data.lpdaac.earthdatacloud.nasa.gov/lp...</td>\n",
       "      <td></td>\n",
       "      <td>https://data.lpdaac.earthdatacloud.nasa.gov/lp...</td>\n",
       "    </tr>\n",
       "    <tr>\n",
       "      <th>3</th>\n",
       "      <td>OPERA_L3_DSWx-HLS_T20LKN_20211010T143729Z_2023...</td>\n",
       "      <td>False</td>\n",
       "      <td>False</td>\n",
       "      <td>https://opera-pst-rs-pop1.s3.us-west-2.amazona...</td>\n",
       "      <td>https://opera-pst-rs-pop1.s3.us-west-2.amazona...</td>\n",
       "      <td>https://opera-pst-rs-pop1.s3.us-west-2.amazona...</td>\n",
       "      <td>https://opera-pst-rs-pop1.s3.us-west-2.amazona...</td>\n",
       "      <td>https://opera-pst-rs-pop1.s3.us-west-2.amazona...</td>\n",
       "      <td>https://opera-pst-rs-pop1.s3.us-west-2.amazona...</td>\n",
       "      <td>https://opera-pst-rs-pop1.s3.us-west-2.amazona...</td>\n",
       "      <td>...</td>\n",
       "      <td>https://data.lpdaac.earthdatacloud.nasa.gov/lp...</td>\n",
       "      <td>https://data.lpdaac.earthdatacloud.nasa.gov/lp...</td>\n",
       "      <td>https://data.lpdaac.earthdatacloud.nasa.gov/lp...</td>\n",
       "      <td>https://data.lpdaac.earthdatacloud.nasa.gov/lp...</td>\n",
       "      <td>https://data.lpdaac.earthdatacloud.nasa.gov/lp...</td>\n",
       "      <td>https://data.lpdaac.earthdatacloud.nasa.gov/lp...</td>\n",
       "      <td>https://data.lpdaac.earthdatacloud.nasa.gov/lp...</td>\n",
       "      <td>https://data.lpdaac.earthdatacloud.nasa.gov/lp...</td>\n",
       "      <td>https://data.lpdaac.earthdatacloud.nasa.gov/lp...</td>\n",
       "      <td>https://data.lpdaac.earthdatacloud.nasa.gov/lp...</td>\n",
       "    </tr>\n",
       "    <tr>\n",
       "      <th>4</th>\n",
       "      <td>OPERA_L3_DSWx-HLS_T12SXH_20210921T175632Z_2023...</td>\n",
       "      <td>True</td>\n",
       "      <td>True</td>\n",
       "      <td>https://opera-pst-rs-pop1.s3.us-west-2.amazona...</td>\n",
       "      <td>https://opera-pst-rs-pop1.s3.us-west-2.amazona...</td>\n",
       "      <td>https://opera-pst-rs-pop1.s3.us-west-2.amazona...</td>\n",
       "      <td>https://opera-pst-rs-pop1.s3.us-west-2.amazona...</td>\n",
       "      <td>https://opera-pst-rs-pop1.s3.us-west-2.amazona...</td>\n",
       "      <td>https://opera-pst-rs-pop1.s3.us-west-2.amazona...</td>\n",
       "      <td>https://opera-pst-rs-pop1.s3.us-west-2.amazona...</td>\n",
       "      <td>...</td>\n",
       "      <td>https://data.lpdaac.earthdatacloud.nasa.gov/lp...</td>\n",
       "      <td>https://data.lpdaac.earthdatacloud.nasa.gov/lp...</td>\n",
       "      <td>https://data.lpdaac.earthdatacloud.nasa.gov/lp...</td>\n",
       "      <td>https://data.lpdaac.earthdatacloud.nasa.gov/lp...</td>\n",
       "      <td></td>\n",
       "      <td>https://data.lpdaac.earthdatacloud.nasa.gov/lp...</td>\n",
       "      <td>https://data.lpdaac.earthdatacloud.nasa.gov/lp...</td>\n",
       "      <td>https://data.lpdaac.earthdatacloud.nasa.gov/lp...</td>\n",
       "      <td></td>\n",
       "      <td>https://data.lpdaac.earthdatacloud.nasa.gov/lp...</td>\n",
       "    </tr>\n",
       "  </tbody>\n",
       "</table>\n",
       "<p>5 rows × 29 columns</p>\n",
       "</div>"
      ],
      "text/plain": [
       "                                             dswx_id  surface_water  \\\n",
       "0  OPERA_L3_DSWx-HLS_T19HCT_20211027T142729Z_2023...           True   \n",
       "1  OPERA_L3_DSWx-HLS_T55TCJ_20210916T011649Z_2023...           True   \n",
       "2  OPERA_L3_DSWx-HLS_T21JWF_20211028T133741Z_2023...           True   \n",
       "3  OPERA_L3_DSWx-HLS_T20LKN_20211010T143729Z_2023...          False   \n",
       "4  OPERA_L3_DSWx-HLS_T12SXH_20210921T175632Z_2023...           True   \n",
       "\n",
       "   partial_surface_water                                           dswx-WTR  \\\n",
       "0                   True  https://opera-pst-rs-pop1.s3.us-west-2.amazona...   \n",
       "1                   True  https://opera-pst-rs-pop1.s3.us-west-2.amazona...   \n",
       "2                   True  https://opera-pst-rs-pop1.s3.us-west-2.amazona...   \n",
       "3                  False  https://opera-pst-rs-pop1.s3.us-west-2.amazona...   \n",
       "4                   True  https://opera-pst-rs-pop1.s3.us-west-2.amazona...   \n",
       "\n",
       "                                           dswx-BWTR  \\\n",
       "0  https://opera-pst-rs-pop1.s3.us-west-2.amazona...   \n",
       "1  https://opera-pst-rs-pop1.s3.us-west-2.amazona...   \n",
       "2  https://opera-pst-rs-pop1.s3.us-west-2.amazona...   \n",
       "3  https://opera-pst-rs-pop1.s3.us-west-2.amazona...   \n",
       "4  https://opera-pst-rs-pop1.s3.us-west-2.amazona...   \n",
       "\n",
       "                                           dswx-CONF  \\\n",
       "0  https://opera-pst-rs-pop1.s3.us-west-2.amazona...   \n",
       "1  https://opera-pst-rs-pop1.s3.us-west-2.amazona...   \n",
       "2  https://opera-pst-rs-pop1.s3.us-west-2.amazona...   \n",
       "3  https://opera-pst-rs-pop1.s3.us-west-2.amazona...   \n",
       "4  https://opera-pst-rs-pop1.s3.us-west-2.amazona...   \n",
       "\n",
       "                                           dswx-DIAG  \\\n",
       "0  https://opera-pst-rs-pop1.s3.us-west-2.amazona...   \n",
       "1  https://opera-pst-rs-pop1.s3.us-west-2.amazona...   \n",
       "2  https://opera-pst-rs-pop1.s3.us-west-2.amazona...   \n",
       "3  https://opera-pst-rs-pop1.s3.us-west-2.amazona...   \n",
       "4  https://opera-pst-rs-pop1.s3.us-west-2.amazona...   \n",
       "\n",
       "                                          dswx-WTR-1  \\\n",
       "0  https://opera-pst-rs-pop1.s3.us-west-2.amazona...   \n",
       "1  https://opera-pst-rs-pop1.s3.us-west-2.amazona...   \n",
       "2  https://opera-pst-rs-pop1.s3.us-west-2.amazona...   \n",
       "3  https://opera-pst-rs-pop1.s3.us-west-2.amazona...   \n",
       "4  https://opera-pst-rs-pop1.s3.us-west-2.amazona...   \n",
       "\n",
       "                                          dswx-WTR-2  \\\n",
       "0  https://opera-pst-rs-pop1.s3.us-west-2.amazona...   \n",
       "1  https://opera-pst-rs-pop1.s3.us-west-2.amazona...   \n",
       "2  https://opera-pst-rs-pop1.s3.us-west-2.amazona...   \n",
       "3  https://opera-pst-rs-pop1.s3.us-west-2.amazona...   \n",
       "4  https://opera-pst-rs-pop1.s3.us-west-2.amazona...   \n",
       "\n",
       "                                           dswx-LAND  ...  \\\n",
       "0  https://opera-pst-rs-pop1.s3.us-west-2.amazona...  ...   \n",
       "1  https://opera-pst-rs-pop1.s3.us-west-2.amazona...  ...   \n",
       "2  https://opera-pst-rs-pop1.s3.us-west-2.amazona...  ...   \n",
       "3  https://opera-pst-rs-pop1.s3.us-west-2.amazona...  ...   \n",
       "4  https://opera-pst-rs-pop1.s3.us-west-2.amazona...  ...   \n",
       "\n",
       "                                         hls_url_B04  \\\n",
       "0  https://data.lpdaac.earthdatacloud.nasa.gov/lp...   \n",
       "1  https://data.lpdaac.earthdatacloud.nasa.gov/lp...   \n",
       "2  https://data.lpdaac.earthdatacloud.nasa.gov/lp...   \n",
       "3  https://data.lpdaac.earthdatacloud.nasa.gov/lp...   \n",
       "4  https://data.lpdaac.earthdatacloud.nasa.gov/lp...   \n",
       "\n",
       "                                         hls_url_B05  \\\n",
       "0  https://data.lpdaac.earthdatacloud.nasa.gov/lp...   \n",
       "1  https://data.lpdaac.earthdatacloud.nasa.gov/lp...   \n",
       "2  https://data.lpdaac.earthdatacloud.nasa.gov/lp...   \n",
       "3  https://data.lpdaac.earthdatacloud.nasa.gov/lp...   \n",
       "4  https://data.lpdaac.earthdatacloud.nasa.gov/lp...   \n",
       "\n",
       "                                         hls_url_B06  \\\n",
       "0  https://data.lpdaac.earthdatacloud.nasa.gov/lp...   \n",
       "1  https://data.lpdaac.earthdatacloud.nasa.gov/lp...   \n",
       "2  https://data.lpdaac.earthdatacloud.nasa.gov/lp...   \n",
       "3  https://data.lpdaac.earthdatacloud.nasa.gov/lp...   \n",
       "4  https://data.lpdaac.earthdatacloud.nasa.gov/lp...   \n",
       "\n",
       "                                         hls_url_B07  \\\n",
       "0  https://data.lpdaac.earthdatacloud.nasa.gov/lp...   \n",
       "1  https://data.lpdaac.earthdatacloud.nasa.gov/lp...   \n",
       "2  https://data.lpdaac.earthdatacloud.nasa.gov/lp...   \n",
       "3  https://data.lpdaac.earthdatacloud.nasa.gov/lp...   \n",
       "4  https://data.lpdaac.earthdatacloud.nasa.gov/lp...   \n",
       "\n",
       "                                         hls_url_B08  \\\n",
       "0  https://data.lpdaac.earthdatacloud.nasa.gov/lp...   \n",
       "1  https://data.lpdaac.earthdatacloud.nasa.gov/lp...   \n",
       "2                                                      \n",
       "3  https://data.lpdaac.earthdatacloud.nasa.gov/lp...   \n",
       "4                                                      \n",
       "\n",
       "                                         hls_url_B09  \\\n",
       "0  https://data.lpdaac.earthdatacloud.nasa.gov/lp...   \n",
       "1  https://data.lpdaac.earthdatacloud.nasa.gov/lp...   \n",
       "2  https://data.lpdaac.earthdatacloud.nasa.gov/lp...   \n",
       "3  https://data.lpdaac.earthdatacloud.nasa.gov/lp...   \n",
       "4  https://data.lpdaac.earthdatacloud.nasa.gov/lp...   \n",
       "\n",
       "                                         hls_url_B10  \\\n",
       "0  https://data.lpdaac.earthdatacloud.nasa.gov/lp...   \n",
       "1  https://data.lpdaac.earthdatacloud.nasa.gov/lp...   \n",
       "2  https://data.lpdaac.earthdatacloud.nasa.gov/lp...   \n",
       "3  https://data.lpdaac.earthdatacloud.nasa.gov/lp...   \n",
       "4  https://data.lpdaac.earthdatacloud.nasa.gov/lp...   \n",
       "\n",
       "                                         hls_url_B11  \\\n",
       "0  https://data.lpdaac.earthdatacloud.nasa.gov/lp...   \n",
       "1  https://data.lpdaac.earthdatacloud.nasa.gov/lp...   \n",
       "2  https://data.lpdaac.earthdatacloud.nasa.gov/lp...   \n",
       "3  https://data.lpdaac.earthdatacloud.nasa.gov/lp...   \n",
       "4  https://data.lpdaac.earthdatacloud.nasa.gov/lp...   \n",
       "\n",
       "                                         hls_url_B12  \\\n",
       "0  https://data.lpdaac.earthdatacloud.nasa.gov/lp...   \n",
       "1  https://data.lpdaac.earthdatacloud.nasa.gov/lp...   \n",
       "2                                                      \n",
       "3  https://data.lpdaac.earthdatacloud.nasa.gov/lp...   \n",
       "4                                                      \n",
       "\n",
       "                                       hls_url_Fmask  \n",
       "0  https://data.lpdaac.earthdatacloud.nasa.gov/lp...  \n",
       "1  https://data.lpdaac.earthdatacloud.nasa.gov/lp...  \n",
       "2  https://data.lpdaac.earthdatacloud.nasa.gov/lp...  \n",
       "3  https://data.lpdaac.earthdatacloud.nasa.gov/lp...  \n",
       "4  https://data.lpdaac.earthdatacloud.nasa.gov/lp...  \n",
       "\n",
       "[5 rows x 29 columns]"
      ]
     },
     "execution_count": 6,
     "metadata": {},
     "output_type": "execute_result"
    }
   ],
   "source": [
    "dfs_req[0].head()"
   ]
  },
  {
   "cell_type": "code",
   "execution_count": 7,
   "id": "90245bf3",
   "metadata": {
    "ExecuteTime": {
     "end_time": "2023-01-25T18:47:44.540944Z",
     "start_time": "2023-01-25T18:47:44.537731Z"
    }
   },
   "outputs": [
    {
     "data": {
      "text/plain": [
       "PosixPath('out/verification_stats_agg/100-trials_conf-geq-70_sample-from-val/verification_results.csv')"
      ]
     },
     "execution_count": 7,
     "metadata": {},
     "output_type": "execute_result"
    }
   ],
   "source": [
    "out_paths[0]"
   ]
  },
  {
   "cell_type": "markdown",
   "id": "c350e8ea",
   "metadata": {},
   "source": [
    "# Additional Metrics"
   ]
  },
  {
   "cell_type": "code",
   "execution_count": 8,
   "id": "38900436",
   "metadata": {
    "ExecuteTime": {
     "end_time": "2023-01-25T18:47:44.546169Z",
     "start_time": "2023-01-25T18:47:44.542539Z"
    }
   },
   "outputs": [],
   "source": [
    "def combine_metrics_for_one_assessment(assessment_dir_path):\n",
    "    out_dir = Path(f'out/verification_stats_agg/{assessment_dir_path.name}')\n",
    "    \n",
    "    def read_one_assessment(dswx_id):\n",
    "        path = assessment_dir_path / dswx_id / f'stats_{dswx_id}.json'\n",
    "        data = pd.DataFrame(pd.json_normalize(json.load(open(path))))\n",
    "        return data\n",
    "    \n",
    "    dswx_ids = get_dswx_ids(assessment_dir_path)\n",
    "    \n",
    "    data_assessments = list(map(read_one_assessment, dswx_ids))\n",
    "    df_metrics = pd.concat(data_assessments, axis=0).reset_index(drop=True)\n",
    "    df_metrics.to_csv(out_dir / 'metrics.csv', index=False)\n",
    "    out_path = out_dir / 'metrics.csv'\n",
    "    df_metrics.to_csv(out_path, index=False)\n",
    "    return df_metrics, out_path"
   ]
  },
  {
   "cell_type": "code",
   "execution_count": 9,
   "id": "25f1af6f",
   "metadata": {
    "ExecuteTime": {
     "end_time": "2023-01-25T18:47:44.628164Z",
     "start_time": "2023-01-25T18:47:44.549537Z"
    }
   },
   "outputs": [
    {
     "name": "stderr",
     "output_type": "stream",
     "text": [
      "100%|███████████████████████████████████| 2/2 [00:00<00:00, 26.89it/s]\n"
     ]
    }
   ],
   "source": [
    "dfs_metrics, out_paths = zip(*list(map(combine_metrics_for_one_assessment, tqdm(assessment_dir_paths))))"
   ]
  },
  {
   "cell_type": "code",
   "execution_count": 10,
   "id": "eb746631",
   "metadata": {
    "ExecuteTime": {
     "end_time": "2023-01-25T18:47:44.644511Z",
     "start_time": "2023-01-25T18:47:44.629353Z"
    }
   },
   "outputs": [
    {
     "data": {
      "text/html": [
       "<div>\n",
       "<style scoped>\n",
       "    .dataframe tbody tr th:only-of-type {\n",
       "        vertical-align: middle;\n",
       "    }\n",
       "\n",
       "    .dataframe tbody tr th {\n",
       "        vertical-align: top;\n",
       "    }\n",
       "\n",
       "    .dataframe thead th {\n",
       "        text-align: right;\n",
       "    }\n",
       "</style>\n",
       "<table border=\"1\" class=\"dataframe\">\n",
       "  <thead>\n",
       "    <tr style=\"text-align: right;\">\n",
       "      <th></th>\n",
       "      <th>total_accuracy.mean</th>\n",
       "      <th>total_accuracy.std</th>\n",
       "      <th>binary_water_acc.mean</th>\n",
       "      <th>binary_water_acc.std</th>\n",
       "      <th>acc_per_class.Not_Water.mean</th>\n",
       "      <th>acc_per_class.Not_Water.std</th>\n",
       "      <th>acc_per_class.Open_Surface_Water.mean</th>\n",
       "      <th>acc_per_class.Open_Surface_Water.std</th>\n",
       "      <th>acc_per_class.Partial_Surface_Water.mean</th>\n",
       "      <th>acc_per_class.Partial_Surface_Water.std</th>\n",
       "      <th>...</th>\n",
       "      <th>f1_per_class.Partial_Surface_Water.mean</th>\n",
       "      <th>f1_per_class.Partial_Surface_Water.std</th>\n",
       "      <th>supp_per_class.Not_Water.mean</th>\n",
       "      <th>supp_per_class.Not_Water.std</th>\n",
       "      <th>supp_per_class.Open_Surface_Water.mean</th>\n",
       "      <th>supp_per_class.Open_Surface_Water.std</th>\n",
       "      <th>supp_per_class.Partial_Surface_Water.mean</th>\n",
       "      <th>supp_per_class.Partial_Surface_Water.std</th>\n",
       "      <th>dswx_id</th>\n",
       "      <th>planet_id</th>\n",
       "    </tr>\n",
       "  </thead>\n",
       "  <tbody>\n",
       "    <tr>\n",
       "      <th>0</th>\n",
       "      <td>0.825661</td>\n",
       "      <td>0.005797</td>\n",
       "      <td>0.885754</td>\n",
       "      <td>0.004014</td>\n",
       "      <td>0.885754</td>\n",
       "      <td>0.004014</td>\n",
       "      <td>0.923364</td>\n",
       "      <td>0.005620</td>\n",
       "      <td>0.842204</td>\n",
       "      <td>0.004331</td>\n",
       "      <td>...</td>\n",
       "      <td>0.527829</td>\n",
       "      <td>0.006846</td>\n",
       "      <td>167.0</td>\n",
       "      <td>0.0</td>\n",
       "      <td>167.0</td>\n",
       "      <td>0.0</td>\n",
       "      <td>97.0</td>\n",
       "      <td>0.0</td>\n",
       "      <td>OPERA_L3_DSWx-HLS_T19HCT_20211027T142729Z_2023...</td>\n",
       "      <td>20211028_144231_39_227b</td>\n",
       "    </tr>\n",
       "    <tr>\n",
       "      <th>1</th>\n",
       "      <td>0.704212</td>\n",
       "      <td>0.006329</td>\n",
       "      <td>0.882974</td>\n",
       "      <td>0.009669</td>\n",
       "      <td>0.882974</td>\n",
       "      <td>0.009669</td>\n",
       "      <td>0.820719</td>\n",
       "      <td>0.009107</td>\n",
       "      <td>0.704731</td>\n",
       "      <td>0.006262</td>\n",
       "      <td>...</td>\n",
       "      <td>0.205881</td>\n",
       "      <td>0.029401</td>\n",
       "      <td>167.0</td>\n",
       "      <td>0.0</td>\n",
       "      <td>167.0</td>\n",
       "      <td>0.0</td>\n",
       "      <td>167.0</td>\n",
       "      <td>0.0</td>\n",
       "      <td>OPERA_L3_DSWx-HLS_T55TCJ_20210916T011649Z_2023...</td>\n",
       "      <td>20210916_010848_94_2407</td>\n",
       "    </tr>\n",
       "    <tr>\n",
       "      <th>2</th>\n",
       "      <td>0.932836</td>\n",
       "      <td>0.000000</td>\n",
       "      <td>0.932836</td>\n",
       "      <td>0.000000</td>\n",
       "      <td>0.932836</td>\n",
       "      <td>0.000000</td>\n",
       "      <td>1.000000</td>\n",
       "      <td>0.000000</td>\n",
       "      <td>0.932836</td>\n",
       "      <td>0.000000</td>\n",
       "      <td>...</td>\n",
       "      <td>0.000000</td>\n",
       "      <td>0.000000</td>\n",
       "      <td>250.0</td>\n",
       "      <td>0.0</td>\n",
       "      <td>0.0</td>\n",
       "      <td>0.0</td>\n",
       "      <td>18.0</td>\n",
       "      <td>0.0</td>\n",
       "      <td>OPERA_L3_DSWx-HLS_T21JWF_20211028T133741Z_2023...</td>\n",
       "      <td>20211028_134803_20_227a</td>\n",
       "    </tr>\n",
       "    <tr>\n",
       "      <th>3</th>\n",
       "      <td>0.675165</td>\n",
       "      <td>0.005819</td>\n",
       "      <td>0.900207</td>\n",
       "      <td>0.005637</td>\n",
       "      <td>0.900207</td>\n",
       "      <td>0.005637</td>\n",
       "      <td>0.774959</td>\n",
       "      <td>0.001896</td>\n",
       "      <td>0.675165</td>\n",
       "      <td>0.005819</td>\n",
       "      <td>...</td>\n",
       "      <td>0.593442</td>\n",
       "      <td>0.010207</td>\n",
       "      <td>167.0</td>\n",
       "      <td>0.0</td>\n",
       "      <td>150.0</td>\n",
       "      <td>0.0</td>\n",
       "      <td>167.0</td>\n",
       "      <td>0.0</td>\n",
       "      <td>OPERA_L3_DSWx-HLS_T20LKN_20211010T143729Z_2023...</td>\n",
       "      <td>20211010_135831_84_227e</td>\n",
       "    </tr>\n",
       "    <tr>\n",
       "      <th>4</th>\n",
       "      <td>1.000000</td>\n",
       "      <td>0.000000</td>\n",
       "      <td>1.000000</td>\n",
       "      <td>0.000000</td>\n",
       "      <td>1.000000</td>\n",
       "      <td>0.000000</td>\n",
       "      <td>1.000000</td>\n",
       "      <td>0.000000</td>\n",
       "      <td>1.000000</td>\n",
       "      <td>0.000000</td>\n",
       "      <td>...</td>\n",
       "      <td>1.000000</td>\n",
       "      <td>0.000000</td>\n",
       "      <td>500.0</td>\n",
       "      <td>0.0</td>\n",
       "      <td>0.0</td>\n",
       "      <td>0.0</td>\n",
       "      <td>0.0</td>\n",
       "      <td>0.0</td>\n",
       "      <td>OPERA_L3_DSWx-HLS_T12SXH_20210921T175632Z_2023...</td>\n",
       "      <td>20210922_171337_39_2420</td>\n",
       "    </tr>\n",
       "  </tbody>\n",
       "</table>\n",
       "<p>5 rows × 54 columns</p>\n",
       "</div>"
      ],
      "text/plain": [
       "   total_accuracy.mean  total_accuracy.std  binary_water_acc.mean  \\\n",
       "0             0.825661            0.005797               0.885754   \n",
       "1             0.704212            0.006329               0.882974   \n",
       "2             0.932836            0.000000               0.932836   \n",
       "3             0.675165            0.005819               0.900207   \n",
       "4             1.000000            0.000000               1.000000   \n",
       "\n",
       "   binary_water_acc.std  acc_per_class.Not_Water.mean  \\\n",
       "0              0.004014                      0.885754   \n",
       "1              0.009669                      0.882974   \n",
       "2              0.000000                      0.932836   \n",
       "3              0.005637                      0.900207   \n",
       "4              0.000000                      1.000000   \n",
       "\n",
       "   acc_per_class.Not_Water.std  acc_per_class.Open_Surface_Water.mean  \\\n",
       "0                     0.004014                               0.923364   \n",
       "1                     0.009669                               0.820719   \n",
       "2                     0.000000                               1.000000   \n",
       "3                     0.005637                               0.774959   \n",
       "4                     0.000000                               1.000000   \n",
       "\n",
       "   acc_per_class.Open_Surface_Water.std  \\\n",
       "0                              0.005620   \n",
       "1                              0.009107   \n",
       "2                              0.000000   \n",
       "3                              0.001896   \n",
       "4                              0.000000   \n",
       "\n",
       "   acc_per_class.Partial_Surface_Water.mean  \\\n",
       "0                                  0.842204   \n",
       "1                                  0.704731   \n",
       "2                                  0.932836   \n",
       "3                                  0.675165   \n",
       "4                                  1.000000   \n",
       "\n",
       "   acc_per_class.Partial_Surface_Water.std  ...  \\\n",
       "0                                 0.004331  ...   \n",
       "1                                 0.006262  ...   \n",
       "2                                 0.000000  ...   \n",
       "3                                 0.005819  ...   \n",
       "4                                 0.000000  ...   \n",
       "\n",
       "   f1_per_class.Partial_Surface_Water.mean  \\\n",
       "0                                 0.527829   \n",
       "1                                 0.205881   \n",
       "2                                 0.000000   \n",
       "3                                 0.593442   \n",
       "4                                 1.000000   \n",
       "\n",
       "   f1_per_class.Partial_Surface_Water.std  supp_per_class.Not_Water.mean  \\\n",
       "0                                0.006846                          167.0   \n",
       "1                                0.029401                          167.0   \n",
       "2                                0.000000                          250.0   \n",
       "3                                0.010207                          167.0   \n",
       "4                                0.000000                          500.0   \n",
       "\n",
       "   supp_per_class.Not_Water.std  supp_per_class.Open_Surface_Water.mean  \\\n",
       "0                           0.0                                   167.0   \n",
       "1                           0.0                                   167.0   \n",
       "2                           0.0                                     0.0   \n",
       "3                           0.0                                   150.0   \n",
       "4                           0.0                                     0.0   \n",
       "\n",
       "   supp_per_class.Open_Surface_Water.std  \\\n",
       "0                                    0.0   \n",
       "1                                    0.0   \n",
       "2                                    0.0   \n",
       "3                                    0.0   \n",
       "4                                    0.0   \n",
       "\n",
       "   supp_per_class.Partial_Surface_Water.mean  \\\n",
       "0                                       97.0   \n",
       "1                                      167.0   \n",
       "2                                       18.0   \n",
       "3                                      167.0   \n",
       "4                                        0.0   \n",
       "\n",
       "   supp_per_class.Partial_Surface_Water.std  \\\n",
       "0                                       0.0   \n",
       "1                                       0.0   \n",
       "2                                       0.0   \n",
       "3                                       0.0   \n",
       "4                                       0.0   \n",
       "\n",
       "                                             dswx_id                planet_id  \n",
       "0  OPERA_L3_DSWx-HLS_T19HCT_20211027T142729Z_2023...  20211028_144231_39_227b  \n",
       "1  OPERA_L3_DSWx-HLS_T55TCJ_20210916T011649Z_2023...  20210916_010848_94_2407  \n",
       "2  OPERA_L3_DSWx-HLS_T21JWF_20211028T133741Z_2023...  20211028_134803_20_227a  \n",
       "3  OPERA_L3_DSWx-HLS_T20LKN_20211010T143729Z_2023...  20211010_135831_84_227e  \n",
       "4  OPERA_L3_DSWx-HLS_T12SXH_20210921T175632Z_2023...  20210922_171337_39_2420  \n",
       "\n",
       "[5 rows x 54 columns]"
      ]
     },
     "execution_count": 10,
     "metadata": {},
     "output_type": "execute_result"
    }
   ],
   "source": [
    "dfs_metrics[0].head()"
   ]
  },
  {
   "cell_type": "code",
   "execution_count": 11,
   "id": "3988f3b1",
   "metadata": {
    "ExecuteTime": {
     "end_time": "2023-01-25T18:47:44.649105Z",
     "start_time": "2023-01-25T18:47:44.646101Z"
    }
   },
   "outputs": [
    {
     "data": {
      "text/plain": [
       "PosixPath('out/verification_stats_agg/100-trials_conf-geq-70_sample-from-val/metrics.csv')"
      ]
     },
     "execution_count": 11,
     "metadata": {},
     "output_type": "execute_result"
    }
   ],
   "source": [
    "out_paths[0]"
   ]
  },
  {
   "cell_type": "markdown",
   "id": "0a7b1877",
   "metadata": {},
   "source": [
    "# For presentations\n",
    "\n",
    "Aggregate all validation statistics for a particular set of validation runs"
   ]
  },
  {
   "cell_type": "code",
   "execution_count": 12,
   "id": "81df1765",
   "metadata": {
    "ExecuteTime": {
     "end_time": "2023-01-25T18:47:44.653801Z",
     "start_time": "2023-01-25T18:47:44.650601Z"
    }
   },
   "outputs": [
    {
     "data": {
      "text/plain": [
       "0"
      ]
     },
     "execution_count": 12,
     "metadata": {},
     "output_type": "execute_result"
    }
   ],
   "source": [
    "index = [k for k, out_path in enumerate(out_paths) if '100-trials_conf-geq-70_sample-from-val' in str(out_path)][0]\n",
    "index"
   ]
  },
  {
   "cell_type": "code",
   "execution_count": 13,
   "id": "bd764e6a",
   "metadata": {
    "ExecuteTime": {
     "end_time": "2023-01-25T18:47:44.657794Z",
     "start_time": "2023-01-25T18:47:44.655398Z"
    }
   },
   "outputs": [],
   "source": [
    "df_final = dfs_metrics[index]\n",
    "out_path_final = out_paths[index]"
   ]
  },
  {
   "cell_type": "code",
   "execution_count": 14,
   "id": "3b0b5c71",
   "metadata": {
    "ExecuteTime": {
     "end_time": "2023-01-25T18:47:44.662294Z",
     "start_time": "2023-01-25T18:47:44.659518Z"
    }
   },
   "outputs": [],
   "source": [
    "COLUMN_RENAME = {'total_accuracy.mean': 'Total Accuracy (All Classes)',\n",
    "                 'binary_water_acc.mean': 'Binary Accuarcy (OSW + PSW)',\n",
    "                 'precision.Open_Surface_Water.mean': 'Precision (OSW)',\n",
    "                 'acc_per_class.Open_Surface_Water.mean': 'Binary Accuracy (OSW)',\n",
    "                 'acc_per_class.Partial_Surface_Water.mean': 'Binary Accuracy (PSW)',\n",
    "                 'precision.Partial_Surface_Water.mean': 'Precision (PSW)',\n",
    "                 'recall.Open_Surface_Water.mean': 'Recall (OSW)',\n",
    "                 'recall.Partial_Surface_Water.mean': 'Recall (PSW)',\n",
    "                 #'supp_per_class.Open_Surface_Water.mean': 'Support (Val) (OSW)',\n",
    "                 #'supp_per_class.Partial_Surface_Water.mean': 'Support (Val) (PSW)',\n",
    "                 'f1_per_class.Open_Surface_Water.mean': 'F1 (OSW)',\n",
    "                 'f1_per_class.Partial_Surface_Water.mean': 'F1 (PSW)'}\n",
    "COLUMNS = list(COLUMN_RENAME.keys())"
   ]
  },
  {
   "cell_type": "code",
   "execution_count": 15,
   "id": "9843cac5",
   "metadata": {
    "ExecuteTime": {
     "end_time": "2023-01-25T18:47:44.692745Z",
     "start_time": "2023-01-25T18:47:44.664114Z"
    }
   },
   "outputs": [
    {
     "data": {
      "text/html": [
       "<div>\n",
       "<style scoped>\n",
       "    .dataframe tbody tr th:only-of-type {\n",
       "        vertical-align: middle;\n",
       "    }\n",
       "\n",
       "    .dataframe tbody tr th {\n",
       "        vertical-align: top;\n",
       "    }\n",
       "\n",
       "    .dataframe thead th {\n",
       "        text-align: right;\n",
       "    }\n",
       "</style>\n",
       "<table border=\"1\" class=\"dataframe\">\n",
       "  <thead>\n",
       "    <tr style=\"text-align: right;\">\n",
       "      <th></th>\n",
       "      <th></th>\n",
       "      <th>Mean</th>\n",
       "      <th>Median</th>\n",
       "      <th>St. Dev.</th>\n",
       "    </tr>\n",
       "    <tr>\n",
       "      <th>Class</th>\n",
       "      <th>Metric</th>\n",
       "      <th></th>\n",
       "      <th></th>\n",
       "      <th></th>\n",
       "    </tr>\n",
       "  </thead>\n",
       "  <tbody>\n",
       "    <tr>\n",
       "      <th>All</th>\n",
       "      <th>Total Accuracy  ($\\%$)</th>\n",
       "      <td>84.18</td>\n",
       "      <td>89.51</td>\n",
       "      <td>17.8</td>\n",
       "    </tr>\n",
       "    <tr>\n",
       "      <th>OSW + PSW</th>\n",
       "      <th>Binary Accuarcy  ($\\%$)</th>\n",
       "      <td>90.86</td>\n",
       "      <td>98.0</td>\n",
       "      <td>13.32</td>\n",
       "    </tr>\n",
       "    <tr>\n",
       "      <th rowspan=\"4\" valign=\"top\">OSW</th>\n",
       "      <th>Binary Accuracy  ($\\%$)</th>\n",
       "      <td>91.63</td>\n",
       "      <td>97.89</td>\n",
       "      <td>10.85</td>\n",
       "    </tr>\n",
       "    <tr>\n",
       "      <th>F1  ($\\%$)</th>\n",
       "      <td>80.58</td>\n",
       "      <td>92.96</td>\n",
       "      <td>28.57</td>\n",
       "    </tr>\n",
       "    <tr>\n",
       "      <th>Precision  ($\\%$)</th>\n",
       "      <td>91.27</td>\n",
       "      <td>100.0</td>\n",
       "      <td>14.59</td>\n",
       "    </tr>\n",
       "    <tr>\n",
       "      <th>Recall  ($\\%$)</th>\n",
       "      <td>80.79</td>\n",
       "      <td>99.75</td>\n",
       "      <td>31.6</td>\n",
       "    </tr>\n",
       "    <tr>\n",
       "      <th rowspan=\"4\" valign=\"top\">PSW</th>\n",
       "      <th>Binary Accuracy  ($\\%$)</th>\n",
       "      <td>85.88</td>\n",
       "      <td>89.62</td>\n",
       "      <td>14.7</td>\n",
       "    </tr>\n",
       "    <tr>\n",
       "      <th>F1  ($\\%$)</th>\n",
       "      <td>62.77</td>\n",
       "      <td>61.65</td>\n",
       "      <td>35.92</td>\n",
       "    </tr>\n",
       "    <tr>\n",
       "      <th>Precision  ($\\%$)</th>\n",
       "      <td>78.41</td>\n",
       "      <td>89.81</td>\n",
       "      <td>27.89</td>\n",
       "    </tr>\n",
       "    <tr>\n",
       "      <th>Recall  ($\\%$)</th>\n",
       "      <td>63.08</td>\n",
       "      <td>73.15</td>\n",
       "      <td>38.12</td>\n",
       "    </tr>\n",
       "  </tbody>\n",
       "</table>\n",
       "</div>"
      ],
      "text/plain": [
       "                                    Mean Median St. Dev.\n",
       "Class     Metric                                        \n",
       "All       Total Accuracy  ($\\%$)   84.18  89.51     17.8\n",
       "OSW + PSW Binary Accuarcy  ($\\%$)  90.86   98.0    13.32\n",
       "OSW       Binary Accuracy  ($\\%$)  91.63  97.89    10.85\n",
       "          F1  ($\\%$)               80.58  92.96    28.57\n",
       "          Precision  ($\\%$)        91.27  100.0    14.59\n",
       "          Recall  ($\\%$)           80.79  99.75     31.6\n",
       "PSW       Binary Accuracy  ($\\%$)  85.88  89.62     14.7\n",
       "          F1  ($\\%$)               62.77  61.65    35.92\n",
       "          Precision  ($\\%$)        78.41  89.81    27.89\n",
       "          Recall  ($\\%$)           63.08  73.15    38.12"
      ]
     },
     "execution_count": 15,
     "metadata": {},
     "output_type": "execute_result"
    }
   ],
   "source": [
    "df_temp = df_final[COLUMNS].agg(['mean', 'median', 'std'])\n",
    "df_temp.rename(columns=COLUMN_RENAME, inplace=True)\n",
    "\n",
    "cols_not_supp = [col for col in df_temp.columns if 'Support' not in col]\n",
    "df_temp[cols_not_supp] = df_temp[cols_not_supp] * 100\n",
    "\n",
    "df_f = df_temp.T\n",
    "df_f = df_f.round(2).astype(str)\n",
    "\n",
    "df_f = df_f.reset_index(drop=False)\n",
    "df_f = df_f.rename(columns={'index': 'Metric'})\n",
    "def class_labeler(metric):\n",
    "    if '(OSW + PSW)' in metric:\n",
    "        return 'OSW + PSW'\n",
    "    if 'OSW' in metric:\n",
    "        return 'OSW'\n",
    "    if 'PSW' in metric:\n",
    "        return 'PSW'\n",
    "    else:\n",
    "        return 'All'\n",
    "df_f['Class'] = df_f.Metric.map(class_labeler)\n",
    "\n",
    "lookup_order = {'All': 0, 'OSW + PSW': 1, 'OSW': 2, 'PSW': 3}\n",
    "df_f['Class_sort'] = df_f.Class.map(lambda c: lookup_order[c])\n",
    "\n",
    "df_f['Metric'] = df_f.Metric.map(lambda m: m.split('(')[0])\n",
    "df_f['Metric'] = df_f.Metric.map(lambda m: m + ' ($\\%$)' if 'Support' not in m else m)\n",
    "df_f.sort_values(by=['Class_sort', 'Metric'], inplace=True)\n",
    "df_f = df_f.set_index(['Class', 'Metric'])\n",
    "df_f.drop(columns=['Class_sort'], inplace=True)\n",
    "df_f.rename(columns={'mean': 'Mean', \n",
    "                     'std': 'St. Dev.', \n",
    "                     'median': 'Median'}, inplace=True)\n",
    "df_f"
   ]
  },
  {
   "cell_type": "code",
   "execution_count": 16,
   "id": "516ebbd8",
   "metadata": {
    "ExecuteTime": {
     "end_time": "2023-01-25T18:47:44.697539Z",
     "start_time": "2023-01-25T18:47:44.694202Z"
    }
   },
   "outputs": [
    {
     "data": {
      "text/plain": [
       "PosixPath('presentation_images/100-trials_conf-geq-70_sample-from-val')"
      ]
     },
     "execution_count": 16,
     "metadata": {},
     "output_type": "execute_result"
    }
   ],
   "source": [
    "presentation_dir = Path('presentation_images') / out_path_final.parent.name \n",
    "presentation_dir.mkdir(exist_ok=True, parents=True)\n",
    "presentation_dir"
   ]
  },
  {
   "cell_type": "code",
   "execution_count": 17,
   "id": "40cd4bc0",
   "metadata": {
    "ExecuteTime": {
     "end_time": "2023-01-25T18:47:45.076363Z",
     "start_time": "2023-01-25T18:47:44.698939Z"
    }
   },
   "outputs": [],
   "source": [
    "latex = df_f.style.to_latex(multirow_align='t', hrules=True)\n",
    "with open(presentation_dir / 'total_accuracy_for_all_validation.tex', 'w') as f:\n",
    "    f.write(latex)"
   ]
  },
  {
   "cell_type": "code",
   "execution_count": 18,
   "id": "d766de10",
   "metadata": {
    "ExecuteTime": {
     "end_time": "2023-01-25T18:47:45.080456Z",
     "start_time": "2023-01-25T18:47:45.078328Z"
    }
   },
   "outputs": [],
   "source": [
    "df_req = dfs_req[index]"
   ]
  },
  {
   "cell_type": "code",
   "execution_count": 19,
   "id": "27ea3ba9",
   "metadata": {
    "ExecuteTime": {
     "end_time": "2023-01-25T18:47:45.085529Z",
     "start_time": "2023-01-25T18:47:45.081906Z"
    }
   },
   "outputs": [
    {
     "data": {
      "text/plain": [
       "(44, 44, 41)"
      ]
     },
     "execution_count": 19,
     "metadata": {},
     "output_type": "execute_result"
    }
   ],
   "source": [
    "n_osw_passes = df_req.surface_water.sum()\n",
    "n_pws_passes = df_req.partial_surface_water.sum()\n",
    "n_both_pass = (df_req.surface_water & df_req.partial_surface_water).sum()\n",
    "n_pws_passes, n_osw_passes, n_both_pass"
   ]
  },
  {
   "cell_type": "code",
   "execution_count": 20,
   "id": "cffacf0b",
   "metadata": {
    "ExecuteTime": {
     "end_time": "2023-01-25T18:47:45.091531Z",
     "start_time": "2023-01-25T18:47:45.087166Z"
    }
   },
   "outputs": [
    {
     "data": {
      "text/plain": [
       "(8, 8, 41)"
      ]
     },
     "execution_count": 20,
     "metadata": {},
     "output_type": "execute_result"
    }
   ],
   "source": [
    "n_osw_fails = (~df_req.surface_water).sum()\n",
    "n_pws_fails = (~df_req.partial_surface_water).sum()\n",
    "n_both_fail = (~df_req.surface_water | ~df_req.partial_surface_water).sum()\n",
    "n_osw_fails, n_pws_fails, n_both_pass"
   ]
  },
  {
   "cell_type": "code",
   "execution_count": 21,
   "id": "8c1d5e15",
   "metadata": {
    "ExecuteTime": {
     "end_time": "2023-01-25T18:47:45.100064Z",
     "start_time": "2023-01-25T18:47:45.093456Z"
    }
   },
   "outputs": [
    {
     "data": {
      "text/html": [
       "<div>\n",
       "<style scoped>\n",
       "    .dataframe tbody tr th:only-of-type {\n",
       "        vertical-align: middle;\n",
       "    }\n",
       "\n",
       "    .dataframe tbody tr th {\n",
       "        vertical-align: top;\n",
       "    }\n",
       "\n",
       "    .dataframe thead th {\n",
       "        text-align: right;\n",
       "    }\n",
       "</style>\n",
       "<table border=\"1\" class=\"dataframe\">\n",
       "  <thead>\n",
       "    <tr style=\"text-align: right;\">\n",
       "      <th></th>\n",
       "      <th>Pass</th>\n",
       "      <th>Not Pass</th>\n",
       "    </tr>\n",
       "    <tr>\n",
       "      <th>Class</th>\n",
       "      <th></th>\n",
       "      <th></th>\n",
       "    </tr>\n",
       "  </thead>\n",
       "  <tbody>\n",
       "    <tr>\n",
       "      <th>Open Surface Water (OSW)</th>\n",
       "      <td>44</td>\n",
       "      <td>8</td>\n",
       "    </tr>\n",
       "    <tr>\n",
       "      <th>Partial Surface Water (PSW)</th>\n",
       "      <td>44</td>\n",
       "      <td>8</td>\n",
       "    </tr>\n",
       "    <tr>\n",
       "      <th>Both (OSW + PSW)</th>\n",
       "      <td>41</td>\n",
       "      <td>11</td>\n",
       "    </tr>\n",
       "  </tbody>\n",
       "</table>\n",
       "</div>"
      ],
      "text/plain": [
       "                             Pass  Not Pass\n",
       "Class                                      \n",
       "Open Surface Water (OSW)       44         8\n",
       "Partial Surface Water (PSW)    44         8\n",
       "Both (OSW + PSW)               41        11"
      ]
     },
     "execution_count": 21,
     "metadata": {},
     "output_type": "execute_result"
    }
   ],
   "source": [
    "df_passes = pd.DataFrame([{'Class': 'Open Surface Water (OSW)',\n",
    "                          'Pass': n_osw_passes,\n",
    "                          'Not Pass': n_osw_fails},\n",
    "                         {'Class': 'Partial Surface Water (PSW)',\n",
    "                          'Pass': n_pws_passes,\n",
    "                          'Not Pass': n_pws_fails},\n",
    "                         {'Class': 'Both (OSW + PSW)',\n",
    "                          'Pass': n_both_pass,\n",
    "                          'Not Pass': n_both_fail}])\n",
    "df_passes = df_passes.set_index('Class')\n",
    "df_passes"
   ]
  },
  {
   "cell_type": "code",
   "execution_count": 22,
   "id": "eaf5e6fa",
   "metadata": {
    "ExecuteTime": {
     "end_time": "2023-01-25T18:47:45.105667Z",
     "start_time": "2023-01-25T18:47:45.101679Z"
    }
   },
   "outputs": [],
   "source": [
    "latex = df_passes.style.to_latex(multirow_align='t', hrules=True)\n",
    "with open(presentation_dir / 'total_passes.tex', 'w') as f:\n",
    "    f.write(latex)"
   ]
  }
 ],
 "metadata": {
  "kernelspec": {
   "display_name": "dswx_val",
   "language": "python",
   "name": "dswx_val"
  },
  "language_info": {
   "codemirror_mode": {
    "name": "ipython",
    "version": 3
   },
   "file_extension": ".py",
   "mimetype": "text/x-python",
   "name": "python",
   "nbconvert_exporter": "python",
   "pygments_lexer": "ipython3",
   "version": "3.11.0"
  }
 },
 "nbformat": 4,
 "nbformat_minor": 5
}
