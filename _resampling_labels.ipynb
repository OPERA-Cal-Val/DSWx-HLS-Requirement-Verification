{
 "cells": [
  {
   "cell_type": "code",
   "execution_count": 1,
   "id": "49734439",
   "metadata": {
    "ExecuteTime": {
     "end_time": "2023-01-11T18:03:03.395764Z",
     "start_time": "2023-01-11T18:03:02.087982Z"
    }
   },
   "outputs": [],
   "source": [
    "from dem_stitcher.rio_tools import reproject_arr_to_match_profile\n",
    "import numpy as np\n",
    "from rasterio import default_gtiff_profile\n",
    "from affine import Affine\n",
    "from rasterio.crs import CRS\n",
    "import matplotlib.pyplot as plt\n",
    "import warnings\n",
    "import rasterio\n",
    "from skimage.transform import warp\n",
    "from verification.labels import resample_labels_into_percentage"
   ]
  },
  {
   "cell_type": "code",
   "execution_count": 2,
   "id": "f830d79d",
   "metadata": {
    "ExecuteTime": {
     "end_time": "2023-01-11T18:03:03.401272Z",
     "start_time": "2023-01-11T18:03:03.397738Z"
    }
   },
   "outputs": [],
   "source": [
    "def get_test_data_at_origin(M: int, N: int) -> tuple:\n",
    "    prof = default_gtiff_profile.copy()\n",
    "\n",
    "    X = np.zeros((M, N), dtype='float32')\n",
    "    trans = Affine(.25, 0, 1, 0, -.25, 1)\n",
    "\n",
    "    prof['transform'] = trans\n",
    "    prof['dtype'] = 'float32'\n",
    "    prof['crs'] = CRS.from_epsg(4326)\n",
    "    prof['height'], prof['width'] = X.shape\n",
    "    prof['count'] = 1\n",
    "    prof['nodata'] = np.nan\n",
    "    return X, prof"
   ]
  },
  {
   "cell_type": "code",
   "execution_count": 3,
   "id": "98f9d52b",
   "metadata": {
    "ExecuteTime": {
     "end_time": "2023-01-11T18:03:03.405741Z",
     "start_time": "2023-01-11T18:03:03.402858Z"
    }
   },
   "outputs": [],
   "source": [
    "def downsample_profile(profile_src: dict, factor: int) -> dict:\n",
    "    D = factor\n",
    "    prof_dst = profile_src.copy()\n",
    "    prof_dst['width'] = int(np.ceil(profile_src['width'] / D))\n",
    "    prof_dst['height'] = int(np.ceil(profile_src['width'] / D))\n",
    "    trans = profile_src['transform']\n",
    "    trans_dst = Affine(trans.a * D, 0, trans.c, 0, trans.e * D, trans.f)\n",
    "    prof_dst['transform'] = trans_dst\n",
    "    return prof_dst"
   ]
  },
  {
   "cell_type": "code",
   "execution_count": 4,
   "id": "e887df60",
   "metadata": {
    "ExecuteTime": {
     "end_time": "2023-01-11T18:03:03.416262Z",
     "start_time": "2023-01-11T18:03:03.407907Z"
    }
   },
   "outputs": [
    {
     "data": {
      "text/plain": [
       "{'driver': 'GTiff', 'interleave': 'band', 'tiled': True, 'blockxsize': 256, 'blockysize': 256, 'compress': 'lzw', 'nodata': nan, 'dtype': 'float32', 'transform': Affine(0.25, 0.0, 1.0,\n",
       "       0.0, -0.25, 1.0), 'crs': CRS.from_epsg(4326), 'height': 4, 'width': 4, 'count': 1}"
      ]
     },
     "execution_count": 4,
     "metadata": {},
     "output_type": "execute_result"
    }
   ],
   "source": [
    "X, p = get_test_data_at_origin(4, 4)\n",
    "p"
   ]
  },
  {
   "cell_type": "code",
   "execution_count": 5,
   "id": "6cb57413",
   "metadata": {
    "ExecuteTime": {
     "end_time": "2023-01-11T18:03:03.420769Z",
     "start_time": "2023-01-11T18:03:03.417810Z"
    }
   },
   "outputs": [
    {
     "data": {
      "text/plain": [
       "{'driver': 'GTiff', 'interleave': 'band', 'tiled': True, 'blockxsize': 256, 'blockysize': 256, 'compress': 'lzw', 'nodata': nan, 'dtype': 'float32', 'transform': Affine(1.0, 0.0, 1.0,\n",
       "       0.0, -1.0, 1.0), 'crs': CRS.from_epsg(4326), 'height': 1, 'width': 1, 'count': 1}"
      ]
     },
     "execution_count": 5,
     "metadata": {},
     "output_type": "execute_result"
    }
   ],
   "source": [
    "p_dst = downsample_profile(p, 4)\n",
    "p_dst"
   ]
  },
  {
   "cell_type": "code",
   "execution_count": 6,
   "id": "64176a43",
   "metadata": {
    "ExecuteTime": {
     "end_time": "2023-01-11T18:03:03.647855Z",
     "start_time": "2023-01-11T18:03:03.421973Z"
    }
   },
   "outputs": [
    {
     "data": {
      "text/plain": [
       "<matplotlib.colorbar.Colorbar at 0x1c5330750>"
      ]
     },
     "execution_count": 6,
     "metadata": {},
     "output_type": "execute_result"
    },
    {
     "data": {
      "image/png": "[encoded data removed]",
      "text/plain": [
       "<Figure size 640x480 with 2 Axes>"
      ]
     },
     "metadata": {},
     "output_type": "display_data"
    }
   ],
   "source": [
    "X1 = X + 0.\n",
    "X1[:1, :] = 1\n",
    "X1[-1:, :] = np.nan\n",
    "plt.imshow(X1)\n",
    "plt.colorbar()"
   ]
  },
  {
   "cell_type": "code",
   "execution_count": 7,
   "id": "7f9fbeac",
   "metadata": {
    "ExecuteTime": {
     "end_time": "2023-01-11T18:03:03.665910Z",
     "start_time": "2023-01-11T18:03:03.650074Z"
    }
   },
   "outputs": [
    {
     "data": {
      "text/plain": [
       "array([[0.33333334]], dtype=float32)"
      ]
     },
     "execution_count": 7,
     "metadata": {},
     "output_type": "execute_result"
    }
   ],
   "source": [
    "X_percent, p_perc = resample_labels_into_percentage(X1, p, p_dst, 1)\n",
    "X_percent"
   ]
  },
  {
   "cell_type": "code",
   "execution_count": 8,
   "id": "c26c6271",
   "metadata": {
    "ExecuteTime": {
     "end_time": "2023-01-11T18:03:03.856435Z",
     "start_time": "2023-01-11T18:03:03.667523Z"
    }
   },
   "outputs": [
    {
     "data": {
      "text/plain": [
       "<matplotlib.colorbar.Colorbar at 0x1c534b910>"
      ]
     },
     "execution_count": 8,
     "metadata": {},
     "output_type": "execute_result"
    },
    {
     "data": {
      "image/png": "[encoded data removed]",
      "text/plain": [
       "<Figure size 640x480 with 2 Axes>"
      ]
     },
     "metadata": {},
     "output_type": "display_data"
    }
   ],
   "source": [
    "X, p = get_test_data_at_origin(5, 5)\n",
    "p_dst = downsample_profile(p, 4)\n",
    "X1 = X + 0.\n",
    "X1[:1, :] = 1\n",
    "X1[-1:, :] = np.nan\n",
    "plt.imshow(X1)\n",
    "plt.colorbar()"
   ]
  },
  {
   "cell_type": "code",
   "execution_count": 9,
   "id": "42a457ed",
   "metadata": {
    "ExecuteTime": {
     "end_time": "2023-01-11T18:03:03.869996Z",
     "start_time": "2023-01-11T18:03:03.858456Z"
    }
   },
   "outputs": [
    {
     "data": {
      "text/plain": [
       "array([[0.25, 0.25],\n",
       "       [ nan,  nan]], dtype=float32)"
      ]
     },
     "execution_count": 9,
     "metadata": {},
     "output_type": "execute_result"
    }
   ],
   "source": [
    "X_percent, p_perc = resample_labels_into_percentage(X1, p, p_dst, 1,)\n",
    "X_percent"
   ]
  },
  {
   "cell_type": "code",
   "execution_count": 10,
   "id": "bd2fdce3",
   "metadata": {
    "ExecuteTime": {
     "end_time": "2023-01-11T18:03:04.076454Z",
     "start_time": "2023-01-11T18:03:03.875007Z"
    }
   },
   "outputs": [
    {
     "data": {
      "text/plain": [
       "<matplotlib.colorbar.Colorbar at 0x1c56d0c50>"
      ]
     },
     "execution_count": 10,
     "metadata": {},
     "output_type": "execute_result"
    },
    {
     "data": {
      "image/png": "[encoded data removed]",
      "text/plain": [
       "<Figure size 640x480 with 2 Axes>"
      ]
     },
     "metadata": {},
     "output_type": "display_data"
    }
   ],
   "source": [
    "X, p = get_test_data_at_origin(6, 6)\n",
    "p_dst = downsample_profile(p, 2)\n",
    "X1 = X + 0.\n",
    "X1[:3, :] = np.nan\n",
    "X1[3:4, :] = 1\n",
    "plt.imshow(X1)\n",
    "plt.colorbar()"
   ]
  },
  {
   "cell_type": "code",
   "execution_count": 11,
   "id": "4e438b45",
   "metadata": {
    "ExecuteTime": {
     "end_time": "2023-01-11T18:03:04.090065Z",
     "start_time": "2023-01-11T18:03:04.078668Z"
    }
   },
   "outputs": [
    {
     "data": {
      "text/plain": [
       "array([[nan, nan, nan],\n",
       "       [nan, nan, nan],\n",
       "       [ 0.,  0.,  0.]], dtype=float32)"
      ]
     },
     "execution_count": 11,
     "metadata": {},
     "output_type": "execute_result"
    }
   ],
   "source": [
    "X_percent, p_perc = resample_labels_into_percentage(X1, p, p_dst, 1)\n",
    "X_percent"
   ]
  },
  {
   "cell_type": "code",
   "execution_count": 12,
   "id": "41aa5709",
   "metadata": {
    "ExecuteTime": {
     "end_time": "2023-01-11T18:03:04.102978Z",
     "start_time": "2023-01-11T18:03:04.092083Z"
    }
   },
   "outputs": [
    {
     "data": {
      "text/plain": [
       "array([[nan, nan, nan],\n",
       "       [nan, nan, nan],\n",
       "       [ 0.,  0.,  0.]], dtype=float32)"
      ]
     },
     "execution_count": 12,
     "metadata": {},
     "output_type": "execute_result"
    }
   ],
   "source": [
    "X_percent, p_perc = resample_labels_into_percentage(X1, p, p_dst, 1, minimum_nodata_percent_for_exclusion=.5)\n",
    "X_percent"
   ]
  },
  {
   "cell_type": "code",
   "execution_count": 14,
   "id": "7263a917",
   "metadata": {
    "ExecuteTime": {
     "end_time": "2023-01-11T18:04:11.710583Z",
     "start_time": "2023-01-11T18:04:11.701056Z"
    }
   },
   "outputs": [
    {
     "data": {
      "text/plain": [
       "array([[nan, nan, nan],\n",
       "       [nan, nan, nan],\n",
       "       [ 0.,  0.,  0.]], dtype=float32)"
      ]
     },
     "execution_count": 14,
     "metadata": {},
     "output_type": "execute_result"
    }
   ],
   "source": [
    "X_percent, p_perc = resample_labels_into_percentage(X1, p, p_dst, 1, minimum_nodata_percent_for_exclusion=1e-7)\n",
    "X_percent"
   ]
  },
  {
   "cell_type": "code",
   "execution_count": null,
   "id": "3770d9a5",
   "metadata": {},
   "outputs": [],
   "source": []
  }
 ],
 "metadata": {
  "kernelspec": {
   "display_name": "dswx_val",
   "language": "python",
   "name": "dswx_val"
  },
  "language_info": {
   "codemirror_mode": {
    "name": "ipython",
    "version": 3
   },
   "file_extension": ".py",
   "mimetype": "text/x-python",
   "name": "python",
   "nbconvert_exporter": "python",
   "pygments_lexer": "ipython3",
   "version": "3.11.0"
  }
 },
 "nbformat": 4,
 "nbformat_minor": 5
}
