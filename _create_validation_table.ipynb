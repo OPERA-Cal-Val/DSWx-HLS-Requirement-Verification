{
 "cells": [
  {
   "cell_type": "code",
   "execution_count": 1,
   "id": "384bf53b",
   "metadata": {
    "ExecuteTime": {
     "end_time": "2022-12-21T20:06:57.322324Z",
     "start_time": "2022-12-21T20:06:56.291134Z"
    }
   },
   "outputs": [],
   "source": [
    "import pandas as pd\n",
    "from verification.val_db import get_finalized_validation_datasets, get_HLS_id\n",
    "from verification.es_db import get_dswx_urls\n",
    "from tqdm import tqdm"
   ]
  },
  {
   "cell_type": "markdown",
   "id": "a87d085f",
   "metadata": {},
   "source": [
    "Create a table (as a csv file) of planet ids, HLS_IDs, and the DSWx urls."
   ]
  },
  {
   "cell_type": "code",
   "execution_count": 2,
   "id": "11b2e221",
   "metadata": {
    "ExecuteTime": {
     "end_time": "2022-12-21T20:07:08.378238Z",
     "start_time": "2022-12-21T20:06:57.324411Z"
    }
   },
   "outputs": [
    {
     "name": "stderr",
     "output_type": "stream",
     "text": [
      "  0%|       | 0/52 [00:00<?, ?it/s]/Users/cmarshak/opt/anaconda3/envs/dswx_val/lib/python3.11/site-packages/elasticsearch/connection/http_urllib3.py:209: UserWarning: Connecting to https://100.104.62.10:443 using SSL with verify_certs=False is insecure.\n",
      "  warnings.warn(\n"
     ]
    },
    {
     "ename": "ValueError",
     "evalue": "Either JPL username/password is wrong or not connected to VPN",
     "output_type": "error",
     "traceback": [
      "\u001b[0;31m---------------------------------------------------------------------------\u001b[0m",
      "\u001b[0;31mValueError\u001b[0m                                Traceback (most recent call last)",
      "Cell \u001b[0;32mIn [2], line 4\u001b[0m\n\u001b[1;32m      2\u001b[0m planet_ids \u001b[38;5;241m=\u001b[39m df_val\u001b[38;5;241m.\u001b[39mimage_name\u001b[38;5;241m.\u001b[39mto_list()\n\u001b[1;32m      3\u001b[0m hls_ids \u001b[38;5;241m=\u001b[39m [get_HLS_id(planet_id) \u001b[38;5;28;01mfor\u001b[39;00m planet_id \u001b[38;5;129;01min\u001b[39;00m planet_ids]\n\u001b[0;32m----> 4\u001b[0m dswx_urls \u001b[38;5;241m=\u001b[39m \u001b[43m[\u001b[49m\u001b[43mget_dswx_urls\u001b[49m\u001b[43m(\u001b[49m\u001b[43mhls_id\u001b[49m\u001b[43m)\u001b[49m\u001b[43m \u001b[49m\u001b[38;5;28;43;01mfor\u001b[39;49;00m\u001b[43m \u001b[49m\u001b[43mhls_id\u001b[49m\u001b[43m \u001b[49m\u001b[38;5;129;43;01min\u001b[39;49;00m\u001b[43m \u001b[49m\u001b[43mtqdm\u001b[49m\u001b[43m(\u001b[49m\u001b[43mhls_ids\u001b[49m\u001b[43m)\u001b[49m\u001b[43m]\u001b[49m\n",
      "Cell \u001b[0;32mIn [2], line 4\u001b[0m, in \u001b[0;36m<listcomp>\u001b[0;34m(.0)\u001b[0m\n\u001b[1;32m      2\u001b[0m planet_ids \u001b[38;5;241m=\u001b[39m df_val\u001b[38;5;241m.\u001b[39mimage_name\u001b[38;5;241m.\u001b[39mto_list()\n\u001b[1;32m      3\u001b[0m hls_ids \u001b[38;5;241m=\u001b[39m [get_HLS_id(planet_id) \u001b[38;5;28;01mfor\u001b[39;00m planet_id \u001b[38;5;129;01min\u001b[39;00m planet_ids]\n\u001b[0;32m----> 4\u001b[0m dswx_urls \u001b[38;5;241m=\u001b[39m [\u001b[43mget_dswx_urls\u001b[49m\u001b[43m(\u001b[49m\u001b[43mhls_id\u001b[49m\u001b[43m)\u001b[49m \u001b[38;5;28;01mfor\u001b[39;00m hls_id \u001b[38;5;129;01min\u001b[39;00m tqdm(hls_ids)]\n",
      "File \u001b[0;32m~/bekaert-team/DSWx-HLS-Requirement-Verification/verification/es_db.py:55\u001b[0m, in \u001b[0;36mget_dswx_urls\u001b[0;34m(hls_id)\u001b[0m\n\u001b[1;32m     53\u001b[0m \u001b[38;5;28;01mdef\u001b[39;00m \u001b[38;5;21mget_dswx_urls\u001b[39m(hls_id: \u001b[38;5;28mstr\u001b[39m) \u001b[38;5;241m-\u001b[39m\u001b[38;5;241m>\u001b[39m \u001b[38;5;28mlist\u001b[39m:\n\u001b[1;32m     54\u001b[0m     base_url \u001b[38;5;241m=\u001b[39m \u001b[38;5;124m'\u001b[39m\u001b[38;5;124mhttps://opera-pst-rs-pop1.s3.us-west-2.amazonaws.com/\u001b[39m\u001b[38;5;124m'\u001b[39m\n\u001b[0;32m---> 55\u001b[0m     doc \u001b[38;5;241m=\u001b[39m \u001b[43mget_DSWX_doc\u001b[49m\u001b[43m(\u001b[49m\u001b[43mhls_id\u001b[49m\u001b[43m)\u001b[49m\n\u001b[1;32m     56\u001b[0m     paths \u001b[38;5;241m=\u001b[39m doc[\u001b[38;5;124m'\u001b[39m\u001b[38;5;124mmetadata\u001b[39m\u001b[38;5;124m'\u001b[39m][\u001b[38;5;124m'\u001b[39m\u001b[38;5;124mproduct_s3_paths\u001b[39m\u001b[38;5;124m'\u001b[39m]\n\u001b[1;32m     57\u001b[0m     paths_formatted \u001b[38;5;241m=\u001b[39m [path\u001b[38;5;241m.\u001b[39mreplace(\u001b[38;5;124m'\u001b[39m\u001b[38;5;124ms3://opera-pst-rs-pop1/\u001b[39m\u001b[38;5;124m'\u001b[39m, \u001b[38;5;124m'\u001b[39m\u001b[38;5;124m'\u001b[39m) \u001b[38;5;28;01mfor\u001b[39;00m path \u001b[38;5;129;01min\u001b[39;00m paths]\n",
      "File \u001b[0;32m~/bekaert-team/DSWx-HLS-Requirement-Verification/verification/es_db.py:35\u001b[0m, in \u001b[0;36mget_DSWX_doc\u001b[0;34m(hls_id)\u001b[0m\n\u001b[1;32m     33\u001b[0m \u001b[38;5;28;01mdef\u001b[39;00m \u001b[38;5;21mget_DSWX_doc\u001b[39m(hls_id: \u001b[38;5;28mstr\u001b[39m) \u001b[38;5;241m-\u001b[39m\u001b[38;5;241m>\u001b[39m \u001b[38;5;28mdict\u001b[39m:\n\u001b[0;32m---> 35\u001b[0m     search \u001b[38;5;241m=\u001b[39m \u001b[43mget_search_client\u001b[49m\u001b[43m(\u001b[49m\u001b[43m)\u001b[49m\n\u001b[1;32m     36\u001b[0m     q_qs \u001b[38;5;241m=\u001b[39m Q(\u001b[38;5;124m'\u001b[39m\u001b[38;5;124mquery_string\u001b[39m\u001b[38;5;124m'\u001b[39m,\n\u001b[1;32m     37\u001b[0m              query\u001b[38;5;241m=\u001b[39m\u001b[38;5;124mf\u001b[39m\u001b[38;5;124m'\u001b[39m\u001b[38;5;130;01m\\\"\u001b[39;00m\u001b[38;5;132;01m{\u001b[39;00mhls_id\u001b[38;5;132;01m}\u001b[39;00m\u001b[38;5;130;01m\\\"\u001b[39;00m\u001b[38;5;124m'\u001b[39m,\n\u001b[1;32m     38\u001b[0m              default_field\u001b[38;5;241m=\u001b[39m\u001b[38;5;124m\"\u001b[39m\u001b[38;5;124mmetadata.input_granule_id\u001b[39m\u001b[38;5;124m\"\u001b[39m)\n\u001b[1;32m     40\u001b[0m     query \u001b[38;5;241m=\u001b[39m search\u001b[38;5;241m.\u001b[39mquery(q_qs)\n",
      "File \u001b[0;32m~/bekaert-team/DSWx-HLS-Requirement-Verification/verification/es_db.py:28\u001b[0m, in \u001b[0;36mget_search_client\u001b[0;34m()\u001b[0m\n\u001b[1;32m     23\u001b[0m search \u001b[38;5;241m=\u001b[39m Search(using\u001b[38;5;241m=\u001b[39mgrq_client,\n\u001b[1;32m     24\u001b[0m                 \u001b[38;5;66;03m# wildcard is where the version is\u001b[39;00m\n\u001b[1;32m     25\u001b[0m                 index\u001b[38;5;241m=\u001b[39m\u001b[38;5;124m'\u001b[39m\u001b[38;5;124mgrq_*_l3_dswx_hls\u001b[39m\u001b[38;5;124m'\u001b[39m)\n\u001b[1;32m     27\u001b[0m \u001b[38;5;28;01mif\u001b[39;00m \u001b[38;5;129;01mnot\u001b[39;00m grq_client\u001b[38;5;241m.\u001b[39mping():\n\u001b[0;32m---> 28\u001b[0m     \u001b[38;5;28;01mraise\u001b[39;00m \u001b[38;5;167;01mValueError\u001b[39;00m(\u001b[38;5;124m'\u001b[39m\u001b[38;5;124mEither JPL username/password is wrong or not connected to VPN\u001b[39m\u001b[38;5;124m'\u001b[39m)\n\u001b[1;32m     30\u001b[0m \u001b[38;5;28;01mreturn\u001b[39;00m search\n",
      "\u001b[0;31mValueError\u001b[0m: Either JPL username/password is wrong or not connected to VPN"
     ]
    }
   ],
   "source": [
    "df_val = get_finalized_validation_datasets()\n",
    "planet_ids = df_val.image_name.to_list()\n",
    "hls_ids = [get_HLS_id(planet_id) for planet_id in planet_ids]\n",
    "dswx_urls = [get_dswx_urls(hls_id) for hls_id in tqdm(hls_ids)]"
   ]
  },
  {
   "cell_type": "code",
   "execution_count": null,
   "id": "2cbf8908",
   "metadata": {
    "ExecuteTime": {
     "end_time": "2022-12-21T20:07:08.383765Z",
     "start_time": "2022-12-21T20:07:08.383752Z"
    }
   },
   "outputs": [],
   "source": [
    "table_data = [{'planet_id': planet_id,\n",
    "               'hls_id': hls_id,\n",
    "               'dswx_urls': ','.join(dswx_url_list)} for (planet_id, \n",
    "                                                         hls_id, \n",
    "                                                         dswx_url_list) in zip(planet_ids, \n",
    "                                                                               hls_ids,\n",
    "                                                                               dswx_urls)]\n",
    "table_data[:3]"
   ]
  },
  {
   "cell_type": "code",
   "execution_count": null,
   "id": "3fd3f8d4",
   "metadata": {
    "ExecuteTime": {
     "end_time": "2022-12-21T20:07:08.385070Z",
     "start_time": "2022-12-21T20:07:08.385053Z"
    }
   },
   "outputs": [],
   "source": [
    "df = pd.DataFrame(table_data)\n",
    "df.head()"
   ]
  },
  {
   "cell_type": "code",
   "execution_count": null,
   "id": "49debe59",
   "metadata": {
    "ExecuteTime": {
     "end_time": "2022-12-21T20:07:08.386506Z",
     "start_time": "2022-12-21T20:07:08.386493Z"
    }
   },
   "outputs": [],
   "source": [
    "df.to_csv('validation_table_data.csv', index=False)"
   ]
  }
 ],
 "metadata": {
  "kernelspec": {
   "display_name": "dswx_val",
   "language": "python",
   "name": "dswx_val"
  },
  "language_info": {
   "codemirror_mode": {
    "name": "ipython",
    "version": 3
   },
   "file_extension": ".py",
   "mimetype": "text/x-python",
   "name": "python",
   "nbconvert_exporter": "python",
   "pygments_lexer": "ipython3",
   "version": "3.11.0"
  }
 },
 "nbformat": 4,
 "nbformat_minor": 5
}
