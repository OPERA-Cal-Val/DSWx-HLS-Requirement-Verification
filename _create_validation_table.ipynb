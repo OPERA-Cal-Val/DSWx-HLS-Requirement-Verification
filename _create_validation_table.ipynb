{
 "cells": [
  {
   "cell_type": "code",
   "execution_count": null,
   "id": "4d649508",
   "metadata": {},
   "outputs": [],
   "source": [
    "import pandas as pd\n",
    "from verification.val_db import get_finalized_validation_datasets, get_HLS_id\n",
    "from verification.es_db import get_dswx_urls\n",
    "from tqdm import tqdm"
   ]
  },
  {
   "cell_type": "markdown",
   "id": "44a76214",
   "metadata": {},
   "source": [
    "Create a table (as a csv file) of planet ids, HLS_IDs, and the DSWx urls."
   ]
  },
  {
   "cell_type": "code",
   "execution_count": null,
   "id": "b9f82324",
   "metadata": {},
   "outputs": [],
   "source": [
    "df_val = get_finalized_validation_datasets()\n",
    "planet_ids = df_val.image_name.to_list()\n",
    "hls_ids = [get_HLS_id(planet_id) for planet_id in planet_ids]\n",
    "dswx_urls = [get_dswx_urls(hls_id) for hls_id in tqdm(hls_ids)]"
   ]
  },
  {
   "cell_type": "code",
   "execution_count": null,
   "id": "4a7b95f8",
   "metadata": {},
   "outputs": [],
   "source": [
    "table_data = [{'planet_id': planet_id,\n",
    "               'hls_id': hls_id,\n",
    "               'dswx_urls': ','.join(dswx_url_list)} for (planet_id, \n",
    "                                                         hls_id, \n",
    "                                                         dswx_url_list) in zip(planet_ids, \n",
    "                                                                               hls_ids,\n",
    "                                                                               dswx_urls)]\n",
    "table_data[:3]"
   ]
  },
  {
   "cell_type": "code",
   "execution_count": null,
   "id": "7067637a",
   "metadata": {},
   "outputs": [],
   "source": [
    "df = pd.DataFrame(table_data)\n",
    "df.head()"
   ]
  },
  {
   "cell_type": "code",
   "execution_count": null,
   "id": "4d1ac7ba",
   "metadata": {},
   "outputs": [],
   "source": [
    "df.to_csv('validation_table_data.csv', index=False)"
   ]
  }
 ],
 "metadata": {
  "kernelspec": {
   "display_name": "dswx_val",
   "language": "python",
   "name": "dswx_val"
  },
  "language_info": {
   "codemirror_mode": {
    "name": "ipython",
    "version": 3
   },
   "file_extension": ".py",
   "mimetype": "text/x-python",
   "name": "python",
   "nbconvert_exporter": "python",
   "pygments_lexer": "ipython3"
  }
 },
 "nbformat": 4,
 "nbformat_minor": 5
}
