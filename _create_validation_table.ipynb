{
 "cells": [
  {
   "cell_type": "code",
   "execution_count": 1,
   "id": "413b77bb",
   "metadata": {
    "ExecuteTime": {
     "end_time": "2023-03-14T22:08:21.902140Z",
     "start_time": "2023-03-14T22:08:21.878369Z"
    }
   },
   "outputs": [],
   "source": [
    "%load_ext autoreload\n",
    "%autoreload 2"
   ]
  },
  {
   "cell_type": "code",
   "execution_count": 2,
   "id": "bdef2624",
   "metadata": {
    "ExecuteTime": {
     "end_time": "2023-03-14T22:08:22.757547Z",
     "start_time": "2023-03-14T22:08:21.904396Z"
    }
   },
   "outputs": [],
   "source": [
    "import pandas as pd\n",
    "from verification.val_db import get_finalized_validation_datasets, get_HLS_id\n",
    "from verification.es_db import get_dswx_urls\n",
    "from tqdm import tqdm"
   ]
  },
  {
   "cell_type": "markdown",
   "id": "1eb138cf",
   "metadata": {},
   "source": [
    "Create a table (as a csv file) of planet ids, HLS_IDs, and the DSWx urls."
   ]
  },
  {
   "cell_type": "code",
   "execution_count": 3,
   "id": "d943f03d",
   "metadata": {
    "ExecuteTime": {
     "end_time": "2023-03-14T22:08:30.754995Z",
     "start_time": "2023-03-14T22:08:22.761209Z"
    }
   },
   "outputs": [
    {
     "name": "stderr",
     "output_type": "stream",
     "text": [
      "  0%|                     | 0/52 [00:00<?, ?it/s]/Users/cmarshak/mambaforge/envs/dswx_val/lib/python3.11/site-packages/elasticsearch/connection/http_urllib3.py:209: UserWarning: Connecting to https://100.104.62.10:443 using SSL with verify_certs=False is insecure.\n",
      "  warnings.warn(\n",
      "100%|████████████| 52/52 [00:06<00:00,  7.74it/s]\n"
     ]
    }
   ],
   "source": [
    "df_val = get_finalized_validation_datasets()\n",
    "planet_ids = df_val.image_name.to_list()\n",
    "hls_ids = [get_HLS_id(planet_id) for planet_id in planet_ids]\n",
    "dswx_urls = [get_dswx_urls(hls_id) for hls_id in tqdm(hls_ids)]"
   ]
  },
  {
   "cell_type": "code",
   "execution_count": 4,
   "id": "47154dab",
   "metadata": {
    "ExecuteTime": {
     "end_time": "2023-03-14T22:08:30.803177Z",
     "start_time": "2023-03-14T22:08:30.762407Z"
    }
   },
   "outputs": [
    {
     "data": {
      "text/plain": [
       "['https://opera-pst-rs-pop1.s3.us-west-2.amazonaws.com/products/DSWx_HLS/OPERA_L3_DSWx-HLS_T18UXG_20210902T154154Z_20230314T205349Z_L8_30_v0.0/OPERA_L3_DSWx-HLS_T18UXG_20210902T154154Z_20230314T205349Z_L8_30_v0.0_B01_WTR.tif',\n",
       " 'https://opera-pst-rs-pop1.s3.us-west-2.amazonaws.com/products/DSWx_HLS/OPERA_L3_DSWx-HLS_T18UXG_20210902T154154Z_20230314T205349Z_L8_30_v0.0/OPERA_L3_DSWx-HLS_T18UXG_20210902T154154Z_20230314T205349Z_L8_30_v0.0_B02_BWTR.tif',\n",
       " 'https://opera-pst-rs-pop1.s3.us-west-2.amazonaws.com/products/DSWx_HLS/OPERA_L3_DSWx-HLS_T18UXG_20210902T154154Z_20230314T205349Z_L8_30_v0.0/OPERA_L3_DSWx-HLS_T18UXG_20210902T154154Z_20230314T205349Z_L8_30_v0.0_B03_CONF.tif',\n",
       " 'https://opera-pst-rs-pop1.s3.us-west-2.amazonaws.com/products/DSWx_HLS/OPERA_L3_DSWx-HLS_T18UXG_20210902T154154Z_20230314T205349Z_L8_30_v0.0/OPERA_L3_DSWx-HLS_T18UXG_20210902T154154Z_20230314T205349Z_L8_30_v0.0_B04_DIAG.tif',\n",
       " 'https://opera-pst-rs-pop1.s3.us-west-2.amazonaws.com/products/DSWx_HLS/OPERA_L3_DSWx-HLS_T18UXG_20210902T154154Z_20230314T205349Z_L8_30_v0.0/OPERA_L3_DSWx-HLS_T18UXG_20210902T154154Z_20230314T205349Z_L8_30_v0.0_B05_WTR-1.tif',\n",
       " 'https://opera-pst-rs-pop1.s3.us-west-2.amazonaws.com/products/DSWx_HLS/OPERA_L3_DSWx-HLS_T18UXG_20210902T154154Z_20230314T205349Z_L8_30_v0.0/OPERA_L3_DSWx-HLS_T18UXG_20210902T154154Z_20230314T205349Z_L8_30_v0.0_B06_WTR-2.tif',\n",
       " 'https://opera-pst-rs-pop1.s3.us-west-2.amazonaws.com/products/DSWx_HLS/OPERA_L3_DSWx-HLS_T18UXG_20210902T154154Z_20230314T205349Z_L8_30_v0.0/OPERA_L3_DSWx-HLS_T18UXG_20210902T154154Z_20230314T205349Z_L8_30_v0.0_B07_LAND.tif',\n",
       " 'https://opera-pst-rs-pop1.s3.us-west-2.amazonaws.com/products/DSWx_HLS/OPERA_L3_DSWx-HLS_T18UXG_20210902T154154Z_20230314T205349Z_L8_30_v0.0/OPERA_L3_DSWx-HLS_T18UXG_20210902T154154Z_20230314T205349Z_L8_30_v0.0_B08_SHAD.tif',\n",
       " 'https://opera-pst-rs-pop1.s3.us-west-2.amazonaws.com/products/DSWx_HLS/OPERA_L3_DSWx-HLS_T18UXG_20210902T154154Z_20230314T205349Z_L8_30_v0.0/OPERA_L3_DSWx-HLS_T18UXG_20210902T154154Z_20230314T205349Z_L8_30_v0.0_B09_CLOUD.tif',\n",
       " 'https://opera-pst-rs-pop1.s3.us-west-2.amazonaws.com/products/DSWx_HLS/OPERA_L3_DSWx-HLS_T18UXG_20210902T154154Z_20230314T205349Z_L8_30_v0.0/OPERA_L3_DSWx-HLS_T18UXG_20210902T154154Z_20230314T205349Z_L8_30_v0.0_B10_DEM.tif']"
      ]
     },
     "execution_count": 4,
     "metadata": {},
     "output_type": "execute_result"
    }
   ],
   "source": [
    "dswx_urls[0]"
   ]
  },
  {
   "cell_type": "code",
   "execution_count": 5,
   "id": "e13abb5c",
   "metadata": {
    "ExecuteTime": {
     "end_time": "2023-03-14T22:08:30.841653Z",
     "start_time": "2023-03-14T22:08:30.804983Z"
    }
   },
   "outputs": [
    {
     "data": {
      "text/plain": [
       "[{'planet_id': '20210903_150800_60_2458',\n",
       "  'hls_id': 'HLS.L30.T18UXG.2021245T154154.v2.0',\n",
       "  'dswx_urls': 'https://opera-pst-rs-pop1.s3.us-west-2.amazonaws.com/products/DSWx_HLS/OPERA_L3_DSWx-HLS_T18UXG_20210902T154154Z_20230314T205349Z_L8_30_v0.0/OPERA_L3_DSWx-HLS_T18UXG_20210902T154154Z_20230314T205349Z_L8_30_v0.0_B01_WTR.tif,https://opera-pst-rs-pop1.s3.us-west-2.amazonaws.com/products/DSWx_HLS/OPERA_L3_DSWx-HLS_T18UXG_20210902T154154Z_20230314T205349Z_L8_30_v0.0/OPERA_L3_DSWx-HLS_T18UXG_20210902T154154Z_20230314T205349Z_L8_30_v0.0_B02_BWTR.tif,https://opera-pst-rs-pop1.s3.us-west-2.amazonaws.com/products/DSWx_HLS/OPERA_L3_DSWx-HLS_T18UXG_20210902T154154Z_20230314T205349Z_L8_30_v0.0/OPERA_L3_DSWx-HLS_T18UXG_20210902T154154Z_20230314T205349Z_L8_30_v0.0_B03_CONF.tif,https://opera-pst-rs-pop1.s3.us-west-2.amazonaws.com/products/DSWx_HLS/OPERA_L3_DSWx-HLS_T18UXG_20210902T154154Z_20230314T205349Z_L8_30_v0.0/OPERA_L3_DSWx-HLS_T18UXG_20210902T154154Z_20230314T205349Z_L8_30_v0.0_B04_DIAG.tif,https://opera-pst-rs-pop1.s3.us-west-2.amazonaws.com/products/DSWx_HLS/OPERA_L3_DSWx-HLS_T18UXG_20210902T154154Z_20230314T205349Z_L8_30_v0.0/OPERA_L3_DSWx-HLS_T18UXG_20210902T154154Z_20230314T205349Z_L8_30_v0.0_B05_WTR-1.tif,https://opera-pst-rs-pop1.s3.us-west-2.amazonaws.com/products/DSWx_HLS/OPERA_L3_DSWx-HLS_T18UXG_20210902T154154Z_20230314T205349Z_L8_30_v0.0/OPERA_L3_DSWx-HLS_T18UXG_20210902T154154Z_20230314T205349Z_L8_30_v0.0_B06_WTR-2.tif,https://opera-pst-rs-pop1.s3.us-west-2.amazonaws.com/products/DSWx_HLS/OPERA_L3_DSWx-HLS_T18UXG_20210902T154154Z_20230314T205349Z_L8_30_v0.0/OPERA_L3_DSWx-HLS_T18UXG_20210902T154154Z_20230314T205349Z_L8_30_v0.0_B07_LAND.tif,https://opera-pst-rs-pop1.s3.us-west-2.amazonaws.com/products/DSWx_HLS/OPERA_L3_DSWx-HLS_T18UXG_20210902T154154Z_20230314T205349Z_L8_30_v0.0/OPERA_L3_DSWx-HLS_T18UXG_20210902T154154Z_20230314T205349Z_L8_30_v0.0_B08_SHAD.tif,https://opera-pst-rs-pop1.s3.us-west-2.amazonaws.com/products/DSWx_HLS/OPERA_L3_DSWx-HLS_T18UXG_20210902T154154Z_20230314T205349Z_L8_30_v0.0/OPERA_L3_DSWx-HLS_T18UXG_20210902T154154Z_20230314T205349Z_L8_30_v0.0_B09_CLOUD.tif,https://opera-pst-rs-pop1.s3.us-west-2.amazonaws.com/products/DSWx_HLS/OPERA_L3_DSWx-HLS_T18UXG_20210902T154154Z_20230314T205349Z_L8_30_v0.0/OPERA_L3_DSWx-HLS_T18UXG_20210902T154154Z_20230314T205349Z_L8_30_v0.0_B10_DEM.tif'},\n",
       " {'planet_id': '20210903_152641_60_105c',\n",
       "  'hls_id': 'HLS.S30.T19UDA.2021245T154911.v2.0',\n",
       "  'dswx_urls': 'https://opera-pst-rs-pop1.s3.us-west-2.amazonaws.com/products/DSWx_HLS/OPERA_L3_DSWx-HLS_T19UDA_20210902T154911Z_20230314T205245Z_S2A_30_v0.0/OPERA_L3_DSWx-HLS_T19UDA_20210902T154911Z_20230314T205245Z_S2A_30_v0.0_B01_WTR.tif,https://opera-pst-rs-pop1.s3.us-west-2.amazonaws.com/products/DSWx_HLS/OPERA_L3_DSWx-HLS_T19UDA_20210902T154911Z_20230314T205245Z_S2A_30_v0.0/OPERA_L3_DSWx-HLS_T19UDA_20210902T154911Z_20230314T205245Z_S2A_30_v0.0_B02_BWTR.tif,https://opera-pst-rs-pop1.s3.us-west-2.amazonaws.com/products/DSWx_HLS/OPERA_L3_DSWx-HLS_T19UDA_20210902T154911Z_20230314T205245Z_S2A_30_v0.0/OPERA_L3_DSWx-HLS_T19UDA_20210902T154911Z_20230314T205245Z_S2A_30_v0.0_B03_CONF.tif,https://opera-pst-rs-pop1.s3.us-west-2.amazonaws.com/products/DSWx_HLS/OPERA_L3_DSWx-HLS_T19UDA_20210902T154911Z_20230314T205245Z_S2A_30_v0.0/OPERA_L3_DSWx-HLS_T19UDA_20210902T154911Z_20230314T205245Z_S2A_30_v0.0_B04_DIAG.tif,https://opera-pst-rs-pop1.s3.us-west-2.amazonaws.com/products/DSWx_HLS/OPERA_L3_DSWx-HLS_T19UDA_20210902T154911Z_20230314T205245Z_S2A_30_v0.0/OPERA_L3_DSWx-HLS_T19UDA_20210902T154911Z_20230314T205245Z_S2A_30_v0.0_B05_WTR-1.tif,https://opera-pst-rs-pop1.s3.us-west-2.amazonaws.com/products/DSWx_HLS/OPERA_L3_DSWx-HLS_T19UDA_20210902T154911Z_20230314T205245Z_S2A_30_v0.0/OPERA_L3_DSWx-HLS_T19UDA_20210902T154911Z_20230314T205245Z_S2A_30_v0.0_B06_WTR-2.tif,https://opera-pst-rs-pop1.s3.us-west-2.amazonaws.com/products/DSWx_HLS/OPERA_L3_DSWx-HLS_T19UDA_20210902T154911Z_20230314T205245Z_S2A_30_v0.0/OPERA_L3_DSWx-HLS_T19UDA_20210902T154911Z_20230314T205245Z_S2A_30_v0.0_B07_LAND.tif,https://opera-pst-rs-pop1.s3.us-west-2.amazonaws.com/products/DSWx_HLS/OPERA_L3_DSWx-HLS_T19UDA_20210902T154911Z_20230314T205245Z_S2A_30_v0.0/OPERA_L3_DSWx-HLS_T19UDA_20210902T154911Z_20230314T205245Z_S2A_30_v0.0_B08_SHAD.tif,https://opera-pst-rs-pop1.s3.us-west-2.amazonaws.com/products/DSWx_HLS/OPERA_L3_DSWx-HLS_T19UDA_20210902T154911Z_20230314T205245Z_S2A_30_v0.0/OPERA_L3_DSWx-HLS_T19UDA_20210902T154911Z_20230314T205245Z_S2A_30_v0.0_B09_CLOUD.tif,https://opera-pst-rs-pop1.s3.us-west-2.amazonaws.com/products/DSWx_HLS/OPERA_L3_DSWx-HLS_T19UDA_20210902T154911Z_20230314T205245Z_S2A_30_v0.0/OPERA_L3_DSWx-HLS_T19UDA_20210902T154911Z_20230314T205245Z_S2A_30_v0.0_B10_DEM.tif'},\n",
       " {'planet_id': '20210904_093422_44_1065',\n",
       "  'hls_id': 'HLS.S30.T33JYG.2021248T082559.v2.0',\n",
       "  'dswx_urls': 'https://opera-pst-rs-pop1.s3.us-west-2.amazonaws.com/products/DSWx_HLS/OPERA_L3_DSWx-HLS_T33JYG_20210905T082559Z_20230314T204521Z_S2B_30_v0.0/OPERA_L3_DSWx-HLS_T33JYG_20210905T082559Z_20230314T204521Z_S2B_30_v0.0_B01_WTR.tif,https://opera-pst-rs-pop1.s3.us-west-2.amazonaws.com/products/DSWx_HLS/OPERA_L3_DSWx-HLS_T33JYG_20210905T082559Z_20230314T204521Z_S2B_30_v0.0/OPERA_L3_DSWx-HLS_T33JYG_20210905T082559Z_20230314T204521Z_S2B_30_v0.0_B02_BWTR.tif,https://opera-pst-rs-pop1.s3.us-west-2.amazonaws.com/products/DSWx_HLS/OPERA_L3_DSWx-HLS_T33JYG_20210905T082559Z_20230314T204521Z_S2B_30_v0.0/OPERA_L3_DSWx-HLS_T33JYG_20210905T082559Z_20230314T204521Z_S2B_30_v0.0_B03_CONF.tif,https://opera-pst-rs-pop1.s3.us-west-2.amazonaws.com/products/DSWx_HLS/OPERA_L3_DSWx-HLS_T33JYG_20210905T082559Z_20230314T204521Z_S2B_30_v0.0/OPERA_L3_DSWx-HLS_T33JYG_20210905T082559Z_20230314T204521Z_S2B_30_v0.0_B04_DIAG.tif,https://opera-pst-rs-pop1.s3.us-west-2.amazonaws.com/products/DSWx_HLS/OPERA_L3_DSWx-HLS_T33JYG_20210905T082559Z_20230314T204521Z_S2B_30_v0.0/OPERA_L3_DSWx-HLS_T33JYG_20210905T082559Z_20230314T204521Z_S2B_30_v0.0_B05_WTR-1.tif,https://opera-pst-rs-pop1.s3.us-west-2.amazonaws.com/products/DSWx_HLS/OPERA_L3_DSWx-HLS_T33JYG_20210905T082559Z_20230314T204521Z_S2B_30_v0.0/OPERA_L3_DSWx-HLS_T33JYG_20210905T082559Z_20230314T204521Z_S2B_30_v0.0_B06_WTR-2.tif,https://opera-pst-rs-pop1.s3.us-west-2.amazonaws.com/products/DSWx_HLS/OPERA_L3_DSWx-HLS_T33JYG_20210905T082559Z_20230314T204521Z_S2B_30_v0.0/OPERA_L3_DSWx-HLS_T33JYG_20210905T082559Z_20230314T204521Z_S2B_30_v0.0_B07_LAND.tif,https://opera-pst-rs-pop1.s3.us-west-2.amazonaws.com/products/DSWx_HLS/OPERA_L3_DSWx-HLS_T33JYG_20210905T082559Z_20230314T204521Z_S2B_30_v0.0/OPERA_L3_DSWx-HLS_T33JYG_20210905T082559Z_20230314T204521Z_S2B_30_v0.0_B08_SHAD.tif,https://opera-pst-rs-pop1.s3.us-west-2.amazonaws.com/products/DSWx_HLS/OPERA_L3_DSWx-HLS_T33JYG_20210905T082559Z_20230314T204521Z_S2B_30_v0.0/OPERA_L3_DSWx-HLS_T33JYG_20210905T082559Z_20230314T204521Z_S2B_30_v0.0_B09_CLOUD.tif,https://opera-pst-rs-pop1.s3.us-west-2.amazonaws.com/products/DSWx_HLS/OPERA_L3_DSWx-HLS_T33JYG_20210905T082559Z_20230314T204521Z_S2B_30_v0.0/OPERA_L3_DSWx-HLS_T33JYG_20210905T082559Z_20230314T204521Z_S2B_30_v0.0_B10_DEM.tif'}]"
      ]
     },
     "execution_count": 5,
     "metadata": {},
     "output_type": "execute_result"
    }
   ],
   "source": [
    "table_data = [{'planet_id': planet_id,\n",
    "               'hls_id': hls_id,\n",
    "               'dswx_urls': ','.join(dswx_url_list)} for (planet_id, \n",
    "                                                         hls_id, \n",
    "                                                         dswx_url_list) in zip(planet_ids, \n",
    "                                                                               hls_ids,\n",
    "                                                                               dswx_urls)]\n",
    "table_data[:3]"
   ]
  },
  {
   "cell_type": "code",
   "execution_count": 6,
   "id": "f7348374",
   "metadata": {
    "ExecuteTime": {
     "end_time": "2023-03-14T22:08:30.882591Z",
     "start_time": "2023-03-14T22:08:30.843354Z"
    }
   },
   "outputs": [
    {
     "data": {
      "text/html": [
       "<div>\n",
       "<style scoped>\n",
       "    .dataframe tbody tr th:only-of-type {\n",
       "        vertical-align: middle;\n",
       "    }\n",
       "\n",
       "    .dataframe tbody tr th {\n",
       "        vertical-align: top;\n",
       "    }\n",
       "\n",
       "    .dataframe thead th {\n",
       "        text-align: right;\n",
       "    }\n",
       "</style>\n",
       "<table border=\"1\" class=\"dataframe\">\n",
       "  <thead>\n",
       "    <tr style=\"text-align: right;\">\n",
       "      <th></th>\n",
       "      <th>planet_id</th>\n",
       "      <th>hls_id</th>\n",
       "      <th>dswx_urls</th>\n",
       "    </tr>\n",
       "  </thead>\n",
       "  <tbody>\n",
       "    <tr>\n",
       "      <th>0</th>\n",
       "      <td>20210903_150800_60_2458</td>\n",
       "      <td>HLS.L30.T18UXG.2021245T154154.v2.0</td>\n",
       "      <td>https://opera-pst-rs-pop1.s3.us-west-2.amazona...</td>\n",
       "    </tr>\n",
       "    <tr>\n",
       "      <th>1</th>\n",
       "      <td>20210903_152641_60_105c</td>\n",
       "      <td>HLS.S30.T19UDA.2021245T154911.v2.0</td>\n",
       "      <td>https://opera-pst-rs-pop1.s3.us-west-2.amazona...</td>\n",
       "    </tr>\n",
       "    <tr>\n",
       "      <th>2</th>\n",
       "      <td>20210904_093422_44_1065</td>\n",
       "      <td>HLS.S30.T33JYG.2021248T082559.v2.0</td>\n",
       "      <td>https://opera-pst-rs-pop1.s3.us-west-2.amazona...</td>\n",
       "    </tr>\n",
       "    <tr>\n",
       "      <th>3</th>\n",
       "      <td>20210906_101112_28_225a</td>\n",
       "      <td>HLS.S30.T30TYN.2021248T105621.v2.0</td>\n",
       "      <td>https://opera-pst-rs-pop1.s3.us-west-2.amazona...</td>\n",
       "    </tr>\n",
       "    <tr>\n",
       "      <th>4</th>\n",
       "      <td>20210909_000649_94_222b</td>\n",
       "      <td>HLS.L30.T54JTM.2021251T003848.v2.0</td>\n",
       "      <td>https://opera-pst-rs-pop1.s3.us-west-2.amazona...</td>\n",
       "    </tr>\n",
       "  </tbody>\n",
       "</table>\n",
       "</div>"
      ],
      "text/plain": [
       "                 planet_id                              hls_id  \\\n",
       "0  20210903_150800_60_2458  HLS.L30.T18UXG.2021245T154154.v2.0   \n",
       "1  20210903_152641_60_105c  HLS.S30.T19UDA.2021245T154911.v2.0   \n",
       "2  20210904_093422_44_1065  HLS.S30.T33JYG.2021248T082559.v2.0   \n",
       "3  20210906_101112_28_225a  HLS.S30.T30TYN.2021248T105621.v2.0   \n",
       "4  20210909_000649_94_222b  HLS.L30.T54JTM.2021251T003848.v2.0   \n",
       "\n",
       "                                           dswx_urls  \n",
       "0  https://opera-pst-rs-pop1.s3.us-west-2.amazona...  \n",
       "1  https://opera-pst-rs-pop1.s3.us-west-2.amazona...  \n",
       "2  https://opera-pst-rs-pop1.s3.us-west-2.amazona...  \n",
       "3  https://opera-pst-rs-pop1.s3.us-west-2.amazona...  \n",
       "4  https://opera-pst-rs-pop1.s3.us-west-2.amazona...  "
      ]
     },
     "execution_count": 6,
     "metadata": {},
     "output_type": "execute_result"
    }
   ],
   "source": [
    "df = pd.DataFrame(table_data)\n",
    "df.head()"
   ]
  },
  {
   "cell_type": "code",
   "execution_count": 7,
   "id": "ba197720",
   "metadata": {
    "ExecuteTime": {
     "end_time": "2023-03-14T22:08:30.923148Z",
     "start_time": "2023-03-14T22:08:30.884328Z"
    }
   },
   "outputs": [],
   "source": [
    "df.to_csv('validation_table_data.csv', index=False)"
   ]
  },
  {
   "cell_type": "code",
   "execution_count": 8,
   "id": "38e9bfef",
   "metadata": {
    "ExecuteTime": {
     "end_time": "2023-03-14T22:08:30.958427Z",
     "start_time": "2023-03-14T22:08:30.924713Z"
    }
   },
   "outputs": [
    {
     "data": {
      "text/plain": [
       "'https://opera-pst-rs-pop1.s3.us-west-2.amazonaws.com/products/DSWx_HLS/OPERA_L3_DSWx-HLS_T18UXG_20210902T154154Z_20230314T205349Z_L8_30_v0.0/OPERA_L3_DSWx-HLS_T18UXG_20210902T154154Z_20230314T205349Z_L8_30_v0.0_B01_WTR.tif,https://opera-pst-rs-pop1.s3.us-west-2.amazonaws.com/products/DSWx_HLS/OPERA_L3_DSWx-HLS_T18UXG_20210902T154154Z_20230314T205349Z_L8_30_v0.0/OPERA_L3_DSWx-HLS_T18UXG_20210902T154154Z_20230314T205349Z_L8_30_v0.0_B02_BWTR.tif,https://opera-pst-rs-pop1.s3.us-west-2.amazonaws.com/products/DSWx_HLS/OPERA_L3_DSWx-HLS_T18UXG_20210902T154154Z_20230314T205349Z_L8_30_v0.0/OPERA_L3_DSWx-HLS_T18UXG_20210902T154154Z_20230314T205349Z_L8_30_v0.0_B03_CONF.tif,https://opera-pst-rs-pop1.s3.us-west-2.amazonaws.com/products/DSWx_HLS/OPERA_L3_DSWx-HLS_T18UXG_20210902T154154Z_20230314T205349Z_L8_30_v0.0/OPERA_L3_DSWx-HLS_T18UXG_20210902T154154Z_20230314T205349Z_L8_30_v0.0_B04_DIAG.tif,https://opera-pst-rs-pop1.s3.us-west-2.amazonaws.com/products/DSWx_HLS/OPERA_L3_DSWx-HLS_T18UXG_20210902T154154Z_20230314T205349Z_L8_30_v0.0/OPERA_L3_DSWx-HLS_T18UXG_20210902T154154Z_20230314T205349Z_L8_30_v0.0_B05_WTR-1.tif,https://opera-pst-rs-pop1.s3.us-west-2.amazonaws.com/products/DSWx_HLS/OPERA_L3_DSWx-HLS_T18UXG_20210902T154154Z_20230314T205349Z_L8_30_v0.0/OPERA_L3_DSWx-HLS_T18UXG_20210902T154154Z_20230314T205349Z_L8_30_v0.0_B06_WTR-2.tif,https://opera-pst-rs-pop1.s3.us-west-2.amazonaws.com/products/DSWx_HLS/OPERA_L3_DSWx-HLS_T18UXG_20210902T154154Z_20230314T205349Z_L8_30_v0.0/OPERA_L3_DSWx-HLS_T18UXG_20210902T154154Z_20230314T205349Z_L8_30_v0.0_B07_LAND.tif,https://opera-pst-rs-pop1.s3.us-west-2.amazonaws.com/products/DSWx_HLS/OPERA_L3_DSWx-HLS_T18UXG_20210902T154154Z_20230314T205349Z_L8_30_v0.0/OPERA_L3_DSWx-HLS_T18UXG_20210902T154154Z_20230314T205349Z_L8_30_v0.0_B08_SHAD.tif,https://opera-pst-rs-pop1.s3.us-west-2.amazonaws.com/products/DSWx_HLS/OPERA_L3_DSWx-HLS_T18UXG_20210902T154154Z_20230314T205349Z_L8_30_v0.0/OPERA_L3_DSWx-HLS_T18UXG_20210902T154154Z_20230314T205349Z_L8_30_v0.0_B09_CLOUD.tif,https://opera-pst-rs-pop1.s3.us-west-2.amazonaws.com/products/DSWx_HLS/OPERA_L3_DSWx-HLS_T18UXG_20210902T154154Z_20230314T205349Z_L8_30_v0.0/OPERA_L3_DSWx-HLS_T18UXG_20210902T154154Z_20230314T205349Z_L8_30_v0.0_B10_DEM.tif'"
      ]
     },
     "execution_count": 8,
     "metadata": {},
     "output_type": "execute_result"
    }
   ],
   "source": [
    "df.dswx_urls[0]"
   ]
  }
 ],
 "metadata": {
  "kernelspec": {
   "display_name": "dswx_val",
   "language": "python",
   "name": "dswx_val"
  },
  "language_info": {
   "codemirror_mode": {
    "name": "ipython",
    "version": 3
   },
   "file_extension": ".py",
   "mimetype": "text/x-python",
   "name": "python",
   "nbconvert_exporter": "python",
   "pygments_lexer": "ipython3",
   "version": "3.11.0"
  }
 },
 "nbformat": 4,
 "nbformat_minor": 5
}
