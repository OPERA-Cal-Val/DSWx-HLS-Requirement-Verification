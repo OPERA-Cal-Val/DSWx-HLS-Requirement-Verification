{
 "cells": [
  {
   "cell_type": "code",
   "execution_count": 1,
   "id": "57b90bde",
   "metadata": {
    "ExecuteTime": {
     "end_time": "2023-01-25T00:45:17.580227Z",
     "start_time": "2023-01-25T00:45:17.554564Z"
    }
   },
   "outputs": [],
   "source": [
    "%load_ext autoreload\n",
    "%autoreload 2"
   ]
  },
  {
   "cell_type": "code",
   "execution_count": 2,
   "id": "69b2b072",
   "metadata": {
    "ExecuteTime": {
     "end_time": "2023-01-25T00:45:19.736508Z",
     "start_time": "2023-01-25T00:45:17.582530Z"
    }
   },
   "outputs": [],
   "source": [
    "import geopandas as gpd\n",
    "from verification.val_db import (get_finalized_validation_datasets,\n",
    "                                 read_validation_dataset,\n",
    "                                 get_val_s3_path,\n",
    "                                 get_image_table\n",
    "                                )\n",
    "\n",
    "import matplotlib.pyplot as plt\n",
    "from matplotlib.ticker import PercentFormatter\n",
    "\n",
    "import numpy as np\n",
    "from tqdm import tqdm\n",
    "import rasterio\n",
    "from matplotlib.colors import ListedColormap\n",
    "from shapely.geometry import box\n",
    "from rasterio.plot import show\n",
    "from pathlib import Path\n",
    "from verification.rio_tools import get_geopandas_features_from_array\n",
    "import pandas as pd\n",
    "import sklearn.metrics\n",
    "import json\n",
    "from verification.hls import get_hls_urls\n",
    "from dem_stitcher.rio_tools import reproject_arr_to_match_profile, update_profile_resolution\n",
    "import warnings\n",
    "from verification.labels import resample_labels_into_percentage, reclassify_percentage_array_for_dswx"
   ]
  },
  {
   "cell_type": "code",
   "execution_count": 3,
   "id": "61ec9e2a",
   "metadata": {
    "ExecuteTime": {
     "end_time": "2023-01-25T00:45:19.783816Z",
     "start_time": "2023-01-25T00:45:19.738459Z"
    }
   },
   "outputs": [],
   "source": [
    "np.random.seed(0)"
   ]
  },
  {
   "cell_type": "code",
   "execution_count": 4,
   "id": "2e5ab477",
   "metadata": {
    "ExecuteTime": {
     "end_time": "2023-01-25T00:45:19.837607Z",
     "start_time": "2023-01-25T00:45:19.786344Z"
    },
    "tags": [
     "parameters"
    ]
   },
   "outputs": [],
   "source": [
    "PLANET_ID = '20210924_082025_48_2424'#'20211011_155455_52_2262'#'20210928_211311_91_2457' #'20211002_155415_1009'\n",
    "EQUAL_SAMPLING = True  # if false currently uses validation labels to determine size of each class sample\n",
    "TOTAL_PIXELS_PER_SAMPLE = 500\n",
    "NUMBER_OF_RANDOM_SAMPLES = 100  # aka number of trials\n",
    "SAMPLE_FROM_DSWX = False # either sample from validation data or dswx (note this does not impact class sizes)\n",
    "USE_ENTIRE_IMAGE = False # if True, random sampling and trials is moot and just directly samples from entire image\n",
    "WITH_REPLACEMENT = False # whether to replace samples - will ensure equality if present, untested\n",
    "CONFIDENCE_MINIMUM = 70 # at least confidence with this threshold\n",
    "DOWNSAMPLE_BOTH_DS_TO_3_HA = False # downsample both datasets to 3 ha\n",
    "USE_AEROSOL_MASK = True"
   ]
  },
  {
   "cell_type": "markdown",
   "id": "7e31a05a",
   "metadata": {},
   "source": [
    "# Saving data for assessments"
   ]
  },
  {
   "cell_type": "code",
   "execution_count": 5,
   "id": "4f52d663",
   "metadata": {
    "ExecuteTime": {
     "end_time": "2023-01-25T00:45:19.889615Z",
     "start_time": "2023-01-25T00:45:19.841213Z"
    }
   },
   "outputs": [
    {
     "data": {
      "text/plain": [
       "'100-trials_conf-geq-70_sample-from-val'"
      ]
     },
     "execution_count": 5,
     "metadata": {},
     "output_type": "execute_result"
    }
   ],
   "source": [
    "token_samples = f'{NUMBER_OF_RANDOM_SAMPLES}-trials'\n",
    "if USE_ENTIRE_IMAGE:\n",
    "    toke_samples = 'entire_image_used_'\n",
    "token_conf = f'_conf-geq-{CONFIDENCE_MINIMUM}'\n",
    "token_class_sample = '_sample-from-dswx' if SAMPLE_FROM_DSWX else '_sample-from-val'\n",
    "token_3ha = '_3ha-downsampled' if DOWNSAMPLE_BOTH_DS_TO_3_HA else ''\n",
    "\n",
    "assessment_dir_name = token_samples + token_conf + token_class_sample + token_3ha\n",
    "assessment_dir_name"
   ]
  },
  {
   "cell_type": "code",
   "execution_count": 6,
   "id": "f96c8b72",
   "metadata": {
    "ExecuteTime": {
     "end_time": "2023-01-25T00:45:19.937150Z",
     "start_time": "2023-01-25T00:45:19.891362Z"
    }
   },
   "outputs": [
    {
     "data": {
      "text/plain": [
       "PosixPath('out/assessment_data/100-trials_conf-geq-70_sample-from-val')"
      ]
     },
     "execution_count": 6,
     "metadata": {},
     "output_type": "execute_result"
    }
   ],
   "source": [
    "out_dir = Path(f'out/assessment_data/{assessment_dir_name}') \n",
    "out_dir.mkdir(exist_ok=True, parents=True)\n",
    "out_dir"
   ]
  },
  {
   "cell_type": "markdown",
   "id": "cabdb648",
   "metadata": {},
   "source": [
    "# Table of Finalized Data"
   ]
  },
  {
   "cell_type": "code",
   "execution_count": null,
   "id": "219a64c5",
   "metadata": {
    "ExecuteTime": {
     "start_time": "2023-01-25T00:45:17.565Z"
    }
   },
   "outputs": [],
   "source": [
    "df = get_finalized_validation_datasets()\n",
    "df.head()"
   ]
  },
  {
   "cell_type": "code",
   "execution_count": null,
   "id": "c5a15234",
   "metadata": {
    "ExecuteTime": {
     "start_time": "2023-01-25T00:45:17.567Z"
    }
   },
   "outputs": [],
   "source": [
    "f'Currently, there are {df.shape[0]} finalized datasets'"
   ]
  },
  {
   "cell_type": "markdown",
   "id": "8dbbb30e",
   "metadata": {},
   "source": [
    "# Site Name"
   ]
  },
  {
   "cell_type": "code",
   "execution_count": null,
   "id": "00e37fd5",
   "metadata": {
    "ExecuteTime": {
     "start_time": "2023-01-25T00:45:17.570Z"
    }
   },
   "outputs": [],
   "source": [
    "df_site = get_image_table()\n",
    "df_site.head()"
   ]
  },
  {
   "cell_type": "code",
   "execution_count": null,
   "id": "e412001d",
   "metadata": {
    "ExecuteTime": {
     "start_time": "2023-01-25T00:45:17.572Z"
    }
   },
   "outputs": [],
   "source": [
    "SITE_NAME = df_site[df_site.image_name == PLANET_ID]['site_name'].values[0]\n",
    "SITE_NAME"
   ]
  },
  {
   "cell_type": "markdown",
   "id": "4d1e4acb",
   "metadata": {},
   "source": [
    "# Read a Validation Dataset"
   ]
  },
  {
   "cell_type": "code",
   "execution_count": null,
   "id": "afaa132a",
   "metadata": {
    "ExecuteTime": {
     "start_time": "2023-01-25T00:45:17.574Z"
    }
   },
   "outputs": [],
   "source": [
    "X_val, p_val = read_validation_dataset(PLANET_ID)\n",
    "p_val"
   ]
  },
  {
   "cell_type": "code",
   "execution_count": null,
   "id": "5d349136",
   "metadata": {
    "ExecuteTime": {
     "start_time": "2023-01-25T00:45:17.576Z"
    }
   },
   "outputs": [],
   "source": [
    "Y = X_val.astype(float)\n",
    "Y[Y == 255] = np.nan\n",
    "\n",
    "fontSize=10\n",
    "fig, ax=plt.subplots(figsize=(7,7))\n",
    "cmap = ListedColormap(['white', 'blue'])\n",
    "im=ax.imshow(Y, interpolation='none',cmap=cmap,vmin=0,vmax=1)\n",
    "show(Y, interpolation='none',cmap=cmap,vmin=0,vmax=1,transform=p_val['transform'],ax=ax)\n",
    "cbar = fig.colorbar(im, ax=ax,shrink=0.7,ticks=[0.25, 0.75])\n",
    "cbar.ax.set_yticklabels(['Not Water', 'Open Water']);  # vertically oriented colorbar\n",
    "plt.xlabel('UTM easting (meters)',fontsize=fontSize)\n",
    "plt.ylabel('UTM northing (meters)',fontsize=fontSize)\n",
    "plt.xticks(fontsize = fontSize)\n",
    "plt.yticks(fontsize = fontSize)\n",
    "ax.set_title('Validation Dataset');\n",
    "ax.ticklabel_format(axis='both', style='scientific',scilimits=(0,0),useOffset=False,useMathText=True)\n",
    "ax.yaxis.get_offset_text().set_fontsize(fontSize)\n",
    "ax.xaxis.get_offset_text().set_fontsize(fontSize)"
   ]
  },
  {
   "cell_type": "code",
   "execution_count": null,
   "id": "0edb3722",
   "metadata": {
    "ExecuteTime": {
     "start_time": "2023-01-25T00:45:17.578Z"
    }
   },
   "outputs": [],
   "source": [
    "plt.close('all')"
   ]
  },
  {
   "cell_type": "markdown",
   "id": "17a6cba0",
   "metadata": {},
   "source": [
    "# Load Local Validation Table"
   ]
  },
  {
   "cell_type": "code",
   "execution_count": null,
   "id": "8109d993",
   "metadata": {
    "ExecuteTime": {
     "start_time": "2023-01-25T00:45:17.580Z"
    }
   },
   "outputs": [],
   "source": [
    "df_validation_table = pd.read_csv('validation_table_data.csv')\n",
    "df_validation_table.head()"
   ]
  },
  {
   "cell_type": "markdown",
   "id": "a2983fb0",
   "metadata": {},
   "source": [
    "# Get Associated HLS Id"
   ]
  },
  {
   "cell_type": "code",
   "execution_count": null,
   "id": "3ef5f5b7",
   "metadata": {
    "ExecuteTime": {
     "start_time": "2023-01-25T00:45:17.582Z"
    }
   },
   "outputs": [],
   "source": [
    "HLS_ID = df_validation_table[df_validation_table.planet_id == PLANET_ID].hls_id.iloc[0]\n",
    "HLS_ID"
   ]
  },
  {
   "cell_type": "code",
   "execution_count": null,
   "id": "7b0fec38",
   "metadata": {
    "ExecuteTime": {
     "start_time": "2023-01-25T00:45:17.584Z"
    }
   },
   "outputs": [],
   "source": [
    "hls_urls_dict = get_hls_urls(HLS_ID)\n",
    "fmask_url = hls_urls_dict['hls_url_Fmask']\n",
    "fmask_url"
   ]
  },
  {
   "cell_type": "markdown",
   "id": "581b3776",
   "metadata": {},
   "source": [
    "# Get DSWx Products"
   ]
  },
  {
   "cell_type": "code",
   "execution_count": null,
   "id": "c440f194",
   "metadata": {
    "ExecuteTime": {
     "start_time": "2023-01-25T00:45:17.587Z"
    }
   },
   "outputs": [],
   "source": [
    "dswx_urls = df_validation_table[df_validation_table.planet_id == PLANET_ID].dswx_urls.iloc[0].split(',')\n",
    "dswx_urls"
   ]
  },
  {
   "cell_type": "code",
   "execution_count": null,
   "id": "13aaf104",
   "metadata": {
    "ExecuteTime": {
     "start_time": "2023-01-25T00:45:17.589Z"
    }
   },
   "outputs": [],
   "source": [
    "with rasterio.open(dswx_urls[0]) as ds:\n",
    "    X_dswx = ds.read(1)\n",
    "    p_dswx = ds.profile\n",
    "    crs_dswx = ds.crs\n",
    "    colormap = ds.colormap(1)\n",
    "    dswx_crs = ds.crs"
   ]
  },
  {
   "cell_type": "code",
   "execution_count": null,
   "id": "4e12a732",
   "metadata": {
    "ExecuteTime": {
     "start_time": "2023-01-25T00:45:17.590Z"
    }
   },
   "outputs": [],
   "source": [
    "with rasterio.open(dswx_urls[2]) as ds:\n",
    "    conf_dsx_original = ds.read(1)\n",
    "    p_dswx_conf_original = ds.profile\n",
    "    conf_colormap = ds.colormap(1)"
   ]
  },
  {
   "cell_type": "code",
   "execution_count": null,
   "id": "0aacd4d7",
   "metadata": {
    "ExecuteTime": {
     "start_time": "2023-01-25T00:45:17.593Z"
    }
   },
   "outputs": [],
   "source": [
    "fontSize=7\n",
    "fontSizeTitle=8\n",
    "fig, ax = plt.subplots(dpi=150,figsize=(5,5))\n",
    "cmap = ListedColormap([np.array(colormap[key]) / 255 for key in range(256)])\n",
    "im_dswx=ax.imshow(X_dswx, interpolation='none',cmap=cmap,vmin=0,vmax=255)\n",
    "show(X_dswx, interpolation='none',cmap=cmap,vmin=0,vmax=255,transform=p_dswx['transform'],ax=ax)\n",
    "cbar=fig.colorbar(im_dswx,ax=ax,shrink=0.4,ticks=[0.5, 1.5, 2.5,5.5,8.5, 9.5])\n",
    "cbar.set_ticklabels(['Not Water', 'Open Water','Partial Surface Water','Reserved','Snow/Ice','Cloud/Cloud Shadow'],fontsize=fontSize)   \n",
    "cbar.ax.set_ylim(0,10)\n",
    "plt.xlabel('UTM easting (meters)',fontsize=fontSize)\n",
    "plt.ylabel('UTM northing (meters)',fontsize=fontSize)\n",
    "plt.xticks(fontsize = fontSize)\n",
    "plt.yticks(fontsize = fontSize)\n",
    "ax.set_title('DSWx Product for HLS tile',fontsize=fontSizeTitle);\n",
    "ax.ticklabel_format(axis='both', style='scientific',scilimits=(0,0),useOffset=False,useMathText=True)\n",
    "ax.yaxis.get_offset_text().set_fontsize(fontSize)\n",
    "ax.xaxis.get_offset_text().set_fontsize(fontSize)"
   ]
  },
  {
   "cell_type": "code",
   "execution_count": null,
   "id": "e155c2e9",
   "metadata": {
    "ExecuteTime": {
     "start_time": "2023-01-25T00:45:17.594Z"
    }
   },
   "outputs": [],
   "source": [
    "plt.close('all')"
   ]
  },
  {
   "cell_type": "code",
   "execution_count": null,
   "id": "75e5b75b",
   "metadata": {
    "ExecuteTime": {
     "start_time": "2023-01-25T00:45:17.596Z"
    }
   },
   "outputs": [],
   "source": [
    "fontSize=7\n",
    "fontSizeTitle=8\n",
    "fig, ax = plt.subplots(dpi=150,figsize=(5,5))\n",
    "cmap = ListedColormap([np.array(conf_colormap[key]) / 255 for key in range(256)])\n",
    "im_dswx_conf=ax.imshow(conf_dsx_original, \n",
    "                  interpolation='none',\n",
    "                  cmap=cmap,\n",
    "                  vmin=0,\n",
    "                  vmax=255)\n",
    "show(conf_dsx_original, \n",
    "     interpolation='none',\n",
    "     cmap=cmap,\n",
    "     vmin=0,vmax=255,\n",
    "     transform=p_dswx['transform'],\n",
    "     ax=ax)\n",
    "cbar=fig.colorbar(im_dswx_conf,ax=ax)\n",
    "\n",
    "plt.xlabel('UTM easting (meters)',fontsize=fontSize)\n",
    "plt.ylabel('UTM northing (meters)',fontsize=fontSize)\n",
    "plt.xticks(fontsize = fontSize)\n",
    "plt.yticks(fontsize = fontSize)\n",
    "ax.set_title('CONF DSWx Product for HLS tile',fontsize=fontSizeTitle);\n",
    "ax.ticklabel_format(axis='both', style='scientific',scilimits=(0,0),useOffset=False,useMathText=True)\n",
    "ax.yaxis.get_offset_text().set_fontsize(fontSize)\n",
    "ax.xaxis.get_offset_text().set_fontsize(fontSize)"
   ]
  },
  {
   "cell_type": "code",
   "execution_count": null,
   "id": "51b8e4ff",
   "metadata": {
    "ExecuteTime": {
     "start_time": "2023-01-25T00:45:17.598Z"
    }
   },
   "outputs": [],
   "source": [
    "plt.close('all')"
   ]
  },
  {
   "cell_type": "markdown",
   "id": "35039659",
   "metadata": {},
   "source": [
    "# Compare Extents\n",
    "\n",
    "Inspect the DSWx Subset and it's corresponding Validation Dataset"
   ]
  },
  {
   "cell_type": "code",
   "execution_count": null,
   "id": "014bb55f",
   "metadata": {
    "ExecuteTime": {
     "start_time": "2023-01-25T00:45:17.600Z"
    }
   },
   "outputs": [],
   "source": [
    "val_url = get_val_s3_path(PLANET_ID)\n",
    "with rasterio.open(val_url) as ds:\n",
    "    val_bounds = list(ds.bounds)\n",
    "    val_crs = ds.crs"
   ]
  },
  {
   "cell_type": "markdown",
   "id": "fb92926c",
   "metadata": {},
   "source": [
    "The two datasets are frequently in the same CRS. Just in case, we reproject to DSWx projection."
   ]
  },
  {
   "cell_type": "code",
   "execution_count": null,
   "id": "6fbb6685",
   "metadata": {
    "ExecuteTime": {
     "start_time": "2023-01-25T00:45:17.603Z"
    }
   },
   "outputs": [],
   "source": [
    "df_val_bounds = gpd.GeoDataFrame(geometry=[box(*val_bounds).buffer(60)],\n",
    "                                 crs=val_crs)\n",
    "df_val_bounds = df_val_bounds.to_crs(dswx_crs)\n",
    "df_val_bounds"
   ]
  },
  {
   "cell_type": "code",
   "execution_count": null,
   "id": "c820e557",
   "metadata": {
    "ExecuteTime": {
     "start_time": "2023-01-25T00:45:17.606Z"
    }
   },
   "outputs": [],
   "source": [
    "fontSize=7\n",
    "fontSizeTitles=8\n",
    "fig, ax = plt.subplots(1, 3, dpi=150, figsize=(10, 10))\n",
    "cmap = ListedColormap([np.array(colormap[key]) / 255 for key in range(256)])\n",
    "\n",
    "show(X_dswx, cmap=cmap, transform=p_dswx['transform'], vmin=0, vmax=255, interpolation='none', ax=ax[0])\n",
    "df_val_bounds.to_crs(crs_dswx).boundary.plot(ax=ax[0], color='black')\n",
    "ax[0].set_title('Full DSWx scene with val bbox',fontsize=fontSize)\n",
    "ax[0].set_xlabel('UTM easting (meters)',fontsize=fontSizeTitles)\n",
    "ax[0].set_ylabel('UTM northing (meters)',fontsize=fontSizeTitles)\n",
    "ax[0].ticklabel_format(axis='both', style='scientific',scilimits=(0,0),useOffset=False,useMathText=True)\n",
    "ax[0].tick_params(axis='both', which='major', labelsize=fontSize)\n",
    "ax[0].yaxis.get_offset_text().set_fontsize(fontSize)\n",
    "ax[0].xaxis.get_offset_text().set_fontsize(fontSize)\n",
    "\n",
    "show(X_dswx, cmap=cmap, transform=p_dswx['transform'], vmin=0,vmax=255, interpolation='none', ax=ax[1])\n",
    "val_bounds_dswx = df_val_bounds.to_crs(crs_dswx).total_bounds\n",
    "ax[1].set_xlim(val_bounds_dswx[0], val_bounds_dswx[2])\n",
    "ax[1].set_ylim(val_bounds_dswx[1], val_bounds_dswx[3])\n",
    "ax[1].set_title('DSWx Subset Area',fontsize=fontSizeTitles)\n",
    "ax[1].set_xlabel('UTM easting (meters)',fontsize=fontSize)\n",
    "ax[1].ticklabel_format(axis='both', style='scientific',scilimits=(0,0),useOffset=False,useMathText=True)\n",
    "ax[1].tick_params(axis='both', which='major', labelsize=fontSize)\n",
    "ax[1].yaxis.get_offset_text().set_fontsize(fontSize)\n",
    "ax[1].xaxis.get_offset_text().set_fontsize(fontSize)\n",
    "\n",
    "show(X_val, transform=p_val['transform'], ax=ax[2], interpolation='none', cmap=cmap, vmin=0, vmax=255)\n",
    "ax[2].set_title('Validation Dataset',fontsize=fontSizeTitles)\n",
    "ax[2].set_xlabel('UTM easting (meters)',fontsize=fontSize)\n",
    "ax[2].ticklabel_format(axis='both', style='scientific',scilimits=(0,0),useOffset=False,useMathText=True)\n",
    "ax[2].tick_params(axis='both', which='major', labelsize=fontSize)\n",
    "ax[2].yaxis.get_offset_text().set_fontsize(fontSize)\n",
    "ax[2].xaxis.get_offset_text().set_fontsize(fontSize)\n",
    "\n",
    "cbar=fig.colorbar(im_dswx,ax=ax,ticks=[0.5, 1.5, 2.5,5.5,8.5, 9.5],shrink=0.3,orientation='horizontal',fraction=0.32,pad=.05)\n",
    "cbar.set_ticklabels(['Not Water', 'Open Water','Partial Surface Water','Reserved','Snow/Ice','Cloud/Cloud Shadow'],rotation=45)   \n",
    "cbar.ax.tick_params(labelsize=6)\n",
    "cbar.ax.set_xlim(0,10);"
   ]
  },
  {
   "cell_type": "code",
   "execution_count": null,
   "id": "a0450fb1",
   "metadata": {
    "ExecuteTime": {
     "start_time": "2023-01-25T00:45:17.608Z"
    }
   },
   "outputs": [],
   "source": [
    "plt.close('all')"
   ]
  },
  {
   "cell_type": "markdown",
   "id": "9b59b695",
   "metadata": {},
   "source": [
    "# Get Fmask"
   ]
  },
  {
   "cell_type": "code",
   "execution_count": null,
   "id": "f813ec3b",
   "metadata": {
    "ExecuteTime": {
     "start_time": "2023-01-25T00:45:17.610Z"
    }
   },
   "outputs": [],
   "source": [
    "from osgeo import gdal\n",
    "\n",
    "# GDAL configs used to successfully access LP DAAC Cloud Assets via vsicurl \n",
    "gdal.SetConfigOption(\"GDAL_HTTP_UNSAFESSL\", \"YES\")\n",
    "gdal.SetConfigOption('GDAL_HTTP_COOKIEFILE','~/cookies.txt')\n",
    "gdal.SetConfigOption('GDAL_HTTP_COOKIEJAR', '~/cookies.txt')\n",
    "gdal.SetConfigOption('GDAL_DISABLE_READDIR_ON_OPEN','YES')\n",
    "gdal.SetConfigOption('GDAL_DISABLE_READDIR_ON_OPEN','FALSE')\n",
    "gdal.SetConfigOption('CPL_VSIL_CURL_ALLOWED_EXTENSIONS','TIF')"
   ]
  },
  {
   "cell_type": "code",
   "execution_count": null,
   "id": "6c7f9d46",
   "metadata": {
    "ExecuteTime": {
     "start_time": "2023-01-25T00:45:17.612Z"
    }
   },
   "outputs": [],
   "source": [
    "with rasterio.open(fmask_url) as ds:\n",
    "    X_fmask = ds.read(1)\n",
    "    p_fmask = ds.profile"
   ]
  },
  {
   "cell_type": "code",
   "execution_count": null,
   "id": "1422c000",
   "metadata": {
    "ExecuteTime": {
     "start_time": "2023-01-25T00:45:17.615Z"
    }
   },
   "outputs": [],
   "source": [
    "plt.imshow(X_fmask)\n"
   ]
  },
  {
   "cell_type": "code",
   "execution_count": null,
   "id": "1b5b78be",
   "metadata": {
    "ExecuteTime": {
     "start_time": "2023-01-25T00:45:17.617Z"
    }
   },
   "outputs": [],
   "source": [
    "\n",
    "# 224 <-> 11100000\n",
    "X_224 = (X_fmask == 224)\n",
    "# 160 -> 10100000\n",
    "X_160 = (X_fmask == 160)\n",
    "\n",
    "X_aerosol = X_224 | X_160\n",
    "plt.imshow(X_aerosol)"
   ]
  },
  {
   "cell_type": "markdown",
   "id": "8d62f935",
   "metadata": {},
   "source": [
    "# Crop Datasets"
   ]
  },
  {
   "cell_type": "code",
   "execution_count": null,
   "id": "e2bfa797",
   "metadata": {
    "ExecuteTime": {
     "start_time": "2023-01-25T00:45:17.620Z"
    }
   },
   "outputs": [],
   "source": [
    "from dem_stitcher.rio_window import read_raster_from_window"
   ]
  },
  {
   "cell_type": "code",
   "execution_count": null,
   "id": "3b1c85c4",
   "metadata": {
    "ExecuteTime": {
     "start_time": "2023-01-25T00:45:17.622Z"
    }
   },
   "outputs": [],
   "source": [
    "X_dswx_c_original, p_dswx_c_original = read_raster_from_window(dswx_urls[0], \n",
    "                                                               list(df_val_bounds.total_bounds), \n",
    "                                                               df_val_bounds.crs)"
   ]
  },
  {
   "cell_type": "code",
   "execution_count": null,
   "id": "c712b8f0",
   "metadata": {
    "ExecuteTime": {
     "start_time": "2023-01-25T00:45:17.624Z"
    }
   },
   "outputs": [],
   "source": [
    "conf_dswx_c_original, _ = read_raster_from_window(dswx_urls[2], \n",
    "                                                  list(df_val_bounds.total_bounds), \n",
    "                                                  df_val_bounds.crs)"
   ]
  },
  {
   "cell_type": "code",
   "execution_count": null,
   "id": "edbacbcb",
   "metadata": {
    "ExecuteTime": {
     "start_time": "2023-01-25T00:45:17.626Z"
    }
   },
   "outputs": [],
   "source": [
    "tmp_dir = Path('tmp')\n",
    "tmp_dir.mkdir(exist_ok=True)"
   ]
  },
  {
   "cell_type": "code",
   "execution_count": null,
   "id": "81495723",
   "metadata": {
    "ExecuteTime": {
     "start_time": "2023-01-25T00:45:17.628Z"
    }
   },
   "outputs": [],
   "source": [
    "with rasterio.open(tmp_dir / 'aerosol.tif', 'w', **p_fmask) as ds:\n",
    "    ds.write(X_aerosol.astype(np.uint8), 1)"
   ]
  },
  {
   "cell_type": "code",
   "execution_count": null,
   "id": "0c7ddf24",
   "metadata": {
    "ExecuteTime": {
     "start_time": "2023-01-25T00:45:17.630Z"
    }
   },
   "outputs": [],
   "source": [
    "X_aerosol_c, _ = read_raster_from_window(tmp_dir / 'aerosol.tif', \n",
    "                                         list(df_val_bounds.total_bounds), \n",
    "                                         df_val_bounds.crs)\n",
    "X_aerosol_c = X_aerosol_c.astype(bool)"
   ]
  },
  {
   "cell_type": "code",
   "execution_count": null,
   "id": "cbe5a277",
   "metadata": {
    "ExecuteTime": {
     "start_time": "2023-01-25T00:45:17.631Z"
    }
   },
   "outputs": [],
   "source": [
    "assert X_aerosol_c.shape == X_dswx_c_original.shape"
   ]
  },
  {
   "cell_type": "code",
   "execution_count": null,
   "id": "26ea4676",
   "metadata": {
    "ExecuteTime": {
     "start_time": "2023-01-25T00:45:17.633Z"
    }
   },
   "outputs": [],
   "source": [
    "plt.imshow(X_aerosol_c)"
   ]
  },
  {
   "cell_type": "markdown",
   "id": "ceaee90b",
   "metadata": {},
   "source": [
    "# Exclude Small Water bodies in validation"
   ]
  },
  {
   "cell_type": "code",
   "execution_count": null,
   "id": "0ac9272f",
   "metadata": {
    "ExecuteTime": {
     "start_time": "2023-01-25T00:45:17.636Z"
    }
   },
   "outputs": [],
   "source": [
    "from skimage.measure import label, regionprops\n",
    "from skimage.color import label2rgb\n",
    "\n",
    "X_val_water_only = (X_val == 1).astype(int)\n",
    "plt.imshow(X_val_water_only, interpolation='none')"
   ]
  },
  {
   "cell_type": "code",
   "execution_count": null,
   "id": "784e867e",
   "metadata": {
    "ExecuteTime": {
     "start_time": "2023-01-25T00:45:17.638Z"
    }
   },
   "outputs": [],
   "source": [
    "water_labels = label(X_val_water_only, connectivity=2)\n",
    "water_labels_rbg = label2rgb(water_labels)\n",
    "plt.imshow(water_labels_rbg)"
   ]
  },
  {
   "cell_type": "code",
   "execution_count": null,
   "id": "3baa0cad",
   "metadata": {
    "ExecuteTime": {
     "start_time": "2023-01-25T00:45:17.640Z"
    }
   },
   "outputs": [],
   "source": [
    "props = regionprops(water_labels)\n",
    "\n",
    "if props:\n",
    "    print(props[0].area)"
   ]
  },
  {
   "cell_type": "markdown",
   "id": "13afcd23",
   "metadata": {},
   "source": [
    "As an example, let's see what `props` does:"
   ]
  },
  {
   "cell_type": "code",
   "execution_count": null,
   "id": "5b63efe0",
   "metadata": {
    "ExecuteTime": {
     "start_time": "2023-01-25T00:45:17.642Z"
    }
   },
   "outputs": [],
   "source": [
    "N = min(len(props), 4)\n",
    "for k in range(N):\n",
    "    print('key/size label: ', k)\n",
    "    print('One way:', (water_labels == (k+1)).sum())\n",
    "    print('region props: ', props[k].area)"
   ]
  },
  {
   "cell_type": "code",
   "execution_count": null,
   "id": "ae9c24c1",
   "metadata": {
    "ExecuteTime": {
     "start_time": "2023-01-25T00:45:17.644Z"
    }
   },
   "outputs": [],
   "source": [
    "labels_to_exclude = [(k+1) for (k, prop) in enumerate(props) if prop.area <= 3333]\n",
    "size_mask = np.isin(water_labels, labels_to_exclude)"
   ]
  },
  {
   "cell_type": "code",
   "execution_count": null,
   "id": "b1849fcd",
   "metadata": {
    "ExecuteTime": {
     "start_time": "2023-01-25T00:45:17.646Z"
    }
   },
   "outputs": [],
   "source": [
    "plt.imshow(size_mask, interpolation='none')\n",
    "plt.title('Water bodies to be excluded')"
   ]
  },
  {
   "cell_type": "code",
   "execution_count": null,
   "id": "57949384",
   "metadata": {
    "ExecuteTime": {
     "start_time": "2023-01-25T00:45:17.648Z"
    }
   },
   "outputs": [],
   "source": [
    "plt.close('all')"
   ]
  },
  {
   "cell_type": "markdown",
   "id": "2ccb5cf9",
   "metadata": {},
   "source": [
    "# Resample Validation Dataset to DSWx Product\n",
    "\n",
    "This extracts a percent open surface water in HLS frame."
   ]
  },
  {
   "cell_type": "code",
   "execution_count": null,
   "id": "af5856a4",
   "metadata": {
    "ExecuteTime": {
     "start_time": "2023-01-25T00:45:17.650Z"
    }
   },
   "outputs": [],
   "source": [
    "if DOWNSAMPLE_BOTH_DS_TO_3_HA:\n",
    "    p_dswx_c_3ha_temp = update_profile_resolution(p_dswx_c_original, 100 * np.sqrt(3))\n",
    "    p_dswx_c_3ha_temp['dtype'] = 'float32'\n",
    "    X_dswx_psw_percentage, p_dswx_c_3ha = resample_labels_into_percentage(X_dswx_c_original, \n",
    "                                                                          p_dswx_c_original, \n",
    "                                                                          p_dswx_c_3ha_temp, \n",
    "                                                                          2)\n",
    "    X_dswx_psw_percentage *= .75\n",
    "    X_dswx_osw_percentage, _ = resample_labels_into_percentage(X_dswx_c_original, \n",
    "                                                               p_dswx_c_original, \n",
    "                                                               p_dswx_c_3ha, \n",
    "                                                               1)\n",
    "    X_dswx_c_3ha_percentage = X_dswx_psw_percentage + X_dswx_osw_percentage\n",
    "    X_dswx_c_3ha_percentage = np.clip(X_dswx_c_3ha_percentage, 0, 1)\n",
    "    \n",
    "    "
   ]
  },
  {
   "cell_type": "code",
   "execution_count": null,
   "id": "de6a67d2",
   "metadata": {
    "ExecuteTime": {
     "start_time": "2023-01-25T00:45:17.653Z"
    }
   },
   "outputs": [],
   "source": [
    "if DOWNSAMPLE_BOTH_DS_TO_3_HA:\n",
    "    fig, ax = plt.subplots(1, 3, figsize=(15, 5))\n",
    "    ax[0].imshow(X_dswx_psw_percentage, vmin=0, vmax=1)\n",
    "    ax[0].set_title('Percent PSW (using partial surface water = 50%)')\n",
    "    \n",
    "    \n",
    "    ax[1].imshow(X_dswx_osw_percentage, vmin=0, vmax=1)\n",
    "    ax[1].set_title('Percent OSW')\n",
    "    \n",
    "    im = ax[2].imshow(X_dswx_c_3ha_percentage, vmin=0, vmax=1)\n",
    "    ax[2].set_title('Percent OSW')\n",
    "    fig.colorbar(im, ax=ax, label='Percent OSW')"
   ]
  },
  {
   "cell_type": "code",
   "execution_count": null,
   "id": "414acecb",
   "metadata": {
    "ExecuteTime": {
     "start_time": "2023-01-25T00:45:17.655Z"
    }
   },
   "outputs": [],
   "source": [
    "plt.close('all')\n",
    "if DOWNSAMPLE_BOTH_DS_TO_3_HA:\n",
    "    X_dswx_c = reclassify_percentage_array_for_dswx(X_dswx_c_3ha_percentage)\n",
    "    p_dswx_c = p_dswx_c_3ha.copy()\n",
    "    p_dswx_c['dtype'] = np.uint8\n",
    "    p_dswx_c['nodata'] = 255\n",
    "    \n",
    "else:\n",
    "    X_dswx_c = X_dswx_c_original\n",
    "    p_dswx_c = p_dswx_c_original.copy()"
   ]
  },
  {
   "cell_type": "code",
   "execution_count": null,
   "id": "6bfbe2c5",
   "metadata": {
    "ExecuteTime": {
     "start_time": "2023-01-25T00:45:17.657Z"
    }
   },
   "outputs": [],
   "source": [
    "p_dswx_c_float = p_dswx_c.copy()\n",
    "p_dswx_c_float['dtype'] = 'float32'\n",
    "\n",
    "X_val_temp = X_val.astype('float32')\n",
    "X_val_temp[(X_val == 10) | (X_val == 255) | size_mask] = np.nan\n",
    "p_val_temp = p_val.copy()\n",
    "p_val_temp['nodata'] = np.nan\n",
    "\n",
    "X_val_per_w, p_per_int = resample_labels_into_percentage(X_val_temp, p_val_temp, p_dswx_c_float, 1)"
   ]
  },
  {
   "cell_type": "code",
   "execution_count": null,
   "id": "38278920",
   "metadata": {
    "ExecuteTime": {
     "start_time": "2023-01-25T00:45:17.660Z"
    }
   },
   "outputs": [],
   "source": [
    "if DOWNSAMPLE_BOTH_DS_TO_3_HA:\n",
    "    conf_dswx_c, _ = reproject_arr_to_match_profile(conf_dswx_c_original, \n",
    "                                                    p_dswx_conf_original, \n",
    "                                                    p_per_int)\n",
    "    conf_dswx_c = conf_dswx_c[0, ...]\n",
    "    \n",
    "else:\n",
    "    conf_dswx_c = conf_dswx_c_original"
   ]
  },
  {
   "cell_type": "code",
   "execution_count": null,
   "id": "0d9dded8",
   "metadata": {
    "ExecuteTime": {
     "start_time": "2023-01-25T00:45:17.661Z"
    }
   },
   "outputs": [],
   "source": [
    "plt.imshow(X_val_per_w, vmin=0, vmax=1)\n",
    "cbar = plt.colorbar(label='Percent Open Surface Water')"
   ]
  },
  {
   "cell_type": "code",
   "execution_count": null,
   "id": "caa66097",
   "metadata": {
    "ExecuteTime": {
     "start_time": "2023-01-25T00:45:17.663Z"
    }
   },
   "outputs": [],
   "source": [
    "plt.close('all')"
   ]
  },
  {
   "cell_type": "markdown",
   "id": "920798c8",
   "metadata": {},
   "source": [
    "Convert to DSWx Labels."
   ]
  },
  {
   "cell_type": "code",
   "execution_count": null,
   "id": "c019fbbe",
   "metadata": {
    "ExecuteTime": {
     "start_time": "2023-01-25T00:45:17.665Z"
    }
   },
   "outputs": [],
   "source": [
    "X_val_r = reclassify_percentage_array_for_dswx(X_val_per_w)"
   ]
  },
  {
   "cell_type": "code",
   "execution_count": null,
   "id": "88ac9b6b",
   "metadata": {
    "ExecuteTime": {
     "start_time": "2023-01-25T00:45:17.667Z"
    }
   },
   "outputs": [],
   "source": [
    "p_dswx_c"
   ]
  },
  {
   "cell_type": "code",
   "execution_count": null,
   "id": "4fbb8783",
   "metadata": {
    "ExecuteTime": {
     "start_time": "2023-01-25T00:45:17.669Z"
    }
   },
   "outputs": [],
   "source": [
    "fontSize=6\n",
    "fig, ax = plt.subplots(1, 2, dpi=150, figsize=(8, 8))\n",
    "cmap = ListedColormap([np.array(colormap[key]) / 255 for key in range(256)])\n",
    "im=ax[0].imshow(X_dswx_c, interpolation='none',cmap=cmap,vmin=0,vmax=255)\n",
    "\n",
    "show(X_dswx_c, cmap=cmap, transform=p_dswx_c['transform'], interpolation='none', ax=ax[0], vmin=0,vmax=255)\n",
    "ax[0].set_title('DSWx Subset Area',fontsize=8)\n",
    "ax[0].set_xlabel('UTM easting (meters)',fontsize=fontSize)\n",
    "ax[0].set_ylabel('UTM northing (meters)',fontsize=fontSize)\n",
    "ax[0].ticklabel_format(axis='both', style='scientific',scilimits=(0,0),useOffset=False,useMathText=True)\n",
    "ax[0].tick_params(axis='both', which='major', labelsize=fontSize)\n",
    "ax[0].yaxis.get_offset_text().set_fontsize(fontSize)\n",
    "ax[0].xaxis.get_offset_text().set_fontsize(fontSize)\n",
    "\n",
    "show(X_val_r, \n",
    "     cmap=cmap, \n",
    "     transform=p_dswx_c['transform'], \n",
    "     interpolation='none',\n",
    "     ax=ax[1], vmin=0, vmax=255)\n",
    "ax[1].set_title('Val. Data Reprojected and Relabeled',fontsize=8)\n",
    "ax[1].set_xlabel('UTM easting (meters)',fontsize=fontSize)\n",
    "ax[1].set_ylabel('UTM northing (meters)',fontsize=fontSize)\n",
    "\n",
    "ax[1].ticklabel_format(axis='both', style='scientific',scilimits=(0,0),useOffset=False,useMathText=True)\n",
    "ax[1].tick_params(axis='both', which='major', labelsize=fontSize)\n",
    "ax[1].yaxis.get_offset_text().set_fontsize(fontSize)\n",
    "ax[1].xaxis.get_offset_text().set_fontsize(fontSize)\n",
    "\n",
    "cbar=fig.colorbar(im,ax=ax,ticks=[0.5, 1.5,2.5,5.5,8.5,9.5],shrink=0.5,orientation='horizontal',pad=.071)\n",
    "cbar.set_ticklabels(['Not Water', 'Open Water','Partial Surface Water','Reserved','Snow/Ice','Cloud/Cloud Shadow'],rotation=45)   \n",
    "cbar.ax.tick_params(labelsize=fontSize)\n",
    "cbar.ax.set_xlim(0,10);"
   ]
  },
  {
   "cell_type": "code",
   "execution_count": null,
   "id": "e6cf0b3b",
   "metadata": {
    "ExecuteTime": {
     "start_time": "2023-01-25T00:45:17.670Z"
    }
   },
   "outputs": [],
   "source": [
    "plt.close('all')"
   ]
  },
  {
   "cell_type": "markdown",
   "id": "c6850274",
   "metadata": {},
   "source": [
    "**Warning**: In many cases, the UTM zone of the validation dataset and the OPERA DSWx product do not match. So despite some of the side-by-side plots that appear parallel, the rotation above can come as surprise. A slight rotation will occur if the below CRS's are different."
   ]
  },
  {
   "cell_type": "code",
   "execution_count": null,
   "id": "e04c4744",
   "metadata": {
    "ExecuteTime": {
     "start_time": "2023-01-25T00:45:17.672Z"
    }
   },
   "outputs": [],
   "source": [
    "print('DSWx CRS: ', p_dswx['crs'])\n",
    "print('Validation CRS: ', p_val['crs'])"
   ]
  },
  {
   "cell_type": "markdown",
   "id": "ce02f23b",
   "metadata": {},
   "source": [
    "# Save Relevant Rasters for Inspection"
   ]
  },
  {
   "cell_type": "code",
   "execution_count": null,
   "id": "a6a2c1e9",
   "metadata": {
    "ExecuteTime": {
     "start_time": "2023-01-25T00:45:17.674Z"
    }
   },
   "outputs": [],
   "source": [
    "dswx_urls[0].split('_B01')[0]"
   ]
  },
  {
   "cell_type": "code",
   "execution_count": null,
   "id": "6f644046",
   "metadata": {
    "ExecuteTime": {
     "start_time": "2023-01-25T00:45:17.676Z"
    }
   },
   "outputs": [],
   "source": [
    "DSWx_ID = dswx_urls[0].split('_B01')[0].split('/')[-1]\n",
    "DSWx_ID"
   ]
  },
  {
   "cell_type": "code",
   "execution_count": null,
   "id": "04b182d3",
   "metadata": {
    "ExecuteTime": {
     "start_time": "2023-01-25T00:45:17.677Z"
    }
   },
   "outputs": [],
   "source": [
    "dswx_dir = out_dir / DSWx_ID\n",
    "dswx_dir.mkdir(exist_ok=True)"
   ]
  },
  {
   "cell_type": "code",
   "execution_count": null,
   "id": "73d867c1",
   "metadata": {
    "ExecuteTime": {
     "start_time": "2023-01-25T00:45:17.680Z"
    }
   },
   "outputs": [],
   "source": [
    "p_val_r = p_dswx_c.copy()\n",
    "p_val_r['dtype'] = np.uint8\n",
    "p_val_r['nodata'] = 255\n",
    "\n",
    "with rasterio.open(dswx_dir / f'validation_r_{DSWx_ID}.tif', 'w', **p_val_r) as ds:\n",
    "    ds.write(X_val_r, 1)\n",
    "    ds.write_colormap(1, colormap)"
   ]
  },
  {
   "cell_type": "code",
   "execution_count": null,
   "id": "5826a66f",
   "metadata": {
    "ExecuteTime": {
     "start_time": "2023-01-25T00:45:17.682Z"
    }
   },
   "outputs": [],
   "source": [
    "p_perc_r = p_dswx_c.copy()\n",
    "p_perc_r['dtype'] = np.float32\n",
    "p_perc_r['nodata'] = np.nan\n",
    "\n",
    "with rasterio.open(dswx_dir / f'percent_r_{DSWx_ID}.tif', 'w', **p_perc_r) as ds:\n",
    "    ds.write(X_val_per_w, 1)"
   ]
  },
  {
   "cell_type": "code",
   "execution_count": null,
   "id": "ef46b338",
   "metadata": {
    "ExecuteTime": {
     "start_time": "2023-01-25T00:45:17.683Z"
    }
   },
   "outputs": [],
   "source": [
    "with rasterio.open(dswx_dir / f'{DSWx_ID}.tif', 'w', **p_dswx_c) as ds:\n",
    "    ds.write(X_dswx_c, 1)\n",
    "    ds.write_colormap(1, colormap)"
   ]
  },
  {
   "cell_type": "code",
   "execution_count": null,
   "id": "002b2ab9",
   "metadata": {
    "ExecuteTime": {
     "start_time": "2023-01-25T00:45:17.685Z"
    }
   },
   "outputs": [],
   "source": [
    "with rasterio.open(dswx_dir / f'validation_original_{DSWx_ID}.tif', 'w', **p_val) as ds:\n",
    "    ds.write(X_val, 1)\n",
    "    ds.write_colormap(1, colormap)"
   ]
  },
  {
   "cell_type": "markdown",
   "id": "79bdf38e",
   "metadata": {},
   "source": [
    "# Scene-wise stratified sampling"
   ]
  },
  {
   "cell_type": "code",
   "execution_count": null,
   "id": "46b88a9a",
   "metadata": {
    "ExecuteTime": {
     "start_time": "2023-01-25T00:45:17.688Z"
    }
   },
   "outputs": [],
   "source": [
    "X_dswx_c.shape"
   ]
  },
  {
   "cell_type": "code",
   "execution_count": null,
   "id": "058c859c",
   "metadata": {
    "ExecuteTime": {
     "start_time": "2023-01-25T00:45:17.690Z"
    }
   },
   "outputs": [],
   "source": [
    "X_val_r.shape"
   ]
  },
  {
   "cell_type": "code",
   "execution_count": null,
   "id": "514b1760",
   "metadata": {
    "ExecuteTime": {
     "start_time": "2023-01-25T00:45:17.692Z"
    }
   },
   "outputs": [],
   "source": [
    "shared_mask = (X_val_r == 255) | ~(np.isin(X_dswx_c, [0, 1, 2]))\n",
    "\n",
    "if CONFIDENCE_MINIMUM:\n",
    "    confidence_mask = (conf_dswx_c < CONFIDENCE_MINIMUM)\n",
    "    shared_mask = (shared_mask | confidence_mask)"
   ]
  },
  {
   "cell_type": "code",
   "execution_count": null,
   "id": "2a11dce4",
   "metadata": {
    "ExecuteTime": {
     "start_time": "2023-01-25T00:45:17.694Z"
    }
   },
   "outputs": [],
   "source": [
    "if USE_AEROSOL_MASK:\n",
    "    shared_mask = (shared_mask | X_aerosol_c)"
   ]
  },
  {
   "cell_type": "code",
   "execution_count": null,
   "id": "45537872",
   "metadata": {
    "ExecuteTime": {
     "start_time": "2023-01-25T00:45:17.696Z"
    }
   },
   "outputs": [],
   "source": [
    "fontSize=7\n",
    "fig, ax = plt.subplots(dpi=150,figsize=(4, 4))\n",
    "cmap = ListedColormap(['darkblue', 'yellow'])\n",
    "im=ax.imshow(shared_mask, interpolation='none',cmap=cmap,vmin=np.nanmin(shared_mask),vmax=np.nanmax(shared_mask))\n",
    "show(shared_mask, transform=p_val['transform'], interpolation='none', vmin=np.nanmin(shared_mask),vmax=np.nanmax(shared_mask),ax=ax,cmap=cmap)  \n",
    "cbar=fig.colorbar(im,ax=ax,shrink=0.4,ticks=[0.25, .75])\n",
    "cbar.set_ticklabels(['keep', 'remove'],fontsize=fontSize)   \n",
    "cbar.ax.set_ylim(0,1)\n",
    "ax.set_title('Shared mask',fontsize=8);\n",
    "ax.ticklabel_format(axis='both', style='scientific',scilimits=(0,0),useOffset=False,useMathText=True)\n",
    "ax.yaxis.get_offset_text().set_fontsize(fontSize)\n",
    "ax.xaxis.get_offset_text().set_fontsize(fontSize)\n",
    "plt.xlabel('UTM easting (meters)',fontsize=fontSize)\n",
    "plt.ylabel('UTM northing (meters)',fontsize=fontSize)\n",
    "plt.yticks(fontsize=fontSize)\n",
    "plt.xticks(fontsize=fontSize);"
   ]
  },
  {
   "cell_type": "code",
   "execution_count": null,
   "id": "bbf55f45",
   "metadata": {
    "ExecuteTime": {
     "start_time": "2023-01-25T00:45:17.698Z"
    }
   },
   "outputs": [],
   "source": [
    "plt.close('all')"
   ]
  },
  {
   "cell_type": "code",
   "execution_count": null,
   "id": "6fc0149b",
   "metadata": {
    "ExecuteTime": {
     "start_time": "2023-01-25T00:45:17.700Z"
    }
   },
   "outputs": [],
   "source": [
    "percents, _, _ = plt.hist(X_val_r[~shared_mask], bins=3, range=(0, 3), density=True, edgecolor='black')\n",
    "plt.xticks(np.arange(0, 3)+.5, ['Not Water', 'Open Surface Water', 'Partial Surface Water'],fontsize=9)\n",
    "plt.ylabel('Percent',fontsize=9)\n",
    "plt.title('For HLS pixels to be compared, class breakdown relative to Validation data');\n",
    "plt.gca().yaxis.set_major_formatter(PercentFormatter(1))"
   ]
  },
  {
   "cell_type": "code",
   "execution_count": null,
   "id": "43e5b637",
   "metadata": {
    "ExecuteTime": {
     "start_time": "2023-01-25T00:45:17.702Z"
    }
   },
   "outputs": [],
   "source": [
    "percents_dswx, _, _ = plt.hist(X_dswx_c[~shared_mask], bins=3, range=(0, 3), density=True, edgecolor='black')\n",
    "plt.xticks(np.arange(0, 3)+.5, ['Not Water', 'Open Surface Water', 'Partial Surface Water'],fontsize=9)\n",
    "plt.ylabel('Percent',fontsize=9)\n",
    "plt.title('For HLS pixels to be compared, class breakdown relative to DSWx_data data');\n",
    "plt.gca().yaxis.set_major_formatter(PercentFormatter(1))"
   ]
  },
  {
   "cell_type": "code",
   "execution_count": null,
   "id": "36a78355",
   "metadata": {
    "ExecuteTime": {
     "start_time": "2023-01-25T00:45:17.703Z"
    }
   },
   "outputs": [],
   "source": [
    "plt.close('all')"
   ]
  },
  {
   "cell_type": "code",
   "execution_count": null,
   "id": "37218ae0",
   "metadata": {
    "ExecuteTime": {
     "start_time": "2023-01-25T00:45:17.705Z"
    }
   },
   "outputs": [],
   "source": [
    "f'Percents per DSWx class: {percents_dswx}'"
   ]
  },
  {
   "cell_type": "code",
   "execution_count": null,
   "id": "6af0c3fb",
   "metadata": {
    "ExecuteTime": {
     "start_time": "2023-01-25T00:45:17.707Z"
    }
   },
   "outputs": [],
   "source": [
    "f'Percents per validation class: {percents}'"
   ]
  },
  {
   "cell_type": "code",
   "execution_count": null,
   "id": "2af91bca",
   "metadata": {
    "ExecuteTime": {
     "start_time": "2023-01-25T00:45:17.708Z"
    }
   },
   "outputs": [],
   "source": [
    "sample_size_per_label = [int(np.ceil(percents[label] * TOTAL_PIXELS_PER_SAMPLE)) for label in [0, 1, 2]]\n",
    "if EQUAL_SAMPLING:\n",
    "    present_classes = (percents > 0).sum()\n",
    "    #always multiply by 3 because we have 3 labels\n",
    "    # sample sizes are modified depending on availability (see cell below)\n",
    "    sample_size_per_label = [int(np.ceil(TOTAL_PIXELS_PER_SAMPLE / present_classes))] * 3\n",
    "    \n",
    "sample_size_per_label"
   ]
  },
  {
   "cell_type": "code",
   "execution_count": null,
   "id": "02d3fa08",
   "metadata": {
    "ExecuteTime": {
     "start_time": "2023-01-25T00:45:17.710Z"
    }
   },
   "outputs": [],
   "source": [
    "validation_hls_pixels = X_val_r[~shared_mask]\n",
    "dswx_hls_pixels = X_dswx_c[~shared_mask]\n",
    "\n",
    "sample_pixels = dswx_hls_pixels if SAMPLE_FROM_DSWX else validation_hls_pixels\n",
    "\n",
    "sample_str = 'dswx' if SAMPLE_FROM_DSWX else 'the validation dataset'\n",
    "f'We are sampling from {sample_str}'"
   ]
  },
  {
   "cell_type": "code",
   "execution_count": null,
   "id": "b871b875",
   "metadata": {
    "ExecuteTime": {
     "start_time": "2023-01-25T00:45:17.712Z"
    }
   },
   "outputs": [],
   "source": [
    "NUMBER_OF_RANDOM_SAMPLES = 100"
   ]
  },
  {
   "cell_type": "code",
   "execution_count": null,
   "id": "d8cd0bb8",
   "metadata": {
    "ExecuteTime": {
     "start_time": "2023-01-25T00:45:17.713Z"
    }
   },
   "outputs": [],
   "source": [
    "# list of lists, \n",
    "# each index corresponds to class label 0, 1, 2 and the list will contain\n",
    "# indices within the flattend array of that label\n",
    "stratified_selection = [[] for k in range(NUMBER_OF_RANDOM_SAMPLES)] \n",
    "\n",
    "for random_sample in range(NUMBER_OF_RANDOM_SAMPLES):\n",
    "    for label in [0, 1, 2]:\n",
    "        # Sampling from PRODUCT PIXELS now\n",
    "        indices = np.argwhere(sample_pixels == label).ravel()\n",
    "\n",
    "        # Determines if there are enough samples otherwise select the total number of samples available\n",
    "        subset_size = sample_size_per_label[label]\n",
    "        if not WITH_REPLACEMENT:\n",
    "            subset_size = np.minimum(subset_size, len(indices))\n",
    "            sample_size_per_label[label] = subset_size\n",
    "\n",
    "        indices_subset = np.random.choice(indices, subset_size, replace=WITH_REPLACEMENT)\n",
    "        stratified_selection[random_sample].append(indices_subset)\n",
    "sample_size_per_label"
   ]
  },
  {
   "cell_type": "code",
   "execution_count": null,
   "id": "88064be5",
   "metadata": {
    "ExecuteTime": {
     "start_time": "2023-01-25T00:45:17.715Z"
    }
   },
   "outputs": [],
   "source": [
    "validation_labels = [[label for label in [0, 1, 2] \n",
    "                      for k in range(len(stratified_selection[random_sample][label]))]\n",
    "                     for j in range(NUMBER_OF_RANDOM_SAMPLES)\n",
    "                    ]\n",
    "opera_dswx_labels = [[dswx_label \n",
    "                     for label in [0, 1, 2] \n",
    "                     for dswx_label in dswx_hls_pixels[stratified_selection[random_sample][label]]]\n",
    "                     for random_sample in range(NUMBER_OF_RANDOM_SAMPLES)\n",
    "                    ]\n",
    "len(validation_labels[0]), len(opera_dswx_labels[0])"
   ]
  },
  {
   "cell_type": "code",
   "execution_count": null,
   "id": "d04fdf6e",
   "metadata": {
    "ExecuteTime": {
     "start_time": "2023-01-25T00:45:17.717Z"
    }
   },
   "outputs": [],
   "source": [
    "X_samples = np.full(shared_mask.shape, 0)\n",
    "temp = X_samples[~shared_mask]\n",
    "\n",
    "k = 1\n",
    "\n",
    "RANDOM_SAMPLE_FOR_INSPECTION = 0\n",
    "\n",
    "sample2validation = {}\n",
    "sample2dswx = {}\n",
    "\n",
    "for label in [0, 1, 2]:\n",
    "    for ind in stratified_selection[RANDOM_SAMPLE_FOR_INSPECTION][label]:\n",
    "        temp[ind] = k\n",
    "        # ensure we can look up the sample id and find the correct label for the different datasets we compare\n",
    "        sample2validation[k] = label\n",
    "        sample2dswx[k] = dswx_hls_pixels[ind]\n",
    "        k += 1\n",
    "    \n",
    "X_samples[~shared_mask] = temp\n",
    "(X_samples > 0).sum()"
   ]
  },
  {
   "cell_type": "code",
   "execution_count": null,
   "id": "4bf509a6",
   "metadata": {
    "ExecuteTime": {
     "start_time": "2023-01-25T00:45:17.719Z"
    }
   },
   "outputs": [],
   "source": [
    "features = get_geopandas_features_from_array(# Note 8 bits is not enough for 500 points\n",
    "                                             X_samples.astype(np.int32), \n",
    "                                             transform=p_dswx_c['transform'],\n",
    "                                             mask=(X_samples==0),\n",
    "                                             label_name='sample_id'\n",
    "                                            )\n",
    "df_samples = gpd.GeoDataFrame.from_features(features, \n",
    "                                            crs=p_dswx_c['crs'])\n",
    "df_samples['val_label'] = df_samples['sample_id'].map(lambda label: sample2validation[label])\n",
    "df_samples['dswx_label'] = df_samples['sample_id'].map(lambda label: sample2dswx[label])\n",
    "\n",
    "df_samples.head()"
   ]
  },
  {
   "cell_type": "code",
   "execution_count": null,
   "id": "2ca01be5",
   "metadata": {
    "ExecuteTime": {
     "start_time": "2023-01-25T00:45:17.721Z"
    }
   },
   "outputs": [],
   "source": [
    "fontSize=7\n",
    "fontSizeTitle=8\n",
    "fig, ax = plt.subplots(dpi=150,figsize=(5,5))\n",
    "cmap = ListedColormap([np.array(colormap[key]) / 255 for key in range(256)])\n",
    "out = show(X_dswx_c,\n",
    "     cmap=cmap,\n",
    "     transform=p_dswx_c['transform'],\n",
    "     interpolation='none',\n",
    "     ax=ax,vmin=0,vmax=255)\n",
    "df_samples.to_crs(p_dswx_c['crs']).boundary.plot(ax=ax, color='magenta',alpha=1)\n",
    "ax.set_title('Sampling points (magenta) and DSWx data',fontsize=fontSizeTitle)\n",
    "ax.ticklabel_format(axis='both', style='scientific',scilimits=(0,0),useOffset=False,useMathText=True)\n",
    "plt.xlabel('UTM easting (meters)',fontsize=fontSize)\n",
    "plt.ylabel('UTM northing (meters)',fontsize=fontSize)\n",
    "\n",
    "im_dswx = out.get_images()[0]\n",
    "cbar=fig.colorbar(im_dswx,ax=ax,shrink=0.4,ticks=[0.5, 1.5, 2.5,5.5,8.5, 9.5])\n",
    "cbar.set_ticklabels(['Not Water', 'Open Water','Partial Surface Water','Reserved','Snow/Ice','Cloud/Cloud Shadow'],fontsize=fontSize)   \n",
    "cbar.ax.set_ylim(0,10);\n",
    "ax.yaxis.get_offset_text().set_fontsize(fontSize)\n",
    "ax.xaxis.get_offset_text().set_fontsize(fontSize)\n",
    "plt.yticks(fontsize=fontSize)\n",
    "plt.xticks(fontsize=fontSize);"
   ]
  },
  {
   "cell_type": "code",
   "execution_count": null,
   "id": "7fb0a347",
   "metadata": {
    "ExecuteTime": {
     "start_time": "2023-01-25T00:45:17.722Z"
    }
   },
   "outputs": [],
   "source": [
    "plt.close('all')"
   ]
  },
  {
   "cell_type": "code",
   "execution_count": null,
   "id": "9f083c75",
   "metadata": {
    "ExecuteTime": {
     "start_time": "2023-01-25T00:45:17.724Z"
    }
   },
   "outputs": [],
   "source": [
    "fontSize=7\n",
    "fontSizeTitle=8\n",
    "fig, ax = plt.subplots(dpi=150,figsize=(5,5))\n",
    "cmap = ListedColormap([np.array(colormap[key]) / 255 for key in range(256)])\n",
    "out = show(X_val_r,cmap=cmap,transform=p_dswx_c['transform'],interpolation='none',ax=ax,vmin=0,vmax=255)\n",
    "df_samples.to_crs(p_dswx_c['crs']).boundary.plot(ax=ax, color='magenta',alpha=1)\n",
    "ax.set_title('Sampling points (magenta) and Validation data',fontsize=fontSizeTitle)\n",
    "ax.ticklabel_format(axis='both', style='scientific',scilimits=(0,0),useOffset=False,useMathText=True)\n",
    "plt.xlabel('UTM easting (meters)',fontsize=fontSize)\n",
    "plt.ylabel('UTM northing (meters)',fontsize=fontSize)\n",
    "\n",
    "im_dswx = out.get_images()[0]\n",
    "\n",
    "cbar=fig.colorbar(im_dswx,ax=ax,shrink=0.4,ticks=[0.5, 1.5, 2.5,5.5,8.5, 9.5])\n",
    "cbar.set_ticklabels(['Not Water', 'Open Water','Partial Surface Water','Reserved','Snow/Ice','Cloud/Cloud Shadow'],fontsize=fontSize)   \n",
    "cbar.ax.set_ylim(0,10);\n",
    "ax.yaxis.get_offset_text().set_fontsize(fontSize)\n",
    "ax.xaxis.get_offset_text().set_fontsize(fontSize)\n",
    "plt.yticks(fontsize=fontSize)\n",
    "plt.xticks(fontsize=fontSize);"
   ]
  },
  {
   "cell_type": "code",
   "execution_count": null,
   "id": "8a235949",
   "metadata": {
    "ExecuteTime": {
     "start_time": "2023-01-25T00:45:17.725Z"
    }
   },
   "outputs": [],
   "source": [
    "plt.close('all')"
   ]
  },
  {
   "cell_type": "markdown",
   "id": "fca129ac",
   "metadata": {},
   "source": [
    "# Serialize the Images"
   ]
  },
  {
   "cell_type": "code",
   "execution_count": null,
   "id": "b8dac913",
   "metadata": {
    "ExecuteTime": {
     "start_time": "2023-01-25T00:45:17.727Z"
    }
   },
   "outputs": [],
   "source": [
    "with rasterio.open(dswx_dir / f'samples_{DSWx_ID}.tif', 'w', **p_dswx_c) as ds:\n",
    "    ds.write(X_samples, 1)"
   ]
  },
  {
   "cell_type": "code",
   "execution_count": null,
   "id": "108b97d1",
   "metadata": {
    "ExecuteTime": {
     "start_time": "2023-01-25T00:45:17.729Z"
    }
   },
   "outputs": [],
   "source": [
    "df_samples.to_file(dswx_dir / f'samples_{DSWx_ID}')"
   ]
  },
  {
   "cell_type": "markdown",
   "id": "b5d460b6",
   "metadata": {},
   "source": [
    "# Accuracy Assessment"
   ]
  },
  {
   "cell_type": "code",
   "execution_count": null,
   "id": "b91b14f3",
   "metadata": {
    "ExecuteTime": {
     "start_time": "2023-01-25T00:45:17.731Z"
    }
   },
   "outputs": [],
   "source": [
    "class_dict = {0: 'Not_Water',\n",
    "              1: 'Open_Surface_Water', \n",
    "              2: 'Partial_Surface_Water'}\n",
    "Target_Names=['Not_Water','Open_Surface_Water','Partial_Surface_Water']"
   ]
  },
  {
   "cell_type": "code",
   "execution_count": null,
   "id": "4552efc6",
   "metadata": {
    "ExecuteTime": {
     "start_time": "2023-01-25T00:45:17.732Z"
    }
   },
   "outputs": [],
   "source": [
    "y_val = np.array([[label for ind in stratified_selection[random_sample] for label in validation_hls_pixels[ind]]\n",
    "                  for random_sample in range(NUMBER_OF_RANDOM_SAMPLES)\n",
    "                 ])\n",
    "y_dswx = np.array([[label  for ind in stratified_selection[random_sample] for label in dswx_hls_pixels[ind]]\n",
    "                   for random_sample in range(NUMBER_OF_RANDOM_SAMPLES)\n",
    "                  ])\n",
    "y_dswx.shape"
   ]
  },
  {
   "cell_type": "markdown",
   "id": "de17b040",
   "metadata": {
    "ExecuteTime": {
     "end_time": "2022-12-19T21:39:16.446526Z",
     "start_time": "2022-12-19T21:39:16.412851Z"
    }
   },
   "source": [
    "We just repeat the last axis so we can still do the same analysis though the aggregation is moot"
   ]
  },
  {
   "cell_type": "code",
   "execution_count": null,
   "id": "95942a91",
   "metadata": {
    "ExecuteTime": {
     "start_time": "2023-01-25T00:45:17.734Z"
    }
   },
   "outputs": [],
   "source": [
    "if USE_ENTIRE_IMAGE:\n",
    "    y_val = np.repeat(np.array(validation_hls_pixels)[None, :], NUMBER_OF_RANDOM_SAMPLES, axis=0)\n",
    "    y_dswx = np.repeat(np.array(dswx_hls_pixels)[None,:], NUMBER_OF_RANDOM_SAMPLES, axis=0)\n",
    "y_dswx.shape"
   ]
  },
  {
   "cell_type": "markdown",
   "id": "6c5a3554",
   "metadata": {},
   "source": [
    "# Get Metrics for each sample\n",
    "\n",
    "We may want to write custom `prec/recall` etc. type computations in order to better track/average when such metrics are undefined. Currently, we assign the value to be 1 (i.e. perfect) when there are no sufficient representatives from a class (we are only able to assign 0, 1 through the sklearn API and so chose thise route). See commented code below."
   ]
  },
  {
   "cell_type": "code",
   "execution_count": null,
   "id": "9b1ae804",
   "metadata": {
    "ExecuteTime": {
     "start_time": "2023-01-25T00:45:17.737Z"
    }
   },
   "outputs": [],
   "source": [
    "import sklearn\n",
    "\n",
    "def get_acc_per_class(y_val, y_dswx):\n",
    "    acc_per_class = {}\n",
    "    for c in [0, 1, 2]:\n",
    "        y_val_temp = y_val.copy()\n",
    "        y_dswx_temp = y_dswx.copy()\n",
    "\n",
    "        y_val_temp[y_val_temp != c] = 255\n",
    "        y_dswx_temp[y_dswx_temp != c] = 255\n",
    "\n",
    "        acc_per_class[f'acc_per_class.{class_dict[c]}'] = (y_val_temp == y_dswx_temp).sum() / y_dswx.size\n",
    "    return acc_per_class\n",
    "\n",
    "def get_binary_water_acc(y_val, y_dswx):\n",
    "    \n",
    "    y_val_temp = y_val.copy()\n",
    "    y_dswx_temp = y_dswx.copy()\n",
    "\n",
    "    y_val_temp[~np.isin(y_val_temp, [1, 2])] = 255\n",
    "    y_val_temp[np.isin(y_val_temp, [1, 2])] = 1\n",
    "\n",
    "    y_dswx_temp[~np.isin(y_dswx_temp, [1, 2])] = 255\n",
    "    y_dswx_temp[np.isin(y_dswx_temp, [1, 2])] = 1\n",
    "\n",
    "    binary_water_acc = (y_val_temp == y_dswx_temp).sum() / y_dswx.size\n",
    "    return binary_water_acc\n",
    "\n",
    "def get_prec_recall_score(y_val, y_dswx):\n",
    "\n",
    "    prec, recall, f1, supp = sklearn.metrics.precision_recall_fscore_support(y_val, \n",
    "                                                                             y_dswx, \n",
    "                                                                             labels=[0, 1, 2],\n",
    "                                                                             # if there are no classes\n",
    "                                                                             # Assume \"perfect\"\n",
    "                                                                             zero_division=1\n",
    "                                                                             )\n",
    "                \n",
    "        \n",
    "    recall_per_class = {class_dict[label]: recall[label] for label in [0, 1, 2]}\n",
    "    prec_per_class = {class_dict[label]: prec[label] for label in [0, 1, 2]}\n",
    "    f1_per_class = {class_dict[label]: f1[label] for label in [0, 1, 2]}\n",
    "    supp_per_class = {class_dict[label]: int(supp[label]) for label in [0, 1, 2]}\n",
    "    binary_water_acc = get_binary_water_acc(y_val, y_dswx)\n",
    "    return {\n",
    "            'precision': prec_per_class,\n",
    "            'recall': recall_per_class,\n",
    "            'f1_per_class': f1_per_class,\n",
    "            'supp_per_class':supp_per_class,\n",
    "            'binary_water_acc': binary_water_acc}\n",
    "\n",
    "def get_confusion_matrix(y_val, y_dswx):\n",
    "    y_dswx_str = pd.Series([class_dict[class_id] for class_id in y_dswx], name='OPERA_DSWx')\n",
    "    y_val_str = pd.Series([class_dict[class_id] for class_id in y_val], name='OPERA_Validation')\n",
    "    df_conf = pd.crosstab(y_val_str, y_dswx_str)\n",
    "    df_conf_formatted = df_conf.astype(int)\n",
    "    \n",
    "    name = df_conf.index.name\n",
    "    df_conf_formatted.rename(index={index: f'{index}_{name}' for index in df_conf.index}, inplace=True)\n",
    "    col_name = df_conf.columns.name\n",
    "    df_conf_formatted.rename(columns={col: f'{col}_{col_name}' for col in df_conf.columns}, inplace=True)\n",
    "    return df_conf_formatted\n",
    "\n",
    "def get_metrics_for_one_sample(y_val, y_dswx):\n",
    "    total_acc=sklearn.metrics.accuracy_score(y_val, y_dswx)\n",
    "    \n",
    "   \n",
    "    \n",
    "    pr_dict = get_prec_recall_score(y_val, y_dswx)\n",
    "    acc_per_class = get_acc_per_class(y_val, y_dswx)\n",
    "    df_conf_formatted = get_confusion_matrix(y_val, y_dswx)\n",
    "\n",
    "    return {'total_accuracy': total_acc, \n",
    "            'confusion_matrix': df_conf_formatted.to_dict(),\n",
    "            **pr_dict, \n",
    "            **acc_per_class}"
   ]
  },
  {
   "cell_type": "code",
   "execution_count": null,
   "id": "02670656",
   "metadata": {
    "ExecuteTime": {
     "start_time": "2023-01-25T00:45:17.739Z"
    }
   },
   "outputs": [],
   "source": [
    "from itertools import starmap\n",
    "\n",
    "data_temp = [(y_val[k], y_dswx[k]) for k in range(NUMBER_OF_RANDOM_SAMPLES)]\n",
    "metric_data = list(starmap(get_metrics_for_one_sample, tqdm(data_temp)))"
   ]
  },
  {
   "cell_type": "code",
   "execution_count": null,
   "id": "aa3c3132",
   "metadata": {
    "ExecuteTime": {
     "start_time": "2023-01-25T00:45:17.741Z"
    }
   },
   "outputs": [],
   "source": [
    "from pandas import json_normalize\n",
    "df_all_samples = pd.DataFrame(json_normalize(metric_data))\n",
    "df_all_samples.head()"
   ]
  },
  {
   "cell_type": "markdown",
   "id": "48c18f75",
   "metadata": {},
   "source": [
    "# Check Output"
   ]
  },
  {
   "cell_type": "code",
   "execution_count": null,
   "id": "1974409f",
   "metadata": {
    "ExecuteTime": {
     "start_time": "2023-01-25T00:45:17.743Z"
    }
   },
   "outputs": [],
   "source": [
    "df_all_samples.to_dict('records')[0]"
   ]
  },
  {
   "cell_type": "markdown",
   "id": "6feb711c",
   "metadata": {},
   "source": [
    "# Aggregate"
   ]
  },
  {
   "cell_type": "code",
   "execution_count": null,
   "id": "5d9d86ef",
   "metadata": {
    "ExecuteTime": {
     "start_time": "2023-01-25T00:45:17.745Z"
    }
   },
   "outputs": [],
   "source": [
    "df_sample_stats = df_all_samples.aggregate(['mean', 'std'])\n",
    "\n",
    "# includes new column with `*.std` and `*.mean`\n",
    "temp_data = df_sample_stats.to_dict()\n",
    "df_sample_stats = pd.json_normalize(temp_data)\n",
    "df_sample_stats['dswx_id'] = DSWx_ID\n",
    "df_sample_stats['planet_id'] = PLANET_ID\n",
    "df_sample_stats"
   ]
  },
  {
   "cell_type": "markdown",
   "id": "694804a2",
   "metadata": {},
   "source": [
    "## Serialize All Metrics"
   ]
  },
  {
   "cell_type": "code",
   "execution_count": null,
   "id": "f55a14dc",
   "metadata": {
    "ExecuteTime": {
     "start_time": "2023-01-25T00:45:17.747Z"
    }
   },
   "outputs": [],
   "source": [
    "json.dump(df_sample_stats.to_dict('records'), open(dswx_dir / f'stats_{DSWx_ID}.json', 'w'))"
   ]
  },
  {
   "cell_type": "code",
   "execution_count": null,
   "id": "bd3d45fb",
   "metadata": {
    "ExecuteTime": {
     "start_time": "2023-01-25T00:45:17.748Z"
    }
   },
   "outputs": [],
   "source": [
    "json.dump(df_all_samples.to_dict('records'), open(dswx_dir / f'all_samples_{DSWx_ID}.json', 'w'))"
   ]
  },
  {
   "cell_type": "markdown",
   "id": "e19ae9b4",
   "metadata": {},
   "source": [
    "# Get Urls"
   ]
  },
  {
   "cell_type": "code",
   "execution_count": null,
   "id": "20759633",
   "metadata": {
    "ExecuteTime": {
     "start_time": "2023-01-25T00:45:17.750Z"
    }
   },
   "outputs": [],
   "source": [
    "dswx_urls_dict = {f'dswx-{url.split(\".\")[-2][6:]}': url \n",
    "                  for url in dswx_urls}"
   ]
  },
  {
   "cell_type": "markdown",
   "id": "b9402de9",
   "metadata": {},
   "source": [
    "# Verify Requirements"
   ]
  },
  {
   "cell_type": "code",
   "execution_count": null,
   "id": "c624b33c",
   "metadata": {
    "ExecuteTime": {
     "start_time": "2023-01-25T00:45:17.753Z"
    }
   },
   "outputs": [],
   "source": [
    "stat_records = df_sample_stats.to_dict('records')[0]\n",
    "stat_records"
   ]
  },
  {
   "cell_type": "code",
   "execution_count": null,
   "id": "a0d75bb4",
   "metadata": {
    "ExecuteTime": {
     "start_time": "2023-01-25T00:45:17.755Z"
    }
   },
   "outputs": [],
   "source": [
    "mu_osw = stat_records['acc_per_class.Open_Surface_Water.mean']\n",
    "sigma_osw = stat_records['acc_per_class.Open_Surface_Water.std']\n",
    "open_surface_water_req = (mu_osw > .8)\n",
    "print('mu_osw:', mu_osw)\n",
    "print('sigma_osw:', sigma_osw)\n",
    "print('mu_osw - sigma_osw: ', mu_osw - sigma_osw)\n",
    "open_surface_water_req"
   ]
  },
  {
   "cell_type": "code",
   "execution_count": null,
   "id": "affec708",
   "metadata": {
    "ExecuteTime": {
     "start_time": "2023-01-25T00:45:17.757Z"
    }
   },
   "outputs": [],
   "source": [
    "mu_psw = stat_records['acc_per_class.Partial_Surface_Water.mean']\n",
    "sigma_psw = stat_records['acc_per_class.Partial_Surface_Water.std']\n",
    "partial_surface_water_req = (mu_psw > .7)\n",
    "print('mu_psw:', mu_psw)\n",
    "print('sigma_psw:', sigma_psw)\n",
    "print('mu_psw - sigma_psw: ', mu_psw)\n",
    "partial_surface_water_req"
   ]
  },
  {
   "cell_type": "markdown",
   "id": "f1f4ea0f",
   "metadata": {},
   "source": [
    "# Serialize Again"
   ]
  },
  {
   "cell_type": "code",
   "execution_count": null,
   "id": "7b72c048",
   "metadata": {
    "ExecuteTime": {
     "start_time": "2023-01-25T00:45:17.760Z"
    }
   },
   "outputs": [],
   "source": [
    "requirement_verification = {'dswx_id': DSWx_ID,\n",
    "                            'surface_water': open_surface_water_req,\n",
    "                            'partial_surface_water': partial_surface_water_req,\n",
    "                            **dswx_urls_dict,\n",
    "                            'planet_id': PLANET_ID,\n",
    "                            'validation_dataset_s3': get_val_s3_path(PLANET_ID),\n",
    "                            'hls_id': HLS_ID,\n",
    "                            **hls_urls_dict}\n",
    "\n",
    "json.dump(requirement_verification, open(dswx_dir / f'requirement_verification_{DSWx_ID}.json', 'w'))"
   ]
  },
  {
   "cell_type": "markdown",
   "id": "f9d425cd",
   "metadata": {},
   "source": [
    "# One Last Inspection"
   ]
  },
  {
   "cell_type": "code",
   "execution_count": null,
   "id": "4a0a911f",
   "metadata": {
    "ExecuteTime": {
     "start_time": "2023-01-25T00:45:17.762Z"
    }
   },
   "outputs": [],
   "source": [
    "X_diff_temp=X_dswx_c-X_val_r\n",
    "X_diff=X_diff_temp\n",
    "\n",
    "X_diff=X_diff_temp.astype('float32')\n",
    "X_diff[(X_diff_temp < -5) | (X_diff_temp > 5)] = np.nan\n",
    "\n",
    "print([\"min = \"  + str(np.nanmin(X_diff)), \"max = \" + str(np.nanmax(X_diff))])"
   ]
  },
  {
   "cell_type": "code",
   "execution_count": null,
   "id": "6d8f8cce",
   "metadata": {
    "ExecuteTime": {
     "start_time": "2023-01-25T00:45:17.765Z"
    }
   },
   "outputs": [],
   "source": [
    "fontSize=7\n",
    "fontSizeTitle=8\n",
    "fig, axs = plt.subplots(1, 3, dpi=150, figsize=(20, 10))\n",
    "cmap = ListedColormap([np.array(colormap[key]) / 255 for key in range(256)])\n",
    "\n",
    "X_dswx_c_m = X_dswx_c.copy()\n",
    "X_dswx_c_m[shared_mask] = 9\n",
    "\n",
    "im0 = axs[0].imshow(X_dswx_c_m, cmap=cmap, vmin=0, interpolation='none', vmax=255)\n",
    "show(X_dswx_c_m, interpolation='none',cmap=cmap,vmin=0,vmax=255,transform=p_dswx_c['transform'],ax=axs[0])\n",
    "axs[0].set_title('DSWx',fontsize=fontSizeTitle)\n",
    "axs[0].ticklabel_format(axis='both', style='scientific',scilimits=(0,0),useOffset=False,useMathText=True)\n",
    "axs[0].set_xlabel('UTM easting (meters)',fontsize=fontSize)\n",
    "axs[0].set_ylabel('UTM northing (meters)',fontsize=fontSize)\n",
    "axs[0].yaxis.get_offset_text().set_fontsize(fontSize)\n",
    "axs[0].xaxis.get_offset_text().set_fontsize(fontSize)\n",
    "cbar=fig.colorbar(im0,ax=axs[0],shrink=0.2,ticks=[0.5, 1.5, 2.5,5.5,8.5, 9.5])\n",
    "cbar.set_ticklabels(['Not Water', 'Open Water','Partial Surface Water','Reserved','Snow/Ice','Cloud/Cloud Shadow/Mask'],fontsize=5,rotation=0)   \n",
    "cbar.ax.set_ylim(0,10)\n",
    "cbar.ax.tick_params(labelsize=5)\n",
    "\n",
    "X_val_r_m = X_val_r.copy()\n",
    "X_val_r_m[shared_mask] = 9\n",
    "\n",
    "im1 = axs[1].imshow(X_val_r_m, cmap=cmap, vmin=0, interpolation='none', vmax=255)\n",
    "show(X_val_r_m, interpolation='none',cmap=cmap,vmin=0,vmax=255,transform=p_val_r['transform'],ax=axs[1])\n",
    "axs[1].set_title('Validation data',fontsize=fontSizeTitle)\n",
    "axs[1].ticklabel_format(axis='both', style='scientific',scilimits=(0,0),useOffset=False,useMathText=True)\n",
    "axs[1].set_xlabel('UTM easting (meters)',fontsize=fontSize)\n",
    "axs[1].yaxis.get_offset_text().set_fontsize(fontSize)\n",
    "axs[1].xaxis.get_offset_text().set_fontsize(fontSize)\n",
    "cbar=fig.colorbar(im1,ax=axs[1],shrink=0.2,ticks=[0.5, 1.5, 2.5,5.5,8.5, 9.5])\n",
    "cbar.set_ticklabels(['Not Water', 'Open Water','Partial Surface Water','Reserved','Snow/Ice','Cloud/Cloud Shadow/Mask'],fontsize=5)   \n",
    "cbar.ax.set_ylim(0,10)\n",
    "cbar.ax.tick_params(labelsize=5)\n",
    "\n",
    "X_diff_m = X_diff.copy()\n",
    "X_diff_m[shared_mask] = 9\n",
    "\n",
    "cmapDiff=ListedColormap([(51/255,0/255, 102/255), (7/255, 137/255, 66/255), (1, 1, 1), (0,0,0),(231/255,41/255,138/255)])\n",
    "im2 = axs[2].imshow(X_diff_m, interpolation='none',vmin=-2, vmax=2,cmap=cmapDiff)\n",
    "show(X_diff, interpolation='none',vmin=-2, vmax=2,transform=p_val_r['transform'],ax=axs[2],cmap=cmapDiff)\n",
    "axs[2].set_title('Difference Map (DSWx - Val.)',fontsize=fontSizeTitle)\n",
    "axs[2].set_xlabel('UTM easting (meters)',fontsize=fontSize)\n",
    "axs[2].ticklabel_format(axis='both', style='scientific',scilimits=(0,0),useOffset=False,useMathText=True)\n",
    "axs[2].yaxis.get_offset_text().set_fontsize(fontSize)\n",
    "axs[2].xaxis.get_offset_text().set_fontsize(fontSize)\n",
    "cbar=fig.colorbar(im2,ax=axs[2],ticks=[-2,-1,0,1,2],shrink=0.2)\n",
    "cbar.ax.tick_params(labelsize=6)\n",
    "cbar.ax.set_ylim(-2,2)\n",
    "cbar.ax.tick_params(labelsize=5)\n",
    "im2.set_cmap(cmapDiff);\n",
    "cmapDiff.set_bad(color='gray')\n",
    "\n"
   ]
  },
  {
   "cell_type": "code",
   "execution_count": null,
   "id": "63803e7c",
   "metadata": {
    "ExecuteTime": {
     "start_time": "2023-01-25T00:45:17.767Z"
    }
   },
   "outputs": [],
   "source": [
    "plt.close('all')"
   ]
  },
  {
   "cell_type": "markdown",
   "id": "c8d240a4",
   "metadata": {},
   "source": [
    "# For Presentations"
   ]
  },
  {
   "cell_type": "code",
   "execution_count": null,
   "id": "9850a46f",
   "metadata": {
    "ExecuteTime": {
     "start_time": "2023-01-25T00:45:17.769Z"
    }
   },
   "outputs": [],
   "source": [
    "presentation_dir = Path('presentation_images') / out_dir.name / DSWx_ID\n",
    "presentation_dir.mkdir(exist_ok=True, parents=True)\n",
    "presentation_dir"
   ]
  },
  {
   "cell_type": "code",
   "execution_count": null,
   "id": "30651a49",
   "metadata": {
    "ExecuteTime": {
     "start_time": "2023-01-25T00:45:17.771Z"
    }
   },
   "outputs": [],
   "source": [
    "fontSize=6\n",
    "fig, ax = plt.subplots(1, 2, dpi=150, figsize=(10, 5))\n",
    "cmap = ListedColormap([np.array(colormap[key]) / 255 for key in range(256)])\n",
    "im=ax[0].imshow(X_dswx_c, interpolation='none',cmap=cmap,vmin=0,vmax=255)\n",
    "\n",
    "show(X_dswx_c, cmap=cmap, transform=p_dswx_c['transform'], interpolation='none', ax=ax[0], vmin=0,vmax=255)\n",
    "ax[0].set_title('DSWx-HLS (30 m)',fontsize=8)\n",
    "ax[0].set_xlabel('UTM easting (meters)',fontsize=fontSize)\n",
    "ax[0].set_ylabel('UTM northing (meters)',fontsize=fontSize)\n",
    "ax[0].ticklabel_format(axis='both', style='scientific',scilimits=(0,0),useOffset=False,useMathText=True)\n",
    "ax[0].tick_params(axis='both', which='major', labelsize=fontSize)\n",
    "ax[0].yaxis.get_offset_text().set_fontsize(fontSize)\n",
    "ax[0].xaxis.get_offset_text().set_fontsize(fontSize)\n",
    "\n",
    "show(X_val_r, cmap=cmap, transform=p_val_r['transform'], interpolation='none',ax=ax[1], vmin=0, vmax=255)\n",
    "ax[1].set_title('Validation Data (30 m)',fontsize=8)\n",
    "ax[1].set_xlabel('UTM easting (meters)',fontsize=fontSize)\n",
    "ax[1].set_ylabel('UTM northing (meters)',fontsize=fontSize)\n",
    "\n",
    "ax[1].ticklabel_format(axis='both', style='scientific',scilimits=(0,0),useOffset=False,useMathText=True)\n",
    "ax[1].tick_params(axis='both', which='major', labelsize=fontSize)\n",
    "ax[1].yaxis.get_offset_text().set_fontsize(fontSize)\n",
    "ax[1].xaxis.get_offset_text().set_fontsize(fontSize)\n",
    "\n",
    "display_mask = shared_mask.astype(np.float32)\n",
    "display_mask[~shared_mask] = np.nan\n",
    "\n",
    "\n",
    "cbar=fig.colorbar(im_dswx,\n",
    "                  ax=ax,\n",
    "                  ticks=[0.5, 1.5, 2.5,5.5,8.5, 9.5],\n",
    "                  shrink=0.5,\n",
    "                  orientation='vertical',\n",
    "                  #fraction=0.32,\n",
    "                  pad=.05\n",
    "                 )\n",
    "cbar.set_ticklabels(['Not Water', \n",
    "                     'Open Water',\n",
    "                     'Partial Surface Water',\n",
    "                     'Reserved',\n",
    "                     'Snow/Ice',\n",
    "                     'Cloud/Cloud Shadow'],\n",
    "                    rotation=0)   \n",
    "cbar.ax.tick_params(labelsize=8)\n",
    "cbar.ax.set_ylim(0,10);\n",
    "\n",
    "#plt.tight_layout()\n",
    "plt.savefig(presentation_dir / 'comparison_resample.png')\n"
   ]
  },
  {
   "cell_type": "code",
   "execution_count": null,
   "id": "4cb55e98",
   "metadata": {
    "ExecuteTime": {
     "start_time": "2023-01-25T00:45:17.773Z"
    }
   },
   "outputs": [],
   "source": [
    "plt.close('all')"
   ]
  },
  {
   "cell_type": "code",
   "execution_count": null,
   "id": "e0ae4026",
   "metadata": {
    "ExecuteTime": {
     "start_time": "2023-01-25T00:45:17.776Z"
    }
   },
   "outputs": [],
   "source": [
    "fontSize=6\n",
    "fig, ax = plt.subplots(1, 2, dpi=150, figsize=(10, 5))\n",
    "cmap = ListedColormap([np.array(colormap[key]) / 255 for key in range(256)])\n",
    "im=ax[0].imshow(X_dswx_c, interpolation='none',cmap=cmap,vmin=0,vmax=255)\n",
    "\n",
    "show(X_dswx_c, cmap=cmap, transform=p_dswx_c['transform'], interpolation='none', ax=ax[0], vmin=0,vmax=255)\n",
    "ax[0].set_title('DSWx-HLS (30 m)',fontsize=8)\n",
    "ax[0].set_xlabel('UTM easting (meters)',fontsize=fontSize)\n",
    "ax[0].set_ylabel('UTM northing (meters)',fontsize=fontSize)\n",
    "ax[0].ticklabel_format(axis='both', style='scientific',scilimits=(0,0),useOffset=False,useMathText=True)\n",
    "ax[0].tick_params(axis='both', which='major', labelsize=fontSize)\n",
    "ax[0].yaxis.get_offset_text().set_fontsize(fontSize)\n",
    "ax[0].xaxis.get_offset_text().set_fontsize(fontSize)\n",
    "\n",
    "show(X_val_r, cmap=cmap, transform=p_val_r['transform'], interpolation='none',ax=ax[1], vmin=0, vmax=255)\n",
    "ax[1].set_title('Validation Data (30 m)',fontsize=8)\n",
    "ax[1].set_xlabel('UTM easting (meters)',fontsize=fontSize)\n",
    "ax[1].set_ylabel('UTM northing (meters)',fontsize=fontSize)\n",
    "\n",
    "ax[1].ticklabel_format(axis='both', style='scientific',scilimits=(0,0),useOffset=False,useMathText=True)\n",
    "ax[1].tick_params(axis='both', which='major', labelsize=fontSize)\n",
    "ax[1].yaxis.get_offset_text().set_fontsize(fontSize)\n",
    "ax[1].xaxis.get_offset_text().set_fontsize(fontSize)\n",
    "\n",
    "display_mask = shared_mask.astype(np.float32)\n",
    "display_mask[~shared_mask] = np.nan\n",
    "\n",
    "show(display_mask, \n",
    "     cmap='viridis', \n",
    "     transform=p_val_r['transform'], \n",
    "     interpolation='none',\n",
    "     ax=ax[1], vmin=0, vmax=1, alpha=1)\n",
    "show(display_mask, \n",
    "     cmap='viridis', \n",
    "     transform=p_val_r['transform'], \n",
    "     interpolation='none',\n",
    "     ax=ax[0], vmin=0, vmax=1, alpha=1)\n",
    "\n",
    "\n",
    "cbar=fig.colorbar(im_dswx,\n",
    "                  ax=ax,\n",
    "                  ticks=[0.5, 1.5, 2.5,5.5,8.5, 9.5],\n",
    "                  shrink=0.5,\n",
    "                  orientation='vertical',\n",
    "                  #fraction=0.32,\n",
    "                  pad=.05\n",
    "                 )\n",
    "cbar.set_ticklabels(['Not Water', \n",
    "                     'Open Water',\n",
    "                     'Partial Surface Water',\n",
    "                     'Reserved',\n",
    "                     'Snow/Ice',\n",
    "                     'Cloud/Cloud Shadow'],\n",
    "                    rotation=0)   \n",
    "cbar.ax.tick_params(labelsize=8)\n",
    "cbar.ax.set_ylim(0,10);\n",
    "\n",
    "### colorbar\n",
    "\n",
    "# source: https://stackoverflow.com/questions/39500265/manually-add-legend-items-python-matplotlib\n",
    "\n",
    "from matplotlib.lines import Line2D\n",
    "from matplotlib import colors, colorbar, cm\n",
    "#from mpl_toolkits.axes_grid1 import make_axes_locatable\n",
    "#import matplotlib.patches as mpatches\n",
    "#from matplotlib.colors import LinearSegmentedColormap\n",
    "\n",
    "cNorm  = colors.Normalize(vmin=0, vmax=1)\n",
    "scalarMap = cm.ScalarMappable(norm=cNorm, cmap='viridis')\n",
    "legend_elements = [Line2D([0], \n",
    "                          [0], \n",
    "                          marker='s',\n",
    "                          color='w',\n",
    "                          label='No data/Masked',\n",
    "                          markerfacecolor=scalarMap.to_rgba(1),\n",
    "                          markeredgecolor='black',\n",
    "                          alpha=1,\n",
    "                          markersize=10)]\n",
    "ax[0].legend(handles=legend_elements, loc='upper left', fontsize=6,  framealpha=1, edgecolor='white')\n",
    "\n",
    "\n",
    "# plt.tight_layout()\n",
    "plt.savefig(presentation_dir / 'comparison_resample_with_mask.png')\n"
   ]
  },
  {
   "cell_type": "code",
   "execution_count": null,
   "id": "26640b68",
   "metadata": {
    "ExecuteTime": {
     "start_time": "2023-01-25T00:45:17.778Z"
    }
   },
   "outputs": [],
   "source": [
    "plt.close('all')"
   ]
  },
  {
   "cell_type": "code",
   "execution_count": null,
   "id": "d53c0456",
   "metadata": {
    "ExecuteTime": {
     "start_time": "2023-01-25T00:45:17.780Z"
    }
   },
   "outputs": [],
   "source": [
    "fontSize=7\n",
    "fontSizeTitles=8\n",
    "fig, ax = plt.subplots(1, 3, dpi=200, figsize=(20, 10))\n",
    "cmap = ListedColormap([np.array(colormap[key]) / 255 for key in range(256)])\n",
    "\n",
    "show(X_dswx, cmap=cmap, transform=p_dswx['transform'], vmin=0, vmax=255, interpolation='none', ax=ax[0])\n",
    "df_val_bounds.to_crs(crs_dswx).boundary.plot(ax=ax[0], color='black')\n",
    "ax[0].set_title('Full DSWx scene with val bbox',fontsize=fontSize)\n",
    "ax[0].set_xlabel('UTM easting (meters)',fontsize=fontSizeTitles)\n",
    "ax[0].set_ylabel('UTM northing (meters)',fontsize=fontSizeTitles)\n",
    "ax[0].ticklabel_format(axis='both', style='scientific',scilimits=(0,0),useOffset=False,useMathText=True)\n",
    "ax[0].tick_params(axis='both', which='major', labelsize=fontSize)\n",
    "ax[0].yaxis.get_offset_text().set_fontsize(fontSize)\n",
    "ax[0].xaxis.get_offset_text().set_fontsize(fontSize)\n",
    "\n",
    "show(X_dswx, cmap=cmap, transform=p_dswx['transform'], vmin=0,vmax=255, interpolation='none', ax=ax[1])\n",
    "val_bounds_dswx = df_val_bounds.to_crs(crs_dswx).total_bounds\n",
    "ax[1].set_xlim(val_bounds_dswx[0], val_bounds_dswx[2])\n",
    "ax[1].set_ylim(val_bounds_dswx[1], val_bounds_dswx[3])\n",
    "ax[1].set_title('DSWx Subset Area',fontsize=fontSizeTitles)\n",
    "ax[1].set_xlabel('UTM easting (meters)',fontsize=fontSize)\n",
    "ax[1].ticklabel_format(axis='both', style='scientific',scilimits=(0,0),useOffset=False,useMathText=True)\n",
    "ax[1].tick_params(axis='both', which='major', labelsize=fontSize)\n",
    "ax[1].yaxis.get_offset_text().set_fontsize(fontSize)\n",
    "ax[1].xaxis.get_offset_text().set_fontsize(fontSize)\n",
    "\n",
    "show(X_val, transform=p_val['transform'], ax=ax[2], interpolation='none', cmap=cmap, vmin=0, vmax=255)\n",
    "ax[2].set_title('Validation Dataset',fontsize=fontSizeTitles)\n",
    "ax[2].set_xlabel('UTM easting (meters)',fontsize=fontSize)\n",
    "ax[2].ticklabel_format(axis='both', style='scientific',scilimits=(0,0),useOffset=False,useMathText=True)\n",
    "ax[2].tick_params(axis='both', which='major', labelsize=fontSize)\n",
    "ax[2].yaxis.get_offset_text().set_fontsize(fontSize)\n",
    "ax[2].xaxis.get_offset_text().set_fontsize(fontSize)\n",
    "\n",
    "cbar=fig.colorbar(im_dswx,\n",
    "                  ax=ax,\n",
    "                  ticks=[0.5, 1.5, 2.5,5.5,8.5, 9.5],\n",
    "                  shrink=0.6,\n",
    "                  orientation='vertical',\n",
    "                  #fraction=0.32,\n",
    "                  pad=.05\n",
    "                 )\n",
    "cbar.set_ticklabels(['Not Water', \n",
    "                     'Open Water',\n",
    "                     'Partial Surface Water',\n",
    "                     'Reserved',\n",
    "                     'Snow/Ice',\n",
    "                     'Cloud/Cloud Shadow'],\n",
    "                    rotation=0)   \n",
    "cbar.ax.tick_params(labelsize=8)\n",
    "cbar.ax.set_ylim(0,10);\n",
    "\n",
    "#plt.tight_layout()\n",
    "plt.savefig(presentation_dir / 'extent.png')\n"
   ]
  },
  {
   "cell_type": "code",
   "execution_count": null,
   "id": "226fb12f",
   "metadata": {
    "ExecuteTime": {
     "start_time": "2023-01-25T00:45:17.783Z"
    }
   },
   "outputs": [],
   "source": [
    "plt.close('all')"
   ]
  },
  {
   "cell_type": "code",
   "execution_count": null,
   "id": "4e40dfa6",
   "metadata": {
    "ExecuteTime": {
     "start_time": "2023-01-25T00:45:17.785Z"
    }
   },
   "outputs": [],
   "source": [
    "df_all_samples.columns"
   ]
  },
  {
   "cell_type": "code",
   "execution_count": null,
   "id": "e0e929f6",
   "metadata": {
    "ExecuteTime": {
     "start_time": "2023-01-25T00:45:17.787Z"
    }
   },
   "outputs": [],
   "source": [
    "COLUMNS = [col for col in df_all_samples.columns\n",
    "           if ((('total_accuracy' in col) or\n",
    "           ('precision' in col) or\n",
    "           ('recall' in col) or\n",
    "           ('f1' in col) or\n",
    "           ('supp' in col)\n",
    "            ) and\n",
    "           ('Not_Water') not in col)]\n",
    "COLUMNS"
   ]
  },
  {
   "cell_type": "code",
   "execution_count": null,
   "id": "846b5a58",
   "metadata": {
    "ExecuteTime": {
     "start_time": "2023-01-25T00:45:17.789Z"
    }
   },
   "outputs": [],
   "source": [
    "COLUMN_RENAME = {'total_accuracy': 'Total Accuracy (All)',\n",
    "                 'precision.Open_Surface_Water': 'Precision (OSW)',\n",
    "                 'acc_per_class.Open_Surface_Water': 'Binary Accuracy (OSW)',\n",
    "                 'acc_per_class.Partial_Surface_Water': 'Binary Accuracy (PSW)',\n",
    "                 'precision.Partial_Surface_Water': 'Precision (PSW)',\n",
    "                 'recall.Open_Surface_Water': 'Recall (OSW)',\n",
    "                 'recall.Partial_Surface_Water': 'Recall (PSW)',\n",
    "                 'supp_per_class.Open_Surface_Water': 'Support (Val) (OSW)',\n",
    "                 'supp_per_class.Partial_Surface_Water': 'Support (Val) (PSW)',\n",
    "                 'f1_per_class.Open_Surface_Water': 'F1 (OSW)',\n",
    "                 'f1_per_class.Partial_Surface_Water': 'F1 (PSW)'}"
   ]
  },
  {
   "cell_type": "code",
   "execution_count": null,
   "id": "093d7c6f",
   "metadata": {
    "ExecuteTime": {
     "start_time": "2023-01-25T00:45:17.792Z"
    }
   },
   "outputs": [],
   "source": [
    "df_temp = df_all_samples[COLUMNS].agg(['mean', 'median', 'std'])\n",
    "df_temp.rename(columns=COLUMN_RENAME, inplace=True)\n",
    "\n",
    "cols_not_supp = [col for col in df_temp.columns if 'Support' not in col]\n",
    "df_temp[cols_not_supp] = df_temp[cols_not_supp] * 100\n",
    "\n",
    "df_f = df_temp.T\n",
    "df_f = df_f.round(2).astype(str)\n",
    "\n",
    "df_f = df_f.reset_index(drop=False)\n",
    "df_f = df_f.rename(columns={'index': 'Metric'})\n",
    "df_f['Class'] = df_f.Metric.map(lambda m: m[-4:-1])\n",
    "df_f['Metric'] = df_f.Metric.map(lambda m: m[:-6])\n",
    "df_f['Metric'] = df_f.Metric.map(lambda m: m + ' ($\\%$)' if 'Support' not in m else m)\n",
    "df_f.sort_values(by=['Class', 'Metric'], inplace=True)\n",
    "df_f = df_f.set_index(['Class', 'Metric'])\n",
    "df_f.rename(columns={'mean': 'Mean', \n",
    "                     'std': 'St. Dev.', \n",
    "                     'median': 'Median'}, inplace=True)\n",
    "df_f"
   ]
  },
  {
   "cell_type": "code",
   "execution_count": null,
   "id": "c39cee27",
   "metadata": {
    "ExecuteTime": {
     "start_time": "2023-01-25T00:45:17.794Z"
    }
   },
   "outputs": [],
   "source": [
    "latex = df_f.style.to_latex(multirow_align='t', hrules=True)\n",
    "with open(presentation_dir / 'accuracy.tex', 'w') as f:\n",
    "    f.write(latex)"
   ]
  },
  {
   "cell_type": "code",
   "execution_count": null,
   "id": "000dea98",
   "metadata": {
    "ExecuteTime": {
     "start_time": "2023-01-25T00:45:17.795Z"
    }
   },
   "outputs": [],
   "source": [
    "stats_data = df_sample_stats.to_dict('records')[0]\n",
    "bw_mu = stats_data['binary_water_acc.mean']\n",
    "bw_std = stats_data['binary_water_acc.std']"
   ]
  },
  {
   "cell_type": "code",
   "execution_count": null,
   "id": "eeadd6a5",
   "metadata": {
    "ExecuteTime": {
     "start_time": "2023-01-25T00:45:17.798Z"
    }
   },
   "outputs": [],
   "source": [
    "psw_str = f'{partial_surface_water_req} ({mu_psw:1.2f})'\n",
    "osw_str = f'{open_surface_water_req} ({mu_osw:1.2f})'\n",
    "df_requirement = pd.DataFrame([{'Class': 'PSW',\n",
    "                                'OPERA Req.': partial_surface_water_req,\n",
    "                                'Accuracy ($\\%$)': f'{mu_psw * 100:1.2f} ({sigma_psw * 100:1.2f})'},\n",
    "                               {'Class': 'OSW',\n",
    "                                'OPERA Req.': open_surface_water_req,\n",
    "                                'Accuracy ($\\%$)': f'{mu_osw * 100:1.2f} ({sigma_osw * 100:1.2f})'},\n",
    "                               {'Class': 'Binary Water',\n",
    "                                'OPERA Req.': 'N/A',\n",
    "                                'Accuracy ($\\%$)': f'{bw_mu * 100:1.2f} ({bw_std * 100:1.2f})'}\n",
    "                              ])\n",
    "\n",
    "def labeler(val):\n",
    "    if val:\n",
    "        if val != 'N/A':\n",
    "            return 'Passed'\n",
    "        else:\n",
    "            return val\n",
    "    return 'Not Passed'\n",
    "\n",
    "df_requirement['OPERA Req.'] = df_requirement['OPERA Req.'].map(labeler)\n",
    "df_requirement"
   ]
  },
  {
   "cell_type": "code",
   "execution_count": null,
   "id": "a4a79c74",
   "metadata": {
    "ExecuteTime": {
     "start_time": "2023-01-25T00:45:17.799Z"
    }
   },
   "outputs": [],
   "source": [
    "latex = df_requirement.style.hide(axis=\"index\").to_latex(multirow_align='t', hrules=True)\n",
    "\n",
    "with open(presentation_dir / 'requirements.tex', 'w') as f:\n",
    "    f.write(latex)"
   ]
  },
  {
   "cell_type": "code",
   "execution_count": null,
   "id": "a599f440",
   "metadata": {
    "ExecuteTime": {
     "start_time": "2023-01-25T00:45:17.801Z"
    }
   },
   "outputs": [],
   "source": [
    "CONFUSION_KEYS = ['confusion_matrix.Not_Water_OPERA_DSWx.Not_Water_OPERA_Validation',\n",
    "                  'confusion_matrix.Not_Water_OPERA_DSWx.Open_Surface_Water_OPERA_Validation',\n",
    "                  'confusion_matrix.Not_Water_OPERA_DSWx.Partial_Surface_Water_OPERA_Validation',\n",
    "                  'confusion_matrix.Open_Surface_Water_OPERA_DSWx.Not_Water_OPERA_Validation',\n",
    "                  'confusion_matrix.Open_Surface_Water_OPERA_DSWx.Open_Surface_Water_OPERA_Validation',\n",
    "                  'confusion_matrix.Open_Surface_Water_OPERA_DSWx.Partial_Surface_Water_OPERA_Validation'\n",
    "                  'confusion_matrix.Partial_Surface_Water_OPERA_DSWx.Not_Water_OPERA_Validation',\n",
    "                  'confusion_matrix.Partial_Surface_Water_OPERA_DSWx.Open_Surface_Water_OPERA_Validation',\n",
    "                  'confusion_matrix.Partial_Surface_Water_OPERA_DSWx.Partial_Surface_Water_OPERA_Validation']\n",
    "\n"
   ]
  },
  {
   "cell_type": "code",
   "execution_count": null,
   "id": "e731dd2a",
   "metadata": {
    "ExecuteTime": {
     "start_time": "2023-01-25T00:45:17.803Z"
    }
   },
   "outputs": [],
   "source": [
    "CONFUSION_COLUMNS = [col for col in df_all_samples.columns if 'confusion' in col]\n",
    "CONFUSION_COLUMNS"
   ]
  },
  {
   "cell_type": "code",
   "execution_count": null,
   "id": "f4c8a0d6",
   "metadata": {
    "ExecuteTime": {
     "start_time": "2023-01-25T00:45:17.805Z"
    }
   },
   "outputs": [],
   "source": [
    "confusion_dict = df_all_samples[CONFUSION_COLUMNS].agg(['mean', 'std']).to_dict()\n",
    "confusion_dict"
   ]
  },
  {
   "cell_type": "code",
   "execution_count": null,
   "id": "d3cb7b32",
   "metadata": {
    "ExecuteTime": {
     "start_time": "2023-01-25T00:45:17.807Z"
    }
   },
   "outputs": [],
   "source": [
    "LABEL_NAMES = ['Not_Water',  'Open_Surface_Water', 'Partial_Surface_Water']\n",
    "temp_dict = confusion_dict.copy()\n",
    "conf_mean = [[temp_dict.setdefault(f'confusion_matrix.{label_1}_OPERA_DSWx.{label_2}_OPERA_Validation', {'mean': 0})['mean']\n",
    "                       for label_1 in LABEL_NAMES] \n",
    "                      for label_2 in LABEL_NAMES]\n",
    "conf_mean"
   ]
  },
  {
   "cell_type": "code",
   "execution_count": null,
   "id": "76685b73",
   "metadata": {
    "ExecuteTime": {
     "start_time": "2023-01-25T00:45:17.808Z"
    }
   },
   "outputs": [],
   "source": [
    "LABEL_NAMES = ['Not_Water',  'Open_Surface_Water', 'Partial_Surface_Water']\n",
    "temp_dict = confusion_dict.copy()\n",
    "conf_std = [[temp_dict.setdefault(f'confusion_matrix.{label_2}_OPERA_DSWx.{label_1}_OPERA_Validation', {'std': 0})['std']\n",
    "                       for label_1 in LABEL_NAMES] \n",
    "                      for label_2 in LABEL_NAMES]\n",
    "conf_std"
   ]
  },
  {
   "cell_type": "code",
   "execution_count": null,
   "id": "df17ed13",
   "metadata": {
    "ExecuteTime": {
     "start_time": "2023-01-25T00:45:17.810Z"
    }
   },
   "outputs": [],
   "source": [
    "conf_data = [[f'{mu:1.2f} ({std:1.2f})' for (mu, std) in zip(mu_list, std_list)] for (mu_list, std_list) in zip(conf_mean, conf_std)]"
   ]
  },
  {
   "cell_type": "code",
   "execution_count": null,
   "id": "7d428466",
   "metadata": {
    "ExecuteTime": {
     "start_time": "2023-01-25T00:45:17.812Z"
    }
   },
   "outputs": [],
   "source": [
    "df_confusion = pd.DataFrame(conf_data,\n",
    "                            index=['NW (DSWx)', 'OSW (DSWx)', 'PSW (DSWx)'],\n",
    "                            columns=['NW (Val)', 'OSW (Val)', 'PSW (Val)']\n",
    "                           )\n",
    "df_confusion"
   ]
  },
  {
   "cell_type": "code",
   "execution_count": null,
   "id": "cbc00b14",
   "metadata": {
    "ExecuteTime": {
     "start_time": "2023-01-25T00:45:17.813Z"
    }
   },
   "outputs": [],
   "source": [
    "latex = df_confusion.style.to_latex(multirow_align='t', hrules=True)\n",
    "with open(presentation_dir / 'confusion.tex', 'w') as f:\n",
    "    f.write(latex)"
   ]
  },
  {
   "cell_type": "markdown",
   "id": "76c23aa5",
   "metadata": {},
   "source": [
    "## Omission and Comission Error"
   ]
  },
  {
   "cell_type": "code",
   "execution_count": null,
   "id": "5d0da807",
   "metadata": {
    "ExecuteTime": {
     "start_time": "2023-01-25T00:45:17.816Z"
    }
   },
   "outputs": [],
   "source": [
    "stats_data = df_sample_stats.to_dict('records')[0]\n",
    "stats_data"
   ]
  },
  {
   "cell_type": "code",
   "execution_count": null,
   "id": "707758c2",
   "metadata": {
    "ExecuteTime": {
     "start_time": "2023-01-25T00:45:17.818Z"
    }
   },
   "outputs": [],
   "source": [
    "table_data = [{'Class': label,\n",
    "               'Omission Error Mean': 1 - stats_data[f'precision.{label}.mean'],\n",
    "               'Commision Error Mean': 1 - stats_data[f'recall.{label}.mean'],\n",
    "               'Omission Error std': stats_data[f'precision.{label}.std'],\n",
    "               'Commision Error std': stats_data[f'recall.{label}.std']} \n",
    "              for label in LABEL_NAMES]\n",
    "df_om_com = pd.DataFrame(table_data)\n",
    "renamer = {'Not_Water': 'NW', 'Open_Surface_Water': 'OSW', 'Partial_Surface_Water': 'PSW'}\n",
    "df_om_com['Class'] = df_om_com['Class'].map(lambda x: renamer[x])\n",
    "classes = df_om_com['Class'].values\n",
    "df_om_com['Omission Error ($\\%$)'] = df_om_com.apply(lambda row: f'{row[\"Omission Error Mean\"] * 100: .2f} ({row[\"Omission Error std\"] * 100:.2f})',axis=1)\n",
    "df_om_com['Commision Error ($\\%$)'] = df_om_com.apply(lambda row: f'{row[\"Commision Error Mean\"] * 100: .2f} ({row[\"Commision Error std\"] * 100:.2f})',axis=1)\n",
    "df_om_com = df_om_com[['Commision Error ($\\%$)', 'Omission Error ($\\%$)']].copy()\n",
    "df_om_com.index = classes\n",
    "df_om_com"
   ]
  },
  {
   "cell_type": "code",
   "execution_count": null,
   "id": "530e19bf",
   "metadata": {
    "ExecuteTime": {
     "start_time": "2023-01-25T00:45:17.820Z"
    }
   },
   "outputs": [],
   "source": [
    "latex = df_om_com.style.to_latex(multirow_align='t', hrules=True)\n",
    "with open(presentation_dir / 'omission_comission.tex', 'w') as f:\n",
    "    f.write(latex)"
   ]
  },
  {
   "cell_type": "markdown",
   "id": "84c5919e",
   "metadata": {
    "ExecuteTime": {
     "end_time": "2023-01-19T22:40:59.487237Z",
     "start_time": "2023-01-19T22:40:59.441693Z"
    }
   },
   "source": [
    "# Area of each class"
   ]
  },
  {
   "cell_type": "code",
   "execution_count": null,
   "id": "7e95400f",
   "metadata": {
    "ExecuteTime": {
     "start_time": "2023-01-25T00:45:17.823Z"
    }
   },
   "outputs": [],
   "source": [
    "C_val = 9\n",
    "C_dswx = 900\n",
    "C_ha = 0.0001\n",
    "area_data = [{'Type': 'Val',\n",
    "              'Frame (Posting)': 'Validation (3 m)',\n",
    "              'Class': 'OSW',\n",
    "              'Area (ha)': (X_val == 1).sum() * C_ha * C_val,\n",
    "              'Area ($\\%$)': (X_val == 1).sum() / (X_val != 255).sum() * 100},\n",
    "             {'Type': 'Val',\n",
    "              'Frame (Posting)': 'Validation (3 m)',\n",
    "              'Class': 'NW',\n",
    "              'Area (ha)': (X_val == 0).sum() * C_ha * C_val,\n",
    "              'Area ($\\%$)': (X_val == 0).sum() / (X_val != 255).sum() * 100},\n",
    "             {'Type': 'Val',\n",
    "              'Frame (Posting)': 'DSWx (30 m)',\n",
    "              'Class': 'OSW',\n",
    "              'Area (ha)': (X_val_r[~shared_mask] == 1).sum() * C_ha * C_dswx,\n",
    "              'Area ($\\%$)': (X_val_r[~shared_mask] == 1).sum() / (~shared_mask).sum() * 100},\n",
    "             {'Type': 'Val',\n",
    "              'Frame (Posting)': 'DSWx (30 m)',\n",
    "              'Class': 'PSW',\n",
    "              'Area (ha)': (X_val_r[~shared_mask] == 2).sum() * C_ha * C_dswx,\n",
    "              'Area ($\\%$)': (X_val_r[~shared_mask] == 2).sum() / (~shared_mask).sum() * 100\n",
    "             },\n",
    "             {'Type': 'Val',\n",
    "              'Frame (Posting)': 'DSWx (30 m)',\n",
    "              'Class': 'NW',\n",
    "              'Area (ha)': (X_val_r[~shared_mask] == 0).sum() * C_ha * C_dswx,\n",
    "              'Area ($\\%$)': (X_val_r[~shared_mask] == 0).sum() / (~shared_mask).sum() * 100\n",
    "             },\n",
    "             {'Type': 'DSWx',\n",
    "              'Frame (Posting)': 'DSWx (30 m)',\n",
    "              'Class': 'OSW',\n",
    "              'Area (ha)': (X_dswx_c[~shared_mask] == 1).sum() * C_ha * C_dswx,\n",
    "              'Area ($\\%$)': (X_dswx_c[~shared_mask] == 1).sum() / (~shared_mask).sum() * 100},\n",
    "             {'Type': 'DSWx',\n",
    "              'Frame (Posting)': 'DSWx (30 m)',\n",
    "              'Class': 'PSW',\n",
    "              'Area (ha)': (X_dswx_c[~shared_mask] == 2).sum() * C_ha * C_dswx,\n",
    "              'Area ($\\%$)': (X_dswx_c[~shared_mask] == 2).sum() / (~shared_mask).sum() * 100\n",
    "             },\n",
    "             {'Type': 'DSWx',\n",
    "              'Frame (Posting)': 'DSWx (30 m)',\n",
    "              'Class': 'NW',\n",
    "              'Area (ha)': (X_dswx_c[~shared_mask] == 0).sum() * C_ha * C_dswx,\n",
    "              'Area ($\\%$)': (X_dswx_c[~shared_mask] == 0).sum() / (~shared_mask).sum() * 100\n",
    "             }\n",
    "            ]\n",
    "df_area = pd.DataFrame(area_data)\n",
    "df_area"
   ]
  },
  {
   "cell_type": "code",
   "execution_count": null,
   "id": "b66d7dd3",
   "metadata": {
    "ExecuteTime": {
     "start_time": "2023-01-25T00:45:17.826Z"
    }
   },
   "outputs": [],
   "source": [
    "df_area_f = df_area.set_index(['Frame (Posting)', 'Type', 'Class'])\n",
    "df_area_f['Area (ha)'] = df_area_f['Area (ha)'].map(lambda num: f'{num:1.2f}')\n",
    "df_area_f['Area ($\\%$)'] = df_area_f['Area ($\\%$)'].map(lambda num: f'{num:1.2f}')\n",
    "df_area_f"
   ]
  },
  {
   "cell_type": "code",
   "execution_count": null,
   "id": "f16cf781",
   "metadata": {
    "ExecuteTime": {
     "start_time": "2023-01-25T00:45:17.828Z"
    }
   },
   "outputs": [],
   "source": [
    "latex = df_area_f.style.to_latex(multirow_align='t', hrules=True)\n",
    "with open(presentation_dir / 'areas.tex', 'w') as f:\n",
    "    f.write(latex)"
   ]
  },
  {
   "cell_type": "code",
   "execution_count": null,
   "id": "9f22aa57",
   "metadata": {
    "ExecuteTime": {
     "start_time": "2023-01-25T00:45:17.830Z"
    }
   },
   "outputs": [],
   "source": [
    "latex_0 = \"\\\\begin{verbatim}\\n\" + \"Planet ID: \" + PLANET_ID + \"\\n\\\\end{verbatim}\\n\"\n",
    "latex_1 = \"\\\\begin{verbatim}\\n\" + \"Site Name: \" + SITE_NAME + \"\\n\\\\end{verbatim}\\n\"\n",
    "latex = latex_0 + latex_1\n",
    "print(latex)"
   ]
  },
  {
   "cell_type": "code",
   "execution_count": null,
   "id": "e80b1900",
   "metadata": {
    "ExecuteTime": {
     "start_time": "2023-01-25T00:45:17.832Z"
    }
   },
   "outputs": [],
   "source": [
    "with open(presentation_dir / 'more_ids.tex', 'w') as f:\n",
    "    f.write(latex)"
   ]
  }
 ],
 "metadata": {
  "kernelspec": {
   "display_name": "dswx_val",
   "language": "python",
   "name": "dswx_val"
  },
  "language_info": {
   "codemirror_mode": {
    "name": "ipython",
    "version": 3
   },
   "file_extension": ".py",
   "mimetype": "text/x-python",
   "name": "python",
   "nbconvert_exporter": "python",
   "pygments_lexer": "ipython3",
   "version": "3.11.0"
  }
 },
 "nbformat": 4,
 "nbformat_minor": 5
}
