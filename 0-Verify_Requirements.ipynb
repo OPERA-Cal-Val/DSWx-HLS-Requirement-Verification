{
 "cells": [
  {
   "cell_type": "code",
   "execution_count": null,
   "id": "c4a5c489",
   "metadata": {
    "ExecuteTime": {
     "end_time": "2022-10-26T17:12:39.217325Z",
     "start_time": "2022-10-26T17:12:39.198126Z"
    }
   },
   "outputs": [],
   "source": [
    "%load_ext autoreload\n",
    "%autoreload 2"
   ]
  },
  {
   "cell_type": "code",
   "execution_count": null,
   "id": "dab3fb3d",
   "metadata": {
    "ExecuteTime": {
     "end_time": "2022-10-26T17:12:40.896688Z",
     "start_time": "2022-10-26T17:12:39.219282Z"
    }
   },
   "outputs": [],
   "source": [
    "import geopandas as gpd\n",
    "from verification.val_db import (get_finalized_validation_datasets,\n",
    "                                 read_validation_dataset,\n",
    "                                 get_HLS_id,\n",
    "                                 get_val_s3_path\n",
    "                                )\n",
    "from verification.es_db import get_dswx_urls, get_DSWX_doc\n",
    "\n",
    "import matplotlib.pyplot as plt\n",
    "import numpy as np\n",
    "from tqdm import tqdm\n",
    "import rasterio\n",
    "from matplotlib.colors import ListedColormap\n",
    "from shapely.geometry import box\n",
    "from rasterio.plot import show\n",
    "from pathlib import Path\n",
    "from verification.rio_tools import get_geopandas_features_from_array\n",
    "import pandas as pd\n",
    "import sklearn.metrics\n",
    "import json\n",
    "from verification.hls import get_hls_urls"
   ]
  },
  {
   "cell_type": "markdown",
   "id": "e06c2548",
   "metadata": {},
   "source": [
    "This index is just relative to the finalized datasets."
   ]
  },
  {
   "cell_type": "code",
   "execution_count": null,
   "id": "63edea04",
   "metadata": {
    "ExecuteTime": {
     "end_time": "2022-10-26T17:12:40.931978Z",
     "start_time": "2022-10-26T17:12:40.898103Z"
    },
    "tags": [
     "parameters"
    ]
   },
   "outputs": [],
   "source": [
    "PLANET_ID = '20210903_150800_60_2458'"
   ]
  },
  {
   "cell_type": "markdown",
   "id": "1578d87c",
   "metadata": {},
   "source": [
    "# Table of Finalized Data"
   ]
  },
  {
   "cell_type": "code",
   "execution_count": null,
   "id": "14299113",
   "metadata": {
    "ExecuteTime": {
     "end_time": "2022-10-26T17:12:42.414773Z",
     "start_time": "2022-10-26T17:12:40.934553Z"
    }
   },
   "outputs": [],
   "source": [
    "df = get_finalized_validation_datasets()\n",
    "df.head()"
   ]
  },
  {
   "cell_type": "code",
   "execution_count": null,
   "id": "56fcbf7d",
   "metadata": {
    "ExecuteTime": {
     "end_time": "2022-10-26T17:12:42.449293Z",
     "start_time": "2022-10-26T17:12:42.416393Z"
    }
   },
   "outputs": [],
   "source": [
    "f'Currently, there are {df.shape[0]} finalized datasets'"
   ]
  },
  {
   "cell_type": "markdown",
   "id": "b28605ab",
   "metadata": {},
   "source": [
    "# Read a Validation Dataset"
   ]
  },
  {
   "cell_type": "code",
   "execution_count": null,
   "id": "cba12660",
   "metadata": {
    "ExecuteTime": {
     "end_time": "2022-10-26T17:12:43.588450Z",
     "start_time": "2022-10-26T17:12:42.450575Z"
    }
   },
   "outputs": [],
   "source": [
    "X_val, p_val = read_validation_dataset(PLANET_ID)\n",
    "p_val"
   ]
  },
  {
   "cell_type": "code",
   "execution_count": null,
   "id": "9463db0c",
   "metadata": {
    "ExecuteTime": {
     "end_time": "2022-10-26T17:12:43.936350Z",
     "start_time": "2022-10-26T17:12:43.590043Z"
    }
   },
   "outputs": [],
   "source": [
    "Y = X_val.astype(float)\n",
    "Y[Y == 255] = np.nan\n",
    "\n",
    "fig, ax1=plt.subplots(figsize=(5,5))\n",
    "cmap = ListedColormap(['white', 'blue'])\n",
    "pos=ax1.imshow(Y, interpolation='none',cmap=cmap,vmin=0,vmax=1)\n",
    "cbar = fig.colorbar(pos, ax=ax1,shrink=0.7,ticks=[0.25, 0.75])\n",
    "cbar.ax.set_yticklabels(['not water', 'water']);  # vertically oriented colorbar\n",
    "plt.xlabel('pixels')\n",
    "plt.ylabel('pixels')\n",
    "ax1.set_title('Validation Dataset');\n"
   ]
  },
  {
   "cell_type": "markdown",
   "id": "25a0b4de",
   "metadata": {},
   "source": [
    "# Get Associated HLS Id"
   ]
  },
  {
   "cell_type": "code",
   "execution_count": null,
   "id": "c8ea4930",
   "metadata": {
    "ExecuteTime": {
     "end_time": "2022-10-26T17:12:44.321751Z",
     "start_time": "2022-10-26T17:12:43.937942Z"
    }
   },
   "outputs": [],
   "source": [
    "HLS_ID = get_HLS_id(PLANET_ID)\n",
    "HLS_ID"
   ]
  },
  {
   "cell_type": "markdown",
   "id": "365b063d",
   "metadata": {},
   "source": [
    "# Get DSWx Products"
   ]
  },
  {
   "cell_type": "code",
   "execution_count": null,
   "id": "2f1f0920",
   "metadata": {
    "ExecuteTime": {
     "end_time": "2022-10-26T17:12:44.791844Z",
     "start_time": "2022-10-26T17:12:44.323341Z"
    }
   },
   "outputs": [],
   "source": [
    "dswx_urls = get_dswx_urls(HLS_ID)\n",
    "dswx_urls"
   ]
  },
  {
   "cell_type": "code",
   "execution_count": null,
   "id": "93975081",
   "metadata": {
    "ExecuteTime": {
     "end_time": "2022-10-26T17:12:46.113170Z",
     "start_time": "2022-10-26T17:12:44.796006Z"
    }
   },
   "outputs": [],
   "source": [
    "with rasterio.open(dswx_urls[0]) as ds:\n",
    "    X_dswx = ds.read(1)\n",
    "    p_dswx = ds.profile\n",
    "    crs_dswx = ds.crs\n",
    "    colormap = ds.colormap(1)\n",
    "    dswx_crs = ds.crs"
   ]
  },
  {
   "cell_type": "code",
   "execution_count": null,
   "id": "bf41dd20",
   "metadata": {
    "ExecuteTime": {
     "end_time": "2022-10-26T17:12:46.398770Z",
     "start_time": "2022-10-26T17:12:46.114804Z"
    }
   },
   "outputs": [],
   "source": [
    "fig, ax = plt.subplots(dpi=150,figsize=(4,4))\n",
    "cmap = ListedColormap([np.array(colormap[key]) / 255 for key in range(256)])\n",
    "im=ax.imshow(X_dswx, cmap=cmap, \n",
    "           interpolation='none', \n",
    "           vmin=0,vmax=255)\n",
    "#ax.axis('off')\n",
    "cbar=fig.colorbar(im,shrink=0.4,ticks=[0.5, 1.5, 2.5,9.5])\n",
    "cbar.set_ticklabels(['not water', 'water','partial water','cloud/cloud shadow'],fontsize=8)   \n",
    "cbar.ax.set_ylim(0,10)\n",
    "plt.xlabel('pixels',fontsize=9)\n",
    "plt.ylabel('pixels',fontsize=9)\n",
    "plt.xticks(fontsize = 8)\n",
    "plt.yticks(fontsize = 8)\n",
    "ax.set_title('DSWx Product',fontsize=9);"
   ]
  },
  {
   "cell_type": "markdown",
   "id": "7e4ae038",
   "metadata": {},
   "source": [
    "# Compare Extents\n",
    "\n",
    "Inspect the DSWx Subset and its corresponding Validation Dataset"
   ]
  },
  {
   "cell_type": "code",
   "execution_count": null,
   "id": "6a4f742c",
   "metadata": {
    "ExecuteTime": {
     "end_time": "2022-10-26T17:12:46.798442Z",
     "start_time": "2022-10-26T17:12:46.400488Z"
    }
   },
   "outputs": [],
   "source": [
    "val_url = get_val_s3_path(PLANET_ID)\n",
    "with rasterio.open(val_url) as ds:\n",
    "    val_bounds = list(ds.bounds)\n",
    "    val_crs = ds.crs"
   ]
  },
  {
   "cell_type": "markdown",
   "id": "8b65101c",
   "metadata": {},
   "source": [
    "The two datasets are frequently in the same CRS. Just in case, we reproject to DSWx projection."
   ]
  },
  {
   "cell_type": "code",
   "execution_count": null,
   "id": "68f47b94",
   "metadata": {
    "ExecuteTime": {
     "end_time": "2022-10-26T17:12:46.851167Z",
     "start_time": "2022-10-26T17:12:46.800224Z"
    }
   },
   "outputs": [],
   "source": [
    "df_val_bounds = gpd.GeoDataFrame(geometry=[box(*val_bounds).buffer(60)],\n",
    "                                 crs=val_crs)\n",
    "df_val_bounds = df_val_bounds.to_crs(dswx_crs)\n",
    "df_val_bounds"
   ]
  },
  {
   "cell_type": "code",
   "execution_count": null,
   "id": "e21f6635",
   "metadata": {
    "ExecuteTime": {
     "end_time": "2022-10-26T17:12:47.350939Z",
     "start_time": "2022-10-26T17:12:46.852842Z"
    }
   },
   "outputs": [],
   "source": [
    "fig, ax = plt.subplots(1, 3, dpi=150, figsize=(10, 10))\n",
    "cmap = ListedColormap([np.array(colormap[key]) / 255 for key in range(256)])\n",
    "\n",
    "show(X_dswx, cmap=cmap, transform=p_dswx['transform'], vmin=0, interpolation='none', ax=ax[0], vmax=255)\n",
    "df_val_bounds.to_crs(crs_dswx).boundary.plot(ax=ax[0], color='black')\n",
    "ax[0].axis('off')\n",
    "ax[0].set_title('Full DSWx scene with val bbox',fontsize=9)\n",
    "\n",
    "show(X_dswx, cmap=cmap, transform=p_dswx['transform'], vmin=0, interpolation='none', ax=ax[1])\n",
    "val_bounds_dswx = df_val_bounds.to_crs(crs_dswx).total_bounds\n",
    "ax[1].set_xlim(val_bounds_dswx[0], val_bounds_dswx[2])\n",
    "ax[1].set_ylim(val_bounds_dswx[1], val_bounds_dswx[3])\n",
    "ax[1].set_title('DSWx Subset Area',fontsize=9)\n",
    "ax[1].axis('off')\n",
    "\n",
    "show(X_val, transform=p_val['transform'], ax=ax[2], interpolation='none', cmap=cmap, vmin=0, vmax=255)\n",
    "ax[2].axis('off')\n",
    "ax[2].set_title('Validation Dataset',fontsize=9)\n",
    "\n",
    "cbar=fig.colorbar(im,ax=ax,ticks=[0.5, 1.5, 2.5,9.5],shrink=0.3,orientation='horizontal',fraction=0.32,pad=.03)\n",
    "cbar.set_ticklabels(['not water', 'water','partial water','cloud/cloud shadow'],rotation=45)   \n",
    "cbar.ax.tick_params(labelsize=6)\n",
    "cbar.ax.set_xlim(0,10)"
   ]
  },
  {
   "cell_type": "markdown",
   "id": "17f2af39",
   "metadata": {},
   "source": [
    "# Crop Datasets"
   ]
  },
  {
   "cell_type": "code",
   "execution_count": null,
   "id": "b7a95c6a",
   "metadata": {
    "ExecuteTime": {
     "end_time": "2022-10-26T17:12:47.395332Z",
     "start_time": "2022-10-26T17:12:47.352906Z"
    }
   },
   "outputs": [],
   "source": [
    "from dem_stitcher.rio_window import read_raster_from_window"
   ]
  },
  {
   "cell_type": "code",
   "execution_count": null,
   "id": "c2fb3b31",
   "metadata": {
    "ExecuteTime": {
     "end_time": "2022-10-26T17:12:48.079724Z",
     "start_time": "2022-10-26T17:12:47.397441Z"
    }
   },
   "outputs": [],
   "source": [
    "X_dswx_c, p_dswx_c = read_raster_from_window(dswx_urls[0], \n",
    "                                             list(df_val_bounds.total_bounds), \n",
    "                                             df_val_bounds.crs)"
   ]
  },
  {
   "cell_type": "markdown",
   "id": "e97096e4",
   "metadata": {},
   "source": [
    "# Resample Validation Dataset to DSWx Product\n",
    "\n",
    "This extracts a percent open surface water in HLS frame."
   ]
  },
  {
   "cell_type": "code",
   "execution_count": null,
   "id": "3dc6d43b",
   "metadata": {
    "ExecuteTime": {
     "end_time": "2022-10-26T17:12:48.615456Z",
     "start_time": "2022-10-26T17:12:48.081334Z"
    }
   },
   "outputs": [],
   "source": [
    "from dem_stitcher.rio_tools import reproject_arr_to_match_profile, update_profile_resolution\n",
    "\n",
    "X_val_temp = X_val.astype('float32')\n",
    "X_val_temp[(X_val == 10) | (X_val == 255)] = np.nan\n",
    "\n",
    "p_val_temp = p_val.copy()\n",
    "p_val_temp['dtype'] = 'float32'\n",
    "p_val_temp['nodata'] = np.nan\n",
    "\n",
    "p_dswx_c_mod = update_profile_resolution(p_dswx_c, \n",
    "                                         p_val['transform'].a)\n",
    "\n",
    "\n",
    "X_val_per_w_int, p_per_int = reproject_arr_to_match_profile(X_val_temp,\n",
    "                                                    p_val_temp, \n",
    "                                                    p_dswx_c_mod)\n",
    "X_val_per_w_int = X_val_per_w_int[0, ...]\n",
    "\n",
    "X_val_per_w, _ = reproject_arr_to_match_profile(X_val_per_w_int,\n",
    "                                                p_per_int, \n",
    "                                                p_dswx_c)\n",
    "X_val_per_w = X_val_per_w[0, ...]"
   ]
  },
  {
   "cell_type": "code",
   "execution_count": null,
   "id": "c0889605",
   "metadata": {
    "ExecuteTime": {
     "end_time": "2022-10-26T17:12:48.786220Z",
     "start_time": "2022-10-26T17:12:48.617157Z"
    }
   },
   "outputs": [],
   "source": [
    "fig, ax = plt.subplots(dpi=150,figsize=(4, 4))\n",
    "\n",
    "show(X_val_per_w, vmax=255, transform=p_dswx['transform'], ax=ax,cmap=cmap)\n",
    "cbar=fig.colorbar(im,ax=ax,shrink=0.5,ticks=[0.5, 1.5, 2.5])\n",
    "cbar.set_ticklabels(['not water', 'water','partial water'],fontsize=8)   \n",
    "cbar.ax.set_ylim(0,3)\n",
    "plt.xlabel('meters',fontsize=8)\n",
    "plt.ylabel('meters',fontsize=8)\n",
    "plt.title('Validation data',fontsize=10)\n",
    "plt.xticks(fontsize = 8)\n",
    "plt.yticks(fontsize = 8);"
   ]
  },
  {
   "cell_type": "markdown",
   "id": "0d368597",
   "metadata": {},
   "source": [
    "Convert to DSWx Labels."
   ]
  },
  {
   "cell_type": "code",
   "execution_count": null,
   "id": "a26144a3",
   "metadata": {
    "ExecuteTime": {
     "end_time": "2022-10-26T17:12:48.822372Z",
     "start_time": "2022-10-26T17:12:48.788200Z"
    }
   },
   "outputs": [],
   "source": [
    "X_val_r = np.full(X_val_per_w.shape, 255)\n",
    "\n",
    "mask = np.isnan(X_val_per_w)\n",
    "\n",
    "ind_w = (X_val_per_w == 1)\n",
    "X_val_r[ind_w] = 1\n",
    "\n",
    "ind_pw = (X_val_per_w >= .5) & (X_val_per_w < 1)\n",
    "X_val_r[ind_pw] = 2\n",
    "\n",
    "ind_nw = (X_val_per_w < .5)\n",
    "X_val_r[ind_nw] = 0"
   ]
  },
  {
   "cell_type": "code",
   "execution_count": null,
   "id": "3008d040",
   "metadata": {
    "ExecuteTime": {
     "end_time": "2022-10-26T17:12:49.025949Z",
     "start_time": "2022-10-26T17:12:48.824020Z"
    }
   },
   "outputs": [],
   "source": [
    "from turtle import width\n",
    "\n",
    "\n",
    "fig, ax = plt.subplots(1, 2, dpi=150, figsize=(8, 8))\n",
    "cmap = ListedColormap([np.array(colormap[key]) / 255 for key in range(256)])\n",
    "\n",
    "show(X_dswx_c, \n",
    "     cmap=cmap, \n",
    "     transform=p_dswx_c['transform'],  \n",
    "     interpolation='none', ax=ax[0], vmin=0,vmax=255)\n",
    "ax[0].set_title('DSWx Subset Area',fontsize=8)\n",
    "ax[0].axis('off')\n",
    "\n",
    "show(X_val_r, transform=p_val['transform'], ax=ax[1], interpolation='none', cmap=cmap, vmin=0, vmax=255)\n",
    "ax[1].axis('off')\n",
    "ax[1].set_title('Validation Dataset Reprojected to DSWx and Labeled',fontsize=8)\n",
    "\n",
    "\n",
    "cbar=fig.colorbar(im,ax=ax,ticks=[0.5, 1.5, 2.5,9.5],shrink=0.5,orientation='horizontal',pad=.01)\n",
    "cbar.set_ticklabels(['not water', 'water','partial water','cloud/cloud shadow'],rotation=45)   \n",
    "cbar.ax.tick_params(labelsize=8)\n",
    "cbar.ax.set_xlim(0,10);"
   ]
  },
  {
   "cell_type": "markdown",
   "id": "0c4ae05a",
   "metadata": {},
   "source": [
    "**Warning**: In many cases, the UTM zone of the validation dataset and the OPERA DSWx product do not match. So despite some of the side-by-side plots that appear parallel, the rotation above can come as surprise. A slight rotation will occur if the below CRS's are different."
   ]
  },
  {
   "cell_type": "code",
   "execution_count": null,
   "id": "43d21154",
   "metadata": {
    "ExecuteTime": {
     "end_time": "2022-10-26T17:12:49.062016Z",
     "start_time": "2022-10-26T17:12:49.027868Z"
    }
   },
   "outputs": [],
   "source": [
    "print('DSWx CRS: ', p_dswx['crs'])\n",
    "print('Validation CRS: ', p_val['crs'])"
   ]
  },
  {
   "cell_type": "markdown",
   "id": "c8521777",
   "metadata": {},
   "source": [
    "# Save Relevant Rasters for Inspection"
   ]
  },
  {
   "cell_type": "code",
   "execution_count": null,
   "id": "3ddd004e",
   "metadata": {
    "ExecuteTime": {
     "end_time": "2022-10-26T17:12:49.263657Z",
     "start_time": "2022-10-26T17:12:49.064076Z"
    }
   },
   "outputs": [],
   "source": [
    "DSWx_ID = get_DSWX_doc(HLS_ID)['id']\n",
    "DSWx_ID"
   ]
  },
  {
   "cell_type": "code",
   "execution_count": null,
   "id": "a434bc5f",
   "metadata": {
    "ExecuteTime": {
     "end_time": "2022-10-26T17:12:49.298706Z",
     "start_time": "2022-10-26T17:12:49.265418Z"
    }
   },
   "outputs": [],
   "source": [
    "out_dir = Path('verification_assessment_data') / DSWx_ID\n",
    "out_dir.mkdir(exist_ok=True, parents=True)"
   ]
  },
  {
   "cell_type": "code",
   "execution_count": null,
   "id": "a4b32397",
   "metadata": {
    "ExecuteTime": {
     "end_time": "2022-10-26T17:12:49.337998Z",
     "start_time": "2022-10-26T17:12:49.300349Z"
    }
   },
   "outputs": [],
   "source": [
    "p_val_r = p_dswx_c.copy()\n",
    "p_val_r['dtype'] = np.uint8\n",
    "p_val_r['nodata'] = 255\n",
    "\n",
    "with rasterio.open(out_dir / f'validation_r_{DSWx_ID}.tif', 'w', **p_val_r) as ds:\n",
    "    ds.write(X_val_r, 1)\n",
    "    ds.write_colormap(1, colormap)"
   ]
  },
  {
   "cell_type": "code",
   "execution_count": null,
   "id": "2ce40805",
   "metadata": {
    "ExecuteTime": {
     "end_time": "2022-10-26T17:12:49.378064Z",
     "start_time": "2022-10-26T17:12:49.339618Z"
    }
   },
   "outputs": [],
   "source": [
    "p_perc_r = p_dswx_c.copy()\n",
    "p_perc_r['dtype'] = np.float32\n",
    "p_perc_r['nodata'] = np.nan\n",
    "\n",
    "with rasterio.open(out_dir / f'percent_r_{DSWx_ID}.tif', 'w', **p_perc_r) as ds:\n",
    "    ds.write(X_val_per_w, 1)"
   ]
  },
  {
   "cell_type": "code",
   "execution_count": null,
   "id": "5d6d16cb",
   "metadata": {
    "ExecuteTime": {
     "end_time": "2022-10-26T17:12:49.485484Z",
     "start_time": "2022-10-26T17:12:49.380048Z"
    }
   },
   "outputs": [],
   "source": [
    "with rasterio.open(out_dir / f'percent_intermediate_{DSWx_ID}.tif', 'w', **p_per_int) as ds:\n",
    "    ds.write(X_val_per_w_int, 1)"
   ]
  },
  {
   "cell_type": "code",
   "execution_count": null,
   "id": "867ddfa2",
   "metadata": {
    "ExecuteTime": {
     "end_time": "2022-10-26T17:12:49.524676Z",
     "start_time": "2022-10-26T17:12:49.487186Z"
    }
   },
   "outputs": [],
   "source": [
    "with rasterio.open(out_dir / f'{DSWx_ID}.tif', 'w', **p_dswx_c) as ds:\n",
    "    ds.write(X_dswx_c, 1)\n",
    "    ds.write_colormap(1, colormap)"
   ]
  },
  {
   "cell_type": "code",
   "execution_count": null,
   "id": "1bf2be7d",
   "metadata": {
    "ExecuteTime": {
     "end_time": "2022-10-26T17:12:49.586492Z",
     "start_time": "2022-10-26T17:12:49.531786Z"
    }
   },
   "outputs": [],
   "source": [
    "with rasterio.open(out_dir / f'validation_original_{DSWx_ID}.tif', 'w', **p_val) as ds:\n",
    "    ds.write(X_val, 1)\n",
    "    ds.write_colormap(1, colormap)"
   ]
  },
  {
   "cell_type": "markdown",
   "id": "b8e19611",
   "metadata": {},
   "source": [
    "# Scene-wise stratified sampling"
   ]
  },
  {
   "cell_type": "code",
   "execution_count": null,
   "id": "7d5d364b",
   "metadata": {
    "ExecuteTime": {
     "end_time": "2022-10-26T17:12:49.707252Z",
     "start_time": "2022-10-26T17:12:49.588185Z"
    }
   },
   "outputs": [],
   "source": [
    "shared_mask = (X_val_r == 255) | ~(np.isin(X_dswx_c, [0, 1, 2]))\n",
    "plt.imshow(shared_mask, interpolation='none')\n",
    "plt.xlabel('pixels')\n",
    "plt.ylabel('pixels')\n",
    "plt.title('Shared mask');\n"
   ]
  },
  {
   "cell_type": "code",
   "execution_count": null,
   "id": "cd575c04",
   "metadata": {
    "ExecuteTime": {
     "end_time": "2022-10-26T17:12:49.816971Z",
     "start_time": "2022-10-26T17:12:49.708869Z"
    }
   },
   "outputs": [],
   "source": [
    "percents, _, _ = plt.hist(X_val_r[~shared_mask], bins=3, range=(0, 3), density=True, edgecolor='black')\n",
    "plt.xticks(np.arange(0, 3)+.5, ['not water', 'water', 'partial water'])\n",
    "plt.ylabel('Percent')\n",
    "plt.title('For HLS pixels to be compared, class breakdown relative to Validation data')"
   ]
  },
  {
   "cell_type": "code",
   "execution_count": null,
   "id": "b9d23f11",
   "metadata": {
    "ExecuteTime": {
     "end_time": "2022-10-26T17:12:49.858602Z",
     "start_time": "2022-10-26T17:12:49.818837Z"
    }
   },
   "outputs": [],
   "source": [
    "plt.close('all')"
   ]
  },
  {
   "cell_type": "code",
   "execution_count": null,
   "id": "26e528f2",
   "metadata": {
    "ExecuteTime": {
     "end_time": "2022-10-26T17:12:49.898307Z",
     "start_time": "2022-10-26T17:12:49.860539Z"
    }
   },
   "outputs": [],
   "source": [
    "np.random.seed(0)\n",
    "stratified_selection = [] # index will correspond to class label 0, 1, 2\n",
    "validation_hls_pixels = X_val_r[~shared_mask]\n",
    "dswx_hls_pixels = X_dswx_c[~shared_mask]\n",
    "\n",
    "TOTAL_SAMPLES = 500\n",
    "\n",
    "for label in [0, 1, 2]:\n",
    "    indices = np.argwhere(validation_hls_pixels == label).ravel()\n",
    "    subset_size = int(np.ceil(percents[label] * TOTAL_SAMPLES))\n",
    "    indices_subset = np.random.choice(indices, subset_size, replace=False)\n",
    "    stratified_selection.append(indices_subset)\n"
   ]
  },
  {
   "cell_type": "code",
   "execution_count": null,
   "id": "aba8f91b",
   "metadata": {
    "ExecuteTime": {
     "end_time": "2022-10-26T17:12:49.937287Z",
     "start_time": "2022-10-26T17:12:49.900038Z"
    }
   },
   "outputs": [],
   "source": [
    "validation_labels = [label for label in [0, 1, 2] for k in range(len(stratified_selection[label]))]\n",
    "opera_dswx_labels = [dswx_label \n",
    "                     for label in [0, 1, 2] \n",
    "                     for dswx_label in dswx_hls_pixels[stratified_selection[label]]]\n",
    "len(validation_labels), len(opera_dswx_labels)"
   ]
  },
  {
   "cell_type": "code",
   "execution_count": null,
   "id": "fbfb66f3",
   "metadata": {
    "ExecuteTime": {
     "end_time": "2022-10-26T17:12:49.977792Z",
     "start_time": "2022-10-26T17:12:49.939124Z"
    }
   },
   "outputs": [],
   "source": [
    "X_samples = np.full(shared_mask.shape, 0)\n",
    "temp = X_samples[~shared_mask]\n",
    "\n",
    "k = 1\n",
    "for label in [0, 1, 2]:\n",
    "    for ind in stratified_selection[label]:\n",
    "        temp[ind] = k\n",
    "        k += 1\n",
    "    \n",
    "X_samples[~shared_mask] = temp\n",
    "(X_samples > 0).sum()"
   ]
  },
  {
   "cell_type": "code",
   "execution_count": null,
   "id": "1e17e1e8",
   "metadata": {
    "ExecuteTime": {
     "end_time": "2022-10-26T17:12:50.107470Z",
     "start_time": "2022-10-26T17:12:49.979862Z"
    }
   },
   "outputs": [],
   "source": [
    "fig, ax = plt.subplots(dpi=150,figsize=(3,3))\n",
    "cmapstrat=ListedColormap([(1, 1, 1), (0, 0, 0)])\n",
    "im=ax.imshow(X_samples,cmap=cmapstrat,vmax=1)\n",
    "fig.suptitle('Sampling points',fontsize=8)\n",
    "plt.xlabel('pixels',fontsize=8)\n",
    "plt.ylabel('pixels',fontsize=8)\n",
    "plt.xticks(fontsize = 8)\n",
    "plt.yticks(fontsize = 8);"
   ]
  },
  {
   "cell_type": "code",
   "execution_count": null,
   "id": "f1e04890",
   "metadata": {
    "ExecuteTime": {
     "end_time": "2022-10-26T17:12:50.163240Z",
     "start_time": "2022-10-26T17:12:50.109260Z"
    }
   },
   "outputs": [],
   "source": [
    "features = get_geopandas_features_from_array(# Note 8 bits is not enough for 500 points\n",
    "                                             X_samples.astype(np.int32), \n",
    "                                             transform=p_dswx_c['transform'],\n",
    "                                             mask=(X_samples==0),\n",
    "                                             label_name='sample_id'\n",
    "                                            )\n",
    "df_samples = gpd.GeoDataFrame.from_features(features, \n",
    "                                            crs=p_dswx_c['crs'])\n",
    "df_samples['dswx_label'] = opera_dswx_labels\n",
    "df_samples['val_label'] = validation_labels\n",
    "\n",
    "df_samples.head()"
   ]
  },
  {
   "cell_type": "code",
   "execution_count": null,
   "id": "59edb318",
   "metadata": {
    "ExecuteTime": {
     "end_time": "2022-10-26T17:12:50.201072Z",
     "start_time": "2022-10-26T17:12:50.164861Z"
    }
   },
   "outputs": [],
   "source": [
    "with rasterio.open(out_dir / f'samples_{DSWx_ID}.tif', 'w', **p_dswx_c) as ds:\n",
    "    ds.write(X_samples, 1)"
   ]
  },
  {
   "cell_type": "code",
   "execution_count": null,
   "id": "c8036077",
   "metadata": {
    "ExecuteTime": {
     "end_time": "2022-10-26T17:12:50.296164Z",
     "start_time": "2022-10-26T17:12:50.202893Z"
    }
   },
   "outputs": [],
   "source": [
    "df_samples.to_file(out_dir / f'samples_{DSWx_ID}')"
   ]
  },
  {
   "cell_type": "markdown",
   "id": "d1f3adba",
   "metadata": {},
   "source": [
    "# Accuracy Assessment"
   ]
  },
  {
   "cell_type": "code",
   "execution_count": null,
   "id": "65df57f6",
   "metadata": {
    "ExecuteTime": {
     "end_time": "2022-10-26T17:12:50.330779Z",
     "start_time": "2022-10-26T17:12:50.297838Z"
    }
   },
   "outputs": [],
   "source": [
    "class_dict = {0: 'not_water',\n",
    "              1: 'surface_water', \n",
    "              2: 'partial_surface_water'}\n",
    "\n",
    "y_val = validation_hls_pixels\n",
    "y_dswx = dswx_hls_pixels\n",
    "\n",
    "## Uncomment to inspect subsample\n",
    "y_val = np.array([label for ind in stratified_selection for label in validation_hls_pixels[ind]])\n",
    "y_dswx = np.array([label  for ind in stratified_selection for label in dswx_hls_pixels[ind]])"
   ]
  },
  {
   "cell_type": "markdown",
   "id": "2728bf96",
   "metadata": {},
   "source": [
    "## Confusion Matrix"
   ]
  },
  {
   "cell_type": "code",
   "execution_count": null,
   "id": "efa23fce",
   "metadata": {
    "ExecuteTime": {
     "end_time": "2022-10-26T17:12:50.377309Z",
     "start_time": "2022-10-26T17:12:50.332716Z"
    }
   },
   "outputs": [],
   "source": [
    "y_dswx_str = pd.Series([class_dict[class_id] for class_id in y_dswx], name='OPERA_DSWx')\n",
    "y_val_str = pd.Series([class_dict[class_id] for class_id in y_val], name='OPERA_Validation')\n",
    "df_conf = pd.crosstab(y_val_str, y_dswx_str)\n",
    "df_conf"
   ]
  },
  {
   "cell_type": "code",
   "execution_count": null,
   "id": "e7e5b0f3",
   "metadata": {
    "ExecuteTime": {
     "end_time": "2022-10-26T17:12:50.414701Z",
     "start_time": "2022-10-26T17:12:50.379053Z"
    }
   },
   "outputs": [],
   "source": [
    "df_conf_formatted = df_conf.astype(int)\n",
    "\n",
    "name = df_conf.index.name\n",
    "df_conf_formatted.rename(index={index: f'{index}_{name}' for index in df_conf.index}, inplace=True)\n",
    "\n",
    "col_name = df_conf.columns.name\n",
    "df_conf_formatted.rename(columns={col: f'{col}_{col_name}' for col in df_conf.columns}, inplace=True)\n",
    "\n",
    "df_conf_formatted.to_dict()"
   ]
  },
  {
   "cell_type": "markdown",
   "id": "be18bc0c",
   "metadata": {},
   "source": [
    "## Precision/Recall"
   ]
  },
  {
   "cell_type": "code",
   "execution_count": null,
   "id": "7ccb691a",
   "metadata": {
    "ExecuteTime": {
     "end_time": "2022-10-26T17:12:50.450804Z",
     "start_time": "2022-10-26T17:12:50.416285Z"
    }
   },
   "outputs": [],
   "source": [
    "prec, recall, f1, supp = sklearn.metrics.precision_recall_fscore_support(y_val, y_dswx, labels=[0, 1, 2])\n",
    "prec, recall, f1, supp"
   ]
  },
  {
   "cell_type": "code",
   "execution_count": null,
   "id": "806aa362",
   "metadata": {
    "ExecuteTime": {
     "end_time": "2022-10-26T17:12:50.484716Z",
     "start_time": "2022-10-26T17:12:50.452303Z"
    }
   },
   "outputs": [],
   "source": [
    "recall_per_class = {class_dict[label]: recall[label] for label in [0, 1, 2]}\n",
    "recall_per_class"
   ]
  },
  {
   "cell_type": "code",
   "execution_count": null,
   "id": "8f766033",
   "metadata": {
    "ExecuteTime": {
     "end_time": "2022-10-26T17:12:50.520985Z",
     "start_time": "2022-10-26T17:12:50.486583Z"
    }
   },
   "outputs": [],
   "source": [
    "prec_per_class = {class_dict[label]: prec[label] for label in [0, 1, 2]}\n",
    "prec_per_class"
   ]
  },
  {
   "cell_type": "code",
   "execution_count": null,
   "id": "aee97000",
   "metadata": {
    "ExecuteTime": {
     "end_time": "2022-10-26T17:12:50.556948Z",
     "start_time": "2022-10-26T17:12:50.522723Z"
    }
   },
   "outputs": [],
   "source": [
    "f1_per_class = {class_dict[label]: f1[label] for label in [0, 1, 2]}\n",
    "f1_per_class"
   ]
  },
  {
   "cell_type": "code",
   "execution_count": null,
   "id": "ddc3ed60",
   "metadata": {
    "ExecuteTime": {
     "end_time": "2022-10-26T17:12:50.593977Z",
     "start_time": "2022-10-26T17:12:50.558594Z"
    }
   },
   "outputs": [],
   "source": [
    "supp_per_class = {class_dict[label]: int(supp[label]) for label in [0, 1, 2]}\n",
    "supp_per_class"
   ]
  },
  {
   "cell_type": "markdown",
   "id": "d5ddcbb6",
   "metadata": {},
   "source": [
    "## Accuracy per class"
   ]
  },
  {
   "cell_type": "code",
   "execution_count": null,
   "id": "719d27ba",
   "metadata": {
    "ExecuteTime": {
     "end_time": "2022-10-26T17:12:50.632625Z",
     "start_time": "2022-10-26T17:12:50.595648Z"
    }
   },
   "outputs": [],
   "source": [
    "acc_per_class = {}\n",
    "\n",
    "for c in [0, 1, 2]:\n",
    "    y_val_temp = y_val.copy()\n",
    "    y_dswx_temp = y_dswx.copy()\n",
    "    \n",
    "    y_val_temp[y_val_temp != c] = 255\n",
    "    y_dswx_temp[y_dswx_temp != c] = 255\n",
    "\n",
    "    acc_per_class[class_dict[c]] = (y_val_temp == y_dswx_temp).sum() / y_dswx.size\n",
    "\n",
    "acc_per_class"
   ]
  },
  {
   "cell_type": "markdown",
   "id": "b8d98216",
   "metadata": {},
   "source": [
    "## Serialize"
   ]
  },
  {
   "cell_type": "code",
   "execution_count": null,
   "id": "ce0ec82a",
   "metadata": {
    "ExecuteTime": {
     "end_time": "2022-10-26T17:12:50.668350Z",
     "start_time": "2022-10-26T17:12:50.634385Z"
    }
   },
   "outputs": [],
   "source": [
    "assessment = {'dswx_id': DSWx_ID,\n",
    "              'precision': prec_per_class,\n",
    "              'recall': recall_per_class,\n",
    "              'f1_per_class': f1_per_class,\n",
    "              'supp_per_class':supp_per_class,\n",
    "              'confusion_matrix': df_conf_formatted.to_dict(),\n",
    "\n",
    "              'accuracy_per_class': acc_per_class}\n",
    "\n",
    "json.dump(assessment, open(out_dir / f'assessment_{DSWx_ID}.json', 'w'))"
   ]
  },
  {
   "cell_type": "code",
   "execution_count": null,
   "id": "929988fa",
   "metadata": {
    "ExecuteTime": {
     "end_time": "2022-10-26T17:12:50.703123Z",
     "start_time": "2022-10-26T17:12:50.669945Z"
    }
   },
   "outputs": [],
   "source": [
    "df_conf.to_csv(out_dir / f'confusion_matrix_{DSWx_ID}.csv')"
   ]
  },
  {
   "cell_type": "markdown",
   "id": "f2ac34bb",
   "metadata": {},
   "source": [
    "# Verify Requirements"
   ]
  },
  {
   "cell_type": "code",
   "execution_count": null,
   "id": "8796b90c",
   "metadata": {
    "ExecuteTime": {
     "end_time": "2022-10-26T17:12:50.736451Z",
     "start_time": "2022-10-26T17:12:50.704676Z"
    }
   },
   "outputs": [],
   "source": [
    "open_surface_water_req = False\n",
    "if assessment['accuracy_per_class']['surface_water'] >= .80:\n",
    "    open_surface_water_req = True"
   ]
  },
  {
   "cell_type": "code",
   "execution_count": null,
   "id": "e352af4e",
   "metadata": {
    "ExecuteTime": {
     "end_time": "2022-10-26T17:12:50.771279Z",
     "start_time": "2022-10-26T17:12:50.738386Z"
    }
   },
   "outputs": [],
   "source": [
    "partial_surface_water_req = False\n",
    "if assessment['accuracy_per_class']['partial_surface_water'] >= .70:\n",
    "    partial_surface_water_req = True"
   ]
  },
  {
   "cell_type": "code",
   "execution_count": null,
   "id": "10df3804",
   "metadata": {
    "ExecuteTime": {
     "end_time": "2022-10-26T17:12:50.806785Z",
     "start_time": "2022-10-26T17:12:50.772988Z"
    }
   },
   "outputs": [],
   "source": [
    "print(f'Passed Surface Water Requirement: ', open_surface_water_req)\n",
    "print(f'Passed Partial Surface Water Requirement: ', partial_surface_water_req)"
   ]
  },
  {
   "cell_type": "code",
   "execution_count": null,
   "id": "d2fa957d",
   "metadata": {
    "ExecuteTime": {
     "end_time": "2022-10-26T17:12:52.433178Z",
     "start_time": "2022-10-26T17:12:50.808530Z"
    }
   },
   "outputs": [],
   "source": [
    "hls_urls_dict = get_hls_urls(HLS_ID)"
   ]
  },
  {
   "cell_type": "code",
   "execution_count": null,
   "id": "30a22a44",
   "metadata": {
    "ExecuteTime": {
     "end_time": "2022-10-26T17:12:52.470618Z",
     "start_time": "2022-10-26T17:12:52.434705Z"
    }
   },
   "outputs": [],
   "source": [
    "requirement_verification = {'dswx_id': DSWx_ID,\n",
    "                            'surface_water': open_surface_water_req,\n",
    "                            'partial_surface_water': partial_surface_water_req,\n",
    "                            'dswx_wtr_url': dswx_urls[0],\n",
    "                            'planet_id': PLANET_ID,\n",
    "                            'validation_dataset_s3': get_val_s3_path(PLANET_ID),\n",
    "                            'hls_id': HLS_ID,\n",
    "                            **hls_urls_dict}\n",
    "\n",
    "json.dump(requirement_verification, open(out_dir / f'requirement_verification_{DSWx_ID}.json', 'w'))"
   ]
  },
  {
   "cell_type": "markdown",
   "id": "067fc6c9",
   "metadata": {},
   "source": [
    "Lastly, calculate differance map to show where DSWx and Validation data agree/disagree"
   ]
  },
  {
   "cell_type": "code",
   "execution_count": null,
   "id": "0f2baef6",
   "metadata": {
    "ExecuteTime": {
     "end_time": "2022-10-26T17:12:52.507193Z",
     "start_time": "2022-10-26T17:12:52.472201Z"
    }
   },
   "outputs": [],
   "source": [
    "X_diff_temp=X_dswx_c-X_val_r\n",
    "X_diff=X_diff_temp\n",
    "\n",
    "X_diff=X_diff_temp.astype('float32')\n",
    "X_diff[(X_diff_temp < -5) | (X_diff_temp > 5)] = np.nan\n",
    "\n",
    "print([\"min = \"  + str(np.nanmin(X_diff)), \"max = \" + str(np.nanmax(X_diff))])"
   ]
  },
  {
   "cell_type": "code",
   "execution_count": null,
   "id": "53bdc484",
   "metadata": {
    "ExecuteTime": {
     "end_time": "2022-10-26T17:12:52.883193Z",
     "start_time": "2022-10-26T17:12:52.508804Z"
    }
   },
   "outputs": [],
   "source": [
    "fig, axs = plt.subplots(1, 3, dpi=150, figsize=(10, 10))\n",
    "cmap = ListedColormap([np.array(colormap[key]) / 255 for key in range(256)])\n",
    "\n",
    "im0 = axs[0].imshow(X_dswx_c, cmap=cmap, vmin=0, interpolation='none', vmax=255)\n",
    "axs[0].axis('off')\n",
    "axs[0].set_title('DSWx',fontsize=8)\n",
    "cbar=fig.colorbar(im0,ax=axs[1],ticks=[0.5, 1.5, 2.5,9.5],shrink=0.2)\n",
    "cbar.set_ticklabels(['not water', 'water','partial water','cloud/cloud shadow'],rotation=0)   \n",
    "cbar.ax.tick_params(labelsize=4)\n",
    "cbar.ax.set_ylim(0,10)\n",
    "\n",
    "im1 = axs[1].imshow(X_val_r, cmap=cmap, vmin=0, interpolation='none', vmax=255)\n",
    "axs[1].axis('off')\n",
    "axs[1].set_title('Validation data',fontsize=8)\n",
    "\n",
    "cbar=fig.colorbar(im1,ax=axs[0],ticks=[0.5, 1.5, 2.5,9.5],shrink=0.2)\n",
    "cbar.set_ticklabels(['not water', 'water','partial water','cloud/cloud shadow'],rotation=0)   \n",
    "cbar.ax.tick_params(labelsize=4)\n",
    "cbar.ax.set_ylim(0,10)\n",
    "\n",
    "im2 = axs[2].imshow(X_diff, interpolation='none',vmin=-2, vmax=2,)\n",
    "axs[2].axis('off')\n",
    "axs[2].set_title('Difference Map (DSWx - Val.)',fontsize=8)\n",
    "cbar=fig.colorbar(im2,ax=axs[2],ticks=[-2,-1,0,1,2],shrink=0.2)\n",
    "cbar.ax.tick_params(labelsize=6)\n",
    "cbar.ax.set_ylim(-2,2)\n",
    "cmapDiff=ListedColormap([(0/255,247/255, 255/255), (7/255, 137/255, 66/255), (1, 1, 1), (0,0,0),(231/255,41/255,138/255)])\n",
    "\n",
    "im2.set_cmap(cmapDiff);\n",
    "cmapDiff.set_bad(color='gray')\n"
   ]
  },
  {
   "cell_type": "code",
   "execution_count": null,
   "id": "7ea9ab88",
   "metadata": {
    "ExecuteTime": {
     "end_time": "2022-10-26T17:12:52.923798Z",
     "start_time": "2022-10-26T17:12:52.885083Z"
    }
   },
   "outputs": [],
   "source": [
    "cmapDiffSave=({-2: (0,247, 255, 255),\n",
    " -1: (7, 137, 66, 255),\n",
    " 0: (255, 255, 255, 255),\n",
    " 1: (0,0,0, 255),\n",
    " 2: (231,41,138, 255)})\n",
    "\n",
    "with rasterio.open(out_dir / f'DifferenceMap.tif', 'w', **p_dswx_c) as ds:\n",
    "    ds.write(X_diff, 1)\n",
    "    ds.write_colormap(1, cmapDiffSave)"
   ]
  }
 ],
 "metadata": {
  "kernelspec": {
   "display_name": "dswx_val",
   "language": "python",
   "name": "dswx_val"
  },
  "language_info": {
   "codemirror_mode": {
    "name": "ipython",
    "version": 3
   },
   "file_extension": ".py",
   "mimetype": "text/x-python",
   "name": "python",
   "nbconvert_exporter": "python",
   "pygments_lexer": "ipython3"
  }
 },
 "nbformat": 4,
 "nbformat_minor": 5
}
