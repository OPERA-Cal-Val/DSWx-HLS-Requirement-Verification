{
 "cells": [
  {
   "cell_type": "code",
   "execution_count": 1,
   "id": "bb6d6e62",
   "metadata": {
    "ExecuteTime": {
     "end_time": "2023-03-22T17:50:07.727431Z",
     "start_time": "2023-03-22T17:50:07.700205Z"
    }
   },
   "outputs": [],
   "source": [
    "%load_ext autoreload\n",
    "%autoreload 2"
   ]
  },
  {
   "cell_type": "code",
   "execution_count": 2,
   "id": "69d5df4b",
   "metadata": {
    "ExecuteTime": {
     "end_time": "2023-03-22T17:50:09.798463Z",
     "start_time": "2023-03-22T17:50:07.729773Z"
    }
   },
   "outputs": [],
   "source": [
    "import geopandas as gpd\n",
    "from verification.val_db import (get_finalized_validation_datasets,\n",
    "                                 read_validation_dataset,\n",
    "                                 get_val_s3_path,\n",
    "                                 get_image_table\n",
    "                                )\n",
    "\n",
    "import matplotlib.pyplot as plt\n",
    "from matplotlib.ticker import PercentFormatter\n",
    "from matplotlib import colors\n",
    "import numpy as np\n",
    "from tqdm import tqdm\n",
    "import rasterio\n",
    "from matplotlib.colors import ListedColormap\n",
    "from shapely.geometry import box\n",
    "from rasterio.plot import show\n",
    "from pathlib import Path\n",
    "from verification.rio_tools import get_geopandas_features_from_array\n",
    "import pandas as pd\n",
    "import sklearn.metrics\n",
    "import json\n",
    "from verification.hls import get_hls_urls\n",
    "from dem_stitcher.rio_tools import reproject_arr_to_match_profile, update_profile_resolution\n",
    "import warnings\n",
    "from verification.labels import resample_labels_into_percentage, reclassify_percentage_array_for_dswx"
   ]
  },
  {
   "cell_type": "code",
   "execution_count": 3,
   "id": "5d73f54b",
   "metadata": {
    "ExecuteTime": {
     "end_time": "2023-03-22T17:50:09.845845Z",
     "start_time": "2023-03-22T17:50:09.800340Z"
    }
   },
   "outputs": [],
   "source": [
    "np.random.seed(0)"
   ]
  },
  {
   "cell_type": "code",
   "execution_count": 4,
   "id": "70acc293",
   "metadata": {
    "ExecuteTime": {
     "end_time": "2023-03-22T17:50:09.894184Z",
     "start_time": "2023-03-22T17:50:09.848231Z"
    },
    "tags": [
     "parameters"
    ]
   },
   "outputs": [],
   "source": [
    "PLANET_ID = '20211011_155455_52_2262'#'20210903_150800_60_2458'#'20211011_155455_52_2262'#'20210924_082025_48_2424'#'20211011_155455_52_2262'#'20210928_211311_91_2457' #'20211002_155415_1009'\n",
    "EQUAL_SAMPLING = True  # if false currently uses validation labels to determine size of each class sample\n",
    "TOTAL_PIXELS_PER_SAMPLE = 500\n",
    "NUMBER_OF_RANDOM_SAMPLES = 100  # aka number of trials\n",
    "SAMPLE_FROM_DSWX = False # either sample from validation data or dswx (note this does not impact class sizes)\n",
    "USE_ENTIRE_IMAGE = False # if True, random sampling and trials is moot and just directly samples from entire image\n",
    "WITH_REPLACEMENT = False # whether to replace samples - will ensure equality if present, untested\n",
    "CONFIDENCE_CLASSES = [] # Confidence classes to be included (if empty include ALL)\n",
    "DOWNSAMPLE_BOTH_DS_TO_3_HA = False # downsample both datasets to 3 ha\n",
    "USE_AEROSOL_MASK = False"
   ]
  },
  {
   "cell_type": "markdown",
   "id": "916317d1",
   "metadata": {},
   "source": [
    "# Saving data for assessments"
   ]
  },
  {
   "cell_type": "code",
   "execution_count": 5,
   "id": "21dbf4ed",
   "metadata": {
    "ExecuteTime": {
     "end_time": "2023-03-22T17:50:09.944350Z",
     "start_time": "2023-03-22T17:50:09.895859Z"
    }
   },
   "outputs": [
    {
     "data": {
      "text/plain": [
       "'100-trials_conf-classes-none_sample-from-val'"
      ]
     },
     "execution_count": 5,
     "metadata": {},
     "output_type": "execute_result"
    }
   ],
   "source": [
    "token_samples = f'{NUMBER_OF_RANDOM_SAMPLES}-trials'\n",
    "if USE_ENTIRE_IMAGE:\n",
    "    toke_samples = 'entire_image_used_'\n",
    "conf_temp = \"-\".join(CONFIDENCE_CLASSES) if CONFIDENCE_CLASSES else 'none'\n",
    "token_conf = f'_conf-classes-{conf_temp}'\n",
    "token_class_sample = '_sample-from-dswx' if SAMPLE_FROM_DSWX else '_sample-from-val'\n",
    "token_3ha = '_3ha-downsampled' if DOWNSAMPLE_BOTH_DS_TO_3_HA else ''\n",
    "\n",
    "assessment_dir_name = token_samples + token_conf + token_class_sample + token_3ha\n",
    "assessment_dir_name"
   ]
  },
  {
   "cell_type": "code",
   "execution_count": 6,
   "id": "76b40705",
   "metadata": {
    "ExecuteTime": {
     "end_time": "2023-03-22T17:50:09.993052Z",
     "start_time": "2023-03-22T17:50:09.945964Z"
    }
   },
   "outputs": [
    {
     "data": {
      "text/plain": [
       "PosixPath('out/assessment_data/100-trials_conf-classes-none_sample-from-val')"
      ]
     },
     "execution_count": 6,
     "metadata": {},
     "output_type": "execute_result"
    }
   ],
   "source": [
    "out_dir = Path(f'out/assessment_data/{assessment_dir_name}') \n",
    "out_dir.mkdir(exist_ok=True, parents=True)\n",
    "out_dir"
   ]
  },
  {
   "cell_type": "markdown",
   "id": "7ba50e45",
   "metadata": {},
   "source": [
    "# Table of Finalized Data"
   ]
  },
  {
   "cell_type": "code",
   "execution_count": 7,
   "id": "f3edbc60",
   "metadata": {
    "ExecuteTime": {
     "end_time": "2023-03-22T17:50:10.900397Z",
     "start_time": "2023-03-22T17:50:09.994805Z"
    }
   },
   "outputs": [
    {
     "data": {
      "text/html": [
       "<div>\n",
       "<style scoped>\n",
       "    .dataframe tbody tr th:only-of-type {\n",
       "        vertical-align: middle;\n",
       "    }\n",
       "\n",
       "    .dataframe tbody tr th {\n",
       "        vertical-align: top;\n",
       "    }\n",
       "\n",
       "    .dataframe thead th {\n",
       "        text-align: right;\n",
       "    }\n",
       "</style>\n",
       "<table border=\"1\" class=\"dataframe\">\n",
       "  <thead>\n",
       "    <tr style=\"text-align: right;\">\n",
       "      <th></th>\n",
       "      <th>bucket</th>\n",
       "      <th>calc_type</th>\n",
       "      <th>calculated_by</th>\n",
       "      <th>image_calc_name</th>\n",
       "      <th>image_name</th>\n",
       "      <th>notes</th>\n",
       "      <th>oversight_level</th>\n",
       "      <th>previous_name</th>\n",
       "      <th>processing_level</th>\n",
       "      <th>public</th>\n",
       "      <th>reviewed_by</th>\n",
       "      <th>s3_keys</th>\n",
       "      <th>upload_date</th>\n",
       "      <th>version</th>\n",
       "      <th>water_strata</th>\n",
       "      <th>water_stratum</th>\n",
       "      <th>geometry</th>\n",
       "    </tr>\n",
       "  </thead>\n",
       "  <tbody>\n",
       "    <tr>\n",
       "      <th>0</th>\n",
       "      <td>opera-calval-database-dswx</td>\n",
       "      <td>Review</td>\n",
       "      <td>Charlie Marshak</td>\n",
       "      <td>20210903_150800_60_2458_classification_v2</td>\n",
       "      <td>20210903_150800_60_2458</td>\n",
       "      <td>Previous(Previous((CM): Used a NDWI threshold ...</td>\n",
       "      <td>NaN</td>\n",
       "      <td>20210903_150800_60_2458_classification_v1</td>\n",
       "      <td>Final</td>\n",
       "      <td>True</td>\n",
       "      <td>Alexander Handwerger</td>\n",
       "      <td>data/site/4_21/image/20210903_150800_60_2458/i...</td>\n",
       "      <td>20220930_152559</td>\n",
       "      <td>2.0</td>\n",
       "      <td>NaN</td>\n",
       "      <td>3.0</td>\n",
       "      <td>POLYGON ((-71.87051 55.11002, -71.87051 55.166...</td>\n",
       "    </tr>\n",
       "    <tr>\n",
       "      <th>1</th>\n",
       "      <td>opera-calval-database-dswx</td>\n",
       "      <td>Review</td>\n",
       "      <td>Charlie Marshak</td>\n",
       "      <td>20210903_152641_60_105c_classification_v2</td>\n",
       "      <td>20210903_152641_60_105c</td>\n",
       "      <td>Previous(This is water with lots of boalders p...</td>\n",
       "      <td>NaN</td>\n",
       "      <td>20210903_152641_60_105c_classification_v1.0</td>\n",
       "      <td>Final</td>\n",
       "      <td>True</td>\n",
       "      <td>Matthew Bonnema</td>\n",
       "      <td>data/site/4_11/image/20210903_152641_60_105c/i...</td>\n",
       "      <td>20221019_151359</td>\n",
       "      <td>2.0</td>\n",
       "      <td>NaN</td>\n",
       "      <td>3.0</td>\n",
       "      <td>POLYGON ((-69.17307 54.40592, -69.17307 54.460...</td>\n",
       "    </tr>\n",
       "    <tr>\n",
       "      <th>2</th>\n",
       "      <td>opera-calval-database-dswx</td>\n",
       "      <td>Review</td>\n",
       "      <td>Matthew Bonnema</td>\n",
       "      <td>20210904_093422_44_1065_classification_v1</td>\n",
       "      <td>20210904_093422_44_1065</td>\n",
       "      <td>Previous(Only water is a small pond near cente...</td>\n",
       "      <td>NaN</td>\n",
       "      <td>20210904_093422_44_1065_classification_v0</td>\n",
       "      <td>Final</td>\n",
       "      <td>True</td>\n",
       "      <td>Simran Sangha</td>\n",
       "      <td>data/site/1_31/image/20210904_093422_44_1065/i...</td>\n",
       "      <td>20221028_164450</td>\n",
       "      <td>1.0</td>\n",
       "      <td>NaN</td>\n",
       "      <td>1.0</td>\n",
       "      <td>POLYGON ((17.28244 -29.97141, 17.28244 -29.916...</td>\n",
       "    </tr>\n",
       "    <tr>\n",
       "      <th>3</th>\n",
       "      <td>opera-calval-database-dswx</td>\n",
       "      <td>Review</td>\n",
       "      <td>Alexander Handwerger</td>\n",
       "      <td>20210906_101112_28_225a_classification_v1</td>\n",
       "      <td>20210906_101112_28_225a</td>\n",
       "      <td>Previous(Supervised Classification using Semia...</td>\n",
       "      <td>NaN</td>\n",
       "      <td>20210906_101112_28_225a_classification_v0</td>\n",
       "      <td>Final</td>\n",
       "      <td>True</td>\n",
       "      <td>Charlie Marshak</td>\n",
       "      <td>data/site/3_28/image/20210906_101112_28_225a/i...</td>\n",
       "      <td>20220929_144718</td>\n",
       "      <td>1.0</td>\n",
       "      <td>NaN</td>\n",
       "      <td>2.0</td>\n",
       "      <td>POLYGON ((-0.04389 43.05233, -0.04389 43.16776...</td>\n",
       "    </tr>\n",
       "    <tr>\n",
       "      <th>4</th>\n",
       "      <td>opera-calval-database-dswx</td>\n",
       "      <td>Review</td>\n",
       "      <td>Charlie Marshak</td>\n",
       "      <td>20210909_000649_94_222b_classification_v1</td>\n",
       "      <td>20210909_000649_94_222b</td>\n",
       "      <td>Previous((CM): Looked at RGB and false color b...</td>\n",
       "      <td>NaN</td>\n",
       "      <td>20210909_000649_94_222b_classification_v0</td>\n",
       "      <td>Final</td>\n",
       "      <td>True</td>\n",
       "      <td>Alexander Handwerger</td>\n",
       "      <td>data/site/1_37/image/20210909_000649_94_222b/i...</td>\n",
       "      <td>20221027_162451</td>\n",
       "      <td>1.0</td>\n",
       "      <td>NaN</td>\n",
       "      <td>1.0</td>\n",
       "      <td>POLYGON ((138.25959 -30.32811, 138.25959 -30.2...</td>\n",
       "    </tr>\n",
       "  </tbody>\n",
       "</table>\n",
       "</div>"
      ],
      "text/plain": [
       "                       bucket calc_type         calculated_by  \\\n",
       "0  opera-calval-database-dswx    Review       Charlie Marshak   \n",
       "1  opera-calval-database-dswx    Review       Charlie Marshak   \n",
       "2  opera-calval-database-dswx    Review       Matthew Bonnema   \n",
       "3  opera-calval-database-dswx    Review  Alexander Handwerger   \n",
       "4  opera-calval-database-dswx    Review       Charlie Marshak   \n",
       "\n",
       "                             image_calc_name               image_name  \\\n",
       "0  20210903_150800_60_2458_classification_v2  20210903_150800_60_2458   \n",
       "1  20210903_152641_60_105c_classification_v2  20210903_152641_60_105c   \n",
       "2  20210904_093422_44_1065_classification_v1  20210904_093422_44_1065   \n",
       "3  20210906_101112_28_225a_classification_v1  20210906_101112_28_225a   \n",
       "4  20210909_000649_94_222b_classification_v1  20210909_000649_94_222b   \n",
       "\n",
       "                                               notes oversight_level  \\\n",
       "0  Previous(Previous((CM): Used a NDWI threshold ...             NaN   \n",
       "1  Previous(This is water with lots of boalders p...             NaN   \n",
       "2  Previous(Only water is a small pond near cente...             NaN   \n",
       "3  Previous(Supervised Classification using Semia...             NaN   \n",
       "4  Previous((CM): Looked at RGB and false color b...             NaN   \n",
       "\n",
       "                                 previous_name processing_level public  \\\n",
       "0    20210903_150800_60_2458_classification_v1            Final   True   \n",
       "1  20210903_152641_60_105c_classification_v1.0            Final   True   \n",
       "2    20210904_093422_44_1065_classification_v0            Final   True   \n",
       "3    20210906_101112_28_225a_classification_v0            Final   True   \n",
       "4    20210909_000649_94_222b_classification_v0            Final   True   \n",
       "\n",
       "            reviewed_by                                            s3_keys  \\\n",
       "0  Alexander Handwerger  data/site/4_21/image/20210903_150800_60_2458/i...   \n",
       "1       Matthew Bonnema  data/site/4_11/image/20210903_152641_60_105c/i...   \n",
       "2         Simran Sangha  data/site/1_31/image/20210904_093422_44_1065/i...   \n",
       "3       Charlie Marshak  data/site/3_28/image/20210906_101112_28_225a/i...   \n",
       "4  Alexander Handwerger  data/site/1_37/image/20210909_000649_94_222b/i...   \n",
       "\n",
       "       upload_date  version  water_strata  water_stratum  \\\n",
       "0  20220930_152559      2.0           NaN            3.0   \n",
       "1  20221019_151359      2.0           NaN            3.0   \n",
       "2  20221028_164450      1.0           NaN            1.0   \n",
       "3  20220929_144718      1.0           NaN            2.0   \n",
       "4  20221027_162451      1.0           NaN            1.0   \n",
       "\n",
       "                                            geometry  \n",
       "0  POLYGON ((-71.87051 55.11002, -71.87051 55.166...  \n",
       "1  POLYGON ((-69.17307 54.40592, -69.17307 54.460...  \n",
       "2  POLYGON ((17.28244 -29.97141, 17.28244 -29.916...  \n",
       "3  POLYGON ((-0.04389 43.05233, -0.04389 43.16776...  \n",
       "4  POLYGON ((138.25959 -30.32811, 138.25959 -30.2...  "
      ]
     },
     "execution_count": 7,
     "metadata": {},
     "output_type": "execute_result"
    }
   ],
   "source": [
    "df = get_finalized_validation_datasets()\n",
    "df.head()"
   ]
  },
  {
   "cell_type": "code",
   "execution_count": 8,
   "id": "3e2d01d0",
   "metadata": {
    "ExecuteTime": {
     "end_time": "2023-03-22T17:50:10.952458Z",
     "start_time": "2023-03-22T17:50:10.902378Z"
    }
   },
   "outputs": [
    {
     "data": {
      "text/plain": [
       "'Currently, there are 52 finalized datasets'"
      ]
     },
     "execution_count": 8,
     "metadata": {},
     "output_type": "execute_result"
    }
   ],
   "source": [
    "f'Currently, there are {df.shape[0]} finalized datasets'"
   ]
  },
  {
   "cell_type": "markdown",
   "id": "369cbd43",
   "metadata": {},
   "source": [
    "# Site Name"
   ]
  },
  {
   "cell_type": "code",
   "execution_count": 9,
   "id": "5d037df8",
   "metadata": {
    "ExecuteTime": {
     "end_time": "2023-03-22T17:50:11.306487Z",
     "start_time": "2023-03-22T17:50:10.954021Z"
    }
   },
   "outputs": [
    {
     "data": {
      "text/html": [
       "<div>\n",
       "<style scoped>\n",
       "    .dataframe tbody tr th:only-of-type {\n",
       "        vertical-align: middle;\n",
       "    }\n",
       "\n",
       "    .dataframe tbody tr th {\n",
       "        vertical-align: top;\n",
       "    }\n",
       "\n",
       "    .dataframe thead th {\n",
       "        text-align: right;\n",
       "    }\n",
       "</style>\n",
       "<table border=\"1\" class=\"dataframe\">\n",
       "  <thead>\n",
       "    <tr style=\"text-align: right;\">\n",
       "      <th></th>\n",
       "      <th>Strata</th>\n",
       "      <th>cloud_cover</th>\n",
       "      <th>collocated_dswx</th>\n",
       "      <th>datetime</th>\n",
       "      <th>dswx_cloud_cover</th>\n",
       "      <th>image_name</th>\n",
       "      <th>instrument</th>\n",
       "      <th>provider</th>\n",
       "      <th>resolution</th>\n",
       "      <th>site_coverage</th>\n",
       "      <th>site_name</th>\n",
       "      <th>timeDelta_days</th>\n",
       "      <th>geometry</th>\n",
       "    </tr>\n",
       "  </thead>\n",
       "  <tbody>\n",
       "    <tr>\n",
       "      <th>0</th>\n",
       "      <td>3.0</td>\n",
       "      <td>0.0</td>\n",
       "      <td>HLS.S30.T04WDB.2021271T225541.v2.0</td>\n",
       "      <td>2021-09-29 21:28:09</td>\n",
       "      <td>4.0</td>\n",
       "      <td>20210929_212809_16_2442</td>\n",
       "      <td>PSB.SD</td>\n",
       "      <td>planetscope</td>\n",
       "      <td>3.0</td>\n",
       "      <td>90.820013</td>\n",
       "      <td>3_38</td>\n",
       "      <td>0.938606</td>\n",
       "      <td>POLYGON ((-160.00896 69.30478, -160.21043 69.1...</td>\n",
       "    </tr>\n",
       "    <tr>\n",
       "      <th>1</th>\n",
       "      <td>4.0</td>\n",
       "      <td>0.0</td>\n",
       "      <td>HLS.S30.T33WXP.2021270T104719.v2.0</td>\n",
       "      <td>2021-09-27 09:55:37</td>\n",
       "      <td>16.0</td>\n",
       "      <td>20210927_095537_0f15</td>\n",
       "      <td>PS2</td>\n",
       "      <td>planetscope</td>\n",
       "      <td>3.0</td>\n",
       "      <td>41.216128</td>\n",
       "      <td>4_43</td>\n",
       "      <td>0.039303</td>\n",
       "      <td>POLYGON ((17.22275 66.09223, 17.16459 66.02168...</td>\n",
       "    </tr>\n",
       "    <tr>\n",
       "      <th>2</th>\n",
       "      <td>3.0</td>\n",
       "      <td>0.0</td>\n",
       "      <td>HLS.L30.T40WEU.2021268T073033.v2.0</td>\n",
       "      <td>2021-09-25 07:27:12</td>\n",
       "      <td>2.0</td>\n",
       "      <td>20210925_072712_16_2254</td>\n",
       "      <td>PSB.SD</td>\n",
       "      <td>planetscope</td>\n",
       "      <td>3.0</td>\n",
       "      <td>72.272530</td>\n",
       "      <td>3_1</td>\n",
       "      <td>0.002335</td>\n",
       "      <td>POLYGON ((59.00446 65.95517, 58.85023 65.76646...</td>\n",
       "    </tr>\n",
       "    <tr>\n",
       "      <th>3</th>\n",
       "      <td>4.0</td>\n",
       "      <td>0.0</td>\n",
       "      <td>HLS.S30.T14VPQ.2021244T175911.v2.0</td>\n",
       "      <td>2021-09-01 17:52:05</td>\n",
       "      <td>2.0</td>\n",
       "      <td>20210901_175205_71_2426</td>\n",
       "      <td>PSB.SD</td>\n",
       "      <td>planetscope</td>\n",
       "      <td>3.0</td>\n",
       "      <td>100.000000</td>\n",
       "      <td>4_34</td>\n",
       "      <td>0.010000</td>\n",
       "      <td>POLYGON ((-96.94381 62.88876, -97.07609 62.707...</td>\n",
       "    </tr>\n",
       "    <tr>\n",
       "      <th>4</th>\n",
       "      <td>3.0</td>\n",
       "      <td>0.0</td>\n",
       "      <td>HLS.S30.T52VFP.2021253T023549.v2.0</td>\n",
       "      <td>2021-09-11 00:51:29</td>\n",
       "      <td>2.0</td>\n",
       "      <td>20210911_005129_82_106a</td>\n",
       "      <td>PS2.SD</td>\n",
       "      <td>planetscope</td>\n",
       "      <td>3.0</td>\n",
       "      <td>100.000000</td>\n",
       "      <td>3_30</td>\n",
       "      <td>0.924389</td>\n",
       "      <td>POLYGON ((130.86458 61.50211, 130.95358 61.357...</td>\n",
       "    </tr>\n",
       "  </tbody>\n",
       "</table>\n",
       "</div>"
      ],
      "text/plain": [
       "   Strata  cloud_cover                     collocated_dswx  \\\n",
       "0     3.0          0.0  HLS.S30.T04WDB.2021271T225541.v2.0   \n",
       "1     4.0          0.0  HLS.S30.T33WXP.2021270T104719.v2.0   \n",
       "2     3.0          0.0  HLS.L30.T40WEU.2021268T073033.v2.0   \n",
       "3     4.0          0.0  HLS.S30.T14VPQ.2021244T175911.v2.0   \n",
       "4     3.0          0.0  HLS.S30.T52VFP.2021253T023549.v2.0   \n",
       "\n",
       "             datetime  dswx_cloud_cover               image_name instrument  \\\n",
       "0 2021-09-29 21:28:09               4.0  20210929_212809_16_2442     PSB.SD   \n",
       "1 2021-09-27 09:55:37              16.0     20210927_095537_0f15        PS2   \n",
       "2 2021-09-25 07:27:12               2.0  20210925_072712_16_2254     PSB.SD   \n",
       "3 2021-09-01 17:52:05               2.0  20210901_175205_71_2426     PSB.SD   \n",
       "4 2021-09-11 00:51:29               2.0  20210911_005129_82_106a     PS2.SD   \n",
       "\n",
       "      provider  resolution  site_coverage site_name  timeDelta_days  \\\n",
       "0  planetscope         3.0      90.820013      3_38        0.938606   \n",
       "1  planetscope         3.0      41.216128      4_43        0.039303   \n",
       "2  planetscope         3.0      72.272530       3_1        0.002335   \n",
       "3  planetscope         3.0     100.000000      4_34        0.010000   \n",
       "4  planetscope         3.0     100.000000      3_30        0.924389   \n",
       "\n",
       "                                            geometry  \n",
       "0  POLYGON ((-160.00896 69.30478, -160.21043 69.1...  \n",
       "1  POLYGON ((17.22275 66.09223, 17.16459 66.02168...  \n",
       "2  POLYGON ((59.00446 65.95517, 58.85023 65.76646...  \n",
       "3  POLYGON ((-96.94381 62.88876, -97.07609 62.707...  \n",
       "4  POLYGON ((130.86458 61.50211, 130.95358 61.357...  "
      ]
     },
     "execution_count": 9,
     "metadata": {},
     "output_type": "execute_result"
    }
   ],
   "source": [
    "df_site = get_image_table()\n",
    "df_site.head()"
   ]
  },
  {
   "cell_type": "code",
   "execution_count": 10,
   "id": "191936ca",
   "metadata": {
    "ExecuteTime": {
     "end_time": "2023-03-22T17:50:11.360262Z",
     "start_time": "2023-03-22T17:50:11.309811Z"
    }
   },
   "outputs": [
    {
     "data": {
      "text/plain": [
       "'3_10'"
      ]
     },
     "execution_count": 10,
     "metadata": {},
     "output_type": "execute_result"
    }
   ],
   "source": [
    "SITE_NAME = df_site[df_site.image_name == PLANET_ID]['site_name'].values[0]\n",
    "SITE_NAME"
   ]
  },
  {
   "cell_type": "markdown",
   "id": "182e86db",
   "metadata": {},
   "source": [
    "# Read a Validation Dataset"
   ]
  },
  {
   "cell_type": "code",
   "execution_count": 11,
   "id": "43c6ff10",
   "metadata": {
    "ExecuteTime": {
     "end_time": "2023-03-22T17:50:12.415961Z",
     "start_time": "2023-03-22T17:50:11.362186Z"
    }
   },
   "outputs": [
    {
     "data": {
      "text/plain": [
       "{'driver': 'GTiff', 'dtype': 'uint8', 'nodata': 255.0, 'width': 2001, 'height': 2000, 'count': 1, 'crs': CRS.from_epsg(32615), 'transform': Affine(3.0, 0.0, 772092.0,\n",
       "       0.0, -3.0, 1805622.0), 'blockysize': 4, 'tiled': False, 'compress': 'lzw', 'interleave': 'band'}"
      ]
     },
     "execution_count": 11,
     "metadata": {},
     "output_type": "execute_result"
    }
   ],
   "source": [
    "X_val, p_val = read_validation_dataset(PLANET_ID)\n",
    "p_val"
   ]
  },
  {
   "cell_type": "code",
   "execution_count": 12,
   "id": "14f3b58b",
   "metadata": {
    "ExecuteTime": {
     "end_time": "2023-03-22T17:50:13.080879Z",
     "start_time": "2023-03-22T17:50:12.417577Z"
    }
   },
   "outputs": [
    {
     "data": {
      "image/png": "[encoded data removed]",
      "text/plain": [
       "<Figure size 700x700 with 2 Axes>"
      ]
     },
     "metadata": {},
     "output_type": "display_data"
    }
   ],
   "source": [
    "Y = X_val.astype(float)\n",
    "Y[Y == 255] = np.nan\n",
    "\n",
    "fontSize=10\n",
    "fig, ax=plt.subplots(figsize=(7,7))\n",
    "cmap = ListedColormap(['white', 'blue'])\n",
    "im=ax.imshow(Y, interpolation='none',cmap=cmap,vmin=0,vmax=1)\n",
    "show(Y, interpolation='none',cmap=cmap,vmin=0,vmax=1,transform=p_val['transform'],ax=ax)\n",
    "cbar = fig.colorbar(im, ax=ax,shrink=0.7,ticks=[0.25, 0.75])\n",
    "cbar.ax.set_yticklabels(['Not Water', 'Open Water']);  # vertically oriented colorbar\n",
    "plt.xlabel('UTM easting (meters)',fontsize=fontSize)\n",
    "plt.ylabel('UTM northing (meters)',fontsize=fontSize)\n",
    "plt.xticks(fontsize = fontSize)\n",
    "plt.yticks(fontsize = fontSize)\n",
    "ax.set_title('Validation Dataset');\n",
    "ax.ticklabel_format(axis='both', style='scientific',scilimits=(0,0),useOffset=False,useMathText=True)\n",
    "ax.yaxis.get_offset_text().set_fontsize(fontSize)\n",
    "ax.xaxis.get_offset_text().set_fontsize(fontSize)"
   ]
  },
  {
   "cell_type": "code",
   "execution_count": 13,
   "id": "6c161bf1",
   "metadata": {
    "ExecuteTime": {
     "end_time": "2023-03-22T17:50:13.131682Z",
     "start_time": "2023-03-22T17:50:13.082547Z"
    }
   },
   "outputs": [],
   "source": [
    "plt.close('all')"
   ]
  },
  {
   "cell_type": "markdown",
   "id": "d55fdde0",
   "metadata": {},
   "source": [
    "# Load Local Validation Table"
   ]
  },
  {
   "cell_type": "code",
   "execution_count": 14,
   "id": "72340452",
   "metadata": {
    "ExecuteTime": {
     "end_time": "2023-03-22T17:50:13.190837Z",
     "start_time": "2023-03-22T17:50:13.133400Z"
    }
   },
   "outputs": [
    {
     "data": {
      "text/html": [
       "<div>\n",
       "<style scoped>\n",
       "    .dataframe tbody tr th:only-of-type {\n",
       "        vertical-align: middle;\n",
       "    }\n",
       "\n",
       "    .dataframe tbody tr th {\n",
       "        vertical-align: top;\n",
       "    }\n",
       "\n",
       "    .dataframe thead th {\n",
       "        text-align: right;\n",
       "    }\n",
       "</style>\n",
       "<table border=\"1\" class=\"dataframe\">\n",
       "  <thead>\n",
       "    <tr style=\"text-align: right;\">\n",
       "      <th></th>\n",
       "      <th>planet_id</th>\n",
       "      <th>hls_id</th>\n",
       "      <th>dswx_urls</th>\n",
       "    </tr>\n",
       "  </thead>\n",
       "  <tbody>\n",
       "    <tr>\n",
       "      <th>0</th>\n",
       "      <td>20210903_150800_60_2458</td>\n",
       "      <td>HLS.L30.T18UXG.2021245T154154.v2.0</td>\n",
       "      <td>https://opera-pst-rs-pop1.s3.us-west-2.amazona...</td>\n",
       "    </tr>\n",
       "    <tr>\n",
       "      <th>1</th>\n",
       "      <td>20210903_152641_60_105c</td>\n",
       "      <td>HLS.S30.T19UDA.2021245T154911.v2.0</td>\n",
       "      <td>https://opera-pst-rs-pop1.s3.us-west-2.amazona...</td>\n",
       "    </tr>\n",
       "    <tr>\n",
       "      <th>2</th>\n",
       "      <td>20210904_093422_44_1065</td>\n",
       "      <td>HLS.S30.T33JYG.2021248T082559.v2.0</td>\n",
       "      <td>https://opera-pst-rs-pop1.s3.us-west-2.amazona...</td>\n",
       "    </tr>\n",
       "    <tr>\n",
       "      <th>3</th>\n",
       "      <td>20210906_101112_28_225a</td>\n",
       "      <td>HLS.S30.T30TYN.2021248T105621.v2.0</td>\n",
       "      <td>https://opera-pst-rs-pop1.s3.us-west-2.amazona...</td>\n",
       "    </tr>\n",
       "    <tr>\n",
       "      <th>4</th>\n",
       "      <td>20210909_000649_94_222b</td>\n",
       "      <td>HLS.L30.T54JTM.2021251T003848.v2.0</td>\n",
       "      <td>https://opera-pst-rs-pop1.s3.us-west-2.amazona...</td>\n",
       "    </tr>\n",
       "  </tbody>\n",
       "</table>\n",
       "</div>"
      ],
      "text/plain": [
       "                 planet_id                              hls_id  \\\n",
       "0  20210903_150800_60_2458  HLS.L30.T18UXG.2021245T154154.v2.0   \n",
       "1  20210903_152641_60_105c  HLS.S30.T19UDA.2021245T154911.v2.0   \n",
       "2  20210904_093422_44_1065  HLS.S30.T33JYG.2021248T082559.v2.0   \n",
       "3  20210906_101112_28_225a  HLS.S30.T30TYN.2021248T105621.v2.0   \n",
       "4  20210909_000649_94_222b  HLS.L30.T54JTM.2021251T003848.v2.0   \n",
       "\n",
       "                                           dswx_urls  \n",
       "0  https://opera-pst-rs-pop1.s3.us-west-2.amazona...  \n",
       "1  https://opera-pst-rs-pop1.s3.us-west-2.amazona...  \n",
       "2  https://opera-pst-rs-pop1.s3.us-west-2.amazona...  \n",
       "3  https://opera-pst-rs-pop1.s3.us-west-2.amazona...  \n",
       "4  https://opera-pst-rs-pop1.s3.us-west-2.amazona...  "
      ]
     },
     "execution_count": 14,
     "metadata": {},
     "output_type": "execute_result"
    }
   ],
   "source": [
    "df_validation_table = pd.read_csv('validation_table_data.csv')\n",
    "df_validation_table.head()"
   ]
  },
  {
   "cell_type": "markdown",
   "id": "f9528703",
   "metadata": {},
   "source": [
    "# Get Associated HLS Id"
   ]
  },
  {
   "cell_type": "code",
   "execution_count": 15,
   "id": "e59f8105",
   "metadata": {
    "ExecuteTime": {
     "end_time": "2023-03-22T17:50:13.242283Z",
     "start_time": "2023-03-22T17:50:13.192596Z"
    }
   },
   "outputs": [
    {
     "data": {
      "text/plain": [
       "'HLS.S30.T15QYU.2021284T162221.v2.0'"
      ]
     },
     "execution_count": 15,
     "metadata": {},
     "output_type": "execute_result"
    }
   ],
   "source": [
    "HLS_ID = df_validation_table[df_validation_table.planet_id == PLANET_ID].hls_id.iloc[0]\n",
    "HLS_ID"
   ]
  },
  {
   "cell_type": "code",
   "execution_count": 16,
   "id": "94f4e573",
   "metadata": {
    "ExecuteTime": {
     "end_time": "2023-03-22T17:50:15.028846Z",
     "start_time": "2023-03-22T17:50:13.243806Z"
    }
   },
   "outputs": [
    {
     "data": {
      "text/plain": [
       "'https://data.lpdaac.earthdatacloud.nasa.gov/lp-prod-protected/HLSS30.020/HLS.S30.T15QYU.2021284T162221.v2.0/HLS.S30.T15QYU.2021284T162221.v2.0.Fmask.tif'"
      ]
     },
     "execution_count": 16,
     "metadata": {},
     "output_type": "execute_result"
    }
   ],
   "source": [
    "hls_urls_dict = get_hls_urls(HLS_ID)\n",
    "fmask_url = hls_urls_dict['hls_url_Fmask']\n",
    "fmask_url"
   ]
  },
  {
   "cell_type": "markdown",
   "id": "80e82d0d",
   "metadata": {},
   "source": [
    "# Get DSWx Products"
   ]
  },
  {
   "cell_type": "code",
   "execution_count": null,
   "id": "46d0a1bd",
   "metadata": {
    "ExecuteTime": {
     "start_time": "2023-03-22T17:50:07.733Z"
    }
   },
   "outputs": [],
   "source": [
    "dswx_urls = df_validation_table[df_validation_table.planet_id == PLANET_ID].dswx_urls.iloc[0].split(',')\n",
    "dswx_urls"
   ]
  },
  {
   "cell_type": "code",
   "execution_count": null,
   "id": "d4562586",
   "metadata": {
    "ExecuteTime": {
     "start_time": "2023-03-22T17:50:07.735Z"
    }
   },
   "outputs": [],
   "source": [
    "with rasterio.open(dswx_urls[0]) as ds:\n",
    "    X_dswx = ds.read(1)\n",
    "    p_dswx = ds.profile\n",
    "    crs_dswx = ds.crs\n",
    "    colormap = ds.colormap(1)\n",
    "    dswx_crs = ds.crs"
   ]
  },
  {
   "cell_type": "code",
   "execution_count": null,
   "id": "b68bc618",
   "metadata": {
    "ExecuteTime": {
     "start_time": "2023-03-22T17:50:07.737Z"
    }
   },
   "outputs": [],
   "source": [
    "with rasterio.open(dswx_urls[2]) as ds:\n",
    "    conf_dsx_original = ds.read(1)\n",
    "    p_dswx_conf_original = ds.profile\n",
    "    conf_colormap = ds.colormap(1)"
   ]
  },
  {
   "cell_type": "code",
   "execution_count": null,
   "id": "3971f56a",
   "metadata": {
    "ExecuteTime": {
     "start_time": "2023-03-22T17:50:07.739Z"
    }
   },
   "outputs": [],
   "source": [
    "fontSize=7\n",
    "fontSizeTitle=8\n",
    "fig, ax = plt.subplots(dpi=150,figsize=(5,5))\n",
    "cmap = ListedColormap([np.array(colormap[key]) / 255 for key in range(256)])\n",
    "bounds =  [0, 1, 2, 3, 251, 252, 253, 254]\n",
    "norm = colors.BoundaryNorm(bounds, cmap.N)\n",
    "im_dswx=ax.imshow(X_dswx, interpolation='none',cmap=cmap,vmin=0,vmax=255)\n",
    "show(X_dswx, interpolation='none',cmap=cmap,vmin=0,vmax=255,transform=p_dswx['transform'],ax=ax)\n",
    "cbar=fig.colorbar(im_dswx, ax=ax, shrink=0.4, boundaries=bounds, cmap=cmap, ticks=[0.5, 1.5, 2.5, 251.5, 252.5, 253.5])\n",
    "cbar.set_ticklabels(['Not Water', 'Open Water','Partial Surface Water','Snow/Ice','Cloud/Cloud Shadow', 'Ocean Mask'],fontsize=fontSize)   \n",
    "\n",
    "plt.xlabel('UTM easting (meters)',fontsize=fontSize)\n",
    "plt.ylabel('UTM northing (meters)',fontsize=fontSize)\n",
    "plt.xticks(fontsize = fontSize)\n",
    "plt.yticks(fontsize = fontSize)\n",
    "ax.set_title('DSWx Product for HLS tile',fontsize=fontSizeTitle);\n",
    "ax.ticklabel_format(axis='both', style='scientific',scilimits=(0,0),useOffset=False,useMathText=True)\n",
    "ax.yaxis.get_offset_text().set_fontsize(fontSize)\n",
    "ax.xaxis.get_offset_text().set_fontsize(fontSize)"
   ]
  },
  {
   "cell_type": "code",
   "execution_count": null,
   "id": "4397ec4c",
   "metadata": {
    "ExecuteTime": {
     "start_time": "2023-03-22T17:50:07.740Z"
    }
   },
   "outputs": [],
   "source": [
    "plt.close('all')"
   ]
  },
  {
   "cell_type": "code",
   "execution_count": null,
   "id": "9b03895e",
   "metadata": {
    "ExecuteTime": {
     "start_time": "2023-03-22T17:50:07.742Z"
    }
   },
   "outputs": [],
   "source": [
    "fontSize=7\n",
    "fontSizeTitle=8\n",
    "fig, ax = plt.subplots(dpi=150,figsize=(5,5))\n",
    "cmap = ListedColormap([np.array(conf_colormap[key]) / 255 for key in range(256)])\n",
    "\n",
    "bounds =  [0, 1, 2, 3, 4, 5, 10, 11, 12, 13, 14, 15, 20, 21, 22, 23, 24, 25, 253, 254]\n",
    "norm = colors.BoundaryNorm(bounds, cmap.N)\n",
    "\n",
    "im_dswx_conf=ax.imshow(conf_dsx_original, \n",
    "                  interpolation='none',\n",
    "                  cmap=cmap,\n",
    "                  vmin=0,\n",
    "                  vmax=255)\n",
    "show(conf_dsx_original, \n",
    "     interpolation='none',\n",
    "     cmap=cmap,\n",
    "     vmin=0,vmax=255,\n",
    "     transform=p_dswx['transform'],\n",
    "     ax=ax)\n",
    "cbar=fig.colorbar(im_dswx_conf, ax=ax, shrink=0.4, boundaries=bounds, cmap=cmap, ticks=[0.5, 1.5, 2.5, 3.5, 4.5, 10.5, 11.5, 12.5, 13.5, 14.5, 20.5, 21.5, 22.5, 23.5, 24.5, 253.5])\n",
    "cbar.set_ticklabels(['Not Water', 'OW High-Conf.', 'OW Mod.-Conf.', 'PSW Cons.', 'PSW Aggr.', 'Cloud/NW', 'Cloud OW High Conf.', 'Cloud/OW Mod. Conf.', 'Cloud/PSW Cons.', 'Cloud/PSW Aggr.', 'Snow/NW', 'Snow/OW High Conf.', 'Snow/OW Mod. Conf.', 'Snow/PSW Cons.','Snow/PSW Aggr.','Ocean Mask'],fontsize=fontSize)  \n",
    "plt.xlabel('UTM easting (meters)',fontsize=fontSize)\n",
    "plt.ylabel('UTM northing (meters)',fontsize=fontSize)\n",
    "plt.xticks(fontsize = fontSize)\n",
    "plt.yticks(fontsize = fontSize)\n",
    "ax.set_title('CONF DSWx Product for HLS tile',fontsize=fontSizeTitle);\n",
    "ax.ticklabel_format(axis='both', style='scientific',scilimits=(0,0),useOffset=False,useMathText=True)\n",
    "ax.yaxis.get_offset_text().set_fontsize(fontSize)\n",
    "ax.xaxis.get_offset_text().set_fontsize(fontSize)"
   ]
  },
  {
   "cell_type": "code",
   "execution_count": null,
   "id": "a4b0ee66",
   "metadata": {
    "ExecuteTime": {
     "start_time": "2023-03-22T17:50:07.743Z"
    }
   },
   "outputs": [],
   "source": [
    "plt.close('all')"
   ]
  },
  {
   "cell_type": "markdown",
   "id": "bb7b335b",
   "metadata": {},
   "source": [
    "# Compare Extents\n",
    "\n",
    "Inspect the DSWx Subset and it's corresponding Validation Dataset"
   ]
  },
  {
   "cell_type": "code",
   "execution_count": null,
   "id": "b43dd294",
   "metadata": {
    "ExecuteTime": {
     "start_time": "2023-03-22T17:50:07.746Z"
    }
   },
   "outputs": [],
   "source": [
    "val_url = get_val_s3_path(PLANET_ID)\n",
    "with rasterio.open(val_url) as ds:\n",
    "    val_bounds = list(ds.bounds)\n",
    "    val_crs = ds.crs"
   ]
  },
  {
   "cell_type": "markdown",
   "id": "26720f69",
   "metadata": {},
   "source": [
    "The two datasets are frequently in the same CRS. Just in case, we reproject to DSWx projection."
   ]
  },
  {
   "cell_type": "code",
   "execution_count": null,
   "id": "221bccfa",
   "metadata": {
    "ExecuteTime": {
     "start_time": "2023-03-22T17:50:07.748Z"
    }
   },
   "outputs": [],
   "source": [
    "df_val_bounds = gpd.GeoDataFrame(geometry=[box(*val_bounds).buffer(60)],\n",
    "                                 crs=val_crs)\n",
    "df_val_bounds = df_val_bounds.to_crs(dswx_crs)\n",
    "df_val_bounds"
   ]
  },
  {
   "cell_type": "code",
   "execution_count": null,
   "id": "1e7bacdf",
   "metadata": {
    "ExecuteTime": {
     "start_time": "2023-03-22T17:50:07.750Z"
    }
   },
   "outputs": [],
   "source": [
    "fontSize=7\n",
    "fontSizeTitles=8\n",
    "fig, ax = plt.subplots(1, 3, dpi=150, figsize=(10, 10))\n",
    "cmap = ListedColormap([np.array(colormap[key]) / 255 for key in range(256)])\n",
    "\n",
    "show(X_dswx, cmap=cmap, transform=p_dswx['transform'], vmin=0, vmax=255, interpolation='none', ax=ax[0])\n",
    "df_val_bounds.to_crs(crs_dswx).boundary.plot(ax=ax[0], color='black')\n",
    "ax[0].set_title('Full DSWx scene with val bbox',fontsize=fontSize)\n",
    "ax[0].set_xlabel('UTM easting (meters)',fontsize=fontSizeTitles)\n",
    "ax[0].set_ylabel('UTM northing (meters)',fontsize=fontSizeTitles)\n",
    "ax[0].ticklabel_format(axis='both', style='scientific',scilimits=(0,0),useOffset=False,useMathText=True)\n",
    "ax[0].tick_params(axis='both', which='major', labelsize=fontSize)\n",
    "ax[0].yaxis.get_offset_text().set_fontsize(fontSize)\n",
    "ax[0].xaxis.get_offset_text().set_fontsize(fontSize)\n",
    "\n",
    "show(X_dswx, cmap=cmap, transform=p_dswx['transform'], vmin=0,vmax=255, interpolation='none', ax=ax[1])\n",
    "val_bounds_dswx = df_val_bounds.to_crs(crs_dswx).total_bounds\n",
    "ax[1].set_xlim(val_bounds_dswx[0], val_bounds_dswx[2])\n",
    "ax[1].set_ylim(val_bounds_dswx[1], val_bounds_dswx[3])\n",
    "ax[1].set_title('DSWx Subset Area',fontsize=fontSizeTitles)\n",
    "ax[1].set_xlabel('UTM easting (meters)',fontsize=fontSize)\n",
    "ax[1].ticklabel_format(axis='both', style='scientific',scilimits=(0,0),useOffset=False,useMathText=True)\n",
    "ax[1].tick_params(axis='both', which='major', labelsize=fontSize)\n",
    "ax[1].yaxis.get_offset_text().set_fontsize(fontSize)\n",
    "ax[1].xaxis.get_offset_text().set_fontsize(fontSize)\n",
    "\n",
    "show(X_val, transform=p_val['transform'], ax=ax[2], interpolation='none', cmap=cmap, vmin=0, vmax=255)\n",
    "ax[2].set_title('Validation Dataset',fontsize=fontSizeTitles)\n",
    "ax[2].set_xlabel('UTM easting (meters)',fontsize=fontSize)\n",
    "ax[2].ticklabel_format(axis='both', style='scientific',scilimits=(0,0),useOffset=False,useMathText=True)\n",
    "ax[2].tick_params(axis='both', which='major', labelsize=fontSize)\n",
    "ax[2].yaxis.get_offset_text().set_fontsize(fontSize)\n",
    "ax[2].xaxis.get_offset_text().set_fontsize(fontSize)\n",
    "\n",
    "bounds =  [0, 1, 2, 3, 251, 252, 253, 254]\n",
    "norm = colors.BoundaryNorm(bounds, cmap.N)\n",
    "cbar=fig.colorbar(im_dswx, ax=ax, shrink=0.3, boundaries=bounds, cmap=cmap, ticks=[0.5, 1.5, 2.5, 251.5, 252.5, 253.5], orientation='horizontal',fraction=0.32,pad=.075)\n",
    "cbar.set_ticklabels(['Not Water', 'Open Water','Partial Surface Water','Snow/Ice','Cloud/Cloud Shadow', 'Ocean Mask'],fontsize=fontSize,rotation=90)   \n",
    "cbar.ax.tick_params(labelsize=6)\n"
   ]
  },
  {
   "cell_type": "code",
   "execution_count": null,
   "id": "078a09b6",
   "metadata": {
    "ExecuteTime": {
     "start_time": "2023-03-22T17:50:07.752Z"
    }
   },
   "outputs": [],
   "source": [
    "plt.close('all')"
   ]
  },
  {
   "cell_type": "markdown",
   "id": "1197742f",
   "metadata": {},
   "source": [
    "# Get Fmask"
   ]
  },
  {
   "cell_type": "code",
   "execution_count": null,
   "id": "5db67015",
   "metadata": {
    "ExecuteTime": {
     "start_time": "2023-03-22T17:50:07.754Z"
    }
   },
   "outputs": [],
   "source": [
    "from osgeo import gdal\n",
    "\n",
    "# GDAL configs used to successfully access LP DAAC Cloud Assets via vsicurl \n",
    "gdal.SetConfigOption(\"GDAL_HTTP_UNSAFESSL\", \"YES\")\n",
    "gdal.SetConfigOption('GDAL_HTTP_COOKIEFILE','~/cookies.txt')\n",
    "gdal.SetConfigOption('GDAL_HTTP_COOKIEJAR', '~/cookies.txt')\n",
    "gdal.SetConfigOption('GDAL_DISABLE_READDIR_ON_OPEN','YES')\n",
    "gdal.SetConfigOption('GDAL_DISABLE_READDIR_ON_OPEN','FALSE')\n",
    "gdal.SetConfigOption('CPL_VSIL_CURL_ALLOWED_EXTENSIONS','TIF')"
   ]
  },
  {
   "cell_type": "code",
   "execution_count": null,
   "id": "3ac0f767",
   "metadata": {
    "ExecuteTime": {
     "start_time": "2023-03-22T17:50:07.756Z"
    }
   },
   "outputs": [],
   "source": [
    "with rasterio.open(fmask_url) as ds:\n",
    "    X_fmask = ds.read(1)\n",
    "    p_fmask = ds.profile"
   ]
  },
  {
   "cell_type": "code",
   "execution_count": null,
   "id": "d867494b",
   "metadata": {
    "ExecuteTime": {
     "start_time": "2023-03-22T17:50:07.757Z"
    }
   },
   "outputs": [],
   "source": [
    "plt.imshow(X_fmask)"
   ]
  },
  {
   "cell_type": "code",
   "execution_count": null,
   "id": "a3b54974",
   "metadata": {
    "ExecuteTime": {
     "start_time": "2023-03-22T17:50:07.759Z"
    }
   },
   "outputs": [],
   "source": [
    "\n",
    "# 224 <-> 11100000\n",
    "X_224 = (X_fmask == 224)\n",
    "# 160 -> 10100000\n",
    "X_160 = (X_fmask == 160)\n",
    "\n",
    "X_aerosol = X_224 | X_160\n",
    "plt.imshow(X_aerosol)"
   ]
  },
  {
   "cell_type": "markdown",
   "id": "55b5bc15",
   "metadata": {},
   "source": [
    "# Crop Datasets"
   ]
  },
  {
   "cell_type": "code",
   "execution_count": null,
   "id": "f1875368",
   "metadata": {
    "ExecuteTime": {
     "start_time": "2023-03-22T17:50:07.761Z"
    }
   },
   "outputs": [],
   "source": [
    "from dem_stitcher.rio_window import read_raster_from_window"
   ]
  },
  {
   "cell_type": "code",
   "execution_count": null,
   "id": "c8ecaffa",
   "metadata": {
    "ExecuteTime": {
     "start_time": "2023-03-22T17:50:07.762Z"
    }
   },
   "outputs": [],
   "source": [
    "X_dswx_c_original, p_dswx_c_original = read_raster_from_window(dswx_urls[0], \n",
    "                                                               list(df_val_bounds.total_bounds), \n",
    "                                                               df_val_bounds.crs)"
   ]
  },
  {
   "cell_type": "code",
   "execution_count": null,
   "id": "bb9047c2",
   "metadata": {
    "ExecuteTime": {
     "start_time": "2023-03-22T17:50:07.764Z"
    }
   },
   "outputs": [],
   "source": [
    "conf_dswx_c_original, _ = read_raster_from_window(dswx_urls[2], \n",
    "                                                  list(df_val_bounds.total_bounds), \n",
    "                                                  df_val_bounds.crs)"
   ]
  },
  {
   "cell_type": "code",
   "execution_count": null,
   "id": "86fde938",
   "metadata": {
    "ExecuteTime": {
     "start_time": "2023-03-22T17:50:07.765Z"
    }
   },
   "outputs": [],
   "source": [
    "tmp_dir = Path('tmp')\n",
    "tmp_dir.mkdir(exist_ok=True)"
   ]
  },
  {
   "cell_type": "code",
   "execution_count": null,
   "id": "ffe1a2b2",
   "metadata": {
    "ExecuteTime": {
     "start_time": "2023-03-22T17:50:07.767Z"
    }
   },
   "outputs": [],
   "source": [
    "with rasterio.open(tmp_dir / 'aerosol.tif', 'w', **p_fmask) as ds:\n",
    "    ds.write(X_aerosol.astype(np.uint8), 1)"
   ]
  },
  {
   "cell_type": "code",
   "execution_count": null,
   "id": "fa2ddd27",
   "metadata": {
    "ExecuteTime": {
     "start_time": "2023-03-22T17:50:07.768Z"
    }
   },
   "outputs": [],
   "source": [
    "X_aerosol_c, _ = read_raster_from_window(tmp_dir / 'aerosol.tif', \n",
    "                                         list(df_val_bounds.total_bounds), \n",
    "                                         df_val_bounds.crs)\n",
    "X_aerosol_c = X_aerosol_c.astype(bool)"
   ]
  },
  {
   "cell_type": "code",
   "execution_count": null,
   "id": "8e6b180e",
   "metadata": {
    "ExecuteTime": {
     "start_time": "2023-03-22T17:50:07.770Z"
    }
   },
   "outputs": [],
   "source": [
    "assert X_aerosol_c.shape == X_dswx_c_original.shape"
   ]
  },
  {
   "cell_type": "code",
   "execution_count": null,
   "id": "1189bf2b",
   "metadata": {
    "ExecuteTime": {
     "start_time": "2023-03-22T17:50:07.771Z"
    }
   },
   "outputs": [],
   "source": [
    "plt.imshow(X_aerosol_c)"
   ]
  },
  {
   "cell_type": "markdown",
   "id": "6ddf6f8e",
   "metadata": {},
   "source": [
    "# Exclude Small Water bodies in validation"
   ]
  },
  {
   "cell_type": "code",
   "execution_count": null,
   "id": "5c3edb4a",
   "metadata": {
    "ExecuteTime": {
     "start_time": "2023-03-22T17:50:07.773Z"
    }
   },
   "outputs": [],
   "source": [
    "from skimage.measure import label, regionprops\n",
    "from skimage.color import label2rgb\n",
    "\n",
    "X_val_water_only = (X_val == 1).astype(int)\n",
    "plt.imshow(X_val_water_only, interpolation='none')"
   ]
  },
  {
   "cell_type": "code",
   "execution_count": null,
   "id": "32f328ac",
   "metadata": {
    "ExecuteTime": {
     "start_time": "2023-03-22T17:50:07.775Z"
    }
   },
   "outputs": [],
   "source": [
    "water_labels = label(X_val_water_only, connectivity=2)\n",
    "water_labels_rbg = label2rgb(water_labels)\n",
    "plt.imshow(water_labels_rbg)"
   ]
  },
  {
   "cell_type": "code",
   "execution_count": null,
   "id": "520511e7",
   "metadata": {
    "ExecuteTime": {
     "start_time": "2023-03-22T17:50:07.776Z"
    }
   },
   "outputs": [],
   "source": [
    "props = regionprops(water_labels)\n",
    "\n",
    "if props:\n",
    "    print(props[0].area)"
   ]
  },
  {
   "cell_type": "markdown",
   "id": "61d47b96",
   "metadata": {},
   "source": [
    "As an example, let's see what `props` does:"
   ]
  },
  {
   "cell_type": "code",
   "execution_count": null,
   "id": "269199a7",
   "metadata": {
    "ExecuteTime": {
     "start_time": "2023-03-22T17:50:07.778Z"
    }
   },
   "outputs": [],
   "source": [
    "N = min(len(props), 4)\n",
    "for k in range(N):\n",
    "    print('key/size label: ', k)\n",
    "    print('One way:', (water_labels == (k+1)).sum())\n",
    "    print('region props: ', props[k].area)"
   ]
  },
  {
   "cell_type": "code",
   "execution_count": null,
   "id": "5316ec85",
   "metadata": {
    "ExecuteTime": {
     "start_time": "2023-03-22T17:50:07.780Z"
    }
   },
   "outputs": [],
   "source": [
    "labels_to_exclude = [(k+1) for (k, prop) in enumerate(props) if prop.area <= 3333]\n",
    "size_mask = np.isin(water_labels, labels_to_exclude)"
   ]
  },
  {
   "cell_type": "code",
   "execution_count": null,
   "id": "013fd386",
   "metadata": {
    "ExecuteTime": {
     "start_time": "2023-03-22T17:50:07.781Z"
    }
   },
   "outputs": [],
   "source": [
    "plt.imshow(size_mask, interpolation='none')\n",
    "plt.title('Water bodies to be excluded')"
   ]
  },
  {
   "cell_type": "code",
   "execution_count": null,
   "id": "68e8c5dd",
   "metadata": {
    "ExecuteTime": {
     "start_time": "2023-03-22T17:50:07.782Z"
    }
   },
   "outputs": [],
   "source": [
    "plt.close('all')"
   ]
  },
  {
   "cell_type": "markdown",
   "id": "b570658e",
   "metadata": {},
   "source": [
    "# Resample Validation Dataset to DSWx Product\n",
    "\n",
    "This extracts a percent open surface water in HLS frame."
   ]
  },
  {
   "cell_type": "code",
   "execution_count": null,
   "id": "94905c00",
   "metadata": {
    "ExecuteTime": {
     "start_time": "2023-03-22T17:50:07.784Z"
    }
   },
   "outputs": [],
   "source": [
    "if DOWNSAMPLE_BOTH_DS_TO_3_HA:\n",
    "    p_dswx_c_3ha_temp = update_profile_resolution(p_dswx_c_original, 100 * np.sqrt(3))\n",
    "    p_dswx_c_3ha_temp['dtype'] = 'float32'\n",
    "    X_dswx_psw_percentage, p_dswx_c_3ha = resample_labels_into_percentage(X_dswx_c_original, \n",
    "                                                                          p_dswx_c_original, \n",
    "                                                                          p_dswx_c_3ha_temp, \n",
    "                                                                          2)\n",
    "    X_dswx_psw_percentage *= .75\n",
    "    X_dswx_osw_percentage, _ = resample_labels_into_percentage(X_dswx_c_original, \n",
    "                                                               p_dswx_c_original, \n",
    "                                                               p_dswx_c_3ha, \n",
    "                                                               1)\n",
    "    X_dswx_c_3ha_percentage = X_dswx_psw_percentage + X_dswx_osw_percentage\n",
    "    X_dswx_c_3ha_percentage = np.clip(X_dswx_c_3ha_percentage, 0, 1)\n",
    "    \n",
    "    "
   ]
  },
  {
   "cell_type": "code",
   "execution_count": null,
   "id": "a889fdcc",
   "metadata": {
    "ExecuteTime": {
     "start_time": "2023-03-22T17:50:07.786Z"
    }
   },
   "outputs": [],
   "source": [
    "if DOWNSAMPLE_BOTH_DS_TO_3_HA:\n",
    "    fig, ax = plt.subplots(1, 3, figsize=(15, 5))\n",
    "    ax[0].imshow(X_dswx_psw_percentage, vmin=0, vmax=1)\n",
    "    ax[0].set_title('Percent PSW (using partial surface water = 50%)')\n",
    "    \n",
    "    \n",
    "    ax[1].imshow(X_dswx_osw_percentage, vmin=0, vmax=1)\n",
    "    ax[1].set_title('Percent OSW')\n",
    "    \n",
    "    im = ax[2].imshow(X_dswx_c_3ha_percentage, vmin=0, vmax=1)\n",
    "    ax[2].set_title('Percent OSW')\n",
    "    fig.colorbar(im, ax=ax, label='Percent OSW')"
   ]
  },
  {
   "cell_type": "code",
   "execution_count": null,
   "id": "746a98b9",
   "metadata": {
    "ExecuteTime": {
     "start_time": "2023-03-22T17:50:07.787Z"
    }
   },
   "outputs": [],
   "source": [
    "plt.close('all')\n",
    "if DOWNSAMPLE_BOTH_DS_TO_3_HA:\n",
    "    X_dswx_c = reclassify_percentage_array_for_dswx(X_dswx_c_3ha_percentage)\n",
    "    p_dswx_c = p_dswx_c_3ha.copy()\n",
    "    p_dswx_c['dtype'] = np.uint8\n",
    "    p_dswx_c['nodata'] = 255\n",
    "    \n",
    "else:\n",
    "    X_dswx_c = X_dswx_c_original\n",
    "    p_dswx_c = p_dswx_c_original.copy()"
   ]
  },
  {
   "cell_type": "code",
   "execution_count": null,
   "id": "fa9e2470",
   "metadata": {
    "ExecuteTime": {
     "start_time": "2023-03-22T17:50:07.788Z"
    }
   },
   "outputs": [],
   "source": [
    "p_dswx_c_float = p_dswx_c.copy()\n",
    "p_dswx_c_float['dtype'] = 'float32'\n",
    "\n",
    "X_val_temp = X_val.astype('float32')\n",
    "X_val_temp[(X_val == 10) | (X_val == 255) | size_mask] = np.nan\n",
    "p_val_temp = p_val.copy()\n",
    "p_val_temp['nodata'] = np.nan\n",
    "\n",
    "X_val_per_w, p_per_int = resample_labels_into_percentage(X_val_temp, p_val_temp, p_dswx_c_float, 1)"
   ]
  },
  {
   "cell_type": "code",
   "execution_count": null,
   "id": "1e680ef7",
   "metadata": {
    "ExecuteTime": {
     "start_time": "2023-03-22T17:50:07.790Z"
    }
   },
   "outputs": [],
   "source": [
    "if DOWNSAMPLE_BOTH_DS_TO_3_HA:\n",
    "    conf_dswx_c, _ = reproject_arr_to_match_profile(conf_dswx_c_original, \n",
    "                                                    p_dswx_conf_original, \n",
    "                                                    p_per_int)\n",
    "    conf_dswx_c = conf_dswx_c[0, ...]\n",
    "    \n",
    "else:\n",
    "    conf_dswx_c = conf_dswx_c_original"
   ]
  },
  {
   "cell_type": "code",
   "execution_count": null,
   "id": "75a55744",
   "metadata": {
    "ExecuteTime": {
     "start_time": "2023-03-22T17:50:07.791Z"
    }
   },
   "outputs": [],
   "source": [
    "plt.imshow(X_val_per_w, vmin=0, vmax=1)\n",
    "cbar = plt.colorbar(label='Percent Open Surface Water')"
   ]
  },
  {
   "cell_type": "code",
   "execution_count": null,
   "id": "59288b0a",
   "metadata": {
    "ExecuteTime": {
     "start_time": "2023-03-22T17:50:07.793Z"
    }
   },
   "outputs": [],
   "source": [
    "plt.close('all')"
   ]
  },
  {
   "cell_type": "markdown",
   "id": "9ed8db54",
   "metadata": {},
   "source": [
    "Convert to DSWx Labels."
   ]
  },
  {
   "cell_type": "code",
   "execution_count": null,
   "id": "0038684f",
   "metadata": {
    "ExecuteTime": {
     "start_time": "2023-03-22T17:50:07.795Z"
    }
   },
   "outputs": [],
   "source": [
    "X_val_r = reclassify_percentage_array_for_dswx(X_val_per_w)"
   ]
  },
  {
   "cell_type": "code",
   "execution_count": null,
   "id": "c397c2e2",
   "metadata": {
    "ExecuteTime": {
     "start_time": "2023-03-22T17:50:07.796Z"
    }
   },
   "outputs": [],
   "source": [
    "p_dswx_c"
   ]
  },
  {
   "cell_type": "code",
   "execution_count": null,
   "id": "6fe9f779",
   "metadata": {
    "ExecuteTime": {
     "start_time": "2023-03-22T17:50:07.797Z"
    }
   },
   "outputs": [],
   "source": [
    "fontSize=6\n",
    "fig, ax = plt.subplots(1, 2, dpi=150, figsize=(8, 8))\n",
    "cmap = ListedColormap([np.array(colormap[key]) / 255 for key in range(256)])\n",
    "im=ax[0].imshow(X_dswx_c, interpolation='none',cmap=cmap,vmin=0,vmax=255)\n",
    "\n",
    "show(X_dswx_c, cmap=cmap, transform=p_dswx_c['transform'], interpolation='none', ax=ax[0], vmin=0,vmax=255)\n",
    "ax[0].set_title('DSWx Subset Area',fontsize=8)\n",
    "ax[0].set_xlabel('UTM easting (meters)',fontsize=fontSize)\n",
    "ax[0].set_ylabel('UTM northing (meters)',fontsize=fontSize)\n",
    "ax[0].ticklabel_format(axis='both', style='scientific',scilimits=(0,0),useOffset=False,useMathText=True)\n",
    "ax[0].tick_params(axis='both', which='major', labelsize=fontSize)\n",
    "ax[0].yaxis.get_offset_text().set_fontsize(fontSize)\n",
    "ax[0].xaxis.get_offset_text().set_fontsize(fontSize)\n",
    "\n",
    "show(X_val_r, \n",
    "     cmap=cmap, \n",
    "     transform=p_dswx_c['transform'], \n",
    "     interpolation='none',\n",
    "     ax=ax[1], vmin=0, vmax=255)\n",
    "ax[1].set_title('Val. Data Reprojected and Relabeled',fontsize=8)\n",
    "ax[1].set_xlabel('UTM easting (meters)',fontsize=fontSize)\n",
    "ax[1].set_ylabel('UTM northing (meters)',fontsize=fontSize)\n",
    "\n",
    "ax[1].ticklabel_format(axis='both', style='scientific',scilimits=(0,0),useOffset=False,useMathText=True)\n",
    "ax[1].tick_params(axis='both', which='major', labelsize=fontSize)\n",
    "ax[1].yaxis.get_offset_text().set_fontsize(fontSize)\n",
    "ax[1].xaxis.get_offset_text().set_fontsize(fontSize)\n",
    "\n",
    "# cbar=fig.colorbar(im,ax=ax,ticks=[0.5, 1.5,2.5,5.5,8.5,9.5],shrink=0.5,orientation='horizontal',pad=.071)\n",
    "# cbar.set_ticklabels(['Not Water', 'Open Water','Partial Surface Water','Reserved','Snow/Ice','Cloud/Cloud Shadow'],rotation=45)   \n",
    "# cbar.ax.tick_params(labelsize=fontSize)\n",
    "# cbar.ax.set_xlim(0,10);\n",
    "\n",
    "bounds =  [0, 1, 2, 3, 251, 252, 253, 254]\n",
    "norm = colors.BoundaryNorm(bounds, cmap.N)\n",
    "cbar=fig.colorbar(im_dswx, ax=ax, shrink=0.5, boundaries=bounds, cmap=cmap, ticks=[0.5, 1.5, 2.5, 251.5, 252.5, 253.5], orientation='horizontal',fraction=0.32,pad=.071)\n",
    "cbar.set_ticklabels(['Not Water', 'Open Water','Partial Surface Water','Snow/Ice','Cloud/Cloud Shadow', 'Ocean Mask'],fontsize=fontSize,rotation=90)   \n",
    "cbar.ax.tick_params(labelsize=6)"
   ]
  },
  {
   "cell_type": "code",
   "execution_count": null,
   "id": "dd184ead",
   "metadata": {
    "ExecuteTime": {
     "start_time": "2023-03-22T17:50:07.799Z"
    }
   },
   "outputs": [],
   "source": [
    "plt.close('all')"
   ]
  },
  {
   "cell_type": "markdown",
   "id": "25e73efc",
   "metadata": {},
   "source": [
    "**Warning**: In many cases, the UTM zone of the validation dataset and the OPERA DSWx product do not match. So despite some of the side-by-side plots that appear parallel, the rotation above can come as surprise. A slight rotation will occur if the below CRS's are different."
   ]
  },
  {
   "cell_type": "code",
   "execution_count": null,
   "id": "6df69a38",
   "metadata": {
    "ExecuteTime": {
     "start_time": "2023-03-22T17:50:07.801Z"
    }
   },
   "outputs": [],
   "source": [
    "print('DSWx CRS: ', p_dswx['crs'])\n",
    "print('Validation CRS: ', p_val['crs'])"
   ]
  },
  {
   "cell_type": "markdown",
   "id": "7f02d09c",
   "metadata": {},
   "source": [
    "# Save Relevant Rasters for Inspection"
   ]
  },
  {
   "cell_type": "code",
   "execution_count": null,
   "id": "f1f23df5",
   "metadata": {
    "ExecuteTime": {
     "start_time": "2023-03-22T17:50:07.802Z"
    }
   },
   "outputs": [],
   "source": [
    "dswx_urls[0].split('_B01')[0]"
   ]
  },
  {
   "cell_type": "code",
   "execution_count": null,
   "id": "c346e67e",
   "metadata": {
    "ExecuteTime": {
     "start_time": "2023-03-22T17:50:07.804Z"
    }
   },
   "outputs": [],
   "source": [
    "DSWx_ID = dswx_urls[0].split('_B01')[0].split('/')[-1]\n",
    "DSWx_ID"
   ]
  },
  {
   "cell_type": "code",
   "execution_count": null,
   "id": "72c2dc05",
   "metadata": {
    "ExecuteTime": {
     "start_time": "2023-03-22T17:50:07.805Z"
    }
   },
   "outputs": [],
   "source": [
    "dswx_dir = out_dir / DSWx_ID\n",
    "dswx_dir.mkdir(exist_ok=True)"
   ]
  },
  {
   "cell_type": "code",
   "execution_count": null,
   "id": "407f914b",
   "metadata": {
    "ExecuteTime": {
     "start_time": "2023-03-22T17:50:07.807Z"
    }
   },
   "outputs": [],
   "source": [
    "p_val_r = p_dswx_c.copy()\n",
    "p_val_r['dtype'] = np.uint8\n",
    "p_val_r['nodata'] = 255\n",
    "\n",
    "with rasterio.open(dswx_dir / f'validation_r_{DSWx_ID}.tif', 'w', **p_val_r) as ds:\n",
    "    ds.write(X_val_r, 1)\n",
    "    ds.write_colormap(1, colormap)"
   ]
  },
  {
   "cell_type": "code",
   "execution_count": null,
   "id": "5eb231c8",
   "metadata": {
    "ExecuteTime": {
     "start_time": "2023-03-22T17:50:07.808Z"
    }
   },
   "outputs": [],
   "source": [
    "p_perc_r = p_dswx_c.copy()\n",
    "p_perc_r['dtype'] = np.float32\n",
    "p_perc_r['nodata'] = np.nan\n",
    "\n",
    "with rasterio.open(dswx_dir / f'percent_r_{DSWx_ID}.tif', 'w', **p_perc_r) as ds:\n",
    "    ds.write(X_val_per_w, 1)"
   ]
  },
  {
   "cell_type": "code",
   "execution_count": null,
   "id": "df16a374",
   "metadata": {
    "ExecuteTime": {
     "start_time": "2023-03-22T17:50:07.810Z"
    }
   },
   "outputs": [],
   "source": [
    "with rasterio.open(dswx_dir / f'{DSWx_ID}.tif', 'w', **p_dswx_c) as ds:\n",
    "    ds.write(X_dswx_c, 1)\n",
    "    ds.write_colormap(1, colormap)"
   ]
  },
  {
   "cell_type": "code",
   "execution_count": null,
   "id": "cb0cc0dd",
   "metadata": {
    "ExecuteTime": {
     "start_time": "2023-03-22T17:50:07.811Z"
    }
   },
   "outputs": [],
   "source": [
    "with rasterio.open(dswx_dir / f'validation_original_{DSWx_ID}.tif', 'w', **p_val) as ds:\n",
    "    ds.write(X_val, 1)\n",
    "    ds.write_colormap(1, colormap)"
   ]
  },
  {
   "cell_type": "markdown",
   "id": "1b61e288",
   "metadata": {},
   "source": [
    "# Scene-wise stratified sampling"
   ]
  },
  {
   "cell_type": "code",
   "execution_count": null,
   "id": "1f06529a",
   "metadata": {
    "ExecuteTime": {
     "start_time": "2023-03-22T17:50:07.813Z"
    }
   },
   "outputs": [],
   "source": [
    "X_dswx_c.shape"
   ]
  },
  {
   "cell_type": "code",
   "execution_count": null,
   "id": "5f768955",
   "metadata": {
    "ExecuteTime": {
     "start_time": "2023-03-22T17:50:07.815Z"
    }
   },
   "outputs": [],
   "source": [
    "X_val_r.shape"
   ]
  },
  {
   "cell_type": "code",
   "execution_count": null,
   "id": "5ea44208",
   "metadata": {
    "ExecuteTime": {
     "start_time": "2023-03-22T17:50:07.816Z"
    }
   },
   "outputs": [],
   "source": [
    "plt.hist(conf_dswx_c.ravel())"
   ]
  },
  {
   "cell_type": "code",
   "execution_count": null,
   "id": "836323b9",
   "metadata": {
    "ExecuteTime": {
     "start_time": "2023-03-22T17:50:07.818Z"
    }
   },
   "outputs": [],
   "source": [
    "shared_mask = (X_val_r == 255) | ~(np.isin(X_dswx_c, [0, 1, 2]))\n",
    "\n",
    "if CONFIDENCE_CLASSES:\n",
    "    # want to exclude everything not in desired confidence classes\n",
    "    confidence_mask = ~np.isin(conf_dswx_c, CONFIDENCE_CLASSES)\n",
    "    shared_mask = (shared_mask | confidence_mask)"
   ]
  },
  {
   "cell_type": "code",
   "execution_count": null,
   "id": "50982555",
   "metadata": {
    "ExecuteTime": {
     "start_time": "2023-03-22T17:50:07.819Z"
    }
   },
   "outputs": [],
   "source": [
    "if USE_AEROSOL_MASK:\n",
    "    shared_mask = (shared_mask | X_aerosol_c)"
   ]
  },
  {
   "cell_type": "code",
   "execution_count": null,
   "id": "7d30f80e",
   "metadata": {
    "ExecuteTime": {
     "start_time": "2023-03-22T17:50:07.821Z"
    }
   },
   "outputs": [],
   "source": [
    "plt.imshow(shared_mask)"
   ]
  },
  {
   "cell_type": "code",
   "execution_count": null,
   "id": "2877249c",
   "metadata": {
    "ExecuteTime": {
     "start_time": "2023-03-22T17:50:07.822Z"
    }
   },
   "outputs": [],
   "source": [
    "fontSize=7\n",
    "fig, ax = plt.subplots(dpi=150,figsize=(4, 4))\n",
    "cmap = ListedColormap(['darkblue', 'yellow'])\n",
    "im=ax.imshow(shared_mask, interpolation='none',cmap=cmap,vmin=np.nanmin(shared_mask),vmax=np.nanmax(shared_mask))\n",
    "show(shared_mask, transform=p_val['transform'], interpolation='none', vmin=np.nanmin(shared_mask),vmax=np.nanmax(shared_mask),ax=ax,cmap=cmap)  \n",
    "cbar=fig.colorbar(im,ax=ax,shrink=0.4,ticks=[0.25, .75])\n",
    "cbar.set_ticklabels(['keep', 'remove'],fontsize=fontSize)   \n",
    "cbar.ax.set_ylim(0,1)\n",
    "ax.set_title('Shared mask',fontsize=8);\n",
    "ax.ticklabel_format(axis='both', style='scientific',scilimits=(0,0),useOffset=False,useMathText=True)\n",
    "ax.yaxis.get_offset_text().set_fontsize(fontSize)\n",
    "ax.xaxis.get_offset_text().set_fontsize(fontSize)\n",
    "plt.xlabel('UTM easting (meters)',fontsize=fontSize)\n",
    "plt.ylabel('UTM northing (meters)',fontsize=fontSize)\n",
    "plt.yticks(fontsize=fontSize)\n",
    "plt.xticks(fontsize=fontSize);"
   ]
  },
  {
   "cell_type": "code",
   "execution_count": null,
   "id": "dfc95e9d",
   "metadata": {
    "ExecuteTime": {
     "start_time": "2023-03-22T17:50:07.823Z"
    }
   },
   "outputs": [],
   "source": [
    "plt.close('all')"
   ]
  },
  {
   "cell_type": "code",
   "execution_count": null,
   "id": "980beba7",
   "metadata": {
    "ExecuteTime": {
     "start_time": "2023-03-22T17:50:07.825Z"
    }
   },
   "outputs": [],
   "source": [
    "percents, _, _ = plt.hist(X_val_r[~shared_mask], bins=3, range=(0, 3), density=True, edgecolor='black')\n",
    "plt.xticks(np.arange(0, 3)+.5, ['Not Water', 'Open Surface Water', 'Partial Surface Water'],fontsize=9)\n",
    "plt.ylabel('Percent',fontsize=9)\n",
    "plt.title('For HLS pixels to be compared, class breakdown relative to Validation data');\n",
    "plt.gca().yaxis.set_major_formatter(PercentFormatter(1))"
   ]
  },
  {
   "cell_type": "code",
   "execution_count": null,
   "id": "bd078bcb",
   "metadata": {
    "ExecuteTime": {
     "start_time": "2023-03-22T17:50:07.826Z"
    }
   },
   "outputs": [],
   "source": [
    "percents_dswx, _, _ = plt.hist(X_dswx_c[~shared_mask], bins=3, range=(0, 3), density=True, edgecolor='black')\n",
    "plt.xticks(np.arange(0, 3)+.5, ['Not Water', 'Open Surface Water', 'Partial Surface Water'],fontsize=9)\n",
    "plt.ylabel('Percent',fontsize=9)\n",
    "plt.title('For HLS pixels to be compared, class breakdown relative to DSWx_data data');\n",
    "plt.gca().yaxis.set_major_formatter(PercentFormatter(1))"
   ]
  },
  {
   "cell_type": "code",
   "execution_count": null,
   "id": "52f03982",
   "metadata": {
    "ExecuteTime": {
     "start_time": "2023-03-22T17:50:07.827Z"
    }
   },
   "outputs": [],
   "source": [
    "plt.close('all')"
   ]
  },
  {
   "cell_type": "code",
   "execution_count": null,
   "id": "7f6e66de",
   "metadata": {
    "ExecuteTime": {
     "start_time": "2023-03-22T17:50:07.828Z"
    }
   },
   "outputs": [],
   "source": [
    "f'Percents per DSWx class: {percents_dswx}'"
   ]
  },
  {
   "cell_type": "code",
   "execution_count": null,
   "id": "132f7cda",
   "metadata": {
    "ExecuteTime": {
     "start_time": "2023-03-22T17:50:07.830Z"
    }
   },
   "outputs": [],
   "source": [
    "f'Percents per validation class: {percents}'"
   ]
  },
  {
   "cell_type": "code",
   "execution_count": null,
   "id": "94b04794",
   "metadata": {
    "ExecuteTime": {
     "start_time": "2023-03-22T17:50:07.832Z"
    }
   },
   "outputs": [],
   "source": [
    "sample_size_per_label = [int(np.ceil(percents[label] * TOTAL_PIXELS_PER_SAMPLE)) for label in [0, 1, 2]]\n",
    "if EQUAL_SAMPLING:\n",
    "    present_classes = (percents > 0).sum()\n",
    "    #always multiply by 3 because we have 3 labels\n",
    "    # sample sizes are modified depending on availability (see cell below)\n",
    "    sample_size_per_label = [int(np.ceil(TOTAL_PIXELS_PER_SAMPLE / present_classes))] * 3\n",
    "    \n",
    "sample_size_per_label"
   ]
  },
  {
   "cell_type": "code",
   "execution_count": null,
   "id": "8e4469ff",
   "metadata": {
    "ExecuteTime": {
     "start_time": "2023-03-22T17:50:07.833Z"
    }
   },
   "outputs": [],
   "source": [
    "validation_hls_pixels = X_val_r[~shared_mask]\n",
    "dswx_hls_pixels = X_dswx_c[~shared_mask]\n",
    "\n",
    "sample_pixels = dswx_hls_pixels if SAMPLE_FROM_DSWX else validation_hls_pixels\n",
    "\n",
    "sample_str = 'dswx' if SAMPLE_FROM_DSWX else 'the validation dataset'\n",
    "f'We are sampling from {sample_str}'"
   ]
  },
  {
   "cell_type": "code",
   "execution_count": null,
   "id": "277b5bbe",
   "metadata": {
    "ExecuteTime": {
     "start_time": "2023-03-22T17:50:07.834Z"
    }
   },
   "outputs": [],
   "source": [
    "NUMBER_OF_RANDOM_SAMPLES = 100"
   ]
  },
  {
   "cell_type": "code",
   "execution_count": null,
   "id": "52017cd2",
   "metadata": {
    "ExecuteTime": {
     "start_time": "2023-03-22T17:50:07.836Z"
    }
   },
   "outputs": [],
   "source": [
    "# list of lists, \n",
    "# each index corresponds to class label 0, 1, 2 and the list will contain\n",
    "# indices within the flattend array of that label\n",
    "stratified_selection = [[] for k in range(NUMBER_OF_RANDOM_SAMPLES)] \n",
    "\n",
    "for random_sample in range(NUMBER_OF_RANDOM_SAMPLES):\n",
    "    for label in [0, 1, 2]:\n",
    "        # Sampling from PRODUCT PIXELS now\n",
    "        indices = np.argwhere(sample_pixels == label).ravel()\n",
    "\n",
    "        # Determines if there are enough samples otherwise select the total number of samples available\n",
    "        subset_size = sample_size_per_label[label]\n",
    "        if not WITH_REPLACEMENT:\n",
    "            subset_size = np.minimum(subset_size, len(indices))\n",
    "            sample_size_per_label[label] = subset_size\n",
    "\n",
    "        indices_subset = np.random.choice(indices, subset_size, replace=WITH_REPLACEMENT)\n",
    "        stratified_selection[random_sample].append(indices_subset)\n",
    "sample_size_per_label"
   ]
  },
  {
   "cell_type": "code",
   "execution_count": null,
   "id": "6eb01d53",
   "metadata": {
    "ExecuteTime": {
     "start_time": "2023-03-22T17:50:07.837Z"
    }
   },
   "outputs": [],
   "source": [
    "validation_labels = [[label for label in [0, 1, 2] \n",
    "                      for k in range(len(stratified_selection[random_sample][label]))]\n",
    "                     for j in range(NUMBER_OF_RANDOM_SAMPLES)\n",
    "                    ]\n",
    "opera_dswx_labels = [[dswx_label \n",
    "                     for label in [0, 1, 2] \n",
    "                     for dswx_label in dswx_hls_pixels[stratified_selection[random_sample][label]]]\n",
    "                     for random_sample in range(NUMBER_OF_RANDOM_SAMPLES)\n",
    "                    ]\n",
    "len(validation_labels[0]), len(opera_dswx_labels[0])"
   ]
  },
  {
   "cell_type": "code",
   "execution_count": null,
   "id": "82ec8a55",
   "metadata": {
    "ExecuteTime": {
     "start_time": "2023-03-22T17:50:07.838Z"
    }
   },
   "outputs": [],
   "source": [
    "X_samples = np.full(shared_mask.shape, 0)\n",
    "temp = X_samples[~shared_mask]\n",
    "\n",
    "k = 1\n",
    "\n",
    "RANDOM_SAMPLE_FOR_INSPECTION = 0\n",
    "\n",
    "sample2validation = {}\n",
    "sample2dswx = {}\n",
    "\n",
    "for label in [0, 1, 2]:\n",
    "    for ind in stratified_selection[RANDOM_SAMPLE_FOR_INSPECTION][label]:\n",
    "        temp[ind] = k\n",
    "        # ensure we can look up the sample id and find the correct label for the different datasets we compare\n",
    "        sample2validation[k] = label\n",
    "        sample2dswx[k] = dswx_hls_pixels[ind]\n",
    "        k += 1\n",
    "    \n",
    "X_samples[~shared_mask] = temp\n",
    "(X_samples > 0).sum()"
   ]
  },
  {
   "cell_type": "code",
   "execution_count": null,
   "id": "8e52da99",
   "metadata": {
    "ExecuteTime": {
     "start_time": "2023-03-22T17:50:07.840Z"
    }
   },
   "outputs": [],
   "source": [
    "features = get_geopandas_features_from_array(# Note 8 bits is not enough for 500 points\n",
    "                                             X_samples.astype(np.int32), \n",
    "                                             transform=p_dswx_c['transform'],\n",
    "                                             mask=(X_samples==0),\n",
    "                                             label_name='sample_id'\n",
    "                                            )\n",
    "df_samples = gpd.GeoDataFrame.from_features(features, \n",
    "                                            crs=p_dswx_c['crs'])\n",
    "df_samples['val_label'] = df_samples['sample_id'].map(lambda label: sample2validation[label])\n",
    "df_samples['dswx_label'] = df_samples['sample_id'].map(lambda label: sample2dswx[label])\n",
    "\n",
    "df_samples.head()"
   ]
  },
  {
   "cell_type": "code",
   "execution_count": null,
   "id": "13809be4",
   "metadata": {
    "ExecuteTime": {
     "start_time": "2023-03-22T17:50:07.841Z"
    }
   },
   "outputs": [],
   "source": [
    "fontSize=7\n",
    "fontSizeTitle=8\n",
    "fig, ax = plt.subplots(dpi=150,figsize=(5,5))\n",
    "cmap = ListedColormap([np.array(colormap[key]) / 255 for key in range(256)])\n",
    "out = show(X_dswx_c,\n",
    "     cmap=cmap,\n",
    "     transform=p_dswx_c['transform'],\n",
    "     interpolation='none',\n",
    "     ax=ax,vmin=0,vmax=255)\n",
    "df_samples.to_crs(p_dswx_c['crs']).boundary.plot(ax=ax, color='magenta',alpha=1)\n",
    "ax.set_title('Sampling points (magenta) and DSWx data',fontsize=fontSizeTitle)\n",
    "ax.ticklabel_format(axis='both', style='scientific',scilimits=(0,0),useOffset=False,useMathText=True)\n",
    "plt.xlabel('UTM easting (meters)',fontsize=fontSize)\n",
    "plt.ylabel('UTM northing (meters)',fontsize=fontSize)\n",
    "\n",
    "im_dswx = out.get_images()[0]\n",
    "\n",
    "bounds =  [0, 1, 2, 3, 251, 252, 253, 254]\n",
    "norm = colors.BoundaryNorm(bounds, cmap.N)\n",
    "cbar=fig.colorbar(im_dswx, ax=ax, shrink=0.4, boundaries=bounds, cmap=cmap, ticks=[0.5, 1.5, 2.5, 251.5, 252.5, 253.5])\n",
    "cbar.set_ticklabels(['Not Water', 'Open Water','Partial Surface Water','Snow/Ice','Cloud/Cloud Shadow', 'Ocean Mask'],fontsize=fontSize)   \n",
    "# cbar=fig.colorbar(im_dswx,ax=ax,shrink=0.4,ticks=[0.5, 1.5, 2.5,5.5,8.5, 9.5])\n",
    "# cbar.set_ticklabels(['Not Water', 'Open Water','Partial Surface Water','Reserved','Snow/Ice','Cloud/Cloud Shadow'],fontsize=fontSize)   \n",
    "# cbar.ax.set_ylim(0,10);\n",
    "\n",
    "ax.yaxis.get_offset_text().set_fontsize(fontSize)\n",
    "ax.xaxis.get_offset_text().set_fontsize(fontSize)\n",
    "plt.yticks(fontsize=fontSize)\n",
    "plt.xticks(fontsize=fontSize);"
   ]
  },
  {
   "cell_type": "code",
   "execution_count": null,
   "id": "aacf9c63",
   "metadata": {
    "ExecuteTime": {
     "start_time": "2023-03-22T17:50:07.842Z"
    }
   },
   "outputs": [],
   "source": [
    "plt.close('all')"
   ]
  },
  {
   "cell_type": "code",
   "execution_count": null,
   "id": "c8b82f24",
   "metadata": {
    "ExecuteTime": {
     "start_time": "2023-03-22T17:50:07.844Z"
    }
   },
   "outputs": [],
   "source": [
    "fontSize=7\n",
    "fontSizeTitle=8\n",
    "fig, ax = plt.subplots(dpi=150,figsize=(5,5))\n",
    "cmap = ListedColormap([np.array(colormap[key]) / 255 for key in range(256)])\n",
    "out = show(X_val_r,cmap=cmap,transform=p_dswx_c['transform'],interpolation='none',ax=ax,vmin=0,vmax=255)\n",
    "df_samples.to_crs(p_dswx_c['crs']).boundary.plot(ax=ax, color='magenta',alpha=1)\n",
    "ax.set_title('Sampling points (magenta) and Validation data',fontsize=fontSizeTitle)\n",
    "ax.ticklabel_format(axis='both', style='scientific',scilimits=(0,0),useOffset=False,useMathText=True)\n",
    "plt.xlabel('UTM easting (meters)',fontsize=fontSize)\n",
    "plt.ylabel('UTM northing (meters)',fontsize=fontSize)\n",
    "\n",
    "im_dswx = out.get_images()[0]\n",
    "\n",
    "bounds =  [0, 1, 2, 3, 251, 252, 253, 254]\n",
    "norm = colors.BoundaryNorm(bounds, cmap.N)\n",
    "cbar=fig.colorbar(im_dswx, ax=ax, shrink=0.4, boundaries=bounds, cmap=cmap, ticks=[0.5, 1.5, 2.5, 251.5, 252.5, 253.5])\n",
    "cbar.set_ticklabels(['Not Water', 'Open Water','Partial Surface Water','Snow/Ice','Cloud/Cloud Shadow', 'Ocean Mask'],fontsize=fontSize)   \n",
    "\n",
    "ax.yaxis.get_offset_text().set_fontsize(fontSize)\n",
    "ax.xaxis.get_offset_text().set_fontsize(fontSize)\n",
    "plt.yticks(fontsize=fontSize)\n",
    "plt.xticks(fontsize=fontSize);"
   ]
  },
  {
   "cell_type": "code",
   "execution_count": null,
   "id": "1f11e5ba",
   "metadata": {
    "ExecuteTime": {
     "start_time": "2023-03-22T17:50:07.845Z"
    }
   },
   "outputs": [],
   "source": [
    "plt.close('all')"
   ]
  },
  {
   "cell_type": "markdown",
   "id": "e4ce3c04",
   "metadata": {},
   "source": [
    "# Serialize the Images"
   ]
  },
  {
   "cell_type": "code",
   "execution_count": null,
   "id": "fb67a2b9",
   "metadata": {
    "ExecuteTime": {
     "start_time": "2023-03-22T17:50:07.847Z"
    }
   },
   "outputs": [],
   "source": [
    "with rasterio.open(dswx_dir / f'samples_{DSWx_ID}.tif', 'w', **p_dswx_c) as ds:\n",
    "    ds.write(X_samples, 1)"
   ]
  },
  {
   "cell_type": "code",
   "execution_count": null,
   "id": "aa267d16",
   "metadata": {
    "ExecuteTime": {
     "start_time": "2023-03-22T17:50:07.849Z"
    }
   },
   "outputs": [],
   "source": [
    "df_samples.to_file(dswx_dir / f'samples_{DSWx_ID}')"
   ]
  },
  {
   "cell_type": "markdown",
   "id": "2ae935c7",
   "metadata": {},
   "source": [
    "# Accuracy Assessment"
   ]
  },
  {
   "cell_type": "code",
   "execution_count": null,
   "id": "803de327",
   "metadata": {
    "ExecuteTime": {
     "start_time": "2023-03-22T17:50:07.850Z"
    }
   },
   "outputs": [],
   "source": [
    "class_dict = {0: 'Not_Water',\n",
    "              1: 'Open_Surface_Water', \n",
    "              2: 'Partial_Surface_Water'}\n",
    "Target_Names=['Not_Water','Open_Surface_Water','Partial_Surface_Water']"
   ]
  },
  {
   "cell_type": "code",
   "execution_count": null,
   "id": "1d089125",
   "metadata": {
    "ExecuteTime": {
     "start_time": "2023-03-22T17:50:07.852Z"
    }
   },
   "outputs": [],
   "source": [
    "y_val = np.array([[label for ind in stratified_selection[random_sample] for label in validation_hls_pixels[ind]]\n",
    "                  for random_sample in range(NUMBER_OF_RANDOM_SAMPLES)\n",
    "                 ])\n",
    "y_dswx = np.array([[label  for ind in stratified_selection[random_sample] for label in dswx_hls_pixels[ind]]\n",
    "                   for random_sample in range(NUMBER_OF_RANDOM_SAMPLES)\n",
    "                  ])\n",
    "y_dswx.shape"
   ]
  },
  {
   "cell_type": "markdown",
   "id": "265ec132",
   "metadata": {
    "ExecuteTime": {
     "end_time": "2022-12-19T21:39:16.446526Z",
     "start_time": "2022-12-19T21:39:16.412851Z"
    }
   },
   "source": [
    "We just repeat the last axis so we can still do the same analysis though the aggregation is moot"
   ]
  },
  {
   "cell_type": "code",
   "execution_count": null,
   "id": "6addbb94",
   "metadata": {
    "ExecuteTime": {
     "start_time": "2023-03-22T17:50:07.854Z"
    }
   },
   "outputs": [],
   "source": [
    "if USE_ENTIRE_IMAGE:\n",
    "    y_val = np.repeat(np.array(validation_hls_pixels)[None, :], NUMBER_OF_RANDOM_SAMPLES, axis=0)\n",
    "    y_dswx = np.repeat(np.array(dswx_hls_pixels)[None,:], NUMBER_OF_RANDOM_SAMPLES, axis=0)\n",
    "y_dswx.shape"
   ]
  },
  {
   "cell_type": "markdown",
   "id": "0186e93a",
   "metadata": {},
   "source": [
    "# Get Metrics for each sample\n",
    "\n",
    "We may want to write custom `prec/recall` etc. type computations in order to better track/average when such metrics are undefined. Currently, we assign the value to be 1 (i.e. perfect) when there are no sufficient representatives from a class (we are only able to assign 0, 1 through the sklearn API and so chose thise route). See commented code below."
   ]
  },
  {
   "cell_type": "code",
   "execution_count": null,
   "id": "4f8681ad",
   "metadata": {
    "ExecuteTime": {
     "start_time": "2023-03-22T17:50:07.856Z"
    }
   },
   "outputs": [],
   "source": [
    "import sklearn\n",
    "\n",
    "def get_acc_per_class(y_val, y_dswx):\n",
    "    acc_per_class = {}\n",
    "    for c in [0, 1, 2]:\n",
    "        y_val_temp = y_val.copy()\n",
    "        y_dswx_temp = y_dswx.copy()\n",
    "\n",
    "        y_val_temp[y_val_temp != c] = 255\n",
    "        y_dswx_temp[y_dswx_temp != c] = 255\n",
    "\n",
    "        acc_per_class[f'acc_per_class.{class_dict[c]}'] = (y_val_temp == y_dswx_temp).sum() / y_dswx.size\n",
    "    return acc_per_class\n",
    "\n",
    "def get_binary_water_acc(y_val, y_dswx):\n",
    "    \n",
    "    y_val_temp = y_val.copy()\n",
    "    y_dswx_temp = y_dswx.copy()\n",
    "\n",
    "    y_val_temp[~np.isin(y_val_temp, [1, 2])] = 255\n",
    "    y_val_temp[np.isin(y_val_temp, [1, 2])] = 1\n",
    "\n",
    "    y_dswx_temp[~np.isin(y_dswx_temp, [1, 2])] = 255\n",
    "    y_dswx_temp[np.isin(y_dswx_temp, [1, 2])] = 1\n",
    "\n",
    "    binary_water_acc = (y_val_temp == y_dswx_temp).sum() / y_dswx.size\n",
    "    return binary_water_acc\n",
    "\n",
    "def get_prec_recall_score(y_val, y_dswx):\n",
    "\n",
    "    prec, recall, f1, supp = sklearn.metrics.precision_recall_fscore_support(y_val, \n",
    "                                                                             y_dswx, \n",
    "                                                                             labels=[0, 1, 2],\n",
    "                                                                             # if there are no classes\n",
    "                                                                             # Assume \"perfect\"\n",
    "                                                                             zero_division=1\n",
    "                                                                             )\n",
    "                \n",
    "        \n",
    "    recall_per_class = {class_dict[label]: recall[label] for label in [0, 1, 2]}\n",
    "    prec_per_class = {class_dict[label]: prec[label] for label in [0, 1, 2]}\n",
    "    f1_per_class = {class_dict[label]: f1[label] for label in [0, 1, 2]}\n",
    "    supp_per_class = {class_dict[label]: int(supp[label]) for label in [0, 1, 2]}\n",
    "    binary_water_acc = get_binary_water_acc(y_val, y_dswx)\n",
    "    return {\n",
    "            'precision': prec_per_class,\n",
    "            'recall': recall_per_class,\n",
    "            'f1_per_class': f1_per_class,\n",
    "            'supp_per_class':supp_per_class,\n",
    "            'binary_water_acc': binary_water_acc}\n",
    "\n",
    "def get_confusion_matrix(y_val, y_dswx):\n",
    "    y_dswx_str = pd.Series([class_dict[class_id] for class_id in y_dswx], name='OPERA_DSWx')\n",
    "    y_val_str = pd.Series([class_dict[class_id] for class_id in y_val], name='OPERA_Validation')\n",
    "    df_conf = pd.crosstab(y_val_str, y_dswx_str)\n",
    "    df_conf_formatted = df_conf.astype(int)\n",
    "    \n",
    "    name = df_conf.index.name\n",
    "    df_conf_formatted.rename(index={index: f'{index}_{name}' for index in df_conf.index}, inplace=True)\n",
    "    col_name = df_conf.columns.name\n",
    "    df_conf_formatted.rename(columns={col: f'{col}_{col_name}' for col in df_conf.columns}, inplace=True)\n",
    "    return df_conf_formatted\n",
    "\n",
    "def get_metrics_for_one_sample(y_val, y_dswx):\n",
    "    total_acc=sklearn.metrics.accuracy_score(y_val, y_dswx)\n",
    "    \n",
    "   \n",
    "    \n",
    "    pr_dict = get_prec_recall_score(y_val, y_dswx)\n",
    "    acc_per_class = get_acc_per_class(y_val, y_dswx)\n",
    "    df_conf_formatted = get_confusion_matrix(y_val, y_dswx)\n",
    "\n",
    "    return {'total_accuracy': total_acc, \n",
    "            'confusion_matrix': df_conf_formatted.to_dict(),\n",
    "            **pr_dict, \n",
    "            **acc_per_class}"
   ]
  },
  {
   "cell_type": "code",
   "execution_count": null,
   "id": "0e8f0a8a",
   "metadata": {
    "ExecuteTime": {
     "start_time": "2023-03-22T17:50:07.857Z"
    }
   },
   "outputs": [],
   "source": [
    "from itertools import starmap\n",
    "\n",
    "data_temp = [(y_val[k], y_dswx[k]) for k in range(NUMBER_OF_RANDOM_SAMPLES)]\n",
    "metric_data = list(starmap(get_metrics_for_one_sample, tqdm(data_temp)))"
   ]
  },
  {
   "cell_type": "code",
   "execution_count": null,
   "id": "48cb70a0",
   "metadata": {
    "ExecuteTime": {
     "start_time": "2023-03-22T17:50:07.859Z"
    }
   },
   "outputs": [],
   "source": [
    "from pandas import json_normalize\n",
    "df_all_samples = pd.DataFrame(json_normalize(metric_data))\n",
    "df_all_samples.head()"
   ]
  },
  {
   "cell_type": "markdown",
   "id": "5d61a815",
   "metadata": {},
   "source": [
    "# Check Output"
   ]
  },
  {
   "cell_type": "code",
   "execution_count": null,
   "id": "5b79f9b1",
   "metadata": {
    "ExecuteTime": {
     "start_time": "2023-03-22T17:50:07.860Z"
    }
   },
   "outputs": [],
   "source": [
    "df_all_samples.to_dict('records')[0]"
   ]
  },
  {
   "cell_type": "markdown",
   "id": "5c03f633",
   "metadata": {},
   "source": [
    "# Aggregate"
   ]
  },
  {
   "cell_type": "code",
   "execution_count": null,
   "id": "e4a59f5d",
   "metadata": {
    "ExecuteTime": {
     "start_time": "2023-03-22T17:50:07.862Z"
    }
   },
   "outputs": [],
   "source": [
    "df_sample_stats = df_all_samples.aggregate(['mean', 'std'])\n",
    "\n",
    "# includes new column with `*.std` and `*.mean`\n",
    "temp_data = df_sample_stats.to_dict()\n",
    "df_sample_stats = pd.json_normalize(temp_data)\n",
    "df_sample_stats['dswx_id'] = DSWx_ID\n",
    "df_sample_stats['planet_id'] = PLANET_ID\n",
    "df_sample_stats"
   ]
  },
  {
   "cell_type": "markdown",
   "id": "a7ecb3e4",
   "metadata": {},
   "source": [
    "## Serialize All Metrics"
   ]
  },
  {
   "cell_type": "code",
   "execution_count": null,
   "id": "2ae376cd",
   "metadata": {
    "ExecuteTime": {
     "start_time": "2023-03-22T17:50:07.864Z"
    }
   },
   "outputs": [],
   "source": [
    "json.dump(df_sample_stats.to_dict('records'), open(dswx_dir / f'stats_{DSWx_ID}.json', 'w'))"
   ]
  },
  {
   "cell_type": "code",
   "execution_count": null,
   "id": "45753b24",
   "metadata": {
    "ExecuteTime": {
     "start_time": "2023-03-22T17:50:07.866Z"
    }
   },
   "outputs": [],
   "source": [
    "json.dump(df_all_samples.to_dict('records'), open(dswx_dir / f'all_samples_{DSWx_ID}.json', 'w'))"
   ]
  },
  {
   "cell_type": "markdown",
   "id": "7aacd0ab",
   "metadata": {},
   "source": [
    "# Get Urls"
   ]
  },
  {
   "cell_type": "code",
   "execution_count": null,
   "id": "6bd2a198",
   "metadata": {
    "ExecuteTime": {
     "start_time": "2023-03-22T17:50:07.868Z"
    }
   },
   "outputs": [],
   "source": [
    "dswx_urls_dict = {f'dswx-{url.split(\".\")[-2][6:]}': url \n",
    "                  for url in dswx_urls}"
   ]
  },
  {
   "cell_type": "markdown",
   "id": "d8fa45d3",
   "metadata": {},
   "source": [
    "# Verify Requirements"
   ]
  },
  {
   "cell_type": "code",
   "execution_count": null,
   "id": "655ce727",
   "metadata": {
    "ExecuteTime": {
     "start_time": "2023-03-22T17:50:07.870Z"
    }
   },
   "outputs": [],
   "source": [
    "stat_records = df_sample_stats.to_dict('records')[0]\n",
    "stat_records"
   ]
  },
  {
   "cell_type": "code",
   "execution_count": null,
   "id": "f3b2633e",
   "metadata": {
    "ExecuteTime": {
     "start_time": "2023-03-22T17:50:07.871Z"
    }
   },
   "outputs": [],
   "source": [
    "mu_osw = stat_records['acc_per_class.Open_Surface_Water.mean']\n",
    "sigma_osw = stat_records['acc_per_class.Open_Surface_Water.std']\n",
    "open_surface_water_req = (mu_osw > .8)\n",
    "print('mu_osw:', mu_osw)\n",
    "print('sigma_osw:', sigma_osw)\n",
    "print('mu_osw - sigma_osw: ', mu_osw - sigma_osw)\n",
    "open_surface_water_req"
   ]
  },
  {
   "cell_type": "code",
   "execution_count": null,
   "id": "f775479a",
   "metadata": {
    "ExecuteTime": {
     "start_time": "2023-03-22T17:50:07.873Z"
    }
   },
   "outputs": [],
   "source": [
    "mu_psw = stat_records['acc_per_class.Partial_Surface_Water.mean']\n",
    "sigma_psw = stat_records['acc_per_class.Partial_Surface_Water.std']\n",
    "partial_surface_water_req = (mu_psw > .7)\n",
    "print('mu_psw:', mu_psw)\n",
    "print('sigma_psw:', sigma_psw)\n",
    "print('mu_psw - sigma_psw: ', mu_psw)\n",
    "partial_surface_water_req"
   ]
  },
  {
   "cell_type": "markdown",
   "id": "33dc8116",
   "metadata": {},
   "source": [
    "# Serialize Again"
   ]
  },
  {
   "cell_type": "code",
   "execution_count": null,
   "id": "3be9103d",
   "metadata": {
    "ExecuteTime": {
     "start_time": "2023-03-22T17:50:07.875Z"
    }
   },
   "outputs": [],
   "source": [
    "requirement_verification = {'dswx_id': DSWx_ID,\n",
    "                            'surface_water': open_surface_water_req,\n",
    "                            'partial_surface_water': partial_surface_water_req,\n",
    "                            **dswx_urls_dict,\n",
    "                            'planet_id': PLANET_ID,\n",
    "                            'validation_dataset_s3': get_val_s3_path(PLANET_ID),\n",
    "                            'hls_id': HLS_ID,\n",
    "                            **hls_urls_dict}\n",
    "\n",
    "json.dump(requirement_verification, open(dswx_dir / f'requirement_verification_{DSWx_ID}.json', 'w'))"
   ]
  },
  {
   "cell_type": "markdown",
   "id": "fdc4ede6",
   "metadata": {},
   "source": [
    "# One Last Inspection"
   ]
  },
  {
   "cell_type": "code",
   "execution_count": null,
   "id": "ef819c86",
   "metadata": {
    "ExecuteTime": {
     "start_time": "2023-03-22T17:50:07.877Z"
    }
   },
   "outputs": [],
   "source": [
    "X_diff_temp=X_dswx_c-X_val_r\n",
    "X_diff=X_diff_temp\n",
    "\n",
    "X_diff=X_diff_temp.astype('float32')\n",
    "X_diff[(X_diff_temp < -5) | (X_diff_temp > 5)] = np.nan\n",
    "\n",
    "print([\"min = \"  + str(np.nanmin(X_diff)), \"max = \" + str(np.nanmax(X_diff))])"
   ]
  },
  {
   "cell_type": "code",
   "execution_count": null,
   "id": "4df76f7c",
   "metadata": {
    "ExecuteTime": {
     "start_time": "2023-03-22T17:50:07.878Z"
    }
   },
   "outputs": [],
   "source": [
    "fontSize=7\n",
    "fontSizeTitle=8\n",
    "fig, axs = plt.subplots(1, 3, dpi=150, figsize=(20, 10))\n",
    "cmap = ListedColormap([np.array(colormap[key]) / 255 for key in range(256)])\n",
    "\n",
    "X_dswx_c_m = X_dswx_c.copy()\n",
    "X_dswx_c_m[shared_mask] = 9\n",
    "\n",
    "im0 = axs[0].imshow(X_dswx_c_m, cmap=cmap, vmin=0, interpolation='none', vmax=255)\n",
    "show(X_dswx_c_m, interpolation='none',cmap=cmap,vmin=0,vmax=255,transform=p_dswx_c['transform'],ax=axs[0])\n",
    "axs[0].set_title('DSWx',fontsize=fontSizeTitle)\n",
    "axs[0].ticklabel_format(axis='both', style='scientific',scilimits=(0,0),useOffset=False,useMathText=True)\n",
    "axs[0].set_xlabel('UTM easting (meters)',fontsize=fontSize)\n",
    "axs[0].set_ylabel('UTM northing (meters)',fontsize=fontSize)\n",
    "axs[0].yaxis.get_offset_text().set_fontsize(fontSize)\n",
    "axs[0].xaxis.get_offset_text().set_fontsize(fontSize)\n",
    "\n",
    "bounds =  [0, 1, 2, 3, 251, 252, 253, 254]\n",
    "norm = colors.BoundaryNorm(bounds, cmap.N)\n",
    "cbar=fig.colorbar(im0, ax=axs[0], shrink=0.2, boundaries=bounds, cmap=cmap, ticks=[0.5, 1.5, 2.5, 251.5, 252.5, 253.5])\n",
    "cbar.set_ticklabels(['Not Water', 'Open Water','Partial Surface Water','Snow/Ice','Cloud/Cloud Shadow', 'Ocean Mask'],fontsize=fontSize)   \n",
    "cbar.ax.tick_params(labelsize=5)\n",
    "\n",
    "X_val_r_m = X_val_r.copy()\n",
    "X_val_r_m[shared_mask] = 9\n",
    "\n",
    "im1 = axs[1].imshow(X_val_r_m, cmap=cmap, vmin=0, interpolation='none', vmax=255)\n",
    "show(X_val_r_m, interpolation='none',cmap=cmap,vmin=0,vmax=255,transform=p_val_r['transform'],ax=axs[1])\n",
    "axs[1].set_title('Validation data',fontsize=fontSizeTitle)\n",
    "axs[1].ticklabel_format(axis='both', style='scientific',scilimits=(0,0),useOffset=False,useMathText=True)\n",
    "axs[1].set_xlabel('UTM easting (meters)',fontsize=fontSize)\n",
    "axs[1].yaxis.get_offset_text().set_fontsize(fontSize)\n",
    "axs[1].xaxis.get_offset_text().set_fontsize(fontSize)\n",
    "\n",
    "cbar=fig.colorbar(im1, ax=axs[1], shrink=0.2, boundaries=bounds, cmap=cmap, ticks=[0.5, 1.5, 2.5, 251.5, 252.5, 253.5])\n",
    "cbar.set_ticklabels(['Not Water', 'Open Water','Partial Surface Water','Snow/Ice','Cloud/Cloud Shadow', 'Ocean Mask'],fontsize=fontSize)   \n",
    "cbar.ax.tick_params(labelsize=5)\n",
    "\n",
    "\n",
    "X_diff_m = X_diff.copy()\n",
    "X_diff_m[shared_mask] = 9\n",
    "\n",
    "cmapDiff=ListedColormap([(51/255,0/255, 102/255), (7/255, 137/255, 66/255), (1, 1, 1), (0,0,0),(231/255,41/255,138/255)])\n",
    "im2 = axs[2].imshow(X_diff_m, interpolation='none',vmin=-2, vmax=2,cmap=cmapDiff)\n",
    "show(X_diff, interpolation='none',vmin=-2, vmax=2,transform=p_val_r['transform'],ax=axs[2],cmap=cmapDiff)\n",
    "axs[2].set_title('Difference Map (DSWx - Val.)',fontsize=fontSizeTitle)\n",
    "axs[2].set_xlabel('UTM easting (meters)',fontsize=fontSize)\n",
    "axs[2].ticklabel_format(axis='both', style='scientific',scilimits=(0,0),useOffset=False,useMathText=True)\n",
    "axs[2].yaxis.get_offset_text().set_fontsize(fontSize)\n",
    "axs[2].xaxis.get_offset_text().set_fontsize(fontSize)\n",
    "\n",
    "cbar=fig.colorbar(im2,ax=axs[2],ticks=[-2,-1,0,1,2],shrink=0.2)\n",
    "cbar.ax.tick_params(labelsize=6)\n",
    "cbar.ax.set_ylim(-2,2)\n",
    "cbar.ax.tick_params(labelsize=5)\n",
    "im2.set_cmap(cmapDiff);\n",
    "cmapDiff.set_bad(color='gray')\n",
    "\n"
   ]
  },
  {
   "cell_type": "code",
   "execution_count": null,
   "id": "31475ec4",
   "metadata": {
    "ExecuteTime": {
     "start_time": "2023-03-22T17:50:07.880Z"
    }
   },
   "outputs": [],
   "source": [
    "plt.close('all')"
   ]
  },
  {
   "cell_type": "markdown",
   "id": "118ae22f",
   "metadata": {},
   "source": [
    "# For Presentations"
   ]
  },
  {
   "cell_type": "code",
   "execution_count": null,
   "id": "d5744eb3",
   "metadata": {
    "ExecuteTime": {
     "start_time": "2023-03-22T17:50:07.882Z"
    }
   },
   "outputs": [],
   "source": [
    "presentation_dir = Path('presentation_images') / out_dir.name / DSWx_ID\n",
    "presentation_dir.mkdir(exist_ok=True, parents=True)\n",
    "presentation_dir"
   ]
  },
  {
   "cell_type": "code",
   "execution_count": null,
   "id": "858f76bf",
   "metadata": {
    "ExecuteTime": {
     "start_time": "2023-03-22T17:50:07.883Z"
    }
   },
   "outputs": [],
   "source": [
    "fontSize=6\n",
    "fig, ax = plt.subplots(1, 2, dpi=150, figsize=(10, 5))\n",
    "cmap = ListedColormap([np.array(colormap[key]) / 255 for key in range(256)])\n",
    "im=ax[0].imshow(X_dswx_c, interpolation='none',cmap=cmap,vmin=0,vmax=255)\n",
    "\n",
    "show(X_dswx_c, cmap=cmap, transform=p_dswx_c['transform'], interpolation='none', ax=ax[0], vmin=0,vmax=255)\n",
    "ax[0].set_title('DSWx-HLS (30 m)',fontsize=8)\n",
    "ax[0].set_xlabel('UTM easting (meters)',fontsize=fontSize)\n",
    "ax[0].set_ylabel('UTM northing (meters)',fontsize=fontSize)\n",
    "ax[0].ticklabel_format(axis='both', style='scientific',scilimits=(0,0),useOffset=False,useMathText=True)\n",
    "ax[0].tick_params(axis='both', which='major', labelsize=fontSize)\n",
    "ax[0].yaxis.get_offset_text().set_fontsize(fontSize)\n",
    "ax[0].xaxis.get_offset_text().set_fontsize(fontSize)\n",
    "\n",
    "show(X_val_r, cmap=cmap, transform=p_val_r['transform'], interpolation='none',ax=ax[1], vmin=0, vmax=255)\n",
    "ax[1].set_title('Validation Data (30 m)',fontsize=8)\n",
    "ax[1].set_xlabel('UTM easting (meters)',fontsize=fontSize)\n",
    "ax[1].set_ylabel('UTM northing (meters)',fontsize=fontSize)\n",
    "\n",
    "ax[1].ticklabel_format(axis='both', style='scientific',scilimits=(0,0),useOffset=False,useMathText=True)\n",
    "ax[1].tick_params(axis='both', which='major', labelsize=fontSize)\n",
    "ax[1].yaxis.get_offset_text().set_fontsize(fontSize)\n",
    "ax[1].xaxis.get_offset_text().set_fontsize(fontSize)\n",
    "\n",
    "display_mask = shared_mask.astype(np.float32)\n",
    "display_mask[~shared_mask] = np.nan\n",
    " \n",
    "cbar.ax.tick_params(labelsize=8)\n",
    "bounds =  [0, 1, 2, 3, 251, 252, 253, 254]\n",
    "norm = colors.BoundaryNorm(bounds, cmap.N)\n",
    "cbar=fig.colorbar(im_dswx, ax=ax, shrink=0.5, pad=0.05, boundaries=bounds, cmap=cmap, ticks=[0.5, 1.5, 2.5, 251.5, 252.5, 253.5])\n",
    "cbar.set_ticklabels(['Not Water', 'Open Water','Partial Surface Water','Snow/Ice','Cloud/Cloud Shadow', 'Ocean Mask'],fontsize=8)   \n",
    "\n",
    "#plt.tight_layout()\n",
    "plt.savefig(presentation_dir / 'comparison_resample.png')\n"
   ]
  },
  {
   "cell_type": "code",
   "execution_count": null,
   "id": "3d0ff9d5",
   "metadata": {
    "ExecuteTime": {
     "start_time": "2023-03-22T17:50:07.885Z"
    }
   },
   "outputs": [],
   "source": [
    "plt.close('all')"
   ]
  },
  {
   "cell_type": "code",
   "execution_count": null,
   "id": "027da737",
   "metadata": {
    "ExecuteTime": {
     "start_time": "2023-03-22T17:50:07.886Z"
    }
   },
   "outputs": [],
   "source": [
    "fontSize=6\n",
    "fig, ax = plt.subplots(1, 2, dpi=150, figsize=(10, 5))\n",
    "cmap = ListedColormap([np.array(colormap[key]) / 255 for key in range(256)])\n",
    "im=ax[0].imshow(X_dswx_c, interpolation='none',cmap=cmap,vmin=0,vmax=255)\n",
    "\n",
    "show(X_dswx_c, cmap=cmap, transform=p_dswx_c['transform'], interpolation='none', ax=ax[0], vmin=0,vmax=255)\n",
    "ax[0].set_title('DSWx-HLS (30 m)',fontsize=8)\n",
    "ax[0].set_xlabel('UTM easting (meters)',fontsize=fontSize)\n",
    "ax[0].set_ylabel('UTM northing (meters)',fontsize=fontSize)\n",
    "ax[0].ticklabel_format(axis='both', style='scientific',scilimits=(0,0),useOffset=False,useMathText=True)\n",
    "ax[0].tick_params(axis='both', which='major', labelsize=fontSize)\n",
    "ax[0].yaxis.get_offset_text().set_fontsize(fontSize)\n",
    "ax[0].xaxis.get_offset_text().set_fontsize(fontSize)\n",
    "\n",
    "show(X_val_r, cmap=cmap, transform=p_val_r['transform'], interpolation='none',ax=ax[1], vmin=0, vmax=255)\n",
    "ax[1].set_title('Validation Data (30 m)',fontsize=8)\n",
    "ax[1].set_xlabel('UTM easting (meters)',fontsize=fontSize)\n",
    "ax[1].set_ylabel('UTM northing (meters)',fontsize=fontSize)\n",
    "\n",
    "ax[1].ticklabel_format(axis='both', style='scientific',scilimits=(0,0),useOffset=False,useMathText=True)\n",
    "ax[1].tick_params(axis='both', which='major', labelsize=fontSize)\n",
    "ax[1].yaxis.get_offset_text().set_fontsize(fontSize)\n",
    "ax[1].xaxis.get_offset_text().set_fontsize(fontSize)\n",
    "\n",
    "display_mask = shared_mask.astype(np.float32)\n",
    "display_mask[~shared_mask] = np.nan\n",
    "\n",
    "show(display_mask, \n",
    "     cmap='viridis', \n",
    "     transform=p_val_r['transform'], \n",
    "     interpolation='none',\n",
    "     ax=ax[1], vmin=0, vmax=1, alpha=1)\n",
    "show(display_mask, \n",
    "     cmap='viridis', \n",
    "     transform=p_val_r['transform'], \n",
    "     interpolation='none',\n",
    "     ax=ax[0], vmin=0, vmax=1, alpha=1)\n",
    "\n",
    "\n",
    " \n",
    "cbar.ax.tick_params(labelsize=8)\n",
    "bounds =  [0, 1, 2, 3, 251, 252, 253, 254]\n",
    "norm = colors.BoundaryNorm(bounds, cmap.N)\n",
    "cbar=fig.colorbar(im_dswx, ax=ax, shrink=0.5, pad=0.05, boundaries=bounds, cmap=cmap, ticks=[0.5, 1.5, 2.5, 251.5, 252.5, 253.5])\n",
    "cbar.set_ticklabels(['Not Water', 'Open Water','Partial Surface Water','Snow/Ice','Cloud/Cloud Shadow', 'Ocean Mask'],fontsize=fontSize)   \n",
    "\n",
    "cbar.ax.tick_params(labelsize=8)\n",
    "\n",
    "### colorbar\n",
    "\n",
    "# source: https://stackoverflow.com/questions/39500265/manually-add-legend-items-python-matplotlib\n",
    "\n",
    "from matplotlib.lines import Line2D\n",
    "from matplotlib import colors, colorbar, cm\n",
    "#from mpl_toolkits.axes_grid1 import make_axes_locatable\n",
    "#import matplotlib.patches as mpatches\n",
    "#from matplotlib.colors import LinearSegmentedColormap\n",
    "\n",
    "cNorm  = colors.Normalize(vmin=0, vmax=1)\n",
    "scalarMap = cm.ScalarMappable(norm=cNorm, cmap='viridis')\n",
    "legend_elements = [Line2D([0], \n",
    "                          [0], \n",
    "                          marker='s',\n",
    "                          color='w',\n",
    "                          label='No data/Masked',\n",
    "                          markerfacecolor=scalarMap.to_rgba(1),\n",
    "                          markeredgecolor='black',\n",
    "                          alpha=1,\n",
    "                          markersize=10)]\n",
    "ax[0].legend(handles=legend_elements, loc='upper left', fontsize=6,  framealpha=1, edgecolor='white')\n",
    "\n",
    "\n",
    "# plt.tight_layout()\n",
    "plt.savefig(presentation_dir / 'comparison_resample_with_mask.png')\n"
   ]
  },
  {
   "cell_type": "code",
   "execution_count": null,
   "id": "4f148196",
   "metadata": {
    "ExecuteTime": {
     "start_time": "2023-03-22T17:50:07.887Z"
    }
   },
   "outputs": [],
   "source": [
    "plt.close('all')"
   ]
  },
  {
   "cell_type": "code",
   "execution_count": null,
   "id": "cff3f3b6",
   "metadata": {
    "ExecuteTime": {
     "start_time": "2023-03-22T17:50:07.889Z"
    }
   },
   "outputs": [],
   "source": [
    "fontSize=7\n",
    "fontSizeTitles=8\n",
    "fig, ax = plt.subplots(1, 3, dpi=200, figsize=(20, 10))\n",
    "cmap = ListedColormap([np.array(colormap[key]) / 255 for key in range(256)])\n",
    "\n",
    "show(X_dswx, cmap=cmap, transform=p_dswx['transform'], vmin=0, vmax=255, interpolation='none', ax=ax[0])\n",
    "df_val_bounds.to_crs(crs_dswx).boundary.plot(ax=ax[0], color='black')\n",
    "ax[0].set_title('Full DSWx scene with val bbox',fontsize=fontSize)\n",
    "ax[0].set_xlabel('UTM easting (meters)',fontsize=fontSizeTitles)\n",
    "ax[0].set_ylabel('UTM northing (meters)',fontsize=fontSizeTitles)\n",
    "ax[0].ticklabel_format(axis='both', style='scientific',scilimits=(0,0),useOffset=False,useMathText=True)\n",
    "ax[0].tick_params(axis='both', which='major', labelsize=fontSize)\n",
    "ax[0].yaxis.get_offset_text().set_fontsize(fontSize)\n",
    "ax[0].xaxis.get_offset_text().set_fontsize(fontSize)\n",
    "\n",
    "show(X_dswx, cmap=cmap, transform=p_dswx['transform'], vmin=0,vmax=255, interpolation='none', ax=ax[1])\n",
    "val_bounds_dswx = df_val_bounds.to_crs(crs_dswx).total_bounds\n",
    "ax[1].set_xlim(val_bounds_dswx[0], val_bounds_dswx[2])\n",
    "ax[1].set_ylim(val_bounds_dswx[1], val_bounds_dswx[3])\n",
    "ax[1].set_title('DSWx Subset Area',fontsize=fontSizeTitles)\n",
    "ax[1].set_xlabel('UTM easting (meters)',fontsize=fontSize)\n",
    "ax[1].ticklabel_format(axis='both', style='scientific',scilimits=(0,0),useOffset=False,useMathText=True)\n",
    "ax[1].tick_params(axis='both', which='major', labelsize=fontSize)\n",
    "ax[1].yaxis.get_offset_text().set_fontsize(fontSize)\n",
    "ax[1].xaxis.get_offset_text().set_fontsize(fontSize)\n",
    "\n",
    "show(X_val, transform=p_val['transform'], ax=ax[2], interpolation='none', cmap=cmap, vmin=0, vmax=255)\n",
    "ax[2].set_title('Validation Dataset',fontsize=fontSizeTitles)\n",
    "ax[2].set_xlabel('UTM easting (meters)',fontsize=fontSize)\n",
    "ax[2].ticklabel_format(axis='both', style='scientific',scilimits=(0,0),useOffset=False,useMathText=True)\n",
    "ax[2].tick_params(axis='both', which='major', labelsize=fontSize)\n",
    "ax[2].yaxis.get_offset_text().set_fontsize(fontSize)\n",
    "ax[2].xaxis.get_offset_text().set_fontsize(fontSize)\n",
    "\n",
    "cbar.ax.tick_params(labelsize=8)\n",
    "bounds =  [0, 1, 2, 3, 251, 252, 253, 254]\n",
    "norm = colors.BoundaryNorm(bounds, cmap.N)\n",
    "cbar=fig.colorbar(im_dswx, ax=ax, shrink=0.5, pad=0.05, boundaries=bounds, cmap=cmap, ticks=[0.5, 1.5, 2.5, 251.5, 252.5, 253.5])\n",
    "cbar.set_ticklabels(['Not Water', 'Open Water','Partial Surface Water','Snow/Ice','Cloud/Cloud Shadow', 'Ocean Mask'],fontsize=fontSize)   \n",
    "\n",
    "\n",
    "#plt.tight_layout()\n",
    "plt.savefig(presentation_dir / 'extent.png')\n"
   ]
  },
  {
   "cell_type": "code",
   "execution_count": null,
   "id": "40e33b5b",
   "metadata": {
    "ExecuteTime": {
     "start_time": "2023-03-22T17:50:07.890Z"
    }
   },
   "outputs": [],
   "source": [
    "plt.close('all')"
   ]
  },
  {
   "cell_type": "code",
   "execution_count": null,
   "id": "23c78a21",
   "metadata": {
    "ExecuteTime": {
     "start_time": "2023-03-22T17:50:07.892Z"
    }
   },
   "outputs": [],
   "source": [
    "df_all_samples.columns"
   ]
  },
  {
   "cell_type": "code",
   "execution_count": null,
   "id": "ce85c01e",
   "metadata": {
    "ExecuteTime": {
     "start_time": "2023-03-22T17:50:07.893Z"
    }
   },
   "outputs": [],
   "source": [
    "COLUMNS = [col for col in df_all_samples.columns\n",
    "           if ((('total_accuracy' in col) or\n",
    "           ('precision' in col) or\n",
    "           ('recall' in col) or\n",
    "           ('f1' in col) or\n",
    "           ('supp' in col)\n",
    "            ) and\n",
    "           ('Not_Water') not in col)]\n",
    "COLUMNS"
   ]
  },
  {
   "cell_type": "code",
   "execution_count": null,
   "id": "9a1d0e8c",
   "metadata": {
    "ExecuteTime": {
     "start_time": "2023-03-22T17:50:07.894Z"
    }
   },
   "outputs": [],
   "source": [
    "COLUMN_RENAME = {'total_accuracy': 'Total Accuracy (All)',\n",
    "                 'precision.Open_Surface_Water': 'Precision (OSW)',\n",
    "                 'acc_per_class.Open_Surface_Water': 'Binary Accuracy (OSW)',\n",
    "                 'acc_per_class.Partial_Surface_Water': 'Binary Accuracy (PSW)',\n",
    "                 'precision.Partial_Surface_Water': 'Precision (PSW)',\n",
    "                 'recall.Open_Surface_Water': 'Recall (OSW)',\n",
    "                 'recall.Partial_Surface_Water': 'Recall (PSW)',\n",
    "                 'supp_per_class.Open_Surface_Water': 'Support (Val) (OSW)',\n",
    "                 'supp_per_class.Partial_Surface_Water': 'Support (Val) (PSW)',\n",
    "                 'f1_per_class.Open_Surface_Water': 'F1 (OSW)',\n",
    "                 'f1_per_class.Partial_Surface_Water': 'F1 (PSW)'}"
   ]
  },
  {
   "cell_type": "code",
   "execution_count": null,
   "id": "484f5e4f",
   "metadata": {
    "ExecuteTime": {
     "start_time": "2023-03-22T17:50:07.896Z"
    }
   },
   "outputs": [],
   "source": [
    "df_temp = df_all_samples[COLUMNS].agg(['mean', 'median', 'std'])\n",
    "df_temp.rename(columns=COLUMN_RENAME, inplace=True)\n",
    "\n",
    "cols_not_supp = [col for col in df_temp.columns if 'Support' not in col]\n",
    "df_temp[cols_not_supp] = df_temp[cols_not_supp] * 100\n",
    "\n",
    "df_f = df_temp.T\n",
    "df_f = df_f.round(2).astype(str)\n",
    "\n",
    "df_f = df_f.reset_index(drop=False)\n",
    "df_f = df_f.rename(columns={'index': 'Metric'})\n",
    "df_f['Class'] = df_f.Metric.map(lambda m: m[-4:-1])\n",
    "df_f['Metric'] = df_f.Metric.map(lambda m: m[:-6])\n",
    "df_f['Metric'] = df_f.Metric.map(lambda m: m + ' ($\\%$)' if 'Support' not in m else m)\n",
    "df_f.sort_values(by=['Class', 'Metric'], inplace=True)\n",
    "df_f = df_f.set_index(['Class', 'Metric'])\n",
    "df_f.rename(columns={'mean': 'Mean', \n",
    "                     'std': 'St. Dev.', \n",
    "                     'median': 'Median'}, inplace=True)\n",
    "df_f"
   ]
  },
  {
   "cell_type": "code",
   "execution_count": null,
   "id": "b6ddc625",
   "metadata": {
    "ExecuteTime": {
     "start_time": "2023-03-22T17:50:07.897Z"
    }
   },
   "outputs": [],
   "source": [
    "latex = df_f.style.to_latex(multirow_align='t', hrules=True)\n",
    "with open(presentation_dir / 'accuracy.tex', 'w') as f:\n",
    "    f.write(latex)"
   ]
  },
  {
   "cell_type": "code",
   "execution_count": null,
   "id": "bfe10ce5",
   "metadata": {
    "ExecuteTime": {
     "start_time": "2023-03-22T17:50:07.899Z"
    }
   },
   "outputs": [],
   "source": [
    "stats_data = df_sample_stats.to_dict('records')[0]\n",
    "bw_mu = stats_data['binary_water_acc.mean']\n",
    "bw_std = stats_data['binary_water_acc.std']"
   ]
  },
  {
   "cell_type": "code",
   "execution_count": null,
   "id": "31caefcf",
   "metadata": {
    "ExecuteTime": {
     "start_time": "2023-03-22T17:50:07.900Z"
    }
   },
   "outputs": [],
   "source": [
    "psw_str = f'{partial_surface_water_req} ({mu_psw:1.2f})'\n",
    "osw_str = f'{open_surface_water_req} ({mu_osw:1.2f})'\n",
    "df_requirement = pd.DataFrame([{'Class': 'PSW',\n",
    "                                'OPERA Req.': partial_surface_water_req,\n",
    "                                'Accuracy ($\\%$)': f'{mu_psw * 100:1.2f} ({sigma_psw * 100:1.2f})'},\n",
    "                               {'Class': 'OSW',\n",
    "                                'OPERA Req.': open_surface_water_req,\n",
    "                                'Accuracy ($\\%$)': f'{mu_osw * 100:1.2f} ({sigma_osw * 100:1.2f})'},\n",
    "                               {'Class': 'Binary Water',\n",
    "                                'OPERA Req.': 'N/A',\n",
    "                                'Accuracy ($\\%$)': f'{bw_mu * 100:1.2f} ({bw_std * 100:1.2f})'}\n",
    "                              ])\n",
    "\n",
    "def labeler(val):\n",
    "    if val:\n",
    "        if val != 'N/A':\n",
    "            return 'Passed'\n",
    "        else:\n",
    "            return val\n",
    "    return 'Not Passed'\n",
    "\n",
    "df_requirement['OPERA Req.'] = df_requirement['OPERA Req.'].map(labeler)\n",
    "df_requirement"
   ]
  },
  {
   "cell_type": "code",
   "execution_count": null,
   "id": "afea8259",
   "metadata": {
    "ExecuteTime": {
     "start_time": "2023-03-22T17:50:07.901Z"
    }
   },
   "outputs": [],
   "source": [
    "latex = df_requirement.style.hide(axis=\"index\").to_latex(multirow_align='t', hrules=True)\n",
    "\n",
    "with open(presentation_dir / 'requirements.tex', 'w') as f:\n",
    "    f.write(latex)"
   ]
  },
  {
   "cell_type": "code",
   "execution_count": null,
   "id": "14bb4015",
   "metadata": {
    "ExecuteTime": {
     "start_time": "2023-03-22T17:50:07.903Z"
    }
   },
   "outputs": [],
   "source": [
    "CONFUSION_KEYS = ['confusion_matrix.Not_Water_OPERA_DSWx.Not_Water_OPERA_Validation',\n",
    "                  'confusion_matrix.Not_Water_OPERA_DSWx.Open_Surface_Water_OPERA_Validation',\n",
    "                  'confusion_matrix.Not_Water_OPERA_DSWx.Partial_Surface_Water_OPERA_Validation',\n",
    "                  'confusion_matrix.Open_Surface_Water_OPERA_DSWx.Not_Water_OPERA_Validation',\n",
    "                  'confusion_matrix.Open_Surface_Water_OPERA_DSWx.Open_Surface_Water_OPERA_Validation',\n",
    "                  'confusion_matrix.Open_Surface_Water_OPERA_DSWx.Partial_Surface_Water_OPERA_Validation'\n",
    "                  'confusion_matrix.Partial_Surface_Water_OPERA_DSWx.Not_Water_OPERA_Validation',\n",
    "                  'confusion_matrix.Partial_Surface_Water_OPERA_DSWx.Open_Surface_Water_OPERA_Validation',\n",
    "                  'confusion_matrix.Partial_Surface_Water_OPERA_DSWx.Partial_Surface_Water_OPERA_Validation']\n",
    "\n"
   ]
  },
  {
   "cell_type": "code",
   "execution_count": null,
   "id": "a6407255",
   "metadata": {
    "ExecuteTime": {
     "start_time": "2023-03-22T17:50:07.904Z"
    }
   },
   "outputs": [],
   "source": [
    "CONFUSION_COLUMNS = [col for col in df_all_samples.columns if 'confusion' in col]\n",
    "CONFUSION_COLUMNS"
   ]
  },
  {
   "cell_type": "code",
   "execution_count": null,
   "id": "8876144d",
   "metadata": {
    "ExecuteTime": {
     "start_time": "2023-03-22T17:50:07.905Z"
    }
   },
   "outputs": [],
   "source": [
    "confusion_dict = df_all_samples[CONFUSION_COLUMNS].agg(['mean', 'std']).to_dict()\n",
    "confusion_dict"
   ]
  },
  {
   "cell_type": "code",
   "execution_count": null,
   "id": "686c6549",
   "metadata": {
    "ExecuteTime": {
     "start_time": "2023-03-22T17:50:07.907Z"
    }
   },
   "outputs": [],
   "source": [
    "LABEL_NAMES = ['Not_Water',  'Open_Surface_Water', 'Partial_Surface_Water']\n",
    "temp_dict = confusion_dict.copy()\n",
    "conf_mean = [[temp_dict.setdefault(f'confusion_matrix.{label_1}_OPERA_DSWx.{label_2}_OPERA_Validation', {'mean': 0})['mean']\n",
    "                       for label_1 in LABEL_NAMES] \n",
    "                      for label_2 in LABEL_NAMES]\n",
    "conf_mean"
   ]
  },
  {
   "cell_type": "code",
   "execution_count": null,
   "id": "3c128142",
   "metadata": {
    "ExecuteTime": {
     "start_time": "2023-03-22T17:50:07.908Z"
    }
   },
   "outputs": [],
   "source": [
    "LABEL_NAMES = ['Not_Water',  'Open_Surface_Water', 'Partial_Surface_Water']\n",
    "temp_dict = confusion_dict.copy()\n",
    "conf_std = [[temp_dict.setdefault(f'confusion_matrix.{label_2}_OPERA_DSWx.{label_1}_OPERA_Validation', {'std': 0})['std']\n",
    "                       for label_1 in LABEL_NAMES] \n",
    "                      for label_2 in LABEL_NAMES]\n",
    "conf_std"
   ]
  },
  {
   "cell_type": "code",
   "execution_count": null,
   "id": "f7c60c9a",
   "metadata": {
    "ExecuteTime": {
     "start_time": "2023-03-22T17:50:07.910Z"
    }
   },
   "outputs": [],
   "source": [
    "conf_data = [[f'{mu:1.2f} ({std:1.2f})' for (mu, std) in zip(mu_list, std_list)] for (mu_list, std_list) in zip(conf_mean, conf_std)]"
   ]
  },
  {
   "cell_type": "code",
   "execution_count": null,
   "id": "5590bc05",
   "metadata": {
    "ExecuteTime": {
     "start_time": "2023-03-22T17:50:07.911Z"
    }
   },
   "outputs": [],
   "source": [
    "df_confusion = pd.DataFrame(conf_data,\n",
    "                            index=['NW (DSWx)', 'OSW (DSWx)', 'PSW (DSWx)'],\n",
    "                            columns=['NW (Val)', 'OSW (Val)', 'PSW (Val)']\n",
    "                           )\n",
    "df_confusion"
   ]
  },
  {
   "cell_type": "code",
   "execution_count": null,
   "id": "0a862d2d",
   "metadata": {
    "ExecuteTime": {
     "start_time": "2023-03-22T17:50:07.912Z"
    }
   },
   "outputs": [],
   "source": [
    "latex = df_confusion.style.to_latex(multirow_align='t', hrules=True)\n",
    "with open(presentation_dir / 'confusion.tex', 'w') as f:\n",
    "    f.write(latex)"
   ]
  },
  {
   "cell_type": "markdown",
   "id": "d65d28a8",
   "metadata": {},
   "source": [
    "## Omission and Comission Error"
   ]
  },
  {
   "cell_type": "code",
   "execution_count": null,
   "id": "6c91d9f6",
   "metadata": {
    "ExecuteTime": {
     "start_time": "2023-03-22T17:50:07.914Z"
    }
   },
   "outputs": [],
   "source": [
    "stats_data = df_sample_stats.to_dict('records')[0]\n",
    "stats_data"
   ]
  },
  {
   "cell_type": "code",
   "execution_count": null,
   "id": "d9209c23",
   "metadata": {
    "ExecuteTime": {
     "start_time": "2023-03-22T17:50:07.916Z"
    }
   },
   "outputs": [],
   "source": [
    "table_data = [{'Class': label,\n",
    "               'Omission Error Mean': 1 - stats_data[f'precision.{label}.mean'],\n",
    "               'Commision Error Mean': 1 - stats_data[f'recall.{label}.mean'],\n",
    "               'Omission Error std': stats_data[f'precision.{label}.std'],\n",
    "               'Commision Error std': stats_data[f'recall.{label}.std']} \n",
    "              for label in LABEL_NAMES]\n",
    "df_om_com = pd.DataFrame(table_data)\n",
    "renamer = {'Not_Water': 'NW', 'Open_Surface_Water': 'OSW', 'Partial_Surface_Water': 'PSW'}\n",
    "df_om_com['Class'] = df_om_com['Class'].map(lambda x: renamer[x])\n",
    "classes = df_om_com['Class'].values\n",
    "df_om_com['Omission Error ($\\%$)'] = df_om_com.apply(lambda row: f'{row[\"Omission Error Mean\"] * 100: .2f} ({row[\"Omission Error std\"] * 100:.2f})',axis=1)\n",
    "df_om_com['Commision Error ($\\%$)'] = df_om_com.apply(lambda row: f'{row[\"Commision Error Mean\"] * 100: .2f} ({row[\"Commision Error std\"] * 100:.2f})',axis=1)\n",
    "df_om_com = df_om_com[['Commision Error ($\\%$)', 'Omission Error ($\\%$)']].copy()\n",
    "df_om_com.index = classes\n",
    "df_om_com"
   ]
  },
  {
   "cell_type": "code",
   "execution_count": null,
   "id": "65fe5d55",
   "metadata": {
    "ExecuteTime": {
     "start_time": "2023-03-22T17:50:07.917Z"
    }
   },
   "outputs": [],
   "source": [
    "latex = df_om_com.style.to_latex(multirow_align='t', hrules=True)\n",
    "with open(presentation_dir / 'omission_comission.tex', 'w') as f:\n",
    "    f.write(latex)"
   ]
  },
  {
   "cell_type": "markdown",
   "id": "8960fef2",
   "metadata": {
    "ExecuteTime": {
     "end_time": "2023-01-19T22:40:59.487237Z",
     "start_time": "2023-01-19T22:40:59.441693Z"
    }
   },
   "source": [
    "# Area of each class"
   ]
  },
  {
   "cell_type": "code",
   "execution_count": null,
   "id": "2ca6aab7",
   "metadata": {
    "ExecuteTime": {
     "start_time": "2023-03-22T17:50:07.919Z"
    }
   },
   "outputs": [],
   "source": [
    "C_val = 9\n",
    "C_dswx = 900\n",
    "C_ha = 0.0001\n",
    "area_data = [{'Type': 'Val',\n",
    "              'Frame (Posting)': 'Validation (3 m)',\n",
    "              'Class': 'OSW',\n",
    "              'Area (ha)': (X_val == 1).sum() * C_ha * C_val,\n",
    "              'Area ($\\%$)': (X_val == 1).sum() / (X_val != 255).sum() * 100},\n",
    "             {'Type': 'Val',\n",
    "              'Frame (Posting)': 'Validation (3 m)',\n",
    "              'Class': 'NW',\n",
    "              'Area (ha)': (X_val == 0).sum() * C_ha * C_val,\n",
    "              'Area ($\\%$)': (X_val == 0).sum() / (X_val != 255).sum() * 100},\n",
    "             {'Type': 'Val',\n",
    "              'Frame (Posting)': 'DSWx (30 m)',\n",
    "              'Class': 'OSW',\n",
    "              'Area (ha)': (X_val_r[~shared_mask] == 1).sum() * C_ha * C_dswx,\n",
    "              'Area ($\\%$)': (X_val_r[~shared_mask] == 1).sum() / (~shared_mask).sum() * 100},\n",
    "             {'Type': 'Val',\n",
    "              'Frame (Posting)': 'DSWx (30 m)',\n",
    "              'Class': 'PSW',\n",
    "              'Area (ha)': (X_val_r[~shared_mask] == 2).sum() * C_ha * C_dswx,\n",
    "              'Area ($\\%$)': (X_val_r[~shared_mask] == 2).sum() / (~shared_mask).sum() * 100\n",
    "             },\n",
    "             {'Type': 'Val',\n",
    "              'Frame (Posting)': 'DSWx (30 m)',\n",
    "              'Class': 'NW',\n",
    "              'Area (ha)': (X_val_r[~shared_mask] == 0).sum() * C_ha * C_dswx,\n",
    "              'Area ($\\%$)': (X_val_r[~shared_mask] == 0).sum() / (~shared_mask).sum() * 100\n",
    "             },\n",
    "             {'Type': 'DSWx',\n",
    "              'Frame (Posting)': 'DSWx (30 m)',\n",
    "              'Class': 'OSW',\n",
    "              'Area (ha)': (X_dswx_c[~shared_mask] == 1).sum() * C_ha * C_dswx,\n",
    "              'Area ($\\%$)': (X_dswx_c[~shared_mask] == 1).sum() / (~shared_mask).sum() * 100},\n",
    "             {'Type': 'DSWx',\n",
    "              'Frame (Posting)': 'DSWx (30 m)',\n",
    "              'Class': 'PSW',\n",
    "              'Area (ha)': (X_dswx_c[~shared_mask] == 2).sum() * C_ha * C_dswx,\n",
    "              'Area ($\\%$)': (X_dswx_c[~shared_mask] == 2).sum() / (~shared_mask).sum() * 100\n",
    "             },\n",
    "             {'Type': 'DSWx',\n",
    "              'Frame (Posting)': 'DSWx (30 m)',\n",
    "              'Class': 'NW',\n",
    "              'Area (ha)': (X_dswx_c[~shared_mask] == 0).sum() * C_ha * C_dswx,\n",
    "              'Area ($\\%$)': (X_dswx_c[~shared_mask] == 0).sum() / (~shared_mask).sum() * 100\n",
    "             }\n",
    "            ]\n",
    "df_area = pd.DataFrame(area_data)\n",
    "df_area"
   ]
  },
  {
   "cell_type": "code",
   "execution_count": null,
   "id": "acfccc75",
   "metadata": {
    "ExecuteTime": {
     "start_time": "2023-03-22T17:50:07.921Z"
    }
   },
   "outputs": [],
   "source": [
    "df_area_f = df_area.set_index(['Frame (Posting)', 'Type', 'Class'])\n",
    "df_area_f['Area (ha)'] = df_area_f['Area (ha)'].map(lambda num: f'{num:1.2f}')\n",
    "df_area_f['Area ($\\%$)'] = df_area_f['Area ($\\%$)'].map(lambda num: f'{num:1.2f}')\n",
    "df_area_f"
   ]
  },
  {
   "cell_type": "code",
   "execution_count": null,
   "id": "798c43b8",
   "metadata": {
    "ExecuteTime": {
     "start_time": "2023-03-22T17:50:07.922Z"
    }
   },
   "outputs": [],
   "source": [
    "latex = df_area_f.style.to_latex(multirow_align='t', hrules=True)\n",
    "with open(presentation_dir / 'areas.tex', 'w') as f:\n",
    "    f.write(latex)"
   ]
  },
  {
   "cell_type": "code",
   "execution_count": null,
   "id": "4275b6d8",
   "metadata": {
    "ExecuteTime": {
     "start_time": "2023-03-22T17:50:07.923Z"
    }
   },
   "outputs": [],
   "source": [
    "p_water_val = (X_val == 1).sum() / (X_val != 255).sum() * 100\n",
    "\n",
    "def strata_lookup(p_water):\n",
    "    if p_water <= 0:\n",
    "        return 'No water (stratum 0)'\n",
    "    if p_water <= .08:\n",
    "        return 'Low water (stratum 1)'\n",
    "    if p_water <= 2:\n",
    "        return 'Medium Water (stratum 2)'\n",
    "    return 'High water (stratum 3)'\n",
    "\n",
    "stratum_string = strata_lookup(p_water_val) + f' with {p_water_val:1.2f}$\\%$ water in validation scene'\n",
    "stratum_string = '\\\\begin{itemize} \\n\\item ' + stratum_string + '\\n\\\\end{itemize}'\n",
    "stratum_string"
   ]
  },
  {
   "cell_type": "code",
   "execution_count": null,
   "id": "15038357",
   "metadata": {
    "ExecuteTime": {
     "start_time": "2023-03-22T17:50:07.925Z"
    }
   },
   "outputs": [],
   "source": [
    "latex_0 = \"\\\\begin{verbatim}\\n\" + \"Planet ID: \" + PLANET_ID + \"\\n\\\\end{verbatim}\\n\"\n",
    "latex_1 = \"\\\\begin{verbatim}\\n\" + \"Site Name: \" + SITE_NAME + \"\\n\\\\end{verbatim}\\n\"\n",
    "latex = latex_0 + latex_1 + stratum_string\n",
    "print(latex)"
   ]
  },
  {
   "cell_type": "code",
   "execution_count": null,
   "id": "42ec059c",
   "metadata": {
    "ExecuteTime": {
     "start_time": "2023-03-22T17:50:07.926Z"
    }
   },
   "outputs": [],
   "source": [
    "with open(presentation_dir / 'more_ids.tex', 'w') as f:\n",
    "    f.write(latex)"
   ]
  }
 ],
 "metadata": {
  "kernelspec": {
   "display_name": "dswx_val",
   "language": "python",
   "name": "dswx_val"
  },
  "language_info": {
   "codemirror_mode": {
    "name": "ipython",
    "version": 3
   },
   "file_extension": ".py",
   "mimetype": "text/x-python",
   "name": "python",
   "nbconvert_exporter": "python",
   "pygments_lexer": "ipython3",
   "version": "3.11.0"
  }
 },
 "nbformat": 4,
 "nbformat_minor": 5
}
