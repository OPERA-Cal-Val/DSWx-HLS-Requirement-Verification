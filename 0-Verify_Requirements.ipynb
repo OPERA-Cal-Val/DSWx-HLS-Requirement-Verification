{
 "cells": [
  {
   "cell_type": "code",
   "execution_count": null,
   "id": "d2748d48",
   "metadata": {},
   "outputs": [],
   "source": [
    "%load_ext autoreload\n",
    "%autoreload 2"
   ]
  },
  {
   "cell_type": "code",
   "execution_count": null,
   "id": "04fbce85",
   "metadata": {},
   "outputs": [],
   "source": [
    "import geopandas as gpd\n",
    "from verification.val_db import (get_finalized_validation_datasets,\n",
    "                                 read_validation_dataset,\n",
    "                                 get_val_s3_path\n",
    "                                )\n",
    "\n",
    "import matplotlib.pyplot as plt\n",
    "from matplotlib.ticker import PercentFormatter\n",
    "\n",
    "import numpy as np\n",
    "from tqdm import tqdm\n",
    "import rasterio\n",
    "from matplotlib.colors import ListedColormap\n",
    "from shapely.geometry import box\n",
    "from rasterio.plot import show\n",
    "from pathlib import Path\n",
    "from verification.rio_tools import get_geopandas_features_from_array\n",
    "import pandas as pd\n",
    "import sklearn.metrics\n",
    "import json\n",
    "from verification.hls import get_hls_urls"
   ]
  },
  {
   "cell_type": "code",
   "execution_count": null,
   "id": "f8825aa7",
   "metadata": {
    "tags": [
     "parameters"
    ]
   },
   "outputs": [],
   "source": [
    "PLANET_ID = '20210928_211311_91_2457' # example: '20211002_155415_1009'; See validation_table_data.csv for list\n",
    "EQUAL_SAMPLING = True  # if False, uses stratified sampling from validation labels to determine size of each class sample\n",
    "TOTAL_PIXELS_PER_SAMPLE = 500 # number of pixels used in random sample\n",
    "NUMBER_OF_RANDOM_SAMPLES = 100  # number of trials used to calculate sample statistics \n",
    "SAMPLE_FROM_DSWX = False # if False, sample points are selected from validation data (note this does not impact class sizes)\n",
    "USE_ENTIRE_IMAGE = False # if True, random sampling and trials are moot and instead points are directly samples from entire image\n",
    "WITH_REPLACEMENT = False # if True, samples will be replaced with same points to ensure equal number - untested\n",
    "CONFIDENCE_MINIMUM = 70 #  minimum value used to mask out sample points from DSWx CONF (confidence layer). i.e., will retain pixels with CONF >= 70"
   ]
  },
  {
   "cell_type": "markdown",
   "id": "7600d73e",
   "metadata": {},
   "source": [
    "# Saving data for assessments"
   ]
  },
  {
   "cell_type": "code",
   "execution_count": null,
   "id": "2cd6c716",
   "metadata": {},
   "outputs": [],
   "source": [
    "token_samples = f'{NUMBER_OF_RANDOM_SAMPLES}-trials'\n",
    "if USE_ENTIRE_IMAGE:\n",
    "    toke_samples = 'entire_image_used_'\n",
    "token_conf = f'_conf-geq-{CONFIDENCE_MINIMUM}'\n",
    "token_class_sample = '_sample-from-dswx' if SAMPLE_FROM_DSWX else '_sample-from-val'\n",
    "\n",
    "assessment_dir_name = token_samples + token_conf + token_class_sample\n",
    "assessment_dir_name"
   ]
  },
  {
   "cell_type": "code",
   "execution_count": null,
   "id": "07e91fbe",
   "metadata": {},
   "outputs": [],
   "source": [
    "out_dir = Path(f'out/assessment_data/{assessment_dir_name}') \n",
    "out_dir.mkdir(exist_ok=True, parents=True)\n",
    "out_dir"
   ]
  },
  {
   "cell_type": "markdown",
   "id": "5810b52e",
   "metadata": {},
   "source": [
    "# Table of Finalized Data"
   ]
  },
  {
   "cell_type": "code",
   "execution_count": null,
   "id": "875044e5",
   "metadata": {},
   "outputs": [],
   "source": [
    "df = get_finalized_validation_datasets()\n",
    "df.head()"
   ]
  },
  {
   "cell_type": "code",
   "execution_count": null,
   "id": "c49942b3",
   "metadata": {},
   "outputs": [],
   "source": [
    "f'Currently, there are {df.shape[0]} finalized datasets'"
   ]
  },
  {
   "cell_type": "markdown",
   "id": "a6d693aa",
   "metadata": {},
   "source": [
    "# Read a Validation Dataset"
   ]
  },
  {
   "cell_type": "code",
   "execution_count": null,
   "id": "ff6899aa",
   "metadata": {},
   "outputs": [],
   "source": [
    "X_val, p_val = read_validation_dataset(PLANET_ID)\n",
    "p_val"
   ]
  },
  {
   "cell_type": "code",
   "execution_count": null,
   "id": "cbbb1bda",
   "metadata": {},
   "outputs": [],
   "source": [
    "Y = X_val.astype(float)\n",
    "Y[Y == 255] = np.nan\n",
    "\n",
    "fontSize=10\n",
    "fig, ax=plt.subplots(figsize=(7,7))\n",
    "cmap = ListedColormap(['white', 'blue'])\n",
    "im=ax.imshow(Y, interpolation='none',cmap=cmap,vmin=0,vmax=1)\n",
    "show(Y, interpolation='none',cmap=cmap,vmin=0,vmax=1,transform=p_val['transform'],ax=ax)\n",
    "cbar = fig.colorbar(im, ax=ax,shrink=0.7,ticks=[0.25, 0.75])\n",
    "cbar.ax.set_yticklabels(['Not Water', 'Open Water']);  # vertically oriented colorbar\n",
    "plt.xlabel('UTM easting (meters)',fontsize=fontSize)\n",
    "plt.ylabel('UTM northing (meters)',fontsize=fontSize)\n",
    "plt.xticks(fontsize = fontSize)\n",
    "plt.yticks(fontsize = fontSize)\n",
    "ax.set_title('Validation Dataset');\n",
    "ax.ticklabel_format(axis='both', style='scientific',scilimits=(0,0),useOffset=False,useMathText=True)\n",
    "ax.yaxis.get_offset_text().set_fontsize(fontSize)\n",
    "ax.xaxis.get_offset_text().set_fontsize(fontSize)"
   ]
  },
  {
   "cell_type": "code",
   "execution_count": null,
   "id": "ff1f4aab",
   "metadata": {},
   "outputs": [],
   "source": [
    "plt.close('all')"
   ]
  },
  {
   "cell_type": "markdown",
   "id": "a4a186b4",
   "metadata": {},
   "source": [
    "# Load Local Validation Table"
   ]
  },
  {
   "cell_type": "code",
   "execution_count": null,
   "id": "5832e383",
   "metadata": {},
   "outputs": [],
   "source": [
    "df_validation_table = pd.read_csv('validation_table_data.csv')\n",
    "df_validation_table.head()"
   ]
  },
  {
   "cell_type": "markdown",
   "id": "2f37d487",
   "metadata": {},
   "source": [
    "# Get Associated HLS Id"
   ]
  },
  {
   "cell_type": "code",
   "execution_count": null,
   "id": "ea365925",
   "metadata": {},
   "outputs": [],
   "source": [
    "HLS_ID = df_validation_table[df_validation_table.planet_id == PLANET_ID].hls_id.iloc[0]\n",
    "HLS_ID"
   ]
  },
  {
   "cell_type": "markdown",
   "id": "9d56ba0a",
   "metadata": {},
   "source": [
    "# Get DSWx Products"
   ]
  },
  {
   "cell_type": "code",
   "execution_count": null,
   "id": "e69a4bef",
   "metadata": {},
   "outputs": [],
   "source": [
    "dswx_urls = df_validation_table[df_validation_table.planet_id == PLANET_ID].dswx_urls.iloc[0].split(',')\n",
    "dswx_urls"
   ]
  },
  {
   "cell_type": "code",
   "execution_count": null,
   "id": "e01548a5",
   "metadata": {},
   "outputs": [],
   "source": [
    "with rasterio.open(dswx_urls[0]) as ds:\n",
    "    X_dswx = ds.read(1)\n",
    "    p_dswx = ds.profile\n",
    "    crs_dswx = ds.crs\n",
    "    colormap = ds.colormap(1)\n",
    "    dswx_crs = ds.crs\n",
    "    kwargs = ds.meta.copy()"
   ]
  },
  {
   "cell_type": "code",
   "execution_count": null,
   "id": "0a4b18cc",
   "metadata": {},
   "outputs": [],
   "source": [
    "with rasterio.open(dswx_urls[2]) as ds:\n",
    "    conf_dsx = ds.read(1)\n",
    "    conf_colormap = ds.colormap(1)"
   ]
  },
  {
   "cell_type": "code",
   "execution_count": null,
   "id": "478e4124",
   "metadata": {},
   "outputs": [],
   "source": [
    "fontSize=7\n",
    "fontSizeTitle=8\n",
    "fig, ax = plt.subplots(dpi=150,figsize=(5,5))\n",
    "cmap = ListedColormap([np.array(colormap[key]) / 255 for key in range(256)])\n",
    "im_dswx=ax.imshow(X_dswx, interpolation='none',cmap=cmap,vmin=0,vmax=255)\n",
    "show(X_dswx, interpolation='none',cmap=cmap,vmin=0,vmax=255,transform=p_dswx['transform'],ax=ax)\n",
    "cbar=fig.colorbar(im_dswx,ax=ax,shrink=0.4,ticks=[0.5, 1.5, 2.5,5.5,8.5, 9.5])\n",
    "cbar.set_ticklabels(['Not Water', 'Open Water','Partial Surface Water','Reserved','Snow/Ice','Cloud/Cloud Shadow'],fontsize=fontSize)   \n",
    "cbar.ax.set_ylim(0,10)\n",
    "plt.xlabel('UTM easting (meters)',fontsize=fontSize)\n",
    "plt.ylabel('UTM northing (meters)',fontsize=fontSize)\n",
    "plt.xticks(fontsize = fontSize)\n",
    "plt.yticks(fontsize = fontSize)\n",
    "ax.set_title('DSWx Product for HLS tile',fontsize=fontSizeTitle);\n",
    "ax.ticklabel_format(axis='both', style='scientific',scilimits=(0,0),useOffset=False,useMathText=True)\n",
    "ax.yaxis.get_offset_text().set_fontsize(fontSize)\n",
    "ax.xaxis.get_offset_text().set_fontsize(fontSize)"
   ]
  },
  {
   "cell_type": "code",
   "execution_count": null,
   "id": "22cdac83",
   "metadata": {},
   "outputs": [],
   "source": [
    "plt.close('all')"
   ]
  },
  {
   "cell_type": "code",
   "execution_count": null,
   "id": "a5bb2a55",
   "metadata": {},
   "outputs": [],
   "source": [
    "fontSize=7\n",
    "fontSizeTitle=8\n",
    "fig, ax = plt.subplots(dpi=150,figsize=(5,5))\n",
    "cmap2 = ListedColormap([np.array(conf_colormap[key]) / 255 for key in range(256)])\n",
    "im_dswx_conf=ax.imshow(conf_dsx, \n",
    "                  interpolation='none',\n",
    "                  cmap=cmap2,\n",
    "                  vmin=0,\n",
    "                  vmax=255)\n",
    "show(conf_dsx, \n",
    "     interpolation='none',\n",
    "     cmap=cmap2,\n",
    "     vmin=0,vmax=255,\n",
    "     transform=p_dswx['transform'],\n",
    "     ax=ax)\n",
    "cbar=fig.colorbar(im_dswx_conf,ax=ax,ticks=[0, 100, 177, 253, 254, 255],shrink=0.6)\n",
    "cbar.set_ticklabels(['0', '100','Reserved','HLS Snow/Ice','HLS Cloud/Cloud Shadow', 'Not Water'],rotation=0)   \n",
    "cbar.ax.tick_params(labelsize=6)\n",
    "cbar.ax.set_ylim(0,255);\n",
    "cbar.set_label('CONF (%)')\n",
    "\n",
    "plt.xlabel('UTM easting (meters)',fontsize=fontSize)\n",
    "plt.ylabel('UTM northing (meters)',fontsize=fontSize)\n",
    "plt.xticks(fontsize = fontSize)\n",
    "plt.yticks(fontsize = fontSize)\n",
    "ax.set_title('CONF DSWx Product for HLS tile',fontsize=fontSizeTitle);\n",
    "ax.ticklabel_format(axis='both', style='scientific',scilimits=(0,0),useOffset=False,useMathText=True)\n",
    "ax.yaxis.get_offset_text().set_fontsize(fontSize)\n",
    "ax.xaxis.get_offset_text().set_fontsize(fontSize)\n",
    "\n"
   ]
  },
  {
   "cell_type": "code",
   "execution_count": null,
   "id": "8ed22ad8",
   "metadata": {},
   "outputs": [],
   "source": [
    "plt.close('all')"
   ]
  },
  {
   "cell_type": "markdown",
   "id": "c0527e0d",
   "metadata": {},
   "source": [
    "# Compare Extents\n",
    "\n",
    "Inspect the DSWx Subset and it's corresponding Validation Dataset"
   ]
  },
  {
   "cell_type": "code",
   "execution_count": null,
   "id": "668f87d6",
   "metadata": {},
   "outputs": [],
   "source": [
    "val_url = get_val_s3_path(PLANET_ID)\n",
    "with rasterio.open(val_url) as ds:\n",
    "    val_bounds = list(ds.bounds)\n",
    "    val_crs = ds.crs"
   ]
  },
  {
   "cell_type": "markdown",
   "id": "12a6b2ea",
   "metadata": {},
   "source": [
    "The two datasets are frequently in the same CRS. Just in case, we reproject to DSWx projection."
   ]
  },
  {
   "cell_type": "code",
   "execution_count": null,
   "id": "4d4ca281",
   "metadata": {},
   "outputs": [],
   "source": [
    "df_val_bounds = gpd.GeoDataFrame(geometry=[box(*val_bounds).buffer(60)],\n",
    "                                 crs=val_crs)\n",
    "df_val_bounds = df_val_bounds.to_crs(dswx_crs)\n",
    "df_val_bounds"
   ]
  },
  {
   "cell_type": "code",
   "execution_count": null,
   "id": "0f532670",
   "metadata": {},
   "outputs": [],
   "source": [
    "fontSize=7\n",
    "fontSizeTitles=8\n",
    "fig, ax = plt.subplots(1, 3, dpi=150, figsize=(10, 10))\n",
    "cmap = ListedColormap([np.array(colormap[key]) / 255 for key in range(256)])\n",
    "\n",
    "show(X_dswx, cmap=cmap, transform=p_dswx['transform'], vmin=0, vmax=255, interpolation='none', ax=ax[0])\n",
    "df_val_bounds.to_crs(crs_dswx).boundary.plot(ax=ax[0], color='black')\n",
    "ax[0].set_title('Full DSWx scene with val bbox',fontsize=fontSize)\n",
    "ax[0].set_xlabel('UTM easting (meters)',fontsize=fontSizeTitles)\n",
    "ax[0].set_ylabel('UTM northing (meters)',fontsize=fontSizeTitles)\n",
    "ax[0].ticklabel_format(axis='both', style='scientific',scilimits=(0,0),useOffset=False,useMathText=True)\n",
    "ax[0].tick_params(axis='both', which='major', labelsize=fontSize)\n",
    "ax[0].yaxis.get_offset_text().set_fontsize(fontSize)\n",
    "ax[0].xaxis.get_offset_text().set_fontsize(fontSize)\n",
    "\n",
    "show(X_dswx, cmap=cmap, transform=p_dswx['transform'], vmin=0,vmax=255, interpolation='none', ax=ax[1])\n",
    "val_bounds_dswx = df_val_bounds.to_crs(crs_dswx).total_bounds\n",
    "ax[1].set_xlim(val_bounds_dswx[0], val_bounds_dswx[2])\n",
    "ax[1].set_ylim(val_bounds_dswx[1], val_bounds_dswx[3])\n",
    "ax[1].set_title('DSWx Subset Area',fontsize=fontSizeTitles)\n",
    "ax[1].set_xlabel('UTM easting (meters)',fontsize=fontSize)\n",
    "ax[1].ticklabel_format(axis='both', style='scientific',scilimits=(0,0),useOffset=False,useMathText=True)\n",
    "ax[1].tick_params(axis='both', which='major', labelsize=fontSize)\n",
    "ax[1].yaxis.get_offset_text().set_fontsize(fontSize)\n",
    "ax[1].xaxis.get_offset_text().set_fontsize(fontSize)\n",
    "\n",
    "show(X_val, transform=p_val['transform'], ax=ax[2], interpolation='none', cmap=cmap, vmin=0, vmax=255)\n",
    "ax[2].set_title('Validation Dataset',fontsize=fontSizeTitles)\n",
    "ax[2].set_xlabel('UTM easting (meters)',fontsize=fontSize)\n",
    "ax[2].ticklabel_format(axis='both', style='scientific',scilimits=(0,0),useOffset=False,useMathText=True)\n",
    "ax[2].tick_params(axis='both', which='major', labelsize=fontSize)\n",
    "ax[2].yaxis.get_offset_text().set_fontsize(fontSize)\n",
    "ax[2].xaxis.get_offset_text().set_fontsize(fontSize)\n",
    "\n",
    "cbar=fig.colorbar(im_dswx,ax=ax,ticks=[0.5, 1.5, 2.5,5.5,8.5, 9.5],shrink=0.3,orientation='horizontal',fraction=0.32,pad=.05)\n",
    "cbar.set_ticklabels(['Not Water', 'Open Water','Partial Surface Water','Reserved','Snow/Ice','Cloud/Cloud Shadow'],rotation=45)   \n",
    "cbar.ax.tick_params(labelsize=6)\n",
    "cbar.ax.set_xlim(0,10);"
   ]
  },
  {
   "cell_type": "code",
   "execution_count": null,
   "id": "80935c31",
   "metadata": {},
   "outputs": [],
   "source": [
    "plt.close('all')"
   ]
  },
  {
   "cell_type": "markdown",
   "id": "36aa6de2",
   "metadata": {},
   "source": [
    "# Crop Datasets"
   ]
  },
  {
   "cell_type": "code",
   "execution_count": null,
   "id": "1fba3b2b",
   "metadata": {},
   "outputs": [],
   "source": [
    "from dem_stitcher.rio_window import read_raster_from_window"
   ]
  },
  {
   "cell_type": "code",
   "execution_count": null,
   "id": "a31e7399",
   "metadata": {},
   "outputs": [],
   "source": [
    "X_dswx_c, p_dswx_c = read_raster_from_window(dswx_urls[0], \n",
    "                                             list(df_val_bounds.total_bounds), \n",
    "                                             df_val_bounds.crs)"
   ]
  },
  {
   "cell_type": "code",
   "execution_count": null,
   "id": "c1e409d7",
   "metadata": {},
   "outputs": [],
   "source": [
    "conf_dswx_c, _ = read_raster_from_window(dswx_urls[2], \n",
    "                                         list(df_val_bounds.total_bounds), \n",
    "                                         df_val_bounds.crs)"
   ]
  },
  {
   "cell_type": "markdown",
   "id": "b051173d",
   "metadata": {},
   "source": [
    "# Exclude small water bodies from validation data"
   ]
  },
  {
   "cell_type": "code",
   "execution_count": null,
   "id": "47daa9b2",
   "metadata": {},
   "outputs": [],
   "source": [
    "from skimage.measure import label, regionprops\n",
    "from skimage.color import label2rgb\n",
    "\n",
    "X_val_water_only = (X_val == 1).astype(int)\n",
    "#plt.imshow(X_val_water_only, interpolation='none')\n",
    "\n",
    "water_labels = label(X_val_water_only, connectivity=2)\n",
    "water_labels_rbg = label2rgb(water_labels)"
   ]
  },
  {
   "cell_type": "code",
   "execution_count": null,
   "id": "2096ddd7",
   "metadata": {},
   "outputs": [],
   "source": [
    "fontSize=7\n",
    "fontSizeTitle=8\n",
    "fig, ax = plt.subplots(dpi=150,figsize=(4,4))\n",
    "plt.imshow(water_labels_rbg)\n",
    "plt.xlabel('pixels',fontsize=fontSize)\n",
    "plt.ylabel('pixels',fontsize=fontSize)\n",
    "plt.xticks(fontsize = fontSize)\n",
    "plt.yticks(fontsize = fontSize)\n",
    "plt.title('Labeled regions',fontsize=fontSizeTitle);"
   ]
  },
  {
   "cell_type": "code",
   "execution_count": null,
   "id": "7e821aea",
   "metadata": {},
   "outputs": [],
   "source": [
    "Val_Pixel_Area=p_val['transform'][0]*p_val['transform'][0]          #pixel area in m^2\n",
    "Water_Feature_Min_Size=30000                                        #Area Requirement: Detectable water features shall be 3 hectares, or 30,000 m^2, in size or larger \n",
    "WaterFeature_Min_Size_Pixels=Water_Feature_Min_Size/Val_Pixel_Area  #Convert 3 hectares to Validation pixel units\n",
    "WaterFeature_Min_Size_Pixels"
   ]
  },
  {
   "cell_type": "code",
   "execution_count": null,
   "id": "c1f472f6",
   "metadata": {},
   "outputs": [],
   "source": [
    "props = regionprops(water_labels)\n",
    "props[0].area\n",
    "\n",
    "labels_to_exclude = [(k+1) for (k, prop) in enumerate(props) if prop.area <= WaterFeature_Min_Size_Pixels]\n",
    "size_mask = np.isin(water_labels, labels_to_exclude)"
   ]
  },
  {
   "cell_type": "code",
   "execution_count": null,
   "id": "ed56ebcc",
   "metadata": {},
   "outputs": [],
   "source": [
    "fontSize=7\n",
    "fig, ax = plt.subplots(dpi=150,figsize=(5, 5))\n",
    "cmap = ListedColormap(['darkblue', 'yellow'])\n",
    "im=ax.imshow(size_mask, interpolation='none',cmap=cmap,vmin=np.nanmin(size_mask),vmax=np.nanmax(size_mask))\n",
    "show(size_mask, transform=p_val['transform'], interpolation='none', vmin=np.nanmin(size_mask),vmax=np.nanmax(size_mask),ax=ax,cmap=cmap)  \n",
    "cbar=fig.colorbar(im,ax=ax,shrink=0.4,ticks=[0.25, .75])\n",
    "cbar.set_ticklabels(['keep', 'remove'],fontsize=fontSize)   \n",
    "cbar.ax.set_ylim(0,1)\n",
    "ax.set_title('Water bodies to be excluded',fontsize=8);\n",
    "ax.ticklabel_format(axis='both', style='scientific',scilimits=(0,0),useOffset=False,useMathText=True)\n",
    "ax.yaxis.get_offset_text().set_fontsize(fontSize)\n",
    "ax.xaxis.get_offset_text().set_fontsize(fontSize)\n",
    "plt.xlabel('UTM easting (meters)',fontsize=fontSize)\n",
    "plt.ylabel('UTM northing (meters)',fontsize=fontSize)\n",
    "plt.yticks(fontsize=fontSize)\n",
    "plt.xticks(fontsize=fontSize);"
   ]
  },
  {
   "cell_type": "code",
   "execution_count": null,
   "id": "0752133b",
   "metadata": {},
   "outputs": [],
   "source": [
    "plt.close('all')"
   ]
  },
  {
   "cell_type": "markdown",
   "id": "79314eb5",
   "metadata": {},
   "source": [
    "# Resample Validation Dataset to DSWx Product\n",
    "\n",
    "This extracts a percent open surface water in HLS frame."
   ]
  },
  {
   "cell_type": "code",
   "execution_count": null,
   "id": "8d68dedc",
   "metadata": {},
   "outputs": [],
   "source": [
    "from dem_stitcher.rio_tools import reproject_arr_to_match_profile, update_profile_resolution\n",
    "\n",
    "X_val_temp = X_val.astype('float32')\n",
    "X_val_temp[(X_val == 10) | (X_val == 255) | size_mask] = np.nan\n",
    "\n",
    "p_val_temp = p_val.copy()\n",
    "p_val_temp['dtype'] = 'float32'\n",
    "p_val_temp['nodata'] = np.nan\n",
    "\n",
    "p_dswx_c_mod = update_profile_resolution(p_dswx_c, \n",
    "                                         p_val['transform'].a)\n",
    "\n",
    "\n",
    "X_val_per_w_int, p_per_int = reproject_arr_to_match_profile(X_val_temp,\n",
    "                                                    p_val_temp, \n",
    "                                                    p_dswx_c_mod)\n",
    "X_val_per_w_int = X_val_per_w_int[0, ...]\n",
    "\n",
    "X_val_per_w, _ = reproject_arr_to_match_profile(X_val_per_w_int,\n",
    "                                                p_per_int, \n",
    "                                                p_dswx_c)\n",
    "X_val_per_w = X_val_per_w[0, ...]"
   ]
  },
  {
   "cell_type": "code",
   "execution_count": null,
   "id": "5f90d3ae",
   "metadata": {},
   "outputs": [],
   "source": [
    "X_val_per_w.shape"
   ]
  },
  {
   "cell_type": "code",
   "execution_count": null,
   "id": "099fa80d",
   "metadata": {},
   "outputs": [],
   "source": [
    "fontSize=8\n",
    "fig, ax = plt.subplots(dpi=150,figsize=(5, 5))\n",
    "cmap = ListedColormap(['white', 'blue'])\n",
    "im=ax.imshow(X_val_per_w, interpolation='none',cmap=cmap,vmin=np.nanmin(X_val_per_w),vmax=np.nanmax(X_val_per_w))\n",
    "show(X_val_per_w, vmin=np.nanmin(X_val_per_w),vmax=np.nanmax(X_val_per_w), transform=p_dswx['transform'], ax=ax,cmap=cmap)\n",
    "cbar=fig.colorbar(im,ax=ax,shrink=0.5,ticks=[0.25, 0.75])\n",
    "cbar.set_ticklabels(['Not Water', 'Open Water'],fontsize=fontSize)   \n",
    "cbar.ax.set_ylim(np.nanmin(X_val_per_w),np.nanmax(X_val_per_w))\n",
    "ax.set_xlabel('UTM easting (meters)',fontsize=fontSize)\n",
    "ax.set_ylabel('UTM northing (meters)',fontsize=fontSize)\n",
    "plt.title('Validation data reprojected to DSWx grid',fontsize=fontSize)\n",
    "plt.xticks(fontsize = fontSize)\n",
    "plt.yticks(fontsize = fontSize);\n",
    "ax.ticklabel_format(axis='both', style='scientific',scilimits=(0,0),useOffset=False,useMathText=True)\n",
    "ax.yaxis.get_offset_text().set_fontsize(fontSize)\n",
    "ax.xaxis.get_offset_text().set_fontsize(fontSize)"
   ]
  },
  {
   "cell_type": "code",
   "execution_count": null,
   "id": "12b8b5b3",
   "metadata": {},
   "outputs": [],
   "source": [
    "plt.close('all')"
   ]
  },
  {
   "cell_type": "markdown",
   "id": "fa357edc",
   "metadata": {},
   "source": [
    "Convert to DSWx Labels."
   ]
  },
  {
   "cell_type": "code",
   "execution_count": null,
   "id": "6e5a0df8",
   "metadata": {},
   "outputs": [],
   "source": [
    "X_val_r = np.full(X_val_per_w.shape, 255)\n",
    "\n",
    "mask = np.isnan(X_val_per_w)\n",
    "\n",
    "ind_w = (X_val_per_w == 1)\n",
    "X_val_r[ind_w] = 1\n",
    "\n",
    "ind_pw = (X_val_per_w >= .5) & (X_val_per_w < 1)\n",
    "X_val_r[ind_pw] = 2\n",
    "\n",
    "ind_nw = (X_val_per_w < .5)\n",
    "X_val_r[ind_nw] = 0"
   ]
  },
  {
   "cell_type": "code",
   "execution_count": null,
   "id": "fa5712d7",
   "metadata": {},
   "outputs": [],
   "source": [
    "fontSize=6\n",
    "fig, ax = plt.subplots(1, 2, dpi=150, figsize=(8, 8))\n",
    "cmap = ListedColormap([np.array(colormap[key]) / 255 for key in range(256)])\n",
    "im=ax[0].imshow(X_dswx_c, interpolation='none',cmap=cmap,vmin=0,vmax=255)\n",
    "\n",
    "show(X_dswx_c, cmap=cmap, transform=p_dswx_c['transform'], interpolation='none', ax=ax[0], vmin=0,vmax=255)\n",
    "ax[0].set_title('DSWx Subset Area',fontsize=8)\n",
    "ax[0].set_xlabel('UTM easting (meters)',fontsize=fontSize)\n",
    "ax[0].set_ylabel('UTM northing (meters)',fontsize=fontSize)\n",
    "ax[0].ticklabel_format(axis='both', style='scientific',scilimits=(0,0),useOffset=False,useMathText=True)\n",
    "ax[0].tick_params(axis='both', which='major', labelsize=fontSize)\n",
    "ax[0].yaxis.get_offset_text().set_fontsize(fontSize)\n",
    "ax[0].xaxis.get_offset_text().set_fontsize(fontSize)\n",
    "\n",
    "show(X_val_r, cmap=cmap, transform=p_val['transform'], interpolation='none',ax=ax[1], vmin=0, vmax=255)\n",
    "ax[1].set_title('Val. Data Reprojected and Relabeled',fontsize=8)\n",
    "ax[1].set_xlabel('UTM easting (meters)',fontsize=fontSize)\n",
    "ax[1].set_ylabel('UTM northing (meters)',fontsize=fontSize)\n",
    "\n",
    "ax[1].ticklabel_format(axis='both', style='scientific',scilimits=(0,0),useOffset=False,useMathText=True)\n",
    "ax[1].tick_params(axis='both', which='major', labelsize=fontSize)\n",
    "ax[1].yaxis.get_offset_text().set_fontsize(fontSize)\n",
    "ax[1].xaxis.get_offset_text().set_fontsize(fontSize)\n",
    "\n",
    "cbar=fig.colorbar(im,ax=ax,ticks=[0.5, 1.5,2.5,5.5,8.5,9.5],shrink=0.5,orientation='horizontal',pad=.071)\n",
    "cbar.set_ticklabels(['Not Water', 'Open Water','Partial Surface Water','Reserved','Snow/Ice','Cloud/Cloud Shadow'],rotation=45)   \n",
    "cbar.ax.tick_params(labelsize=fontSize)\n",
    "cbar.ax.set_xlim(0,10);"
   ]
  },
  {
   "cell_type": "code",
   "execution_count": null,
   "id": "0a535c12",
   "metadata": {},
   "outputs": [],
   "source": [
    "plt.close('all')"
   ]
  },
  {
   "cell_type": "markdown",
   "id": "d99a7c74",
   "metadata": {},
   "source": [
    "**Warning**: In many cases, the UTM zone of the validation dataset and the OPERA DSWx product do not match. So despite some of the side-by-side plots that appear parallel, the rotation above can come as surprise. A slight rotation will occur if the below CRS's are different."
   ]
  },
  {
   "cell_type": "code",
   "execution_count": null,
   "id": "5d9566eb",
   "metadata": {},
   "outputs": [],
   "source": [
    "print('DSWx CRS: ', p_dswx['crs'])\n",
    "print('Validation CRS: ', p_val['crs'])"
   ]
  },
  {
   "cell_type": "markdown",
   "id": "cb8efe15",
   "metadata": {},
   "source": [
    "# Save Relevant Rasters for Inspection"
   ]
  },
  {
   "cell_type": "code",
   "execution_count": null,
   "id": "2ca75657",
   "metadata": {},
   "outputs": [],
   "source": [
    "dswx_urls[0].split('_B01')[0]"
   ]
  },
  {
   "cell_type": "code",
   "execution_count": null,
   "id": "4a81346b",
   "metadata": {},
   "outputs": [],
   "source": [
    "DSWx_ID = dswx_urls[0].split('_B01')[0].split('/')[-1]\n",
    "DSWx_ID"
   ]
  },
  {
   "cell_type": "code",
   "execution_count": null,
   "id": "eade197e",
   "metadata": {},
   "outputs": [],
   "source": [
    "dswx_dir = out_dir / DSWx_ID\n",
    "dswx_dir.mkdir(exist_ok=True)"
   ]
  },
  {
   "cell_type": "code",
   "execution_count": null,
   "id": "e00c588d",
   "metadata": {},
   "outputs": [],
   "source": [
    "p_dswx['crs']"
   ]
  },
  {
   "cell_type": "code",
   "execution_count": null,
   "id": "b06cd2ae",
   "metadata": {},
   "outputs": [],
   "source": [
    "p_val_save = p_dswx_c.copy()\n",
    "p_val_save['dtype'] = np.uint8\n",
    "p_val_save['nodata'] = 255\n",
    "p_val_save.update({'crs':p_dswx['crs']})\n",
    "\n",
    "with rasterio.open(dswx_dir / f'validation_r_{DSWx_ID}.tif', 'w', **p_val_save) as ds:\n",
    "    ds.write(X_val_r, 1)\n",
    "    ds.write_colormap(1, colormap)"
   ]
  },
  {
   "cell_type": "code",
   "execution_count": null,
   "id": "0f5b66de",
   "metadata": {},
   "outputs": [],
   "source": [
    "p_perc_r = p_dswx_c.copy()\n",
    "p_perc_r['dtype'] = np.float32\n",
    "p_perc_r['nodata'] = np.nan\n",
    "p_perc_r.update({'crs':p_dswx['crs']})\n",
    "\n",
    "with rasterio.open(dswx_dir / f'percent_r_{DSWx_ID}.tif', 'w', **p_perc_r) as ds:\n",
    "    ds.write(X_val_per_w, 1)"
   ]
  },
  {
   "cell_type": "code",
   "execution_count": null,
   "id": "205d38f6",
   "metadata": {},
   "outputs": [],
   "source": [
    "p_per_int.update({'crs':p_dswx['crs']})\n",
    "\n",
    "with rasterio.open(dswx_dir / f'percent_intermediate_{DSWx_ID}.tif', 'w', **p_per_int) as ds:\n",
    "    ds.write(X_val_per_w_int, 1)"
   ]
  },
  {
   "cell_type": "code",
   "execution_count": null,
   "id": "49d3d8c2",
   "metadata": {},
   "outputs": [],
   "source": [
    "p_dswx_c_save = p_dswx_c.copy()\n",
    "p_dswx_c_save['dtype'] = np.uint8\n",
    "p_dswx_c_save['nodata'] = 255\n",
    "p_dswx_c_save.update({'crs':p_dswx['crs']})\n",
    "\n",
    "with rasterio.open(dswx_dir / f'{DSWx_ID}.tif', 'w', **p_dswx_c_save) as ds:\n",
    "    ds.write(X_dswx_c, 1)\n",
    "    ds.write_colormap(1, colormap)"
   ]
  },
  {
   "cell_type": "code",
   "execution_count": null,
   "id": "e15d15df",
   "metadata": {},
   "outputs": [],
   "source": [
    "with rasterio.open(dswx_dir / f'validation_original_{DSWx_ID}.tif', 'w', **p_val) as ds:\n",
    "    ds.write(X_val, 1)\n",
    "    ds.write_colormap(1, colormap)"
   ]
  },
  {
   "cell_type": "markdown",
   "id": "8aa08bfe",
   "metadata": {},
   "source": [
    "# Scene-wise stratified sampling"
   ]
  },
  {
   "cell_type": "code",
   "execution_count": null,
   "id": "73c7ea2c",
   "metadata": {},
   "outputs": [],
   "source": [
    "shared_mask = (X_val_r == 255) | ~(np.isin(X_dswx_c, [0, 1, 2]))\n",
    "\n",
    "if CONFIDENCE_MINIMUM:\n",
    "    confidence_mask = (conf_dswx_c < CONFIDENCE_MINIMUM)\n",
    "    shared_mask = (shared_mask | confidence_mask)"
   ]
  },
  {
   "cell_type": "code",
   "execution_count": null,
   "id": "f461e845",
   "metadata": {},
   "outputs": [],
   "source": [
    "fontSize=7\n",
    "fig, ax = plt.subplots(dpi=150,figsize=(4, 4))\n",
    "cmap = ListedColormap(['darkblue', 'yellow'])\n",
    "im=ax.imshow(shared_mask, interpolation='none',cmap=cmap,vmin=np.nanmin(shared_mask),vmax=np.nanmax(shared_mask))\n",
    "show(shared_mask, transform=p_val['transform'], interpolation='none', vmin=np.nanmin(shared_mask),vmax=np.nanmax(shared_mask),ax=ax,cmap=cmap)  \n",
    "cbar=fig.colorbar(im,ax=ax,shrink=0.4,ticks=[0.25, .75])\n",
    "cbar.set_ticklabels(['keep', 'remove'],fontsize=fontSize)   \n",
    "cbar.ax.set_ylim(0,1)\n",
    "ax.set_title('Shared mask',fontsize=8);\n",
    "ax.ticklabel_format(axis='both', style='scientific',scilimits=(0,0),useOffset=False,useMathText=True)\n",
    "ax.yaxis.get_offset_text().set_fontsize(fontSize)\n",
    "ax.xaxis.get_offset_text().set_fontsize(fontSize)\n",
    "plt.xlabel('UTM easting (meters)',fontsize=fontSize)\n",
    "plt.ylabel('UTM northing (meters)',fontsize=fontSize)\n",
    "plt.yticks(fontsize=fontSize)\n",
    "plt.xticks(fontsize=fontSize);"
   ]
  },
  {
   "cell_type": "code",
   "execution_count": null,
   "id": "78fdd2f3",
   "metadata": {},
   "outputs": [],
   "source": [
    "plt.close('all')"
   ]
  },
  {
   "cell_type": "code",
   "execution_count": null,
   "id": "adfaf2dd",
   "metadata": {},
   "outputs": [],
   "source": [
    "percents, _, _ = plt.hist(X_val_r[~shared_mask], bins=3, range=(0, 3), density=True, edgecolor='black')\n",
    "plt.xticks(np.arange(0, 3)+.5, ['Not Water', 'Open Surface Water', 'Partial Surface Water'],fontsize=9)\n",
    "plt.ylabel('Percent',fontsize=9)\n",
    "plt.title('For HLS pixels to be compared, class breakdown relative to Validation data');\n",
    "plt.gca().yaxis.set_major_formatter(PercentFormatter(1))"
   ]
  },
  {
   "cell_type": "code",
   "execution_count": null,
   "id": "26dfd491",
   "metadata": {},
   "outputs": [],
   "source": [
    "percents_dswx, _, _ = plt.hist(X_dswx_c[~shared_mask], bins=3, range=(0, 3), density=True, edgecolor='black')\n",
    "plt.xticks(np.arange(0, 3)+.5, ['Not Water', 'Open Surface Water', 'Partial Surface Water'],fontsize=9)\n",
    "plt.ylabel('Percent',fontsize=9)\n",
    "plt.title('For HLS pixels to be compared, class breakdown relative to DSWx_data data');\n",
    "plt.gca().yaxis.set_major_formatter(PercentFormatter(1))"
   ]
  },
  {
   "cell_type": "code",
   "execution_count": null,
   "id": "d7364172",
   "metadata": {},
   "outputs": [],
   "source": [
    "plt.close('all')"
   ]
  },
  {
   "cell_type": "code",
   "execution_count": null,
   "id": "65b3793e",
   "metadata": {},
   "outputs": [],
   "source": [
    "f'Percents per DSWx class: {percents_dswx}'"
   ]
  },
  {
   "cell_type": "code",
   "execution_count": null,
   "id": "643fd748",
   "metadata": {},
   "outputs": [],
   "source": [
    "f'Percents per validation class: {percents}'"
   ]
  },
  {
   "cell_type": "code",
   "execution_count": null,
   "id": "3799bfc7",
   "metadata": {},
   "outputs": [],
   "source": [
    "sample_size_per_label = [int(np.ceil(percents[label] * TOTAL_PIXELS_PER_SAMPLE)) for label in [0, 1, 2]]\n",
    "if EQUAL_SAMPLING:\n",
    "    present_classes = (percents > 0).sum()\n",
    "    #always multiply by 3 because we have 3 labels\n",
    "    # sample sizes are modified depending on availability (see cell below)\n",
    "    sample_size_per_label = [int(np.ceil(TOTAL_PIXELS_PER_SAMPLE / present_classes))] * 3\n",
    "    \n",
    "sample_size_per_label"
   ]
  },
  {
   "cell_type": "code",
   "execution_count": null,
   "id": "1c67f516",
   "metadata": {},
   "outputs": [],
   "source": [
    "validation_hls_pixels = X_val_r[~shared_mask]\n",
    "dswx_hls_pixels = X_dswx_c[~shared_mask]\n",
    "\n",
    "sample_pixels = dswx_hls_pixels if SAMPLE_FROM_DSWX else validation_hls_pixels\n",
    "\n",
    "sample_str = 'dswx' if SAMPLE_FROM_DSWX else 'the validation dataset'\n",
    "f'We are sampling from {sample_str}'"
   ]
  },
  {
   "cell_type": "code",
   "execution_count": null,
   "id": "a3e18589",
   "metadata": {},
   "outputs": [],
   "source": [
    "NUMBER_OF_RANDOM_SAMPLES = 100"
   ]
  },
  {
   "cell_type": "code",
   "execution_count": null,
   "id": "f306e042",
   "metadata": {},
   "outputs": [],
   "source": [
    "np.random.seed(0)\n",
    "\n",
    "# list of lists, \n",
    "# each index corresponds to class label 0, 1, 2 and the list will contain\n",
    "# indices within the flattend array of that label\n",
    "stratified_selection = [[] for k in range(NUMBER_OF_RANDOM_SAMPLES)] \n",
    "\n",
    "for random_sample in range(NUMBER_OF_RANDOM_SAMPLES):\n",
    "    for label in [0, 1, 2]:\n",
    "        # Sampling from PRODUCT PIXELS now\n",
    "        indices = np.argwhere(sample_pixels == label).ravel()\n",
    "\n",
    "        # Determines if there are enough samples otherwise select the total number of samples available\n",
    "        subset_size = sample_size_per_label[label]\n",
    "        if not WITH_REPLACEMENT:\n",
    "            subset_size = np.minimum(subset_size, len(indices))\n",
    "            sample_size_per_label[label] = subset_size\n",
    "\n",
    "        indices_subset = np.random.choice(indices, subset_size, replace=WITH_REPLACEMENT)\n",
    "        stratified_selection[random_sample].append(indices_subset)\n",
    "sample_size_per_label"
   ]
  },
  {
   "cell_type": "code",
   "execution_count": null,
   "id": "71325fd5",
   "metadata": {},
   "outputs": [],
   "source": [
    "validation_labels = [[label for label in [0, 1, 2] \n",
    "                      for k in range(len(stratified_selection[random_sample][label]))]\n",
    "                     for j in range(NUMBER_OF_RANDOM_SAMPLES)\n",
    "                    ]\n",
    "opera_dswx_labels = [[dswx_label \n",
    "                     for label in [0, 1, 2] \n",
    "                     for dswx_label in dswx_hls_pixels[stratified_selection[random_sample][label]]]\n",
    "                     for random_sample in range(NUMBER_OF_RANDOM_SAMPLES)\n",
    "                    ]\n",
    "len(validation_labels[0]), len(opera_dswx_labels[0])"
   ]
  },
  {
   "cell_type": "code",
   "execution_count": null,
   "id": "8b6bdb8a",
   "metadata": {},
   "outputs": [],
   "source": [
    "X_samples = np.full(shared_mask.shape, 0)\n",
    "temp = X_samples[~shared_mask]\n",
    "\n",
    "k = 1\n",
    "\n",
    "RANDOM_SAMPLE_FOR_INSPECTION = 0\n",
    "\n",
    "sample2validation = {}\n",
    "sample2dswx = {}\n",
    "\n",
    "for label in [0, 1, 2]:\n",
    "    for ind in stratified_selection[RANDOM_SAMPLE_FOR_INSPECTION][label]:\n",
    "        temp[ind] = k\n",
    "        # ensure we can look up the sample id and find the correct label for the different datasets we compare\n",
    "        sample2validation[k] = label\n",
    "        sample2dswx[k] = dswx_hls_pixels[ind]\n",
    "        k += 1\n",
    "    \n",
    "X_samples[~shared_mask] = temp\n",
    "(X_samples > 0).sum()"
   ]
  },
  {
   "cell_type": "code",
   "execution_count": null,
   "id": "b17a925e",
   "metadata": {},
   "outputs": [],
   "source": [
    "features = get_geopandas_features_from_array(# Note 8 bits is not enough for 500 points\n",
    "                                             X_samples.astype(np.int32), \n",
    "                                             transform=p_dswx_c['transform'],\n",
    "                                             mask=(X_samples==0),\n",
    "                                             label_name='sample_id'\n",
    "                                            )\n",
    "df_samples = gpd.GeoDataFrame.from_features(features, \n",
    "                                            crs=p_dswx_c['crs'])\n",
    "df_samples['val_label'] = df_samples['sample_id'].map(lambda label: sample2validation[label])\n",
    "df_samples['dswx_label'] = df_samples['sample_id'].map(lambda label: sample2dswx[label])\n",
    "\n",
    "df_samples.head()"
   ]
  },
  {
   "cell_type": "code",
   "execution_count": null,
   "id": "7dc09880",
   "metadata": {},
   "outputs": [],
   "source": [
    "fontSize=7\n",
    "fontSizeTitle=8\n",
    "fig, ax = plt.subplots(dpi=150,figsize=(5,5))\n",
    "cmap = ListedColormap([np.array(colormap[key]) / 255 for key in range(256)])\n",
    "out = show(X_dswx_c,\n",
    "     cmap=cmap,\n",
    "     transform=p_dswx_c['transform'],\n",
    "     interpolation='none',\n",
    "     ax=ax,vmin=0,vmax=255)\n",
    "df_samples.to_crs(p_dswx_c['crs']).boundary.plot(ax=ax, color='magenta',alpha=1)\n",
    "ax.set_title('Sampling points (magenta) and DSWx data',fontsize=fontSizeTitle)\n",
    "ax.ticklabel_format(axis='both', style='scientific',scilimits=(0,0),useOffset=False,useMathText=True)\n",
    "plt.xlabel('UTM easting (meters)',fontsize=fontSize)\n",
    "plt.ylabel('UTM northing (meters)',fontsize=fontSize)\n",
    "\n",
    "im_dswx = out.get_images()[0]\n",
    "cbar=fig.colorbar(im_dswx,ax=ax,shrink=0.4,ticks=[0.5, 1.5, 2.5,5.5,8.5, 9.5])\n",
    "cbar.set_ticklabels(['Not Water', 'Open Water','Partial Surface Water','Reserved','Snow/Ice','Cloud/Cloud Shadow'],fontsize=fontSize)   \n",
    "cbar.ax.set_ylim(0,10);\n",
    "ax.yaxis.get_offset_text().set_fontsize(fontSize)\n",
    "ax.xaxis.get_offset_text().set_fontsize(fontSize)\n",
    "plt.yticks(fontsize=fontSize)\n",
    "plt.xticks(fontsize=fontSize);"
   ]
  },
  {
   "cell_type": "code",
   "execution_count": null,
   "id": "c9bdfd25",
   "metadata": {},
   "outputs": [],
   "source": [
    "plt.close('all')"
   ]
  },
  {
   "cell_type": "code",
   "execution_count": null,
   "id": "b21160ea",
   "metadata": {},
   "outputs": [],
   "source": [
    "fontSize=7\n",
    "fontSizeTitle=8\n",
    "fig, ax = plt.subplots(dpi=150,figsize=(5,5))\n",
    "cmap = ListedColormap([np.array(colormap[key]) / 255 for key in range(256)])\n",
    "out = show(X_val_r,cmap=cmap,transform=p_dswx_c['transform'],interpolation='none',ax=ax,vmin=0,vmax=255)\n",
    "df_samples.to_crs(p_dswx_c['crs']).boundary.plot(ax=ax, color='magenta',alpha=1)\n",
    "ax.set_title('Sampling points (magenta) and Validation data',fontsize=fontSizeTitle)\n",
    "ax.ticklabel_format(axis='both', style='scientific',scilimits=(0,0),useOffset=False,useMathText=True)\n",
    "plt.xlabel('UTM easting (meters)',fontsize=fontSize)\n",
    "plt.ylabel('UTM northing (meters)',fontsize=fontSize)\n",
    "\n",
    "im_dswx = out.get_images()[0]\n",
    "\n",
    "cbar=fig.colorbar(im_dswx,ax=ax,shrink=0.4,ticks=[0.5, 1.5, 2.5,5.5,8.5, 9.5])\n",
    "cbar.set_ticklabels(['Not Water', 'Open Water','Partial Surface Water','Reserved','Snow/Ice','Cloud/Cloud Shadow'],fontsize=fontSize)   \n",
    "cbar.ax.set_ylim(0,10);\n",
    "ax.yaxis.get_offset_text().set_fontsize(fontSize)\n",
    "ax.xaxis.get_offset_text().set_fontsize(fontSize)\n",
    "plt.yticks(fontsize=fontSize)\n",
    "plt.xticks(fontsize=fontSize);"
   ]
  },
  {
   "cell_type": "code",
   "execution_count": null,
   "id": "272987b4",
   "metadata": {},
   "outputs": [],
   "source": [
    "plt.close('all')"
   ]
  },
  {
   "cell_type": "markdown",
   "id": "7aa46d30",
   "metadata": {},
   "source": [
    "# Serialize the Images"
   ]
  },
  {
   "cell_type": "code",
   "execution_count": null,
   "id": "1a97378d",
   "metadata": {},
   "outputs": [],
   "source": [
    "with rasterio.open(dswx_dir / f'samples_{DSWx_ID}.tif', 'w', **p_dswx_c) as ds:\n",
    "    ds.write(X_samples, 1)"
   ]
  },
  {
   "cell_type": "code",
   "execution_count": null,
   "id": "917cfa52",
   "metadata": {},
   "outputs": [],
   "source": [
    "df_samples.to_file(dswx_dir / f'samples_{DSWx_ID}')"
   ]
  },
  {
   "cell_type": "markdown",
   "id": "509be624",
   "metadata": {},
   "source": [
    "# Accuracy Assessment"
   ]
  },
  {
   "cell_type": "code",
   "execution_count": null,
   "id": "466b39f8",
   "metadata": {},
   "outputs": [],
   "source": [
    "class_dict = {0: 'Not_Water',\n",
    "              1: 'Open_Surface_Water', \n",
    "              2: 'Partial_Surface_Water'}\n",
    "Target_Names=['Not_Water','Open_Surface_Water','Partial_Surface_Water']"
   ]
  },
  {
   "cell_type": "code",
   "execution_count": null,
   "id": "de12cee6",
   "metadata": {},
   "outputs": [],
   "source": [
    "y_val = np.array([[label for ind in stratified_selection[random_sample] for label in validation_hls_pixels[ind]]\n",
    "                  for random_sample in range(NUMBER_OF_RANDOM_SAMPLES)\n",
    "                 ])\n",
    "y_dswx = np.array([[label  for ind in stratified_selection[random_sample] for label in dswx_hls_pixels[ind]]\n",
    "                   for random_sample in range(NUMBER_OF_RANDOM_SAMPLES)\n",
    "                  ])\n",
    "y_dswx.shape"
   ]
  },
  {
   "cell_type": "markdown",
   "id": "ea6d11b7",
   "metadata": {
    "ExecuteTime": {
     "end_time": "2022-12-19T21:39:16.446526Z",
     "start_time": "2022-12-19T21:39:16.412851Z"
    }
   },
   "source": [
    "We just repeat the last axis so we can still do the same analysis though the aggregation is moot"
   ]
  },
  {
   "cell_type": "code",
   "execution_count": null,
   "id": "d1a87d57",
   "metadata": {},
   "outputs": [],
   "source": [
    "if USE_ENTIRE_IMAGE:\n",
    "    y_val = np.repeat(np.array(validation_hls_pixels)[None, :], NUMBER_OF_RANDOM_SAMPLES, axis=0)\n",
    "    y_dswx = np.repeat(np.array(dswx_hls_pixels)[None,:], NUMBER_OF_RANDOM_SAMPLES, axis=0)\n",
    "y_dswx.shape"
   ]
  },
  {
   "cell_type": "markdown",
   "id": "46f8ac53",
   "metadata": {},
   "source": [
    "# Get Metrics for each sample"
   ]
  },
  {
   "cell_type": "code",
   "execution_count": null,
   "id": "20d019c5",
   "metadata": {},
   "outputs": [],
   "source": [
    "def get_acc_per_class(y_val, y_dswx):\n",
    "    acc_per_class = {}\n",
    "    for c in [0, 1, 2]:\n",
    "        y_val_temp = y_val.copy()\n",
    "        y_dswx_temp = y_dswx.copy()\n",
    "\n",
    "        y_val_temp[y_val_temp != c] = 255\n",
    "        y_dswx_temp[y_dswx_temp != c] = 255\n",
    "\n",
    "        acc_per_class[f'acc_per_class.{class_dict[c]}'] = (y_val_temp == y_dswx_temp).sum() / y_dswx.size\n",
    "    return acc_per_class\n",
    "\n",
    "def get_prec_recall_score(y_val, y_dswx):\n",
    "    prec, recall, f1, supp = sklearn.metrics.precision_recall_fscore_support(y_val, y_dswx, labels=[0, 1, 2])\n",
    "    recall_per_class = {class_dict[label]: recall[label] for label in [0, 1, 2]}\n",
    "    prec_per_class = {class_dict[label]: prec[label] for label in [0, 1, 2]}\n",
    "    f1_per_class = {class_dict[label]: f1[label] for label in [0, 1, 2]}\n",
    "    supp_per_class = {class_dict[label]: int(supp[label]) for label in [0, 1, 2]}\n",
    "    \n",
    "    return {\n",
    "            'precision': prec_per_class,\n",
    "            'recall': recall_per_class,\n",
    "            'f1_per_class': f1_per_class,\n",
    "            'supp_per_class':supp_per_class}\n",
    "\n",
    "def get_confusion_matrix(y_val, y_dswx):\n",
    "    y_dswx_str = pd.Series([class_dict[class_id] for class_id in y_dswx], name='OPERA_DSWx')\n",
    "    y_val_str = pd.Series([class_dict[class_id] for class_id in y_val], name='OPERA_Validation')\n",
    "    df_conf = pd.crosstab(y_val_str, y_dswx_str)\n",
    "    df_conf_formatted = df_conf.astype(int)\n",
    "    \n",
    "    name = df_conf.index.name\n",
    "    df_conf_formatted.rename(index={index: f'{index}_{name}' for index in df_conf.index}, inplace=True)\n",
    "    col_name = df_conf.columns.name\n",
    "    df_conf_formatted.rename(columns={col: f'{col}_{col_name}' for col in df_conf.columns}, inplace=True)\n",
    "    return df_conf_formatted\n",
    "\n",
    "def get_metrics_for_one_sample(y_val, y_dswx):\n",
    "    total_acc=sklearn.metrics.accuracy_score(y_val, y_dswx)\n",
    "    \n",
    "   \n",
    "    \n",
    "    pr_dict = get_prec_recall_score(y_val, y_dswx)\n",
    "    acc_per_class = get_acc_per_class(y_val, y_dswx)\n",
    "    df_conf_formatted = get_confusion_matrix(y_val, y_dswx)\n",
    "\n",
    "    return {'total_accuracy': total_acc, \n",
    "            'confusion_matrix': df_conf_formatted.to_dict(),\n",
    "           **pr_dict, **acc_per_class}"
   ]
  },
  {
   "cell_type": "code",
   "execution_count": null,
   "id": "2f94e512",
   "metadata": {},
   "outputs": [],
   "source": [
    "from itertools import starmap\n",
    "\n",
    "data_temp = [(y_val[k], y_dswx[k]) for k in range(NUMBER_OF_RANDOM_SAMPLES)]\n",
    "metric_data = list(starmap(get_metrics_for_one_sample, tqdm(data_temp)))"
   ]
  },
  {
   "cell_type": "code",
   "execution_count": null,
   "id": "c6c85274",
   "metadata": {},
   "outputs": [],
   "source": [
    "from pandas import json_normalize\n",
    "df_all_samples = pd.DataFrame(json_normalize(metric_data))\n",
    "df_all_samples.head()"
   ]
  },
  {
   "cell_type": "markdown",
   "id": "92f14796",
   "metadata": {},
   "source": [
    "# Check Output"
   ]
  },
  {
   "cell_type": "code",
   "execution_count": null,
   "id": "d61ddc14",
   "metadata": {},
   "outputs": [],
   "source": [
    "df_all_samples.to_dict('records')[0]"
   ]
  },
  {
   "cell_type": "markdown",
   "id": "89109c14",
   "metadata": {},
   "source": [
    "# Aggregate"
   ]
  },
  {
   "cell_type": "code",
   "execution_count": null,
   "id": "10d6e1d9",
   "metadata": {},
   "outputs": [],
   "source": [
    "df_sample_stats = df_all_samples.aggregate(['mean', 'std'])\n",
    "\n",
    "# includes new column with `*.std` and `*.mean`\n",
    "temp_data = df_sample_stats.to_dict()\n",
    "df_sample_stats = pd.json_normalize(temp_data)\n",
    "df_sample_stats['dswx_id'] = DSWx_ID\n",
    "df_sample_stats['planet_id'] = PLANET_ID\n",
    "df_sample_stats"
   ]
  },
  {
   "cell_type": "markdown",
   "id": "9924d9e8",
   "metadata": {},
   "source": [
    "## Serialize All Metrics"
   ]
  },
  {
   "cell_type": "code",
   "execution_count": null,
   "id": "e5f4d8f2",
   "metadata": {},
   "outputs": [],
   "source": [
    "json.dump(df_sample_stats.to_dict('records'), open(dswx_dir / f'stats_{DSWx_ID}.json', 'w'))"
   ]
  },
  {
   "cell_type": "code",
   "execution_count": null,
   "id": "06d49d2b",
   "metadata": {},
   "outputs": [],
   "source": [
    "json.dump(df_all_samples.to_dict('records'), open(dswx_dir / f'all_samples_{DSWx_ID}.json', 'w'))"
   ]
  },
  {
   "cell_type": "markdown",
   "id": "467b90a1",
   "metadata": {},
   "source": [
    "# Get Urls"
   ]
  },
  {
   "cell_type": "code",
   "execution_count": null,
   "id": "72b3fdb3",
   "metadata": {},
   "outputs": [],
   "source": [
    "dswx_urls_dict = {f'dswx-{url.split(\".\")[-2][6:]}': url \n",
    "                  for url in dswx_urls}"
   ]
  },
  {
   "cell_type": "code",
   "execution_count": null,
   "id": "9657a8ee",
   "metadata": {},
   "outputs": [],
   "source": [
    "hls_urls_dict = get_hls_urls(HLS_ID)"
   ]
  },
  {
   "cell_type": "markdown",
   "id": "c8c276dc",
   "metadata": {},
   "source": [
    "# Verify Requirements"
   ]
  },
  {
   "cell_type": "code",
   "execution_count": null,
   "id": "d50b086b",
   "metadata": {},
   "outputs": [],
   "source": [
    "stat_records = df_sample_stats.to_dict('records')[0]\n",
    "stat_records"
   ]
  },
  {
   "cell_type": "code",
   "execution_count": null,
   "id": "aa5c56bf",
   "metadata": {},
   "outputs": [],
   "source": [
    "mu = stat_records['acc_per_class.Open_Surface_Water.mean']\n",
    "sigma = stat_records['acc_per_class.Open_Surface_Water.std']\n",
    "open_surface_water_req = (mu - sigma > .8)\n",
    "print('mu:', mu)\n",
    "print('sigma:', sigma)\n",
    "print('mu - sigma: ', mu - sigma)\n",
    "open_surface_water_req"
   ]
  },
  {
   "cell_type": "code",
   "execution_count": null,
   "id": "cdaedba1",
   "metadata": {},
   "outputs": [],
   "source": [
    "mu = stat_records['acc_per_class.Partial_Surface_Water.mean']\n",
    "sigma = stat_records['acc_per_class.Partial_Surface_Water.std']\n",
    "partial_surface_water_req = (mu - sigma > .7)\n",
    "print('mu:', mu)\n",
    "print('sigma:', sigma)\n",
    "print('mu - sigma: ', mu - sigma)\n",
    "partial_surface_water_req"
   ]
  },
  {
   "cell_type": "markdown",
   "id": "bd8c1893",
   "metadata": {},
   "source": [
    "# Serialize Again"
   ]
  },
  {
   "cell_type": "code",
   "execution_count": null,
   "id": "f6d706cf",
   "metadata": {},
   "outputs": [],
   "source": [
    "requirement_verification = {'dswx_id': DSWx_ID,\n",
    "                            'surface_water': open_surface_water_req,\n",
    "                            'partial_surface_water': partial_surface_water_req,\n",
    "                            **dswx_urls_dict,\n",
    "                            'planet_id': PLANET_ID,\n",
    "                            'validation_dataset_s3': get_val_s3_path(PLANET_ID),\n",
    "                            'hls_id': HLS_ID,\n",
    "                            **hls_urls_dict}\n",
    "\n",
    "json.dump(requirement_verification, open(dswx_dir / f'requirement_verification_{DSWx_ID}.json', 'w'))"
   ]
  },
  {
   "cell_type": "markdown",
   "id": "648ceeab",
   "metadata": {},
   "source": [
    "# One Last Inspection"
   ]
  },
  {
   "cell_type": "code",
   "execution_count": null,
   "id": "46958e96",
   "metadata": {},
   "outputs": [],
   "source": [
    "X_diff_temp=X_dswx_c-X_val_r\n",
    "X_diff=X_diff_temp\n",
    "\n",
    "X_diff=X_diff_temp.astype('float32')\n",
    "X_diff[(X_diff_temp < -5) | (X_diff_temp > 5)] = np.nan\n",
    "\n",
    "print([\"min = \"  + str(np.nanmin(X_diff)), \"max = \" + str(np.nanmax(X_diff))])"
   ]
  },
  {
   "cell_type": "code",
   "execution_count": null,
   "id": "73614ecd",
   "metadata": {},
   "outputs": [],
   "source": [
    "fontSize=7\n",
    "fontSizeTitle=8\n",
    "fig, axs = plt.subplots(1, 3, dpi=150, figsize=(20, 10))\n",
    "cmap = ListedColormap([np.array(colormap[key]) / 255 for key in range(256)])\n",
    "\n",
    "X_dswx_c_m = X_dswx_c.copy()\n",
    "X_dswx_c_m[shared_mask] = 9\n",
    "\n",
    "im0 = axs[0].imshow(X_dswx_c_m, cmap=cmap, vmin=0, interpolation='none', vmax=255)\n",
    "show(X_dswx_c_m, interpolation='none',cmap=cmap,vmin=0,vmax=255,transform=p_dswx_c['transform'],ax=axs[0])\n",
    "axs[0].set_title('DSWx',fontsize=fontSizeTitle)\n",
    "axs[0].ticklabel_format(axis='both', style='scientific',scilimits=(0,0),useOffset=False,useMathText=True)\n",
    "axs[0].set_xlabel('UTM easting (meters)',fontsize=fontSize)\n",
    "axs[0].set_ylabel('UTM northing (meters)',fontsize=fontSize)\n",
    "axs[0].yaxis.get_offset_text().set_fontsize(fontSize)\n",
    "axs[0].xaxis.get_offset_text().set_fontsize(fontSize)\n",
    "cbar=fig.colorbar(im0,ax=axs[0],shrink=0.2,ticks=[0.5, 1.5, 2.5,5.5,8.5, 9.5])\n",
    "cbar.set_ticklabels(['Not Water', 'Open Water','Partial Surface Water','Reserved','Masked','Masked'],fontsize=5,rotation=0)   \n",
    "cbar.ax.set_ylim(0,10)\n",
    "cbar.ax.tick_params(labelsize=5)\n",
    "\n",
    "X_val_r_m = X_val_r.copy()\n",
    "X_val_r_m[shared_mask] = 9\n",
    "\n",
    "im1 = axs[1].imshow(X_val_r_m, cmap=cmap, vmin=0, interpolation='none', vmax=255)\n",
    "show(X_val_r_m, interpolation='none',cmap=cmap,vmin=0,vmax=255,transform=p_dswx_c['transform'],ax=axs[1])\n",
    "axs[1].set_title('Validation data',fontsize=fontSizeTitle)\n",
    "axs[1].ticklabel_format(axis='both', style='scientific',scilimits=(0,0),useOffset=False,useMathText=True)\n",
    "axs[1].set_xlabel('UTM easting (meters)',fontsize=fontSize)\n",
    "axs[1].yaxis.get_offset_text().set_fontsize(fontSize)\n",
    "axs[1].xaxis.get_offset_text().set_fontsize(fontSize)\n",
    "cbar=fig.colorbar(im1,ax=axs[1],shrink=0.2,ticks=[0.5, 1.5, 2.5,5.5,8.5, 9.5])\n",
    "cbar.set_ticklabels(['Not Water', 'Open Water','Partial Surface Water','Reserved','Masked','Masked'],fontsize=5)   \n",
    "cbar.ax.set_ylim(0,10)\n",
    "cbar.ax.tick_params(labelsize=5)\n",
    "\n",
    "X_diff_m = X_diff.copy()\n",
    "X_diff_m[shared_mask] = 9\n",
    "\n",
    "cmapDiff=ListedColormap([(51/255,0/255, 102/255), (7/255, 137/255, 66/255), (1, 1, 1), (0,0,0),(231/255,41/255,138/255)])\n",
    "im2 = axs[2].imshow(X_diff_m, interpolation='none',vmin=-2, vmax=2,cmap=cmapDiff)\n",
    "show(X_diff, interpolation='none',vmin=-2, vmax=2,transform=p_dswx_c['transform'],ax=axs[2],cmap=cmapDiff)\n",
    "axs[2].set_title('Difference Map (DSWx - Val.)',fontsize=fontSizeTitle)\n",
    "axs[2].set_xlabel('UTM easting (meters)',fontsize=fontSize)\n",
    "axs[2].ticklabel_format(axis='both', style='scientific',scilimits=(0,0),useOffset=False,useMathText=True)\n",
    "axs[2].yaxis.get_offset_text().set_fontsize(fontSize)\n",
    "axs[2].xaxis.get_offset_text().set_fontsize(fontSize)\n",
    "cbar=fig.colorbar(im2,ax=axs[2],ticks=[-2,-1,0,1,2],shrink=0.2)\n",
    "cbar.ax.tick_params(labelsize=6)\n",
    "cbar.ax.set_ylim(-2,2)\n",
    "cbar.ax.tick_params(labelsize=5)\n",
    "im2.set_cmap(cmapDiff);\n",
    "cmapDiff.set_bad(color='gray')\n",
    "\n"
   ]
  },
  {
   "cell_type": "code",
   "execution_count": null,
   "id": "5776aa6b",
   "metadata": {},
   "outputs": [],
   "source": [
    "plt.close('all')"
   ]
  }
 ],
 "metadata": {
  "kernelspec": {
   "display_name": "dswx_val",
   "language": "python",
   "name": "dswx_val"
  },
  "language_info": {
   "codemirror_mode": {
    "name": "ipython",
    "version": 3
   },
   "file_extension": ".py",
   "mimetype": "text/x-python",
   "name": "python",
   "nbconvert_exporter": "python",
   "pygments_lexer": "ipython3",
   "version": "3.10.6"
  },
  "vscode": {
   "interpreter": {
    "hash": "f3ecaeea16fcf69a6486b5ca39899bef74685bea827dd91d1d58fb17902e42ce"
   }
  }
 },
 "nbformat": 4,
 "nbformat_minor": 5
}
