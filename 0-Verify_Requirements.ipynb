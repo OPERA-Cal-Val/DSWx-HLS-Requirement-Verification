{
 "cells": [
  {
   "cell_type": "code",
   "execution_count": null,
   "id": "000c1842",
   "metadata": {},
   "outputs": [],
   "source": [
    "%load_ext autoreload\n",
    "%autoreload 2"
   ]
  },
  {
   "cell_type": "code",
   "execution_count": null,
   "id": "b05182ac",
   "metadata": {},
   "outputs": [],
   "source": [
    "import geopandas as gpd\n",
    "from verification.val_db import (get_finalized_validation_datasets,\n",
    "                                 read_validation_dataset,\n",
    "                                 get_val_s3_path\n",
    "                                )\n",
    "\n",
    "import matplotlib.pyplot as plt\n",
    "from matplotlib.ticker import PercentFormatter\n",
    "\n",
    "import numpy as np\n",
    "from tqdm import tqdm\n",
    "import rasterio\n",
    "from matplotlib.colors import ListedColormap\n",
    "from shapely.geometry import box\n",
    "from rasterio.plot import show\n",
    "from pathlib import Path\n",
    "from verification.rio_tools import get_geopandas_features_from_array\n",
    "import pandas as pd\n",
    "import sklearn.metrics\n",
    "import json\n",
    "from verification.hls import get_hls_urls"
   ]
  },
  {
   "cell_type": "markdown",
   "id": "1ec47146",
   "metadata": {},
   "source": [
    "This index is just relative to the finalized datasets."
   ]
  },
  {
   "cell_type": "code",
   "execution_count": null,
   "id": "e3354d39",
   "metadata": {
    "tags": [
     "parameters"
    ]
   },
   "outputs": [],
   "source": [
    "PLANET_ID = '20211002_155415_1009'"
   ]
  },
  {
   "cell_type": "markdown",
   "id": "a9a832b9",
   "metadata": {},
   "source": [
    "# Table of Finalized Data"
   ]
  },
  {
   "cell_type": "code",
   "execution_count": null,
   "id": "b9346824",
   "metadata": {},
   "outputs": [],
   "source": [
    "df = get_finalized_validation_datasets()\n",
    "df.head()"
   ]
  },
  {
   "cell_type": "code",
   "execution_count": null,
   "id": "4b7be2bb",
   "metadata": {},
   "outputs": [],
   "source": [
    "f'Currently, there are {df.shape[0]} finalized datasets'"
   ]
  },
  {
   "cell_type": "markdown",
   "id": "e569e18a",
   "metadata": {},
   "source": [
    "# Read a Validation Dataset"
   ]
  },
  {
   "cell_type": "code",
   "execution_count": null,
   "id": "67f20f9f",
   "metadata": {},
   "outputs": [],
   "source": [
    "X_val, p_val = read_validation_dataset(PLANET_ID)\n",
    "p_val"
   ]
  },
  {
   "cell_type": "code",
   "execution_count": null,
   "id": "9cda7d9e",
   "metadata": {},
   "outputs": [],
   "source": [
    "Y = X_val.astype(float)\n",
    "Y[Y == 255] = np.nan\n",
    "\n",
    "fontSize=10\n",
    "fig, ax=plt.subplots(figsize=(7,7))\n",
    "cmap = ListedColormap(['white', 'blue'])\n",
    "im=ax.imshow(Y, interpolation='none',cmap=cmap,vmin=0,vmax=1)\n",
    "show(Y, interpolation='none',cmap=cmap,vmin=0,vmax=1,transform=p_val['transform'],ax=ax)\n",
    "cbar = fig.colorbar(im, ax=ax,shrink=0.7,ticks=[0.25, 0.75])\n",
    "cbar.ax.set_yticklabels(['Not Water', 'Open Water']);  # vertically oriented colorbar\n",
    "plt.xlabel('UTM easting (meters)',fontsize=fontSize)\n",
    "plt.ylabel('UTM northing (meters)',fontsize=fontSize)\n",
    "plt.xticks(fontsize = fontSize)\n",
    "plt.yticks(fontsize = fontSize)\n",
    "ax.set_title('Validation Dataset');\n",
    "ax.ticklabel_format(axis='both', style='scientific',scilimits=(0,0),useOffset=False,useMathText=True)\n",
    "ax.yaxis.get_offset_text().set_fontsize(fontSize)\n",
    "ax.xaxis.get_offset_text().set_fontsize(fontSize)"
   ]
  },
  {
   "cell_type": "markdown",
   "id": "be81a6ff",
   "metadata": {},
   "source": [
    "# Load Local Validation Table"
   ]
  },
  {
   "cell_type": "code",
   "execution_count": null,
   "id": "89b434db",
   "metadata": {},
   "outputs": [],
   "source": [
    "df_validation_table = pd.read_csv('validation_table_data.csv')\n",
    "df_validation_table.head()"
   ]
  },
  {
   "cell_type": "markdown",
   "id": "ac5435c9",
   "metadata": {},
   "source": [
    "# Get Associated HLS Id"
   ]
  },
  {
   "cell_type": "code",
   "execution_count": null,
   "id": "1b396e7b",
   "metadata": {},
   "outputs": [],
   "source": [
    "HLS_ID = df_validation_table[df_validation_table.planet_id == PLANET_ID].hls_id.iloc[0]\n",
    "HLS_ID"
   ]
  },
  {
   "cell_type": "markdown",
   "id": "66218ecc",
   "metadata": {},
   "source": [
    "# Get DSWx Products"
   ]
  },
  {
   "cell_type": "code",
   "execution_count": null,
   "id": "2e0f50c3",
   "metadata": {},
   "outputs": [],
   "source": [
    "dswx_urls = df_validation_table[df_validation_table.planet_id == PLANET_ID].dswx_urls.iloc[0].split(',')\n",
    "dswx_urls"
   ]
  },
  {
   "cell_type": "code",
   "execution_count": null,
   "id": "fa30c600",
   "metadata": {},
   "outputs": [],
   "source": [
    "with rasterio.open(dswx_urls[0]) as ds:\n",
    "    X_dswx = ds.read(1)\n",
    "    p_dswx = ds.profile\n",
    "    crs_dswx = ds.crs\n",
    "    colormap = ds.colormap(1)\n",
    "    dswx_crs = ds.crs"
   ]
  },
  {
   "cell_type": "code",
   "execution_count": null,
   "id": "c43dd38e",
   "metadata": {},
   "outputs": [],
   "source": [
    "fontSize=7\n",
    "fontSizeTitle=8\n",
    "fig, ax = plt.subplots(dpi=150,figsize=(5,5))\n",
    "cmap = ListedColormap([np.array(colormap[key]) / 255 for key in range(256)])\n",
    "im_dswx=ax.imshow(X_dswx, interpolation='none',cmap=cmap,vmin=0,vmax=255)\n",
    "show(X_dswx, interpolation='none',cmap=cmap,vmin=0,vmax=255,transform=p_dswx['transform'],ax=ax)\n",
    "cbar=fig.colorbar(im_dswx,ax=ax,shrink=0.4,ticks=[0.5, 1.5, 2.5,5.5,8.5, 9.5])\n",
    "cbar.set_ticklabels(['Not Water', 'Open Water','Partial Surface Water','Reserved','Snow/Ice','Cloud/Cloud Shadow'],fontsize=fontSize)   \n",
    "cbar.ax.set_ylim(0,10)\n",
    "plt.xlabel('UTM easting (meters)',fontsize=fontSize)\n",
    "plt.ylabel('UTM northing (meters)',fontsize=fontSize)\n",
    "plt.xticks(fontsize = fontSize)\n",
    "plt.yticks(fontsize = fontSize)\n",
    "ax.set_title('DSWx Product for HLS tile',fontsize=fontSizeTitle);\n",
    "ax.ticklabel_format(axis='both', style='scientific',scilimits=(0,0),useOffset=False,useMathText=True)\n",
    "ax.yaxis.get_offset_text().set_fontsize(fontSize)\n",
    "ax.xaxis.get_offset_text().set_fontsize(fontSize)"
   ]
  },
  {
   "cell_type": "markdown",
   "id": "b675d44d",
   "metadata": {},
   "source": [
    "# Compare Extents\n",
    "\n",
    "Inspect the DSWx Subset and it's corresponding Validation Dataset"
   ]
  },
  {
   "cell_type": "code",
   "execution_count": null,
   "id": "79cc8973",
   "metadata": {},
   "outputs": [],
   "source": [
    "val_url = get_val_s3_path(PLANET_ID)\n",
    "with rasterio.open(val_url) as ds:\n",
    "    val_bounds = list(ds.bounds)\n",
    "    val_crs = ds.crs"
   ]
  },
  {
   "cell_type": "markdown",
   "id": "f1539368",
   "metadata": {},
   "source": [
    "The two datasets are frequently in the same CRS. Just in case, we reproject to DSWx projection."
   ]
  },
  {
   "cell_type": "code",
   "execution_count": null,
   "id": "2b386817",
   "metadata": {},
   "outputs": [],
   "source": [
    "df_val_bounds = gpd.GeoDataFrame(geometry=[box(*val_bounds).buffer(60)],\n",
    "                                 crs=val_crs)\n",
    "df_val_bounds = df_val_bounds.to_crs(dswx_crs)\n",
    "df_val_bounds"
   ]
  },
  {
   "cell_type": "code",
   "execution_count": null,
   "id": "2bcdf4b9",
   "metadata": {},
   "outputs": [],
   "source": [
    "fontSize=7\n",
    "fontSizeTitles=8\n",
    "fig, ax = plt.subplots(1, 3, dpi=150, figsize=(10, 10))\n",
    "cmap = ListedColormap([np.array(colormap[key]) / 255 for key in range(256)])\n",
    "\n",
    "show(X_dswx, cmap=cmap, transform=p_dswx['transform'], vmin=0, vmax=255, interpolation='none', ax=ax[0])\n",
    "df_val_bounds.to_crs(crs_dswx).boundary.plot(ax=ax[0], color='black')\n",
    "ax[0].set_title('Full DSWx scene with val bbox',fontsize=fontSize)\n",
    "ax[0].set_xlabel('UTM easting (meters)',fontsize=fontSizeTitles)\n",
    "ax[0].set_ylabel('UTM northing (meters)',fontsize=fontSizeTitles)\n",
    "ax[0].ticklabel_format(axis='both', style='scientific',scilimits=(0,0),useOffset=False,useMathText=True)\n",
    "ax[0].tick_params(axis='both', which='major', labelsize=fontSize)\n",
    "ax[0].yaxis.get_offset_text().set_fontsize(fontSize)\n",
    "ax[0].xaxis.get_offset_text().set_fontsize(fontSize)\n",
    "\n",
    "show(X_dswx, cmap=cmap, transform=p_dswx['transform'], vmin=0,vmax=255, interpolation='none', ax=ax[1])\n",
    "val_bounds_dswx = df_val_bounds.to_crs(crs_dswx).total_bounds\n",
    "ax[1].set_xlim(val_bounds_dswx[0], val_bounds_dswx[2])\n",
    "ax[1].set_ylim(val_bounds_dswx[1], val_bounds_dswx[3])\n",
    "ax[1].set_title('DSWx Subset Area',fontsize=fontSizeTitles)\n",
    "ax[1].set_xlabel('UTM easting (meters)',fontsize=fontSize)\n",
    "ax[1].ticklabel_format(axis='both', style='scientific',scilimits=(0,0),useOffset=False,useMathText=True)\n",
    "ax[1].tick_params(axis='both', which='major', labelsize=fontSize)\n",
    "ax[1].yaxis.get_offset_text().set_fontsize(fontSize)\n",
    "ax[1].xaxis.get_offset_text().set_fontsize(fontSize)\n",
    "\n",
    "show(X_val, transform=p_val['transform'], ax=ax[2], interpolation='none', cmap=cmap, vmin=0, vmax=255)\n",
    "ax[2].set_title('Validation Dataset',fontsize=fontSizeTitles)\n",
    "ax[2].set_xlabel('UTM easting (meters)',fontsize=fontSize)\n",
    "ax[2].ticklabel_format(axis='both', style='scientific',scilimits=(0,0),useOffset=False,useMathText=True)\n",
    "ax[2].tick_params(axis='both', which='major', labelsize=fontSize)\n",
    "ax[2].yaxis.get_offset_text().set_fontsize(fontSize)\n",
    "ax[2].xaxis.get_offset_text().set_fontsize(fontSize)\n",
    "\n",
    "cbar=fig.colorbar(im_dswx,ax=ax,ticks=[0.5, 1.5, 2.5,5.5,8.5, 9.5],shrink=0.3,orientation='horizontal',fraction=0.32,pad=.05)\n",
    "cbar.set_ticklabels(['Not Water', 'Open Water','Partial Surface Water','Reserved','Snow/Ice','Cloud/Cloud Shadow'],rotation=45)   \n",
    "cbar.ax.tick_params(labelsize=6)\n",
    "cbar.ax.set_xlim(0,10);"
   ]
  },
  {
   "cell_type": "markdown",
   "id": "5ae7a090",
   "metadata": {},
   "source": [
    "# Crop Datasets"
   ]
  },
  {
   "cell_type": "code",
   "execution_count": null,
   "id": "bfc7ddfa",
   "metadata": {},
   "outputs": [],
   "source": [
    "from dem_stitcher.rio_window import read_raster_from_window"
   ]
  },
  {
   "cell_type": "code",
   "execution_count": null,
   "id": "ae0974a6",
   "metadata": {},
   "outputs": [],
   "source": [
    "X_dswx_c, p_dswx_c = read_raster_from_window(dswx_urls[0], \n",
    "                                             list(df_val_bounds.total_bounds), \n",
    "                                             df_val_bounds.crs)"
   ]
  },
  {
   "cell_type": "markdown",
   "id": "67baac82",
   "metadata": {},
   "source": [
    "# Resample Validation Dataset to DSWx Product\n",
    "\n",
    "This extracts a percent open surface water in HLS frame."
   ]
  },
  {
   "cell_type": "code",
   "execution_count": null,
   "id": "88b1bb49",
   "metadata": {},
   "outputs": [],
   "source": [
    "from dem_stitcher.rio_tools import reproject_arr_to_match_profile, update_profile_resolution\n",
    "\n",
    "X_val_temp = X_val.astype('float32')\n",
    "X_val_temp[(X_val == 10) | (X_val == 255)] = np.nan\n",
    "\n",
    "p_val_temp = p_val.copy()\n",
    "p_val_temp['dtype'] = 'float32'\n",
    "p_val_temp['nodata'] = np.nan\n",
    "\n",
    "p_dswx_c_mod = update_profile_resolution(p_dswx_c, \n",
    "                                         p_val['transform'].a)\n",
    "\n",
    "\n",
    "X_val_per_w_int, p_per_int = reproject_arr_to_match_profile(X_val_temp,\n",
    "                                                    p_val_temp, \n",
    "                                                    p_dswx_c_mod)\n",
    "X_val_per_w_int = X_val_per_w_int[0, ...]\n",
    "\n",
    "X_val_per_w, _ = reproject_arr_to_match_profile(X_val_per_w_int,\n",
    "                                                p_per_int, \n",
    "                                                p_dswx_c)\n",
    "X_val_per_w = X_val_per_w[0, ...]"
   ]
  },
  {
   "cell_type": "code",
   "execution_count": null,
   "id": "87798349",
   "metadata": {},
   "outputs": [],
   "source": [
    "fontSize=8\n",
    "fig, ax = plt.subplots(dpi=150,figsize=(5, 5))\n",
    "# cmap = ListedColormap([np.array(colormap[key]) / 255 for key in range(256)])\n",
    "cmap = ListedColormap(['white', 'blue'])\n",
    "im=ax.imshow(X_val_per_w, interpolation='none',cmap=cmap,vmin=np.nanmin(X_val_per_w),vmax=np.nanmax(X_val_per_w))\n",
    "show(X_val_per_w, vmin=np.nanmin(X_val_per_w),vmax=np.nanmax(X_val_per_w), transform=p_dswx['transform'], ax=ax,cmap=cmap)\n",
    "cbar=fig.colorbar(im,ax=ax,shrink=0.5,ticks=[0.25, 0.75])\n",
    "cbar.set_ticklabels(['Not Water', 'Open Water'],fontsize=fontSize)   \n",
    "cbar.ax.set_ylim(np.nanmin(X_val_per_w),np.nanmax(X_val_per_w))\n",
    "ax.set_xlabel('UTM easting (meters)',fontsize=fontSize)\n",
    "ax.set_ylabel('UTM northing (meters)',fontsize=fontSize)\n",
    "plt.title('Validation data reprojected to DSWx grid',fontsize=fontSize)\n",
    "plt.xticks(fontsize = fontSize)\n",
    "plt.yticks(fontsize = fontSize);\n",
    "ax.ticklabel_format(axis='both', style='scientific',scilimits=(0,0),useOffset=False,useMathText=True)\n",
    "ax.yaxis.get_offset_text().set_fontsize(fontSize)\n",
    "ax.xaxis.get_offset_text().set_fontsize(fontSize)"
   ]
  },
  {
   "cell_type": "markdown",
   "id": "2b60b887",
   "metadata": {},
   "source": [
    "Convert to DSWx Labels."
   ]
  },
  {
   "cell_type": "code",
   "execution_count": null,
   "id": "6dfb70bd",
   "metadata": {},
   "outputs": [],
   "source": [
    "X_val_r = np.full(X_val_per_w.shape, 255)\n",
    "\n",
    "mask = np.isnan(X_val_per_w)\n",
    "\n",
    "ind_w = (X_val_per_w == 1)\n",
    "X_val_r[ind_w] = 1\n",
    "\n",
    "ind_pw = (X_val_per_w >= .5) & (X_val_per_w < 1)\n",
    "X_val_r[ind_pw] = 2\n",
    "\n",
    "ind_nw = (X_val_per_w < .5)\n",
    "X_val_r[ind_nw] = 0"
   ]
  },
  {
   "cell_type": "code",
   "execution_count": null,
   "id": "98513dbf",
   "metadata": {},
   "outputs": [],
   "source": [
    "fontSize=6\n",
    "fig, ax = plt.subplots(1, 2, dpi=150, figsize=(8, 8))\n",
    "cmap = ListedColormap([np.array(colormap[key]) / 255 for key in range(256)])\n",
    "im=ax[0].imshow(X_dswx_c, interpolation='none',cmap=cmap,vmin=0,vmax=255)\n",
    "\n",
    "show(X_dswx_c, cmap=cmap, transform=p_dswx_c['transform'], interpolation='none', ax=ax[0], vmin=0,vmax=255)\n",
    "ax[0].set_title('DSWx Subset Area',fontsize=8)\n",
    "ax[0].set_xlabel('UTM easting (meters)',fontsize=fontSize)\n",
    "ax[0].set_ylabel('UTM northing (meters)',fontsize=fontSize)\n",
    "ax[0].ticklabel_format(axis='both', style='scientific',scilimits=(0,0),useOffset=False,useMathText=True)\n",
    "ax[0].tick_params(axis='both', which='major', labelsize=fontSize)\n",
    "ax[0].yaxis.get_offset_text().set_fontsize(fontSize)\n",
    "ax[0].xaxis.get_offset_text().set_fontsize(fontSize)\n",
    "\n",
    "show(X_val_r, cmap=cmap, transform=p_val['transform'], interpolation='none',ax=ax[1], vmin=0, vmax=255)\n",
    "ax[1].set_title('Val. Data Reprojected and Relabeled',fontsize=8)\n",
    "ax[1].set_xlabel('UTM easting (meters)',fontsize=fontSize)\n",
    "ax[1].set_ylabel('UTM northing (meters)',fontsize=fontSize)\n",
    "\n",
    "ax[1].ticklabel_format(axis='both', style='scientific',scilimits=(0,0),useOffset=False,useMathText=True)\n",
    "ax[1].tick_params(axis='both', which='major', labelsize=fontSize)\n",
    "ax[1].yaxis.get_offset_text().set_fontsize(fontSize)\n",
    "ax[1].xaxis.get_offset_text().set_fontsize(fontSize)\n",
    "\n",
    "cbar=fig.colorbar(im,ax=ax,ticks=[0.5, 1.5,2.5,5.5,8.5,9.5],shrink=0.5,orientation='horizontal',pad=.071)\n",
    "cbar.set_ticklabels(['Not Water', 'Open Water','Partial Surface Water','Reserved','Snow/Ice','Cloud/Cloud Shadow'],rotation=45)   \n",
    "cbar.ax.tick_params(labelsize=fontSize)\n",
    "cbar.ax.set_xlim(0,10);"
   ]
  },
  {
   "cell_type": "markdown",
   "id": "41a706e2",
   "metadata": {},
   "source": [
    "**Warning**: In many cases, the UTM zone of the validation dataset and the OPERA DSWx product do not match. So despite some of the side-by-side plots that appear parallel, the rotation above can come as surprise. A slight rotation will occur if the below CRS's are different."
   ]
  },
  {
   "cell_type": "code",
   "execution_count": null,
   "id": "7c9c568e",
   "metadata": {},
   "outputs": [],
   "source": [
    "print('DSWx CRS: ', p_dswx['crs'])\n",
    "print('Validation CRS: ', p_val['crs'])"
   ]
  },
  {
   "cell_type": "markdown",
   "id": "5bd43576",
   "metadata": {},
   "source": [
    "# Save Relevant Rasters for Inspection"
   ]
  },
  {
   "cell_type": "code",
   "execution_count": null,
   "id": "423578ca",
   "metadata": {},
   "outputs": [],
   "source": [
    "dswx_urls[0].split('_B01')[0]"
   ]
  },
  {
   "cell_type": "code",
   "execution_count": null,
   "id": "ef3cd8b2",
   "metadata": {},
   "outputs": [],
   "source": [
    "DSWx_ID = dswx_urls[0].split('_B01')[0].split('/')[-1]\n",
    "DSWx_ID"
   ]
  },
  {
   "cell_type": "code",
   "execution_count": null,
   "id": "e7a975c5",
   "metadata": {},
   "outputs": [],
   "source": [
    "out_dir = Path('verification_assessment_data') / DSWx_ID\n",
    "out_dir.mkdir(exist_ok=True, parents=True)"
   ]
  },
  {
   "cell_type": "code",
   "execution_count": null,
   "id": "8f243f29",
   "metadata": {},
   "outputs": [],
   "source": [
    "p_val_r = p_dswx_c.copy()\n",
    "p_val_r['dtype'] = np.uint8\n",
    "p_val_r['nodata'] = 255\n",
    "\n",
    "with rasterio.open(out_dir / f'validation_r_{DSWx_ID}.tif', 'w', **p_val_r) as ds:\n",
    "    ds.write(X_val_r, 1)\n",
    "    ds.write_colormap(1, colormap)"
   ]
  },
  {
   "cell_type": "code",
   "execution_count": null,
   "id": "091a6596",
   "metadata": {},
   "outputs": [],
   "source": [
    "p_perc_r = p_dswx_c.copy()\n",
    "p_perc_r['dtype'] = np.float32\n",
    "p_perc_r['nodata'] = np.nan\n",
    "\n",
    "with rasterio.open(out_dir / f'percent_r_{DSWx_ID}.tif', 'w', **p_perc_r) as ds:\n",
    "    ds.write(X_val_per_w, 1)"
   ]
  },
  {
   "cell_type": "code",
   "execution_count": null,
   "id": "d652656f",
   "metadata": {},
   "outputs": [],
   "source": [
    "with rasterio.open(out_dir / f'percent_intermediate_{DSWx_ID}.tif', 'w', **p_per_int) as ds:\n",
    "    ds.write(X_val_per_w_int, 1)"
   ]
  },
  {
   "cell_type": "code",
   "execution_count": null,
   "id": "4fd82896",
   "metadata": {},
   "outputs": [],
   "source": [
    "with rasterio.open(out_dir / f'{DSWx_ID}.tif', 'w', **p_dswx_c) as ds:\n",
    "    ds.write(X_dswx_c, 1)\n",
    "    ds.write_colormap(1, colormap)"
   ]
  },
  {
   "cell_type": "code",
   "execution_count": null,
   "id": "073086e4",
   "metadata": {},
   "outputs": [],
   "source": [
    "with rasterio.open(out_dir / f'validation_original_{DSWx_ID}.tif', 'w', **p_val) as ds:\n",
    "    ds.write(X_val, 1)\n",
    "    ds.write_colormap(1, colormap)"
   ]
  },
  {
   "cell_type": "markdown",
   "id": "5d738069",
   "metadata": {},
   "source": [
    "# Scene-wise stratified sampling"
   ]
  },
  {
   "cell_type": "code",
   "execution_count": null,
   "id": "73e24e47",
   "metadata": {},
   "outputs": [],
   "source": [
    "shared_mask = (X_val_r == 255) | ~(np.isin(X_dswx_c, [0, 1, 2]))\n",
    "\n",
    "fontSize=7\n",
    "fig, ax = plt.subplots(dpi=150,figsize=(4, 4))\n",
    "cmap = ListedColormap(['darkblue', 'yellow'])\n",
    "im=ax.imshow(shared_mask, interpolation='none',cmap=cmap,vmin=np.nanmin(shared_mask),vmax=np.nanmax(shared_mask))\n",
    "show(shared_mask, transform=p_val['transform'], interpolation='none', vmin=np.nanmin(shared_mask),vmax=np.nanmax(shared_mask),ax=ax,cmap=cmap)  \n",
    "cbar=fig.colorbar(im,ax=ax,shrink=0.4,ticks=[0.25, .75])\n",
    "cbar.set_ticklabels(['keep', 'remove'],fontsize=fontSize)   \n",
    "cbar.ax.set_ylim(0,1)\n",
    "ax.set_title('Shared mask',fontsize=8);\n",
    "ax.ticklabel_format(axis='both', style='scientific',scilimits=(0,0),useOffset=False,useMathText=True)\n",
    "ax.yaxis.get_offset_text().set_fontsize(fontSize)\n",
    "ax.xaxis.get_offset_text().set_fontsize(fontSize)\n",
    "plt.xlabel('UTM easting (meters)',fontsize=fontSize)\n",
    "plt.ylabel('UTM northing (meters)',fontsize=fontSize)\n",
    "plt.yticks(fontsize=fontSize)\n",
    "plt.xticks(fontsize=fontSize);"
   ]
  },
  {
   "cell_type": "code",
   "execution_count": null,
   "id": "67b75b9d",
   "metadata": {},
   "outputs": [],
   "source": [
    "percents, _, _ = plt.hist(X_val_r[~shared_mask], bins=3, range=(0, 3), density=True, edgecolor='black')\n",
    "plt.xticks(np.arange(0, 3)+.5, ['Not Water', 'Open Surface Water', 'Partial Surface Water'],fontsize=9)\n",
    "plt.ylabel('Percent',fontsize=9)\n",
    "plt.title('For HLS pixels to be compared, class breakdown relative to Validation data');\n",
    "plt.gca().yaxis.set_major_formatter(PercentFormatter(1))"
   ]
  },
  {
   "cell_type": "code",
   "execution_count": null,
   "id": "1e1feb69",
   "metadata": {},
   "outputs": [],
   "source": [
    "plt.close('all')"
   ]
  },
  {
   "cell_type": "code",
   "execution_count": null,
   "id": "9e0534fe",
   "metadata": {},
   "outputs": [],
   "source": [
    "np.random.seed(0)\n",
    "# list of lists, \n",
    "# each index corresponds to class label 0, 1, 2 and the list will contain\n",
    "# indices within the flattend array of that label\n",
    "stratified_selection = [] \n",
    "validation_hls_pixels = X_val_r[~shared_mask]\n",
    "dswx_hls_pixels = X_dswx_c[~shared_mask]\n",
    "\n",
    "TOTAL_SAMPLES = 500\n",
    "\n",
    "for label in [0, 1, 2]:\n",
    "    indices = np.argwhere(validation_hls_pixels == label).ravel()\n",
    "    subset_size = int(np.ceil(percents[label] * TOTAL_SAMPLES))\n",
    "    indices_subset = np.random.choice(indices, subset_size, replace=False)\n",
    "    stratified_selection.append(indices_subset)\n"
   ]
  },
  {
   "cell_type": "code",
   "execution_count": null,
   "id": "7a474885",
   "metadata": {},
   "outputs": [],
   "source": [
    "validation_labels = [label for label in [0, 1, 2] for k in range(len(stratified_selection[label]))]\n",
    "opera_dswx_labels = [dswx_label \n",
    "                     for label in [0, 1, 2] \n",
    "                     for dswx_label in dswx_hls_pixels[stratified_selection[label]]]\n",
    "len(validation_labels), len(opera_dswx_labels)"
   ]
  },
  {
   "cell_type": "code",
   "execution_count": null,
   "id": "7e7c5289",
   "metadata": {},
   "outputs": [],
   "source": [
    "X_samples = np.full(shared_mask.shape, 0)\n",
    "temp = X_samples[~shared_mask]\n",
    "\n",
    "k = 1\n",
    "\n",
    "sample2validation = {}\n",
    "sample2dswx = {}\n",
    "\n",
    "for label in [0, 1, 2]:\n",
    "    for ind in stratified_selection[label]:\n",
    "        temp[ind] = k\n",
    "        # ensure we can look up the sample id and find the correct label for the different datasets we compare\n",
    "        sample2validation[k] = label\n",
    "        sample2dswx[k] = dswx_hls_pixels[ind]\n",
    "        k += 1\n",
    "    \n",
    "X_samples[~shared_mask] = temp\n",
    "(X_samples > 0).sum()"
   ]
  },
  {
   "cell_type": "code",
   "execution_count": null,
   "id": "31885df0",
   "metadata": {},
   "outputs": [],
   "source": [
    "features = get_geopandas_features_from_array(# Note 8 bits is not enough for 500 points\n",
    "                                             X_samples.astype(np.int32), \n",
    "                                             transform=p_dswx_c['transform'],\n",
    "                                             mask=(X_samples==0),\n",
    "                                             label_name='sample_id'\n",
    "                                            )\n",
    "df_samples = gpd.GeoDataFrame.from_features(features, \n",
    "                                            crs=p_dswx_c['crs'])\n",
    "df_samples['val_label'] = df_samples['sample_id'].map(lambda label: sample2validation[label])\n",
    "df_samples['dswx_label'] = df_samples['sample_id'].map(lambda label: sample2dswx[label])\n",
    "\n",
    "df_samples.head()"
   ]
  },
  {
   "cell_type": "code",
   "execution_count": null,
   "id": "9b79faef",
   "metadata": {},
   "outputs": [],
   "source": [
    "fontSize=7\n",
    "fontSizeTitles=8\n",
    "fig, ax = plt.subplots(1, 2, dpi=150, figsize=(8, 8))\n",
    "cmap = ListedColormap([np.array(colormap[key]) / 255 for key in range(256)])\n",
    "\n",
    "show(X_dswx_c,cmap=cmap,transform=p_dswx_c['transform'],interpolation='none',ax=ax[0],vmin=0,vmax=255)\n",
    "df_samples.to_crs(p_dswx_c['crs']).boundary.plot(ax=ax[0], color='magenta',alpha=1)\n",
    "ax[0].set_title('Sampling points (magenta) and DSWx data',fontsize=fontSizeTitles)\n",
    "ax[0].set_xlabel('UTM easting (meters)',fontsize=fontSizeTitles)\n",
    "ax[0].set_ylabel('UTM northing (meters)',fontsize=fontSizeTitles)\n",
    "ax[0].ticklabel_format(axis='both', style='scientific',scilimits=(0,0),useOffset=False,useMathText=True)\n",
    "ax[0].tick_params(axis='both', which='major', labelsize=fontSize)\n",
    "ax[0].yaxis.get_offset_text().set_fontsize(fontSize)\n",
    "ax[0].xaxis.get_offset_text().set_fontsize(fontSize)\n",
    "\n",
    "show(X_val_r, cmap=cmap, transform=p_val_r['transform'], interpolation='none',ax=ax[1], vmin=0, vmax=255)\n",
    "df_samples.to_crs(p_val_r['crs']).boundary.plot(ax=ax[1], color='magenta',alpha=1)\n",
    "ax[1].set_title('Sampling points (magenta) and Validation data',fontsize=fontSizeTitles)\n",
    "ax[1].set_xlabel('UTM easting (meters)',fontsize=fontSize)\n",
    "ax[1].ticklabel_format(axis='both', style='scientific',scilimits=(0,0),useOffset=False,useMathText=True)\n",
    "ax[1].tick_params(axis='both', which='major', labelsize=fontSize)\n",
    "ax[1].yaxis.get_offset_text().set_fontsize(fontSize)\n",
    "ax[1].xaxis.get_offset_text().set_fontsize(fontSize)"
   ]
  },
  {
   "cell_type": "code",
   "execution_count": null,
   "id": "aba4ce3a",
   "metadata": {},
   "outputs": [],
   "source": [
    "with rasterio.open(out_dir / f'samples_{DSWx_ID}.tif', 'w', **p_dswx_c) as ds:\n",
    "    ds.write(X_samples, 1)"
   ]
  },
  {
   "cell_type": "code",
   "execution_count": null,
   "id": "27af3d7c",
   "metadata": {},
   "outputs": [],
   "source": [
    "df_samples.to_file(out_dir / f'samples_{DSWx_ID}')"
   ]
  },
  {
   "cell_type": "markdown",
   "id": "1678a074",
   "metadata": {},
   "source": [
    "# Accuracy Assessment"
   ]
  },
  {
   "cell_type": "code",
   "execution_count": null,
   "id": "3bb0c7be",
   "metadata": {},
   "outputs": [],
   "source": [
    "class_dict = {0: 'Not_Water',\n",
    "              1: 'Open_Surface_Water', \n",
    "              2: 'Partial_Surface_Water'}\n",
    "Target_Names=['Not_Water','Open_Surface_Water','Partial_Surface_Water']\n",
    "\n",
    "y_val = validation_hls_pixels\n",
    "y_dswx = dswx_hls_pixels\n",
    "\n",
    "## comment to inspect all pixels\n",
    "y_val = np.array([label for ind in stratified_selection for label in validation_hls_pixels[ind]])\n",
    "y_dswx = np.array([label  for ind in stratified_selection for label in dswx_hls_pixels[ind]])"
   ]
  },
  {
   "cell_type": "markdown",
   "id": "14252664",
   "metadata": {},
   "source": [
    "## Total Accuracy"
   ]
  },
  {
   "cell_type": "code",
   "execution_count": null,
   "id": "c5df66e6",
   "metadata": {},
   "outputs": [],
   "source": [
    "# total_acc=(y_dswx == y_val).sum()/y_val.size\n",
    "total_acc=sklearn.metrics.accuracy_score(y_val, y_dswx)\n",
    "print('Total Accuracy = ', total_acc*100 ,'%')"
   ]
  },
  {
   "cell_type": "markdown",
   "id": "d51ce558",
   "metadata": {},
   "source": [
    "## Confusion Matrix"
   ]
  },
  {
   "cell_type": "code",
   "execution_count": null,
   "id": "0c821e84",
   "metadata": {},
   "outputs": [],
   "source": [
    "y_dswx_str = pd.Series([class_dict[class_id] for class_id in y_dswx], name='OPERA_DSWx')\n",
    "y_val_str = pd.Series([class_dict[class_id] for class_id in y_val], name='OPERA_Validation')\n",
    "df_conf = pd.crosstab(y_val_str, y_dswx_str)\n",
    "df_conf"
   ]
  },
  {
   "cell_type": "code",
   "execution_count": null,
   "id": "49dd6b72",
   "metadata": {},
   "outputs": [],
   "source": [
    "df_conf_formatted = df_conf.astype(int)\n",
    "name = df_conf.index.name\n",
    "df_conf_formatted.rename(index={index: f'{index}_{name}' for index in df_conf.index}, inplace=True)\n",
    "col_name = df_conf.columns.name\n",
    "df_conf_formatted.rename(columns={col: f'{col}_{col_name}' for col in df_conf.columns}, inplace=True)\n",
    "df_conf_formatted.to_dict();"
   ]
  },
  {
   "cell_type": "markdown",
   "id": "cee7c500",
   "metadata": {},
   "source": [
    "## Classification Report"
   ]
  },
  {
   "cell_type": "code",
   "execution_count": null,
   "id": "8fb7b3b8",
   "metadata": {},
   "outputs": [],
   "source": [
    "prec, recall, f1, supp = sklearn.metrics.precision_recall_fscore_support(y_val, y_dswx, labels=[0, 1, 2])\n",
    "recall_per_class = {class_dict[label]: recall[label] for label in [0, 1, 2]}\n",
    "prec_per_class = {class_dict[label]: prec[label] for label in [0, 1, 2]}\n",
    "f1_per_class = {class_dict[label]: f1[label] for label in [0, 1, 2]}\n",
    "supp_per_class = {class_dict[label]: int(supp[label]) for label in [0, 1, 2]}"
   ]
  },
  {
   "cell_type": "code",
   "execution_count": null,
   "id": "36b6d670",
   "metadata": {},
   "outputs": [],
   "source": [
    "Class_Report = sklearn.metrics.classification_report(y_val, y_dswx, labels=[0, 1, 2], target_names=Target_Names)\n",
    "print(Class_Report)"
   ]
  },
  {
   "cell_type": "markdown",
   "id": "d37faeb7",
   "metadata": {},
   "source": [
    "## Accuracy per class"
   ]
  },
  {
   "cell_type": "code",
   "execution_count": null,
   "id": "2e75e249",
   "metadata": {},
   "outputs": [],
   "source": [
    "acc_per_class = {}\n",
    "\n",
    "for c in [0, 1, 2]:\n",
    "    y_val_temp = y_val.copy()\n",
    "    y_dswx_temp = y_dswx.copy()\n",
    "    \n",
    "    y_val_temp[y_val_temp != c] = 255\n",
    "    y_dswx_temp[y_dswx_temp != c] = 255\n",
    "\n",
    "    acc_per_class[class_dict[c]] = (y_val_temp == y_dswx_temp).sum() / y_dswx.size\n",
    "\n",
    "acc_per_class"
   ]
  },
  {
   "cell_type": "markdown",
   "id": "064f8653",
   "metadata": {},
   "source": [
    "## Serialize"
   ]
  },
  {
   "cell_type": "code",
   "execution_count": null,
   "id": "8e491193",
   "metadata": {},
   "outputs": [],
   "source": [
    "assessment = {'dswx_id': DSWx_ID,\n",
    "              'precision': prec_per_class,\n",
    "              'recall': recall_per_class,\n",
    "              'f1_per_class': f1_per_class,\n",
    "              'supp_per_class':supp_per_class,\n",
    "              'confusion_matrix': df_conf_formatted.to_dict(),\n",
    "              'accuracy_per_class': acc_per_class}\n",
    "\n",
    "json.dump(assessment, open(out_dir / f'assessment_{DSWx_ID}.json', 'w'))"
   ]
  },
  {
   "cell_type": "code",
   "execution_count": null,
   "id": "dc876261",
   "metadata": {},
   "outputs": [],
   "source": [
    "df_conf.to_csv(out_dir / f'confusion_matrix_{DSWx_ID}.csv')"
   ]
  },
  {
   "cell_type": "markdown",
   "id": "74672348",
   "metadata": {},
   "source": [
    "# Verify Requirements"
   ]
  },
  {
   "cell_type": "code",
   "execution_count": null,
   "id": "57f80db4",
   "metadata": {},
   "outputs": [],
   "source": [
    "open_surface_water_req = False\n",
    "if assessment['accuracy_per_class']['Open_Surface_Water'] >= .80:\n",
    "    open_surface_water_req = True"
   ]
  },
  {
   "cell_type": "code",
   "execution_count": null,
   "id": "f5b68382",
   "metadata": {},
   "outputs": [],
   "source": [
    "partial_surface_water_req = False\n",
    "if assessment['accuracy_per_class']['Partial_Surface_Water'] >= .70:\n",
    "    partial_surface_water_req = True"
   ]
  },
  {
   "cell_type": "code",
   "execution_count": null,
   "id": "46ffe02b",
   "metadata": {},
   "outputs": [],
   "source": [
    "print(f'Passed Open Surface Water Requirement: ', open_surface_water_req)\n",
    "print(f'Passed Partial Surface Water Requirement: ', partial_surface_water_req)"
   ]
  },
  {
   "cell_type": "code",
   "execution_count": null,
   "id": "8c6a4f76",
   "metadata": {},
   "outputs": [],
   "source": [
    "hls_urls_dict = get_hls_urls(HLS_ID)"
   ]
  },
  {
   "cell_type": "code",
   "execution_count": null,
   "id": "5fc0bf7e",
   "metadata": {},
   "outputs": [],
   "source": [
    "dswx_urls_dict = {f'dswx-{url.split(\".\")[-2][6:]}': url \n",
    "                  for url in dswx_urls}"
   ]
  },
  {
   "cell_type": "code",
   "execution_count": null,
   "id": "f87ded80",
   "metadata": {},
   "outputs": [],
   "source": [
    "requirement_verification = {'dswx_id': DSWx_ID,\n",
    "                            'surface_water': open_surface_water_req,\n",
    "                            'partial_surface_water': partial_surface_water_req,\n",
    "                            **dswx_urls_dict,\n",
    "                            'planet_id': PLANET_ID,\n",
    "                            'validation_dataset_s3': get_val_s3_path(PLANET_ID),\n",
    "                            'hls_id': HLS_ID,\n",
    "                            **hls_urls_dict}\n",
    "\n",
    "json.dump(requirement_verification, open(out_dir / f'requirement_verification_{DSWx_ID}.json', 'w'))"
   ]
  },
  {
   "cell_type": "markdown",
   "id": "925e9e74",
   "metadata": {},
   "source": [
    "Lastly, calculate differance map to show where DSWx and Validation data agree/disagree"
   ]
  },
  {
   "cell_type": "code",
   "execution_count": null,
   "id": "f5d4d5cd",
   "metadata": {},
   "outputs": [],
   "source": [
    "X_diff_temp=X_dswx_c-X_val_r\n",
    "X_diff=X_diff_temp\n",
    "\n",
    "X_diff=X_diff_temp.astype('float32')\n",
    "X_diff[(X_diff_temp < -5) | (X_diff_temp > 5)] = np.nan\n",
    "\n",
    "print([\"min = \"  + str(np.nanmin(X_diff)), \"max = \" + str(np.nanmax(X_diff))])"
   ]
  },
  {
   "cell_type": "code",
   "execution_count": null,
   "id": "266372bc",
   "metadata": {},
   "outputs": [],
   "source": [
    "fontSize=7\n",
    "fontSizeTitle=8\n",
    "fig, axs = plt.subplots(1, 3, dpi=150, figsize=(10, 10))\n",
    "cmap = ListedColormap([np.array(colormap[key]) / 255 for key in range(256)])\n",
    "\n",
    "im0 = axs[0].imshow(X_dswx_c, cmap=cmap, vmin=0, interpolation='none', vmax=255)\n",
    "show(X_dswx_c, interpolation='none',cmap=cmap,vmin=0,vmax=255,transform=p_dswx_c['transform'],ax=axs[0])\n",
    "axs[0].set_title('DSWx',fontsize=fontSizeTitle)\n",
    "axs[0].ticklabel_format(axis='both', style='scientific',scilimits=(0,0),useOffset=False,useMathText=True)\n",
    "axs[0].set_xlabel('UTM easting (meters)',fontsize=fontSize)\n",
    "axs[0].set_ylabel('UTM northing (meters)',fontsize=fontSize)\n",
    "axs[0].yaxis.get_offset_text().set_fontsize(fontSize)\n",
    "axs[0].xaxis.get_offset_text().set_fontsize(fontSize)\n",
    "cbar=fig.colorbar(im0,ax=axs[0],shrink=0.2,ticks=[0.5, 1.5, 2.5,5.5,8.5, 9.5])\n",
    "cbar.set_ticklabels(['Not Water', 'Open Water','Partial Surface Water','Reserved','Snow/Ice','Cloud/Cloud Shadow'],fontsize=5,rotation=0)   \n",
    "cbar.ax.set_ylim(0,10)\n",
    "cbar.ax.tick_params(labelsize=5)\n",
    "\n",
    "im1 = axs[1].imshow(X_val_r, cmap=cmap, vmin=0, interpolation='none', vmax=255)\n",
    "show(X_val_r, interpolation='none',cmap=cmap,vmin=0,vmax=255,transform=p_val_r['transform'],ax=axs[1])\n",
    "axs[1].set_title('Validation data',fontsize=fontSizeTitle)\n",
    "axs[1].ticklabel_format(axis='both', style='scientific',scilimits=(0,0),useOffset=False,useMathText=True)\n",
    "axs[1].set_xlabel('UTM easting (meters)',fontsize=fontSize)\n",
    "axs[1].yaxis.get_offset_text().set_fontsize(fontSize)\n",
    "axs[1].xaxis.get_offset_text().set_fontsize(fontSize)\n",
    "cbar=fig.colorbar(im1,ax=axs[1],shrink=0.2,ticks=[0.5, 1.5, 2.5,5.5,8.5, 9.5])\n",
    "cbar.set_ticklabels(['Not Water', 'Open Water','Partial Surface Water','Reserved','Snow/Ice','Cloud/Cloud Shadow'],fontsize=5)   \n",
    "cbar.ax.set_ylim(0,10)\n",
    "cbar.ax.tick_params(labelsize=5)\n",
    "\n",
    "cmapDiff=ListedColormap([(51/255,0/255, 102/255), (7/255, 137/255, 66/255), (1, 1, 1), (0,0,0),(231/255,41/255,138/255)])\n",
    "im2 = axs[2].imshow(X_diff, interpolation='none',vmin=-2, vmax=2,cmap=cmapDiff)\n",
    "show(X_diff, interpolation='none',vmin=-2, vmax=2,transform=p_val_r['transform'],ax=axs[2],cmap=cmapDiff)\n",
    "axs[2].set_title('Difference Map (DSWx - Val.)',fontsize=fontSizeTitle)\n",
    "axs[2].set_xlabel('UTM easting (meters)',fontsize=fontSize)\n",
    "axs[2].ticklabel_format(axis='both', style='scientific',scilimits=(0,0),useOffset=False,useMathText=True)\n",
    "axs[2].yaxis.get_offset_text().set_fontsize(fontSize)\n",
    "axs[2].xaxis.get_offset_text().set_fontsize(fontSize)\n",
    "cbar=fig.colorbar(im2,ax=axs[2],ticks=[-2,-1,0,1,2],shrink=0.2)\n",
    "cbar.ax.tick_params(labelsize=6)\n",
    "cbar.ax.set_ylim(-2,2)\n",
    "cbar.ax.tick_params(labelsize=5)\n",
    "im2.set_cmap(cmapDiff);\n",
    "cmapDiff.set_bad(color='gray')\n",
    "\n"
   ]
  },
  {
   "cell_type": "code",
   "execution_count": null,
   "id": "4c85b598",
   "metadata": {},
   "outputs": [],
   "source": [
    "cmapDiffSave=({-2: (51,0, 102, 255),\n",
    " -1: (7, 137, 66, 255),\n",
    " 0: (255, 255, 255, 255),\n",
    " 1: (0,0,0, 255),\n",
    " 2: (231,41,138, 255)})\n",
    "\n",
    "with rasterio.open(out_dir / f'DifferenceMap.tif', 'w', **p_dswx_c) as ds:\n",
    "    ds.write(X_diff, 1)\n",
    "    ds.write_colormap(1, cmapDiffSave)"
   ]
  }
 ],
 "metadata": {
  "kernelspec": {
   "display_name": "dswx_val",
   "language": "python",
   "name": "dswx_val"
  },
  "language_info": {
   "codemirror_mode": {
    "name": "ipython",
    "version": 3
   },
   "file_extension": ".py",
   "mimetype": "text/x-python",
   "name": "python",
   "nbconvert_exporter": "python",
   "pygments_lexer": "ipython3",
   "version": "3.10.6"
  }
 },
 "nbformat": 4,
 "nbformat_minor": 5
}
